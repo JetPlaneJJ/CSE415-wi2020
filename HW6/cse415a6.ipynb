{
  "nbformat": 4,
  "nbformat_minor": 0,
  "metadata": {
    "accelerator": "GPU",
    "colab": {
      "name": "cse415a6.ipynb",
      "provenance": [],
      "collapsed_sections": []
    },
    "kernelspec": {
      "name": "python3",
      "display_name": "Python 3"
    },
    "language_info": {
      "codemirror_mode": {
        "name": "ipython",
        "version": 3
      },
      "file_extension": ".py",
      "mimetype": "text/x-python",
      "name": "python",
      "nbconvert_exporter": "python",
      "pygments_lexer": "ipython3",
      "version": "3.5.6"
    }
  },
  "cells": [
    {
      "cell_type": "markdown",
      "metadata": {
        "colab_type": "text",
        "id": "6QA1D6eIszX_"
      },
      "source": [
        "# CSE 415 Deep Learning Assignment (A6)\n",
        "Please go through the entire assignment, and read all lines of code, including the comments. However, only changes to areas of the code marked \"**TO DO**\" will be graded.\n",
        "\n",
        "# Part 0: Pytorch Setup Code\n",
        "Write your name where designated. Format: First name followed by last name with a space in between, and initials capitalized. For example:\n",
        "\n",
        "name = 'Bindita Chaudhuri'"
      ]
    },
    {
      "cell_type": "code",
      "metadata": {
        "colab_type": "code",
        "id": "DHxEgxT6YwR8",
        "outputId": "a6715d3e-5756-4b0a-f11a-46d0c98a606c",
        "colab": {
          "base_uri": "https://localhost:8080/",
          "height": 193
        }
      },
      "source": [
        "# This shows how to connect your google drive account with a colab instance.\n",
        "\n",
        "# Load the Drive helper and mount; this will prompt for authorization \n",
        "# (Login to google account; allow access, copy the code and paste it below and then press enter)\n",
        "from google.colab import drive\n",
        "drive.mount('/gdrive')\n",
        "\n",
        "# create a folder named CSE415 in your Drive\n",
        "import os \n",
        "BASE_PATH = '/gdrive/My Drive/CSE415/'\n",
        "if not os.path.exists(BASE_PATH):\n",
        "    os.makedirs(BASE_PATH)\n",
        "    \n",
        "# now let's test that Google Drive is up and running. \n",
        "!ls \"/gdrive/My Drive/CSE415\"\n",
        "\n",
        "# The following line will create a text file \"foo.txt\" in the created folder and then remove it\n",
        "!echo \"Hello Google Drive\" > \"/gdrive/My Drive/CSE415/foo.txt\"\n",
        "!cat \"/gdrive/My Drive/CSE415/foo.txt\"\n",
        "!rm \"/gdrive/My Drive/CSE415/foo.txt\"\n",
        "\n",
        "import torch\n",
        "print('Version', torch.__version__)\n",
        "print('CUDA enabled:', torch.cuda.is_available())\n",
        "  \n",
        "# Running this should then print out:\n",
        "# Version 1.3.1\n",
        "# CUDA enabled: True\n",
        "\n",
        "import torch.nn as nn\n",
        "import numpy as np\n",
        "import glob, re, pickle\n",
        "import matplotlib.pyplot as plt\n",
        "import matplotlib.image as mpimg\n",
        "%matplotlib inline\n",
        "\n",
        "from torchvision import datasets, transforms\n",
        "import numpy as np\n",
        "import torch.nn.functional as F\n",
        "import torch.optim as optim\n",
        "import h5py, tqdm\n",
        "import sys\n",
        "sys.path.append(BASE_PATH)\n",
        "\n",
        "# TODO: done\n",
        "# write your name here in the format mentioned above\n",
        "name = 'Jia-Jia Lin'\n"
      ],
      "execution_count": 2,
      "outputs": [
        {
          "output_type": "stream",
          "text": [
            "Go to this URL in a browser: https://accounts.google.com/o/oauth2/auth?client_id=947318989803-6bn6qk8qdgf4n4g3pfee6491hc0brc4i.apps.googleusercontent.com&redirect_uri=urn%3aietf%3awg%3aoauth%3a2.0%3aoob&response_type=code&scope=email%20https%3a%2f%2fwww.googleapis.com%2fauth%2fdocs.test%20https%3a%2f%2fwww.googleapis.com%2fauth%2fdrive%20https%3a%2f%2fwww.googleapis.com%2fauth%2fdrive.photos.readonly%20https%3a%2f%2fwww.googleapis.com%2fauth%2fpeopleapi.readonly\n",
            "\n",
            "Enter your authorization code:\n",
            "··········\n",
            "Mounted at /gdrive\n",
            "cifar10  language\n",
            "Hello Google Drive\n",
            "Version 1.4.0\n",
            "CUDA enabled: True\n"
          ],
          "name": "stdout"
        }
      ]
    },
    {
      "cell_type": "code",
      "metadata": {
        "colab_type": "code",
        "id": "lrYXOGpsM6TV",
        "outputId": "51e69eb8-1215-4c50-e09f-0e1d5ed05409",
        "colab": {
          "base_uri": "https://localhost:8080/",
          "height": 245
        }
      },
      "source": [
        "# Some useful save, restoring and conversion functions are provided below. No need to change them.\n",
        "\n",
        "!pip3 install matplotlib-label-lines\n",
        "from labellines import labelLines\n",
        "\n",
        "class pt_util(object):\n",
        "    # This does more than the simple Pytorch restore. It checks that the names \n",
        "    # of variables match, and if they don't doesn't throw a fit. It is similar \n",
        "    # to how Caffe acts. This is especially useful if you decide to change your\n",
        "    # network architecture but don't want to retrain from scratch.\n",
        "    @staticmethod\n",
        "    def restore(net, save_file):\n",
        "        \"\"\" Args:\n",
        "        net(torch.nn.Module): The net to restore\n",
        "        save_file(str): The file path\n",
        "        \"\"\"\n",
        "        net_state_dict = net.state_dict()\n",
        "        restore_state_dict = torch.load(save_file)\n",
        "\n",
        "        restored_var_names = set()\n",
        "\n",
        "        print('Restoring:')\n",
        "        for var_name in restore_state_dict.keys():\n",
        "            if var_name in net_state_dict:\n",
        "                var_size = net_state_dict[var_name].size()\n",
        "                restore_size = restore_state_dict[var_name].size()\n",
        "                if var_size != restore_size:\n",
        "                    print('Shape mismatch for var', var_name, 'expected', var_size, 'got', restore_size)\n",
        "                else:\n",
        "                    if isinstance(net_state_dict[var_name], torch.nn.Parameter):\n",
        "                        # backwards compatibility for serialized parameters\n",
        "                        net_state_dict[var_name] = restore_state_dict[var_name].data\n",
        "                    try:\n",
        "                        net_state_dict[var_name].copy_(restore_state_dict[var_name])\n",
        "                        print(str(var_name)+' -> \\t'+str(var_size)+' = '+str(int(np.prod(var_size)*4 / 10**6)) + 'MB')\n",
        "                        restored_var_names.add(var_name)\n",
        "                    except:\n",
        "                        print('While copying the parameter named {}, whose dimensions in the model are'\n",
        "                              ' {} and whose dimensions in the checkpoint are {}, ...'.format(\n",
        "                                  var_name, var_size, restore_size))\n",
        "                        raise\n",
        "\n",
        "        ignored_var_names = sorted(list(set(restore_state_dict.keys()) - restored_var_names))\n",
        "        unset_var_names = sorted(list(set(net_state_dict.keys()) - restored_var_names))\n",
        "        print('')\n",
        "        if len(ignored_var_names) == 0:\n",
        "            print('Restored all variables')\n",
        "        else:\n",
        "            print('Did not restore:\\n\\t' + '\\n\\t'.join(ignored_var_names))\n",
        "        if len(unset_var_names) == 0:\n",
        "            print('No new variables')\n",
        "        else:\n",
        "            print('Initialized but did not modify:\\n\\t' + '\\n\\t'.join(unset_var_names))\n",
        "\n",
        "        print('Restored %s' % save_file)\n",
        "        \n",
        "    # Restores the last saved network in a folder using file write time.\n",
        "    @staticmethod\n",
        "    def restore_latest(net, folder):\n",
        "        \"\"\"\n",
        "        Args:\n",
        "          net(torch.nn.module): The net to restore\n",
        "          folder(str): The folder path\n",
        "        Returns:\n",
        "          int: Attempts to parse the epoch from the state and returns it if possible. Otherwise returns 0.\n",
        "        \"\"\"\n",
        "        checkpoints = sorted(glob.glob(folder + '/*.pt'), key=os.path.getmtime)\n",
        "        start_it = 0\n",
        "        if len(checkpoints) > 0:\n",
        "            pt_util.restore(net, checkpoints[-1])\n",
        "            start_it = int(re.findall(r'\\d+', checkpoints[-1])[-1])\n",
        "        return start_it\n",
        "\n",
        "    # Saves the network and optionally deletes old save files. \n",
        "    # If num_to_keep is 0, it won't remove any.\n",
        "    @staticmethod\n",
        "    def save(net, file_name, num_to_keep=1):\n",
        "        \"\"\"\n",
        "        Args:\n",
        "        net(torch.nn.module): The network to save\n",
        "        file_name(str): the path to save the file.\n",
        "        num_to_keep(int): Specifies how many previous saved states to keep once this one has been saved.\n",
        "            Defaults to 1. Specifying < 0 will not remove any previous saves.\n",
        "        \"\"\"\n",
        "        folder = os.path.dirname(file_name)\n",
        "        if not os.path.exists(folder):\n",
        "            os.makedirs(folder)\n",
        "        torch.save(net.state_dict(), file_name)\n",
        "        extension = os.path.splitext(file_name)[1]\n",
        "        checkpoints = sorted(glob.glob(folder + '/*' + extension), key=os.path.getmtime)\n",
        "        print('Saved %s\\n' % file_name)\n",
        "        if num_to_keep > 0:\n",
        "            for ff in checkpoints[:-num_to_keep]:\n",
        "                os.remove(ff)\n",
        "                \n",
        "\n",
        "    @staticmethod\n",
        "    def to_numpy(array):\n",
        "        if isinstance(array, torch.Tensor):\n",
        "            return array.detach().cpu().numpy()\n",
        "        elif isinstance(array, dict):\n",
        "            return {key: pt_util.to_numpy(val) for key, val in array.items()}\n",
        "        else:\n",
        "            return np.asarray(array)\n",
        "\n",
        "    @staticmethod\n",
        "    def from_numpy(np_array):\n",
        "        if isinstance(np_array, list):\n",
        "            try:\n",
        "                np_array = np.stack(np_array, 0)\n",
        "            except ValueError:\n",
        "                np_array = np.stack([from_numpy(val) for val in np_array], 0)\n",
        "        elif isinstance(np_array, dict):\n",
        "            return {key: from_numpy(val) for key, val in np_array.items()}\n",
        "        np_array = np.asarray(np_array)\n",
        "        if np_array.dtype == np.uint32:\n",
        "            print(\"numpy -> torch dtype uint32 not supported, using int32\")\n",
        "            np_array = np_array.astype(np.int32)\n",
        "        elif np_array.dtype == np.dtype(\"O\"):\n",
        "            print(\"numpy -> torch dtype Object not supported, returning numpy array\")\n",
        "            return np_array\n",
        "        elif np_array.dtype.type == np.str_:\n",
        "            print(\"numpy -> torch dtype numpy.str_ not supported, returning numpy array\")\n",
        "            return np_array\n",
        "        return torch.from_numpy(np_array)\n",
        "\n",
        "    @staticmethod\n",
        "    def write_log(filename, data):\n",
        "        \"\"\"Pickles and writes data to a file\n",
        "        Args:\n",
        "            filename(str): File name\n",
        "            data(pickleable object): Data to save\n",
        "        \"\"\"\n",
        "        if not os.path.exists(os.path.dirname(filename)):\n",
        "          os.makedirs(os.path.dirname(filename))\n",
        "        pickle.dump(data, open(filename, 'wb')) \n",
        "\n",
        "    def read_log(filename, default_value=None):\n",
        "        \"\"\"Reads pickled data or returns the default value if none found\n",
        "        Args:\n",
        "            filename(str): File name\n",
        "            default_value(anything): Value to return if no file is found\n",
        "        Returns:\n",
        "            unpickled file\n",
        "        \"\"\"\n",
        "        if os.path.exists(filename):\n",
        "            return pickle.load(open(filename, 'rb'))\n",
        "        return default_value\n",
        "    \n",
        "    # Create plots\n",
        "    @staticmethod\n",
        "    def plot(x_values, y_values, title, xlabel, ylabel, plotlabel):\n",
        "        \"\"\"Plots a line graph\n",
        "        Args:\n",
        "            x_values(list or np.array): x values for the line\n",
        "            y_values(list or np.array): y values for the line\n",
        "            title(str): Title for the plot\n",
        "            xlabel(str): Label for the x axis\n",
        "            ylabel(str): label for the y axis\n",
        "        \"\"\"\n",
        "        plt.figure(figsize=(20, 10))\n",
        "        plt.plot(x_values, y_values, label=plotlabel, color='b')\n",
        "        labelLines(plt.gca().get_lines(), color='b',fontsize=13)\n",
        "        plt.title(title)\n",
        "        plt.xlabel(xlabel)\n",
        "        plt.ylabel(ylabel)\n",
        "        plt.show()\n",
        "\n",
        "    def to_scaled_uint8(array):\n",
        "        \"\"\"Returns a normalized uint8 scaled to 0-255. This is useful for showing images especially of floats.\n",
        "        Args:\n",
        "            array(np.array): The array to normalize\n",
        "        Returns:\n",
        "            np.array normalized and of type uint8\n",
        "        \"\"\"\n",
        "        array = np.array(array, dtype=np.float32)\n",
        "        array -= np.min(array)\n",
        "        array *= (255. / np.max(array))\n",
        "        array = array.astype(np.uint8)\n",
        "        return array"
      ],
      "execution_count": 3,
      "outputs": [
        {
          "output_type": "stream",
          "text": [
            "Collecting matplotlib-label-lines\n",
            "  Downloading https://files.pythonhosted.org/packages/74/0d/d4c84ae9ff80b24c503e2cc5f15f9123d11aea3c7e6a550b938e2d012187/matplotlib_label_lines-0.3.8-py3-none-any.whl\n",
            "Requirement already satisfied: matplotlib in /usr/local/lib/python3.6/dist-packages (from matplotlib-label-lines) (3.1.3)\n",
            "Requirement already satisfied: numpy in /usr/local/lib/python3.6/dist-packages (from matplotlib-label-lines) (1.17.5)\n",
            "Requirement already satisfied: cycler>=0.10 in /usr/local/lib/python3.6/dist-packages (from matplotlib->matplotlib-label-lines) (0.10.0)\n",
            "Requirement already satisfied: pyparsing!=2.0.4,!=2.1.2,!=2.1.6,>=2.0.1 in /usr/local/lib/python3.6/dist-packages (from matplotlib->matplotlib-label-lines) (2.4.6)\n",
            "Requirement already satisfied: kiwisolver>=1.0.1 in /usr/local/lib/python3.6/dist-packages (from matplotlib->matplotlib-label-lines) (1.1.0)\n",
            "Requirement already satisfied: python-dateutil>=2.1 in /usr/local/lib/python3.6/dist-packages (from matplotlib->matplotlib-label-lines) (2.6.1)\n",
            "Requirement already satisfied: six in /usr/local/lib/python3.6/dist-packages (from cycler>=0.10->matplotlib->matplotlib-label-lines) (1.12.0)\n",
            "Requirement already satisfied: setuptools in /usr/local/lib/python3.6/dist-packages (from kiwisolver>=1.0.1->matplotlib->matplotlib-label-lines) (45.2.0)\n",
            "Installing collected packages: matplotlib-label-lines\n",
            "Successfully installed matplotlib-label-lines-0.3.8\n"
          ],
          "name": "stdout"
        }
      ]
    },
    {
      "cell_type": "markdown",
      "metadata": {
        "colab_type": "text",
        "id": "u486U-pUJnDY"
      },
      "source": [
        "# Part 1: Classification Network for CIFAR-10\n",
        "\n",
        "# 1.1 Loading and transforming data\n",
        "\n",
        "CIFAR-10 data consists of 60000 32x32 images, belonging to 10 classes. More details can be found here:\n",
        "https://www.cs.toronto.edu/~kriz/cifar.html\n",
        "\n",
        "Note: Each image is a matrix of shape width x height (W x H) with 3 channels (C).\n",
        "\n",
        "The code for loading the dataset and transforming the data accordingly is provided. \n",
        "The transform *ToTensor* converts the output from the dataset to be a tensor in CxHxW format.\n",
        "One type of data augmentation - data normalization, is shown in the transforms. You have to add at least 2 of the following data augmentations in 'transform_train' (try to understand which ones you need, and what parameters you should choose for them):\n",
        "\n",
        "- RandomHorizontalFlip\n",
        "- RandomCrop\n",
        "- ColorJitter\n",
        "- RandomRotation\n",
        "\n",
        "\n",
        "# 1.2 Defining network\n",
        "\n",
        "You need to define a convolutional neural network (CNN) to classify the data into its classes. Sample code for classification of MNIST (handwritten digits dataset) is given here: https://github.com/pytorch/examples/blob/master/mnist/main.py\n",
        "\n",
        "You will define the network layers in the `__init__` function, and the forward call will pass the data through those layers. The network should be as follows:\n",
        "\n",
        "- One 3x3 convolution layer with 32 filters.\n",
        "- One 2x2 maxpooling layer\n",
        "- One 3x3 convolution layer with 64 filters. \n",
        "- One 3x3 convolution layer with 64 filters. \n",
        "- One 2x2 maxpooling layer\n",
        "- One 3x3 convolution layer with 128 filters. \n",
        "- One 3x3 convolution layer with 128 filters.\n",
        "- One 2x2 maxpooling layer\n",
        "- One fully connected layer with 512 outputs.\n",
        "- Then the final classification layer with 10 outputs.\n",
        "\n",
        "- Every convolution layer should be followed by ReLU nonlinearity followed by batch normalization. Use padding in every convolution layer to retain input image size.\n",
        "        \n",
        "\n",
        "\n",
        "# Helpful functions\n",
        "- https://pytorch.org/docs/stable/tensors.html\n",
        "- https://pytorch.org/docs/stable/nn.html\n",
        "- You can call `pt_util.to_numpy(x)` to get a numpy array from a torch tensor x.\n",
        "- `pt_util.from_numpy(x)` makes a torch Tensor from the numpy array x.\n",
        "\n",
        "# Common Oopsies\n",
        "- __Q__ It only runs for one iteration and says it's done: __A__ We provided code that automatically loads the most recent file. If you don't want to start from that checkpoint, simply find it in your google drive and delete it.\n",
        "- __Q__ I want to save more than just the last checkpoint: __A__ You can change the save function to save any number of previous checkpoints. You can also tell it to save all of them (not delete anything), by passing in 0.\n",
        "- __Q__ Pytorch is saying things are the wrong shape: __A__ You can easily reshape things using the `view` function (https://pytorch.org/docs/stable/tensors.html#torch.Tensor.view). It is like the Numpy `reshape` function.\n",
        "- __Q__ Pytorch is saying things are on the wrong device: __A__ You can move data between devices with the `.to(device)` call. Generally, all arguments to a function will need to be on the same device."
      ]
    },
    {
      "cell_type": "code",
      "metadata": {
        "colab_type": "code",
        "id": "0oKKR9EsoK9G",
        "outputId": "65118a9b-bf57-48f8-cc84-5c728e8c7000",
        "colab": {
          "base_uri": "https://localhost:8080/",
          "height": 52
        }
      },
      "source": [
        "# Data augmentation\n",
        "\n",
        "transform_train = transforms.Compose([\n",
        "    # TO DO: done\n",
        "    transforms.RandomHorizontalFlip(),\n",
        "    # transforms.RandomCrop(60),\n",
        "    transforms.RandomRotation(180),\n",
        "\n",
        "    transforms.ToTensor(),\n",
        "    transforms.Normalize((0.4914, 0.4822, 0.4465), (0.2023, 0.1994, 0.2010)),\n",
        "])\n",
        "\n",
        "transform_test = transforms.Compose([\n",
        "    transforms.ToTensor(),\n",
        "    transforms.Normalize((0.4914, 0.4822, 0.4465), (0.2023, 0.1994, 0.2010)),\n",
        "])\n",
        "\n",
        "# Load the dataset\n",
        "\n",
        "DATA_PATH = BASE_PATH + 'cifar10/'\n",
        "data_train = datasets.CIFAR10(root=DATA_PATH, train=True, download=True, transform=transform_train)\n",
        "data_test = datasets.CIFAR10(root=DATA_PATH, train=False, download=True, transform=transform_test)\n",
        "\n",
        "\n",
        "# This is where you define your network architecture.\n",
        "# You can use that as a guide, but make sure you understand what it all does.\n",
        "\n",
        "class CifarNet(nn.Module):\n",
        "    def __init__(self):\n",
        "        super(CifarNet, self).__init__()\n",
        "        self.best_accuracy = -1\n",
        "        # TO DO: fix\n",
        "        # One 3x3 convolution layer with 32 filters.\n",
        "        # kernel = matrix that you apply per section of image\n",
        "        # filter = bunch of kernels together\n",
        "        # channel = depth of image (ex: RGB, first layer only)\n",
        "        # note: each filters is learning something different (ex: color, edges)\n",
        "        self.conv1 = nn.Conv2d(in_channels=3, out_channels=32, kernel_size=3, padding=1)\n",
        "        self.relu1 = nn.ReLU()\n",
        "        self.bn1 = nn.BatchNorm2d(32)\n",
        "\n",
        "        # One 2x2 maxpooling layer\n",
        "        self.mp1 = nn.MaxPool2d(2)\n",
        "\n",
        "        # One 3x3 convolution layer with 64 filters.\n",
        "        self.conv2 = nn.Conv2d(in_channels=32, out_channels=64, kernel_size=3, padding=1)\n",
        "        self.relu2 = nn.ReLU()\n",
        "        self.bn2 = nn.BatchNorm2d(64)\n",
        "        # One 3x3 convolution layer with 64 filters.\n",
        "        self.conv3 = nn.Conv2d(in_channels=64, out_channels=64, kernel_size=3, padding=1)\n",
        "        self.relu3 = nn.ReLU()\n",
        "        self.bn3 = nn.BatchNorm2d(64)\n",
        "\n",
        "        # One 2x2 maxpooling layer\n",
        "        self.mp2 = nn.MaxPool2d(2)\n",
        "\n",
        "        # One 3x3 convolution layer with 128 filters.\n",
        "        self.conv4 = nn.Conv2d(in_channels=64, out_channels=128, kernel_size=3, padding=1)\n",
        "        self.relu4 = nn.ReLU()\n",
        "        self.bn4 = nn.BatchNorm2d(128)\n",
        "        # One 3x3 convolution layer with 128 filters.\n",
        "        self.conv5 = nn.Conv2d(in_channels=128, out_channels=128, kernel_size=3, padding=1)\n",
        "        self.relu5 = nn.ReLU()\n",
        "        self.bn5 = nn.BatchNorm2d(128)\n",
        "\n",
        "        # One 2x2 maxpooling layer\n",
        "        self.mp3 = nn.MaxPool2d(2)\n",
        "\n",
        "        # One fully connected layer with 512 outputs.\n",
        "        self.fc1 = nn.Linear(2048, 512)\n",
        "        # Then the final classification layer with 10 outputs.\n",
        "        self.fc2 = nn.Linear(512, 10)\n",
        "\n",
        "        \n",
        "    def forward(self, x):\n",
        "        # TO DO: fix?\n",
        "        #  Expected input batch_size (4096) to match target batch_size (32).\n",
        "        output = self.conv1(x)\n",
        "        output = self.relu1(output)\n",
        "        output = self.bn1(output)\n",
        "\n",
        "        output = self.mp1(output)\n",
        "\n",
        "        output = self.conv2(output)\n",
        "        output = self.relu2(output)\n",
        "        output = self.bn2(output)\n",
        "        output = self.conv3(output)\n",
        "        output = self.relu3(output)\n",
        "        output = self.bn3(output)\n",
        "\n",
        "        output = self.mp2(output)\n",
        "\n",
        "        output = self.conv4(output)\n",
        "        output = self.relu4(output)\n",
        "        output = self.bn4(output)\n",
        "        output = self.conv5(output)\n",
        "        output = self.relu5(output)\n",
        "        output = self.bn5(output)\n",
        "\n",
        "        output = self.mp3(output)\n",
        "        output = torch.flatten(output,1)\n",
        "\n",
        "        output = self.fc1(output)\n",
        "        output = self.fc2(output)\n",
        "\n",
        "        return output\n",
        "        \n",
        "      \n",
        "    def loss(self, prediction, label, reduction='elementwise_mean'):\n",
        "        loss_val = F.cross_entropy(prediction, label.squeeze(), reduction=reduction)\n",
        "        return loss_val\n",
        "\n",
        "    def save_model(self, file_path, num_to_keep=1):\n",
        "        pt_util.save(self, file_path, num_to_keep)\n",
        "        \n",
        "    def save_best_model(self, accuracy, file_path, num_to_keep=1):\n",
        "        if accuracy > self.best_accuracy:\n",
        "            self.best_accuracy = accuracy\n",
        "            self.save_model(file_path, num_to_keep)\n",
        "\n",
        "    def load_model(self, file_path):\n",
        "        pt_util.restore(self, file_path)\n",
        "\n",
        "    def load_last_model(self, dir_path):\n",
        "        return pt_util.restore_latest(self, dir_path)"
      ],
      "execution_count": 12,
      "outputs": [
        {
          "output_type": "stream",
          "text": [
            "Files already downloaded and verified\n",
            "Files already downloaded and verified\n"
          ],
          "name": "stdout"
        }
      ]
    },
    {
      "cell_type": "markdown",
      "metadata": {
        "id": "PIYXQW8fX8gb",
        "colab_type": "text"
      },
      "source": [
        "# 1.3 Training and testing the network\n",
        "\n",
        "The train and test functions are given below. Fill in the TO DO with the given instructions. At the end, training and testing loss and accuracy plots will be displayed. Right click on the plots and save them as png files. Put these images on a single page (titled **CIFAR plots**) in your report, which you can create as a doc file but you will need to convert it into a pdf for submission. You also need to submit the 'cifar_050.pt' file from the 'checkpoints' folder inside your 'cifar10' folder."
      ]
    },
    {
      "cell_type": "code",
      "metadata": {
        "colab_type": "code",
        "id": "pNf3AoHVvKXI",
        "colab": {}
      },
      "source": [
        "import time\n",
        "\n",
        "def train(model, device, train_loader, optimizer, epoch, log_interval):\n",
        "    model.train()\n",
        "    losses = []\n",
        "    #print(\"before for loop\")\n",
        "    for batch_idx, (data, label) in enumerate(train_loader):\n",
        "        # send the data and labels to GPU\n",
        "        #print(\"inside for loop\")\n",
        "        data, label = data.to(device), label.to(device)\n",
        "        #print(\"before zero grad\")\n",
        "        # initialize the optimizer\n",
        "        optimizer.zero_grad()\n",
        "        # TODO: done\n",
        "        #print(\"before model(data)\")\n",
        "        output = model(data)\n",
        "        #print(\"hi\")\n",
        "        # TODO: done (call the model.loss function with 'output' and 'label' as inputs) \n",
        "        loss = model.loss(output, label) # used wrong thing\n",
        "        #print(\"hi\")\n",
        "        \n",
        "        # backpropagate the loss\n",
        "        losses.append(loss.item())\n",
        "        loss.backward()\n",
        "        optimizer.step()\n",
        "        \n",
        "        # Log the training progress\n",
        "        if batch_idx % log_interval == 0:\n",
        "            print('{} Train Epoch: {} [{}/{} ({:.0f}%)]\\tLoss: {:.6f}'.format(\n",
        "                time.ctime(time.time()),\n",
        "                epoch, batch_idx * len(data), len(train_loader.dataset),\n",
        "                100. * batch_idx / len(train_loader), loss.item()))\n",
        "    return np.mean(losses)\n",
        "\n",
        "def test(model, device, test_loader, log_interval=None):\n",
        "    model.eval()\n",
        "    test_loss = 0\n",
        "    correct = 0\n",
        "\n",
        "    with torch.no_grad():\n",
        "        for batch_idx, (data, label) in enumerate(test_loader):\n",
        "            # send data and label to GPU\n",
        "            data, label = data.to(device), label.to(device)\n",
        "            # TODO: done (call the model with 'data' as input)\n",
        "            output = model(data)\n",
        "            # TODO: done (call model.loss function with 'output and 'label' as inputs and reduction='sum')\n",
        "            test_loss_on = model.loss(output, label, reduction='sum')\n",
        "            test_loss += test_loss_on.item()\n",
        "            \n",
        "            # Take the class with maximum probability as the output class.\n",
        "            pred = output.max(1)[1]\n",
        "            correct_mask = pred.eq(label.view_as(pred))\n",
        "            num_correct = correct_mask.sum().item()\n",
        "            correct += num_correct\n",
        "            \n",
        "            # Log the test progress\n",
        "            if log_interval is not None and batch_idx % log_interval == 0:\n",
        "                print('{} Test: [{}/{} ({:.0f}%)]\\tLoss: {:.6f}'.format(\n",
        "                    time.ctime(time.time()),\n",
        "                    batch_idx * len(data), len(test_loader.dataset),\n",
        "                    100. * batch_idx / len(test_loader), test_loss_on))\n",
        "\n",
        "    test_loss /= len(test_loader.dataset)\n",
        "    test_accuracy = 100. * correct / len(test_loader.dataset)\n",
        "\n",
        "    print('\\nTest set: Average loss: {:.4f}, Accuracy: {}/{} ({:.0f}%)\\n'.format(\n",
        "        test_loss, correct, len(test_loader.dataset), test_accuracy))\n",
        "    return test_loss, test_accuracy\n"
      ],
      "execution_count": 0,
      "outputs": []
    },
    {
      "cell_type": "code",
      "metadata": {
        "colab_type": "code",
        "id": "50zDbqjXu_Qq",
        "outputId": "89cf2bad-791a-4604-d7dc-0d0bd1d74536",
        "colab": {
          "base_uri": "https://localhost:8080/",
          "height": 1000
        }
      },
      "source": [
        "# Now the actual training and testing code\n",
        "\n",
        "import multiprocessing\n",
        "import traceback\n",
        "\n",
        "# Play around with these constants, you may find a better setting.\n",
        "BATCH_SIZE = 32\n",
        "TEST_BATCH_SIZE = 32\n",
        "EPOCHS = 50\n",
        "LEARNING_RATE = 0.001\n",
        "MOMENTUM = 0.9\n",
        "USE_CUDA = True\n",
        "SEED = 0\n",
        "PRINT_INTERVAL = 100\n",
        "WEIGHT_DECAY = 0.0005\n",
        "LOG_PATH = DATA_PATH + 'log.pkl'\n",
        "\n",
        "# handle GPU connection and multiprocessing\n",
        "use_cuda = USE_CUDA and torch.cuda.is_available()\n",
        "torch.manual_seed(SEED)\n",
        "\n",
        "device = torch.device(\"cuda\" if use_cuda else \"cpu\")\n",
        "print('Using device', device)\n",
        "import multiprocessing\n",
        "print('num cpus:', multiprocessing.cpu_count())\n",
        "kwargs = {'num_workers': 0, 'pin_memory': True} if use_cuda else {}\n",
        "\n",
        "class_names = ['plane', 'car', 'bird', 'cat', 'deer', 'dog', 'frog', 'horse', 'ship', 'truck']\n",
        "\n",
        "# iterator over the data\n",
        "train_loader = torch.utils.data.DataLoader(data_train, batch_size=BATCH_SIZE, shuffle=True, **kwargs)\n",
        "test_loader = torch.utils.data.DataLoader(data_test, batch_size=TEST_BATCH_SIZE, shuffle=False, **kwargs)\n",
        "# print(\"HI\")\n",
        "# print(len(test_loader))\n",
        "\n",
        "# Initialize network and send it to GPU\n",
        "model = CifarNet().to(device)\n",
        "# Define optimizer\n",
        "optimizer = optim.SGD(model.parameters(), lr=LEARNING_RATE, momentum=MOMENTUM, weight_decay=WEIGHT_DECAY)\n",
        "\n",
        "# This will train from scratch\n",
        "start_epoch = 0 \n",
        "train_losses, test_losses, test_accuracies = [], [], []\n",
        "\n",
        "# To resume training from last saved model, uncomment the following 2 lines\n",
        "# start_epoch = model.load_last_model(DATA_PATH + 'checkpoints')\n",
        "# train_losses, test_losses, test_accuracies = pt_util.read_log(LOG_PATH, ([], [], []))\n",
        "\n",
        "# Get the initial test losses and accuracies\n",
        "test_loss, test_accuracy = test(model, device, test_loader)\n",
        "test_losses.append((start_epoch, test_loss))\n",
        "test_accuracies.append((start_epoch, test_accuracy))\n",
        "\n",
        "try:\n",
        "    for epoch in range(start_epoch, EPOCHS + 1):\n",
        "        print(\"hellp\")\n",
        "        # train the model for 1 epoch\n",
        "        train_loss = train(model, device, train_loader, optimizer, epoch, PRINT_INTERVAL)\n",
        "        print(\"foo\", train_loss)\n",
        "        train_losses.append((epoch, train_loss))\n",
        "        # test the model after 1 epoch\n",
        "        test_loss, test_accuracy = test(model, device, test_loader)\n",
        "        test_losses.append((epoch, test_loss))\n",
        "        test_accuracies.append((epoch, test_accuracy))\n",
        "        # Log the losses and accuracy\n",
        "        pt_util.write_log(LOG_PATH, (train_losses, test_losses, test_accuracies))\n",
        "        # save the current model in the checkpoints folder\n",
        "        model.save_best_model(test_accuracy, DATA_PATH + 'checkpoints/cifar_%03d.pt' % epoch)\n",
        "\n",
        "\n",
        "except KeyboardInterrupt as ke:\n",
        "    print('Interrupted')\n",
        "except:\n",
        "    import traceback\n",
        "    traceback.print_exc()\n",
        "finally:\n",
        "    model.save_model(DATA_PATH + 'checkpoints/cifar_%03d.pt' % epoch, 0)\n",
        "    # Plot the loss and accuracy values over epochs\n",
        "    ep, val = zip(*train_losses)\n",
        "    pt_util.plot(ep, val, 'Train loss', 'Epoch', 'Error', name)\n",
        "    ep, val = zip(*test_losses)\n",
        "    pt_util.plot(ep, val, 'Test loss', 'Epoch', 'Error', name)\n",
        "    ep, val = zip(*test_accuracies)\n",
        "    pt_util.plot(ep, val, 'Test accuracy', 'Epoch', 'Error', name)\n"
      ],
      "execution_count": 14,
      "outputs": [
        {
          "output_type": "stream",
          "text": [
            "Using device cuda\n",
            "num cpus: 2\n",
            "\n",
            "Test set: Average loss: 2.3035, Accuracy: 922/10000 (9%)\n",
            "\n",
            "hellp\n",
            "Wed Mar  4 17:56:23 2020 Train Epoch: 0 [0/50000 (0%)]\tLoss: 2.282158\n"
          ],
          "name": "stdout"
        },
        {
          "output_type": "stream",
          "text": [
            "/usr/local/lib/python3.6/dist-packages/torch/nn/_reduction.py:13: UserWarning: reduction='elementwise_mean' is deprecated, please use reduction='mean' instead.\n",
            "  warnings.warn(\"reduction='elementwise_mean' is deprecated, please use reduction='mean' instead.\")\n"
          ],
          "name": "stderr"
        },
        {
          "output_type": "stream",
          "text": [
            "Wed Mar  4 17:56:24 2020 Train Epoch: 0 [3200/50000 (6%)]\tLoss: 1.859245\n",
            "Wed Mar  4 17:56:25 2020 Train Epoch: 0 [6400/50000 (13%)]\tLoss: 1.676679\n",
            "Wed Mar  4 17:56:26 2020 Train Epoch: 0 [9600/50000 (19%)]\tLoss: 1.710747\n",
            "Wed Mar  4 17:56:28 2020 Train Epoch: 0 [12800/50000 (26%)]\tLoss: 2.096113\n",
            "Wed Mar  4 17:56:29 2020 Train Epoch: 0 [16000/50000 (32%)]\tLoss: 1.413497\n",
            "Wed Mar  4 17:56:30 2020 Train Epoch: 0 [19200/50000 (38%)]\tLoss: 1.462024\n",
            "Wed Mar  4 17:56:31 2020 Train Epoch: 0 [22400/50000 (45%)]\tLoss: 1.650383\n",
            "Wed Mar  4 17:56:33 2020 Train Epoch: 0 [25600/50000 (51%)]\tLoss: 1.600032\n",
            "Wed Mar  4 17:56:34 2020 Train Epoch: 0 [28800/50000 (58%)]\tLoss: 1.539609\n",
            "Wed Mar  4 17:56:35 2020 Train Epoch: 0 [32000/50000 (64%)]\tLoss: 1.712594\n",
            "Wed Mar  4 17:56:36 2020 Train Epoch: 0 [35200/50000 (70%)]\tLoss: 1.513155\n",
            "Wed Mar  4 17:56:37 2020 Train Epoch: 0 [38400/50000 (77%)]\tLoss: 1.787405\n",
            "Wed Mar  4 17:56:39 2020 Train Epoch: 0 [41600/50000 (83%)]\tLoss: 1.304465\n",
            "Wed Mar  4 17:56:40 2020 Train Epoch: 0 [44800/50000 (90%)]\tLoss: 1.382848\n",
            "Wed Mar  4 17:56:41 2020 Train Epoch: 0 [48000/50000 (96%)]\tLoss: 1.392848\n",
            "foo 1.6684226450520452\n",
            "\n",
            "Test set: Average loss: 1.4789, Accuracy: 4631/10000 (46%)\n",
            "\n",
            "Saved /gdrive/My Drive/CSE415/cifar10/checkpoints/cifar_000.pt\n",
            "\n",
            "hellp\n",
            "Wed Mar  4 17:56:47 2020 Train Epoch: 1 [0/50000 (0%)]\tLoss: 1.325854\n",
            "Wed Mar  4 17:56:48 2020 Train Epoch: 1 [3200/50000 (6%)]\tLoss: 1.501245\n",
            "Wed Mar  4 17:56:49 2020 Train Epoch: 1 [6400/50000 (13%)]\tLoss: 1.628263\n",
            "Wed Mar  4 17:56:50 2020 Train Epoch: 1 [9600/50000 (19%)]\tLoss: 1.904859\n",
            "Wed Mar  4 17:56:52 2020 Train Epoch: 1 [12800/50000 (26%)]\tLoss: 1.549928\n",
            "Wed Mar  4 17:56:53 2020 Train Epoch: 1 [16000/50000 (32%)]\tLoss: 1.721992\n",
            "Wed Mar  4 17:56:54 2020 Train Epoch: 1 [19200/50000 (38%)]\tLoss: 1.394559\n",
            "Wed Mar  4 17:56:55 2020 Train Epoch: 1 [22400/50000 (45%)]\tLoss: 1.238096\n",
            "Wed Mar  4 17:56:56 2020 Train Epoch: 1 [25600/50000 (51%)]\tLoss: 1.458248\n",
            "Wed Mar  4 17:56:58 2020 Train Epoch: 1 [28800/50000 (58%)]\tLoss: 1.405486\n",
            "Wed Mar  4 17:56:59 2020 Train Epoch: 1 [32000/50000 (64%)]\tLoss: 1.565473\n",
            "Wed Mar  4 17:57:00 2020 Train Epoch: 1 [35200/50000 (70%)]\tLoss: 1.426279\n",
            "Wed Mar  4 17:57:01 2020 Train Epoch: 1 [38400/50000 (77%)]\tLoss: 1.523246\n",
            "Wed Mar  4 17:57:02 2020 Train Epoch: 1 [41600/50000 (83%)]\tLoss: 1.491907\n",
            "Wed Mar  4 17:57:04 2020 Train Epoch: 1 [44800/50000 (90%)]\tLoss: 1.476360\n",
            "Wed Mar  4 17:57:05 2020 Train Epoch: 1 [48000/50000 (96%)]\tLoss: 1.127289\n",
            "foo 1.4430668887921196\n",
            "\n",
            "Test set: Average loss: 1.3303, Accuracy: 5207/10000 (52%)\n",
            "\n",
            "Saved /gdrive/My Drive/CSE415/cifar10/checkpoints/cifar_001.pt\n",
            "\n",
            "hellp\n",
            "Wed Mar  4 17:57:08 2020 Train Epoch: 2 [0/50000 (0%)]\tLoss: 1.519912\n",
            "Wed Mar  4 17:57:09 2020 Train Epoch: 2 [3200/50000 (6%)]\tLoss: 1.192631\n",
            "Wed Mar  4 17:57:10 2020 Train Epoch: 2 [6400/50000 (13%)]\tLoss: 1.285066\n",
            "Wed Mar  4 17:57:11 2020 Train Epoch: 2 [9600/50000 (19%)]\tLoss: 1.671935\n",
            "Wed Mar  4 17:57:13 2020 Train Epoch: 2 [12800/50000 (26%)]\tLoss: 1.075376\n",
            "Wed Mar  4 17:57:14 2020 Train Epoch: 2 [16000/50000 (32%)]\tLoss: 1.500299\n",
            "Wed Mar  4 17:57:15 2020 Train Epoch: 2 [19200/50000 (38%)]\tLoss: 1.538727\n",
            "Wed Mar  4 17:57:16 2020 Train Epoch: 2 [22400/50000 (45%)]\tLoss: 1.603984\n",
            "Wed Mar  4 17:57:17 2020 Train Epoch: 2 [25600/50000 (51%)]\tLoss: 1.299846\n",
            "Wed Mar  4 17:57:19 2020 Train Epoch: 2 [28800/50000 (58%)]\tLoss: 1.497012\n",
            "Wed Mar  4 17:57:20 2020 Train Epoch: 2 [32000/50000 (64%)]\tLoss: 1.451144\n",
            "Wed Mar  4 17:57:21 2020 Train Epoch: 2 [35200/50000 (70%)]\tLoss: 1.289255\n",
            "Wed Mar  4 17:57:22 2020 Train Epoch: 2 [38400/50000 (77%)]\tLoss: 1.022820\n",
            "Wed Mar  4 17:57:24 2020 Train Epoch: 2 [41600/50000 (83%)]\tLoss: 1.644765\n",
            "Wed Mar  4 17:57:25 2020 Train Epoch: 2 [44800/50000 (90%)]\tLoss: 1.271668\n",
            "Wed Mar  4 17:57:26 2020 Train Epoch: 2 [48000/50000 (96%)]\tLoss: 1.388936\n",
            "foo 1.3339510301863315\n",
            "\n",
            "Test set: Average loss: 1.2504, Accuracy: 5573/10000 (56%)\n",
            "\n",
            "Saved /gdrive/My Drive/CSE415/cifar10/checkpoints/cifar_002.pt\n",
            "\n",
            "hellp\n",
            "Wed Mar  4 17:57:29 2020 Train Epoch: 3 [0/50000 (0%)]\tLoss: 1.577704\n",
            "Wed Mar  4 17:57:30 2020 Train Epoch: 3 [3200/50000 (6%)]\tLoss: 1.382314\n",
            "Wed Mar  4 17:57:31 2020 Train Epoch: 3 [6400/50000 (13%)]\tLoss: 1.434079\n",
            "Wed Mar  4 17:57:32 2020 Train Epoch: 3 [9600/50000 (19%)]\tLoss: 1.103319\n",
            "Wed Mar  4 17:57:34 2020 Train Epoch: 3 [12800/50000 (26%)]\tLoss: 1.101547\n",
            "Wed Mar  4 17:57:35 2020 Train Epoch: 3 [16000/50000 (32%)]\tLoss: 0.898696\n",
            "Wed Mar  4 17:57:36 2020 Train Epoch: 3 [19200/50000 (38%)]\tLoss: 1.252329\n",
            "Wed Mar  4 17:57:37 2020 Train Epoch: 3 [22400/50000 (45%)]\tLoss: 1.324857\n",
            "Wed Mar  4 17:57:39 2020 Train Epoch: 3 [25600/50000 (51%)]\tLoss: 1.308933\n",
            "Wed Mar  4 17:57:40 2020 Train Epoch: 3 [28800/50000 (58%)]\tLoss: 1.242458\n",
            "Wed Mar  4 17:57:41 2020 Train Epoch: 3 [32000/50000 (64%)]\tLoss: 1.511686\n",
            "Wed Mar  4 17:57:42 2020 Train Epoch: 3 [35200/50000 (70%)]\tLoss: 1.237446\n",
            "Wed Mar  4 17:57:43 2020 Train Epoch: 3 [38400/50000 (77%)]\tLoss: 1.010282\n",
            "Wed Mar  4 17:57:44 2020 Train Epoch: 3 [41600/50000 (83%)]\tLoss: 1.222679\n",
            "Wed Mar  4 17:57:46 2020 Train Epoch: 3 [44800/50000 (90%)]\tLoss: 1.183737\n",
            "Wed Mar  4 17:57:47 2020 Train Epoch: 3 [48000/50000 (96%)]\tLoss: 1.383803\n",
            "foo 1.2602251170540344\n",
            "\n",
            "Test set: Average loss: 1.1826, Accuracy: 5758/10000 (58%)\n",
            "\n",
            "Saved /gdrive/My Drive/CSE415/cifar10/checkpoints/cifar_003.pt\n",
            "\n",
            "hellp\n",
            "Wed Mar  4 17:57:50 2020 Train Epoch: 4 [0/50000 (0%)]\tLoss: 1.451596\n",
            "Wed Mar  4 17:57:51 2020 Train Epoch: 4 [3200/50000 (6%)]\tLoss: 1.151043\n",
            "Wed Mar  4 17:57:52 2020 Train Epoch: 4 [6400/50000 (13%)]\tLoss: 1.086199\n",
            "Wed Mar  4 17:57:54 2020 Train Epoch: 4 [9600/50000 (19%)]\tLoss: 0.853373\n",
            "Wed Mar  4 17:57:55 2020 Train Epoch: 4 [12800/50000 (26%)]\tLoss: 1.024126\n",
            "Wed Mar  4 17:57:56 2020 Train Epoch: 4 [16000/50000 (32%)]\tLoss: 1.195572\n",
            "Wed Mar  4 17:57:57 2020 Train Epoch: 4 [19200/50000 (38%)]\tLoss: 1.507651\n",
            "Wed Mar  4 17:57:58 2020 Train Epoch: 4 [22400/50000 (45%)]\tLoss: 1.546407\n",
            "Wed Mar  4 17:57:59 2020 Train Epoch: 4 [25600/50000 (51%)]\tLoss: 0.803163\n",
            "Wed Mar  4 17:58:01 2020 Train Epoch: 4 [28800/50000 (58%)]\tLoss: 1.192092\n",
            "Wed Mar  4 17:58:02 2020 Train Epoch: 4 [32000/50000 (64%)]\tLoss: 1.434822\n",
            "Wed Mar  4 17:58:03 2020 Train Epoch: 4 [35200/50000 (70%)]\tLoss: 1.347508\n",
            "Wed Mar  4 17:58:04 2020 Train Epoch: 4 [38400/50000 (77%)]\tLoss: 0.800649\n",
            "Wed Mar  4 17:58:05 2020 Train Epoch: 4 [41600/50000 (83%)]\tLoss: 1.018100\n",
            "Wed Mar  4 17:58:06 2020 Train Epoch: 4 [44800/50000 (90%)]\tLoss: 1.152090\n",
            "Wed Mar  4 17:58:08 2020 Train Epoch: 4 [48000/50000 (96%)]\tLoss: 1.093472\n",
            "foo 1.209886237244841\n",
            "\n",
            "Test set: Average loss: 1.1697, Accuracy: 5854/10000 (59%)\n",
            "\n",
            "Saved /gdrive/My Drive/CSE415/cifar10/checkpoints/cifar_004.pt\n",
            "\n",
            "hellp\n",
            "Wed Mar  4 17:58:11 2020 Train Epoch: 5 [0/50000 (0%)]\tLoss: 1.357597\n",
            "Wed Mar  4 17:58:12 2020 Train Epoch: 5 [3200/50000 (6%)]\tLoss: 0.952674\n",
            "Wed Mar  4 17:58:13 2020 Train Epoch: 5 [6400/50000 (13%)]\tLoss: 0.980485\n",
            "Wed Mar  4 17:58:14 2020 Train Epoch: 5 [9600/50000 (19%)]\tLoss: 1.136024\n",
            "Wed Mar  4 17:58:15 2020 Train Epoch: 5 [12800/50000 (26%)]\tLoss: 1.263302\n",
            "Wed Mar  4 17:58:17 2020 Train Epoch: 5 [16000/50000 (32%)]\tLoss: 1.128944\n",
            "Wed Mar  4 17:58:18 2020 Train Epoch: 5 [19200/50000 (38%)]\tLoss: 1.238376\n",
            "Wed Mar  4 17:58:19 2020 Train Epoch: 5 [22400/50000 (45%)]\tLoss: 1.498151\n",
            "Wed Mar  4 17:58:20 2020 Train Epoch: 5 [25600/50000 (51%)]\tLoss: 0.999099\n",
            "Wed Mar  4 17:58:21 2020 Train Epoch: 5 [28800/50000 (58%)]\tLoss: 1.079765\n",
            "Wed Mar  4 17:58:23 2020 Train Epoch: 5 [32000/50000 (64%)]\tLoss: 1.257439\n",
            "Wed Mar  4 17:58:24 2020 Train Epoch: 5 [35200/50000 (70%)]\tLoss: 0.975914\n",
            "Wed Mar  4 17:58:25 2020 Train Epoch: 5 [38400/50000 (77%)]\tLoss: 0.928826\n",
            "Wed Mar  4 17:58:26 2020 Train Epoch: 5 [41600/50000 (83%)]\tLoss: 1.086294\n",
            "Wed Mar  4 17:58:27 2020 Train Epoch: 5 [44800/50000 (90%)]\tLoss: 1.316142\n",
            "Wed Mar  4 17:58:29 2020 Train Epoch: 5 [48000/50000 (96%)]\tLoss: 1.456611\n",
            "foo 1.170827841079929\n",
            "\n",
            "Test set: Average loss: 1.1619, Accuracy: 5889/10000 (59%)\n",
            "\n",
            "Saved /gdrive/My Drive/CSE415/cifar10/checkpoints/cifar_005.pt\n",
            "\n",
            "hellp\n",
            "Wed Mar  4 17:58:32 2020 Train Epoch: 6 [0/50000 (0%)]\tLoss: 0.912691\n",
            "Wed Mar  4 17:58:33 2020 Train Epoch: 6 [3200/50000 (6%)]\tLoss: 1.115822\n",
            "Wed Mar  4 17:58:34 2020 Train Epoch: 6 [6400/50000 (13%)]\tLoss: 1.137350\n",
            "Wed Mar  4 17:58:35 2020 Train Epoch: 6 [9600/50000 (19%)]\tLoss: 0.944989\n",
            "Wed Mar  4 17:58:36 2020 Train Epoch: 6 [12800/50000 (26%)]\tLoss: 1.057645\n",
            "Wed Mar  4 17:58:38 2020 Train Epoch: 6 [16000/50000 (32%)]\tLoss: 1.257054\n",
            "Wed Mar  4 17:58:39 2020 Train Epoch: 6 [19200/50000 (38%)]\tLoss: 1.161840\n",
            "Wed Mar  4 17:58:40 2020 Train Epoch: 6 [22400/50000 (45%)]\tLoss: 0.948782\n",
            "Wed Mar  4 17:58:41 2020 Train Epoch: 6 [25600/50000 (51%)]\tLoss: 1.130283\n",
            "Wed Mar  4 17:58:42 2020 Train Epoch: 6 [28800/50000 (58%)]\tLoss: 1.179917\n",
            "Wed Mar  4 17:58:43 2020 Train Epoch: 6 [32000/50000 (64%)]\tLoss: 1.099015\n",
            "Wed Mar  4 17:58:45 2020 Train Epoch: 6 [35200/50000 (70%)]\tLoss: 0.964335\n",
            "Wed Mar  4 17:58:46 2020 Train Epoch: 6 [38400/50000 (77%)]\tLoss: 1.152031\n",
            "Wed Mar  4 17:58:47 2020 Train Epoch: 6 [41600/50000 (83%)]\tLoss: 0.778496\n",
            "Wed Mar  4 17:58:48 2020 Train Epoch: 6 [44800/50000 (90%)]\tLoss: 1.180412\n",
            "Wed Mar  4 17:58:49 2020 Train Epoch: 6 [48000/50000 (96%)]\tLoss: 1.229249\n",
            "foo 1.1328491361874917\n",
            "\n",
            "Test set: Average loss: 1.0759, Accuracy: 6201/10000 (62%)\n",
            "\n",
            "Saved /gdrive/My Drive/CSE415/cifar10/checkpoints/cifar_006.pt\n",
            "\n",
            "hellp\n",
            "Wed Mar  4 17:58:52 2020 Train Epoch: 7 [0/50000 (0%)]\tLoss: 1.047534\n",
            "Wed Mar  4 17:58:53 2020 Train Epoch: 7 [3200/50000 (6%)]\tLoss: 1.010281\n",
            "Wed Mar  4 17:58:55 2020 Train Epoch: 7 [6400/50000 (13%)]\tLoss: 1.330352\n",
            "Wed Mar  4 17:58:56 2020 Train Epoch: 7 [9600/50000 (19%)]\tLoss: 1.472507\n",
            "Wed Mar  4 17:58:57 2020 Train Epoch: 7 [12800/50000 (26%)]\tLoss: 1.231267\n",
            "Wed Mar  4 17:58:58 2020 Train Epoch: 7 [16000/50000 (32%)]\tLoss: 1.063834\n",
            "Wed Mar  4 17:58:59 2020 Train Epoch: 7 [19200/50000 (38%)]\tLoss: 1.267999\n",
            "Wed Mar  4 17:59:00 2020 Train Epoch: 7 [22400/50000 (45%)]\tLoss: 0.961434\n",
            "Wed Mar  4 17:59:01 2020 Train Epoch: 7 [25600/50000 (51%)]\tLoss: 1.649476\n",
            "Wed Mar  4 17:59:03 2020 Train Epoch: 7 [28800/50000 (58%)]\tLoss: 0.685148\n",
            "Wed Mar  4 17:59:04 2020 Train Epoch: 7 [32000/50000 (64%)]\tLoss: 1.106280\n",
            "Wed Mar  4 17:59:05 2020 Train Epoch: 7 [35200/50000 (70%)]\tLoss: 1.262763\n",
            "Wed Mar  4 17:59:06 2020 Train Epoch: 7 [38400/50000 (77%)]\tLoss: 1.253695\n",
            "Wed Mar  4 17:59:07 2020 Train Epoch: 7 [41600/50000 (83%)]\tLoss: 1.121281\n",
            "Wed Mar  4 17:59:08 2020 Train Epoch: 7 [44800/50000 (90%)]\tLoss: 0.961438\n",
            "Wed Mar  4 17:59:09 2020 Train Epoch: 7 [48000/50000 (96%)]\tLoss: 1.256445\n",
            "foo 1.105665442315112\n",
            "\n",
            "Test set: Average loss: 1.0434, Accuracy: 6308/10000 (63%)\n",
            "\n",
            "Saved /gdrive/My Drive/CSE415/cifar10/checkpoints/cifar_007.pt\n",
            "\n",
            "hellp\n",
            "Wed Mar  4 17:59:12 2020 Train Epoch: 8 [0/50000 (0%)]\tLoss: 1.047768\n",
            "Wed Mar  4 17:59:13 2020 Train Epoch: 8 [3200/50000 (6%)]\tLoss: 0.769178\n",
            "Wed Mar  4 17:59:14 2020 Train Epoch: 8 [6400/50000 (13%)]\tLoss: 0.785726\n",
            "Wed Mar  4 17:59:16 2020 Train Epoch: 8 [9600/50000 (19%)]\tLoss: 1.198985\n",
            "Wed Mar  4 17:59:17 2020 Train Epoch: 8 [12800/50000 (26%)]\tLoss: 1.215331\n",
            "Wed Mar  4 17:59:18 2020 Train Epoch: 8 [16000/50000 (32%)]\tLoss: 1.315017\n",
            "Wed Mar  4 17:59:19 2020 Train Epoch: 8 [19200/50000 (38%)]\tLoss: 1.401396\n",
            "Wed Mar  4 17:59:20 2020 Train Epoch: 8 [22400/50000 (45%)]\tLoss: 0.949662\n",
            "Wed Mar  4 17:59:21 2020 Train Epoch: 8 [25600/50000 (51%)]\tLoss: 1.062439\n",
            "Wed Mar  4 17:59:23 2020 Train Epoch: 8 [28800/50000 (58%)]\tLoss: 1.538144\n",
            "Wed Mar  4 17:59:24 2020 Train Epoch: 8 [32000/50000 (64%)]\tLoss: 1.086261\n",
            "Wed Mar  4 17:59:25 2020 Train Epoch: 8 [35200/50000 (70%)]\tLoss: 0.823957\n",
            "Wed Mar  4 17:59:26 2020 Train Epoch: 8 [38400/50000 (77%)]\tLoss: 1.401136\n",
            "Wed Mar  4 17:59:27 2020 Train Epoch: 8 [41600/50000 (83%)]\tLoss: 0.914053\n",
            "Wed Mar  4 17:59:29 2020 Train Epoch: 8 [44800/50000 (90%)]\tLoss: 1.377917\n",
            "Wed Mar  4 17:59:30 2020 Train Epoch: 8 [48000/50000 (96%)]\tLoss: 1.416055\n",
            "foo 1.0819833859448547\n",
            "\n",
            "Test set: Average loss: 1.0260, Accuracy: 6353/10000 (64%)\n",
            "\n",
            "Saved /gdrive/My Drive/CSE415/cifar10/checkpoints/cifar_008.pt\n",
            "\n",
            "hellp\n",
            "Wed Mar  4 17:59:33 2020 Train Epoch: 9 [0/50000 (0%)]\tLoss: 0.858985\n",
            "Wed Mar  4 17:59:34 2020 Train Epoch: 9 [3200/50000 (6%)]\tLoss: 0.962376\n",
            "Wed Mar  4 17:59:35 2020 Train Epoch: 9 [6400/50000 (13%)]\tLoss: 0.998979\n",
            "Wed Mar  4 17:59:36 2020 Train Epoch: 9 [9600/50000 (19%)]\tLoss: 1.022809\n",
            "Wed Mar  4 17:59:38 2020 Train Epoch: 9 [12800/50000 (26%)]\tLoss: 0.952305\n",
            "Wed Mar  4 17:59:39 2020 Train Epoch: 9 [16000/50000 (32%)]\tLoss: 0.944469\n",
            "Wed Mar  4 17:59:40 2020 Train Epoch: 9 [19200/50000 (38%)]\tLoss: 1.202285\n",
            "Wed Mar  4 17:59:41 2020 Train Epoch: 9 [22400/50000 (45%)]\tLoss: 1.215415\n",
            "Wed Mar  4 17:59:42 2020 Train Epoch: 9 [25600/50000 (51%)]\tLoss: 0.927593\n",
            "Wed Mar  4 17:59:43 2020 Train Epoch: 9 [28800/50000 (58%)]\tLoss: 1.149794\n",
            "Wed Mar  4 17:59:44 2020 Train Epoch: 9 [32000/50000 (64%)]\tLoss: 0.835894\n",
            "Wed Mar  4 17:59:46 2020 Train Epoch: 9 [35200/50000 (70%)]\tLoss: 1.015923\n",
            "Wed Mar  4 17:59:47 2020 Train Epoch: 9 [38400/50000 (77%)]\tLoss: 0.859370\n",
            "Wed Mar  4 17:59:48 2020 Train Epoch: 9 [41600/50000 (83%)]\tLoss: 0.780936\n",
            "Wed Mar  4 17:59:49 2020 Train Epoch: 9 [44800/50000 (90%)]\tLoss: 0.975071\n",
            "Wed Mar  4 17:59:50 2020 Train Epoch: 9 [48000/50000 (96%)]\tLoss: 1.367258\n",
            "foo 1.054324490476402\n",
            "\n",
            "Test set: Average loss: 1.0000, Accuracy: 6515/10000 (65%)\n",
            "\n",
            "Saved /gdrive/My Drive/CSE415/cifar10/checkpoints/cifar_009.pt\n",
            "\n",
            "hellp\n",
            "Wed Mar  4 17:59:53 2020 Train Epoch: 10 [0/50000 (0%)]\tLoss: 1.143900\n",
            "Wed Mar  4 17:59:54 2020 Train Epoch: 10 [3200/50000 (6%)]\tLoss: 0.614410\n",
            "Wed Mar  4 17:59:55 2020 Train Epoch: 10 [6400/50000 (13%)]\tLoss: 1.300061\n",
            "Wed Mar  4 17:59:57 2020 Train Epoch: 10 [9600/50000 (19%)]\tLoss: 0.871009\n",
            "Wed Mar  4 17:59:58 2020 Train Epoch: 10 [12800/50000 (26%)]\tLoss: 1.097498\n",
            "Wed Mar  4 17:59:59 2020 Train Epoch: 10 [16000/50000 (32%)]\tLoss: 0.783896\n",
            "Wed Mar  4 18:00:00 2020 Train Epoch: 10 [19200/50000 (38%)]\tLoss: 0.833360\n",
            "Wed Mar  4 18:00:01 2020 Train Epoch: 10 [22400/50000 (45%)]\tLoss: 0.606667\n",
            "Wed Mar  4 18:00:02 2020 Train Epoch: 10 [25600/50000 (51%)]\tLoss: 1.187995\n",
            "Wed Mar  4 18:00:03 2020 Train Epoch: 10 [28800/50000 (58%)]\tLoss: 0.978646\n",
            "Wed Mar  4 18:00:05 2020 Train Epoch: 10 [32000/50000 (64%)]\tLoss: 0.843480\n",
            "Wed Mar  4 18:00:06 2020 Train Epoch: 10 [35200/50000 (70%)]\tLoss: 0.763511\n",
            "Wed Mar  4 18:00:07 2020 Train Epoch: 10 [38400/50000 (77%)]\tLoss: 1.188303\n",
            "Wed Mar  4 18:00:08 2020 Train Epoch: 10 [41600/50000 (83%)]\tLoss: 1.058959\n",
            "Wed Mar  4 18:00:09 2020 Train Epoch: 10 [44800/50000 (90%)]\tLoss: 0.714511\n",
            "Wed Mar  4 18:00:10 2020 Train Epoch: 10 [48000/50000 (96%)]\tLoss: 0.812409\n",
            "foo 1.038649404994662\n",
            "\n",
            "Test set: Average loss: 0.9949, Accuracy: 6447/10000 (64%)\n",
            "\n",
            "hellp\n",
            "Wed Mar  4 18:00:13 2020 Train Epoch: 11 [0/50000 (0%)]\tLoss: 1.257493\n",
            "Wed Mar  4 18:00:14 2020 Train Epoch: 11 [3200/50000 (6%)]\tLoss: 0.673658\n",
            "Wed Mar  4 18:00:16 2020 Train Epoch: 11 [6400/50000 (13%)]\tLoss: 1.296977\n",
            "Wed Mar  4 18:00:17 2020 Train Epoch: 11 [9600/50000 (19%)]\tLoss: 0.857143\n",
            "Wed Mar  4 18:00:18 2020 Train Epoch: 11 [12800/50000 (26%)]\tLoss: 1.351440\n",
            "Wed Mar  4 18:00:19 2020 Train Epoch: 11 [16000/50000 (32%)]\tLoss: 0.869246\n",
            "Wed Mar  4 18:00:20 2020 Train Epoch: 11 [19200/50000 (38%)]\tLoss: 1.101397\n",
            "Wed Mar  4 18:00:22 2020 Train Epoch: 11 [22400/50000 (45%)]\tLoss: 0.759521\n",
            "Wed Mar  4 18:00:23 2020 Train Epoch: 11 [25600/50000 (51%)]\tLoss: 1.062547\n",
            "Wed Mar  4 18:00:24 2020 Train Epoch: 11 [28800/50000 (58%)]\tLoss: 1.097449\n",
            "Wed Mar  4 18:00:25 2020 Train Epoch: 11 [32000/50000 (64%)]\tLoss: 1.305028\n",
            "Wed Mar  4 18:00:27 2020 Train Epoch: 11 [35200/50000 (70%)]\tLoss: 1.174801\n",
            "Wed Mar  4 18:00:28 2020 Train Epoch: 11 [38400/50000 (77%)]\tLoss: 0.904559\n",
            "Wed Mar  4 18:00:29 2020 Train Epoch: 11 [41600/50000 (83%)]\tLoss: 0.852705\n",
            "Wed Mar  4 18:00:30 2020 Train Epoch: 11 [44800/50000 (90%)]\tLoss: 1.066825\n",
            "Wed Mar  4 18:00:31 2020 Train Epoch: 11 [48000/50000 (96%)]\tLoss: 0.982406\n",
            "foo 1.0157758093421763\n",
            "\n",
            "Test set: Average loss: 1.0107, Accuracy: 6448/10000 (64%)\n",
            "\n",
            "hellp\n",
            "Wed Mar  4 18:00:34 2020 Train Epoch: 12 [0/50000 (0%)]\tLoss: 0.831252\n",
            "Wed Mar  4 18:00:36 2020 Train Epoch: 12 [3200/50000 (6%)]\tLoss: 0.750036\n",
            "Wed Mar  4 18:00:37 2020 Train Epoch: 12 [6400/50000 (13%)]\tLoss: 0.938318\n",
            "Wed Mar  4 18:00:38 2020 Train Epoch: 12 [9600/50000 (19%)]\tLoss: 1.074845\n",
            "Wed Mar  4 18:00:39 2020 Train Epoch: 12 [12800/50000 (26%)]\tLoss: 1.246645\n",
            "Wed Mar  4 18:00:41 2020 Train Epoch: 12 [16000/50000 (32%)]\tLoss: 0.941355\n",
            "Wed Mar  4 18:00:42 2020 Train Epoch: 12 [19200/50000 (38%)]\tLoss: 1.221660\n",
            "Wed Mar  4 18:00:43 2020 Train Epoch: 12 [22400/50000 (45%)]\tLoss: 0.871635\n",
            "Wed Mar  4 18:00:44 2020 Train Epoch: 12 [25600/50000 (51%)]\tLoss: 1.426836\n",
            "Wed Mar  4 18:00:45 2020 Train Epoch: 12 [28800/50000 (58%)]\tLoss: 1.047714\n",
            "Wed Mar  4 18:00:46 2020 Train Epoch: 12 [32000/50000 (64%)]\tLoss: 1.100039\n",
            "Wed Mar  4 18:00:48 2020 Train Epoch: 12 [35200/50000 (70%)]\tLoss: 1.502009\n",
            "Wed Mar  4 18:00:49 2020 Train Epoch: 12 [38400/50000 (77%)]\tLoss: 1.217363\n",
            "Wed Mar  4 18:00:50 2020 Train Epoch: 12 [41600/50000 (83%)]\tLoss: 0.846286\n",
            "Wed Mar  4 18:00:51 2020 Train Epoch: 12 [44800/50000 (90%)]\tLoss: 0.759351\n",
            "Wed Mar  4 18:00:52 2020 Train Epoch: 12 [48000/50000 (96%)]\tLoss: 0.858494\n",
            "foo 1.0013573142251218\n",
            "\n",
            "Test set: Average loss: 1.0032, Accuracy: 6491/10000 (65%)\n",
            "\n",
            "hellp\n",
            "Wed Mar  4 18:00:55 2020 Train Epoch: 13 [0/50000 (0%)]\tLoss: 0.864875\n",
            "Wed Mar  4 18:00:57 2020 Train Epoch: 13 [3200/50000 (6%)]\tLoss: 0.766157\n",
            "Wed Mar  4 18:00:58 2020 Train Epoch: 13 [6400/50000 (13%)]\tLoss: 0.747823\n",
            "Wed Mar  4 18:00:59 2020 Train Epoch: 13 [9600/50000 (19%)]\tLoss: 1.136087\n",
            "Wed Mar  4 18:01:00 2020 Train Epoch: 13 [12800/50000 (26%)]\tLoss: 1.104951\n",
            "Wed Mar  4 18:01:01 2020 Train Epoch: 13 [16000/50000 (32%)]\tLoss: 0.914406\n",
            "Wed Mar  4 18:01:03 2020 Train Epoch: 13 [19200/50000 (38%)]\tLoss: 1.108594\n",
            "Wed Mar  4 18:01:04 2020 Train Epoch: 13 [22400/50000 (45%)]\tLoss: 0.908797\n",
            "Wed Mar  4 18:01:05 2020 Train Epoch: 13 [25600/50000 (51%)]\tLoss: 1.078087\n",
            "Wed Mar  4 18:01:06 2020 Train Epoch: 13 [28800/50000 (58%)]\tLoss: 0.752117\n",
            "Wed Mar  4 18:01:07 2020 Train Epoch: 13 [32000/50000 (64%)]\tLoss: 0.751376\n",
            "Wed Mar  4 18:01:08 2020 Train Epoch: 13 [35200/50000 (70%)]\tLoss: 0.853539\n",
            "Wed Mar  4 18:01:09 2020 Train Epoch: 13 [38400/50000 (77%)]\tLoss: 1.304584\n",
            "Wed Mar  4 18:01:11 2020 Train Epoch: 13 [41600/50000 (83%)]\tLoss: 0.781646\n",
            "Wed Mar  4 18:01:12 2020 Train Epoch: 13 [44800/50000 (90%)]\tLoss: 1.051472\n",
            "Wed Mar  4 18:01:13 2020 Train Epoch: 13 [48000/50000 (96%)]\tLoss: 1.120729\n",
            "foo 0.9862636018279876\n",
            "\n",
            "Test set: Average loss: 0.9792, Accuracy: 6545/10000 (65%)\n",
            "\n",
            "Saved /gdrive/My Drive/CSE415/cifar10/checkpoints/cifar_013.pt\n",
            "\n",
            "hellp\n",
            "Wed Mar  4 18:01:16 2020 Train Epoch: 14 [0/50000 (0%)]\tLoss: 1.285828\n",
            "Wed Mar  4 18:01:17 2020 Train Epoch: 14 [3200/50000 (6%)]\tLoss: 1.065434\n",
            "Wed Mar  4 18:01:18 2020 Train Epoch: 14 [6400/50000 (13%)]\tLoss: 0.603125\n",
            "Wed Mar  4 18:01:19 2020 Train Epoch: 14 [9600/50000 (19%)]\tLoss: 1.204163\n",
            "Wed Mar  4 18:01:21 2020 Train Epoch: 14 [12800/50000 (26%)]\tLoss: 1.341686\n",
            "Wed Mar  4 18:01:22 2020 Train Epoch: 14 [16000/50000 (32%)]\tLoss: 1.290807\n",
            "Wed Mar  4 18:01:23 2020 Train Epoch: 14 [19200/50000 (38%)]\tLoss: 1.310530\n",
            "Wed Mar  4 18:01:24 2020 Train Epoch: 14 [22400/50000 (45%)]\tLoss: 0.931160\n",
            "Wed Mar  4 18:01:26 2020 Train Epoch: 14 [25600/50000 (51%)]\tLoss: 1.115530\n",
            "Wed Mar  4 18:01:27 2020 Train Epoch: 14 [28800/50000 (58%)]\tLoss: 0.959790\n",
            "Wed Mar  4 18:01:28 2020 Train Epoch: 14 [32000/50000 (64%)]\tLoss: 0.884746\n",
            "Wed Mar  4 18:01:29 2020 Train Epoch: 14 [35200/50000 (70%)]\tLoss: 1.066025\n",
            "Wed Mar  4 18:01:30 2020 Train Epoch: 14 [38400/50000 (77%)]\tLoss: 1.053453\n",
            "Wed Mar  4 18:01:31 2020 Train Epoch: 14 [41600/50000 (83%)]\tLoss: 1.251189\n",
            "Wed Mar  4 18:01:32 2020 Train Epoch: 14 [44800/50000 (90%)]\tLoss: 0.656138\n",
            "Wed Mar  4 18:01:34 2020 Train Epoch: 14 [48000/50000 (96%)]\tLoss: 0.789435\n",
            "foo 0.967729958028116\n",
            "\n",
            "Test set: Average loss: 0.9742, Accuracy: 6613/10000 (66%)\n",
            "\n",
            "Saved /gdrive/My Drive/CSE415/cifar10/checkpoints/cifar_014.pt\n",
            "\n",
            "hellp\n",
            "Wed Mar  4 18:01:37 2020 Train Epoch: 15 [0/50000 (0%)]\tLoss: 0.815692\n",
            "Wed Mar  4 18:01:38 2020 Train Epoch: 15 [3200/50000 (6%)]\tLoss: 0.957471\n",
            "Wed Mar  4 18:01:39 2020 Train Epoch: 15 [6400/50000 (13%)]\tLoss: 0.928875\n",
            "Wed Mar  4 18:01:40 2020 Train Epoch: 15 [9600/50000 (19%)]\tLoss: 0.798874\n",
            "Wed Mar  4 18:01:41 2020 Train Epoch: 15 [12800/50000 (26%)]\tLoss: 0.711316\n",
            "Wed Mar  4 18:01:42 2020 Train Epoch: 15 [16000/50000 (32%)]\tLoss: 0.998199\n",
            "Wed Mar  4 18:01:44 2020 Train Epoch: 15 [19200/50000 (38%)]\tLoss: 0.632424\n",
            "Wed Mar  4 18:01:45 2020 Train Epoch: 15 [22400/50000 (45%)]\tLoss: 1.119904\n",
            "Wed Mar  4 18:01:46 2020 Train Epoch: 15 [25600/50000 (51%)]\tLoss: 0.861810\n",
            "Wed Mar  4 18:01:47 2020 Train Epoch: 15 [28800/50000 (58%)]\tLoss: 0.720670\n",
            "Wed Mar  4 18:01:48 2020 Train Epoch: 15 [32000/50000 (64%)]\tLoss: 1.008923\n",
            "Wed Mar  4 18:01:50 2020 Train Epoch: 15 [35200/50000 (70%)]\tLoss: 1.064101\n",
            "Wed Mar  4 18:01:51 2020 Train Epoch: 15 [38400/50000 (77%)]\tLoss: 0.996482\n",
            "Wed Mar  4 18:01:52 2020 Train Epoch: 15 [41600/50000 (83%)]\tLoss: 1.193421\n",
            "Wed Mar  4 18:01:53 2020 Train Epoch: 15 [44800/50000 (90%)]\tLoss: 0.759024\n",
            "Wed Mar  4 18:01:54 2020 Train Epoch: 15 [48000/50000 (96%)]\tLoss: 0.799725\n",
            "foo 0.959338519123984\n",
            "\n",
            "Test set: Average loss: 0.9461, Accuracy: 6640/10000 (66%)\n",
            "\n",
            "Saved /gdrive/My Drive/CSE415/cifar10/checkpoints/cifar_015.pt\n",
            "\n",
            "hellp\n",
            "Wed Mar  4 18:01:57 2020 Train Epoch: 16 [0/50000 (0%)]\tLoss: 0.803137\n",
            "Wed Mar  4 18:01:58 2020 Train Epoch: 16 [3200/50000 (6%)]\tLoss: 0.832393\n",
            "Wed Mar  4 18:01:59 2020 Train Epoch: 16 [6400/50000 (13%)]\tLoss: 1.043851\n",
            "Wed Mar  4 18:02:01 2020 Train Epoch: 16 [9600/50000 (19%)]\tLoss: 1.020434\n",
            "Wed Mar  4 18:02:02 2020 Train Epoch: 16 [12800/50000 (26%)]\tLoss: 0.836357\n",
            "Wed Mar  4 18:02:03 2020 Train Epoch: 16 [16000/50000 (32%)]\tLoss: 0.928849\n",
            "Wed Mar  4 18:02:04 2020 Train Epoch: 16 [19200/50000 (38%)]\tLoss: 1.242096\n",
            "Wed Mar  4 18:02:05 2020 Train Epoch: 16 [22400/50000 (45%)]\tLoss: 0.733853\n",
            "Wed Mar  4 18:02:06 2020 Train Epoch: 16 [25600/50000 (51%)]\tLoss: 1.222201\n",
            "Wed Mar  4 18:02:07 2020 Train Epoch: 16 [28800/50000 (58%)]\tLoss: 0.759688\n",
            "Wed Mar  4 18:02:09 2020 Train Epoch: 16 [32000/50000 (64%)]\tLoss: 0.925324\n",
            "Wed Mar  4 18:02:10 2020 Train Epoch: 16 [35200/50000 (70%)]\tLoss: 0.765880\n",
            "Wed Mar  4 18:02:11 2020 Train Epoch: 16 [38400/50000 (77%)]\tLoss: 1.428495\n",
            "Wed Mar  4 18:02:12 2020 Train Epoch: 16 [41600/50000 (83%)]\tLoss: 0.897838\n",
            "Wed Mar  4 18:02:13 2020 Train Epoch: 16 [44800/50000 (90%)]\tLoss: 0.948354\n",
            "Wed Mar  4 18:02:14 2020 Train Epoch: 16 [48000/50000 (96%)]\tLoss: 1.264004\n",
            "foo 0.9448575043975735\n",
            "\n",
            "Test set: Average loss: 0.9211, Accuracy: 6724/10000 (67%)\n",
            "\n",
            "Saved /gdrive/My Drive/CSE415/cifar10/checkpoints/cifar_016.pt\n",
            "\n",
            "hellp\n",
            "Wed Mar  4 18:02:17 2020 Train Epoch: 17 [0/50000 (0%)]\tLoss: 1.129379\n",
            "Wed Mar  4 18:02:18 2020 Train Epoch: 17 [3200/50000 (6%)]\tLoss: 1.239871\n",
            "Wed Mar  4 18:02:20 2020 Train Epoch: 17 [6400/50000 (13%)]\tLoss: 1.489704\n",
            "Wed Mar  4 18:02:21 2020 Train Epoch: 17 [9600/50000 (19%)]\tLoss: 0.760535\n",
            "Wed Mar  4 18:02:22 2020 Train Epoch: 17 [12800/50000 (26%)]\tLoss: 0.902382\n",
            "Wed Mar  4 18:02:23 2020 Train Epoch: 17 [16000/50000 (32%)]\tLoss: 1.046982\n",
            "Wed Mar  4 18:02:25 2020 Train Epoch: 17 [19200/50000 (38%)]\tLoss: 0.941980\n",
            "Wed Mar  4 18:02:26 2020 Train Epoch: 17 [22400/50000 (45%)]\tLoss: 1.392022\n",
            "Wed Mar  4 18:02:27 2020 Train Epoch: 17 [25600/50000 (51%)]\tLoss: 0.961631\n",
            "Wed Mar  4 18:02:28 2020 Train Epoch: 17 [28800/50000 (58%)]\tLoss: 0.815777\n",
            "Wed Mar  4 18:02:29 2020 Train Epoch: 17 [32000/50000 (64%)]\tLoss: 1.062990\n",
            "Wed Mar  4 18:02:30 2020 Train Epoch: 17 [35200/50000 (70%)]\tLoss: 0.834114\n",
            "Wed Mar  4 18:02:31 2020 Train Epoch: 17 [38400/50000 (77%)]\tLoss: 0.849966\n",
            "Wed Mar  4 18:02:33 2020 Train Epoch: 17 [41600/50000 (83%)]\tLoss: 0.831429\n",
            "Wed Mar  4 18:02:34 2020 Train Epoch: 17 [44800/50000 (90%)]\tLoss: 1.068872\n",
            "Wed Mar  4 18:02:35 2020 Train Epoch: 17 [48000/50000 (96%)]\tLoss: 1.124534\n",
            "foo 0.9347575298502746\n",
            "\n",
            "Test set: Average loss: 0.9068, Accuracy: 6844/10000 (68%)\n",
            "\n",
            "Saved /gdrive/My Drive/CSE415/cifar10/checkpoints/cifar_017.pt\n",
            "\n",
            "hellp\n",
            "Wed Mar  4 18:02:38 2020 Train Epoch: 18 [0/50000 (0%)]\tLoss: 1.035628\n",
            "Wed Mar  4 18:02:39 2020 Train Epoch: 18 [3200/50000 (6%)]\tLoss: 1.296769\n",
            "Wed Mar  4 18:02:40 2020 Train Epoch: 18 [6400/50000 (13%)]\tLoss: 0.934270\n",
            "Wed Mar  4 18:02:41 2020 Train Epoch: 18 [9600/50000 (19%)]\tLoss: 1.038695\n",
            "Wed Mar  4 18:02:43 2020 Train Epoch: 18 [12800/50000 (26%)]\tLoss: 1.508739\n",
            "Wed Mar  4 18:02:44 2020 Train Epoch: 18 [16000/50000 (32%)]\tLoss: 1.008383\n",
            "Wed Mar  4 18:02:45 2020 Train Epoch: 18 [19200/50000 (38%)]\tLoss: 0.735851\n",
            "Wed Mar  4 18:02:46 2020 Train Epoch: 18 [22400/50000 (45%)]\tLoss: 0.918311\n",
            "Wed Mar  4 18:02:47 2020 Train Epoch: 18 [25600/50000 (51%)]\tLoss: 0.710010\n",
            "Wed Mar  4 18:02:48 2020 Train Epoch: 18 [28800/50000 (58%)]\tLoss: 1.043612\n",
            "Wed Mar  4 18:02:50 2020 Train Epoch: 18 [32000/50000 (64%)]\tLoss: 0.803801\n",
            "Wed Mar  4 18:02:51 2020 Train Epoch: 18 [35200/50000 (70%)]\tLoss: 0.753914\n",
            "Wed Mar  4 18:02:52 2020 Train Epoch: 18 [38400/50000 (77%)]\tLoss: 1.178233\n",
            "Wed Mar  4 18:02:53 2020 Train Epoch: 18 [41600/50000 (83%)]\tLoss: 0.899991\n",
            "Wed Mar  4 18:02:54 2020 Train Epoch: 18 [44800/50000 (90%)]\tLoss: 0.707845\n",
            "Wed Mar  4 18:02:55 2020 Train Epoch: 18 [48000/50000 (96%)]\tLoss: 0.807523\n",
            "foo 0.9200598521829033\n",
            "\n",
            "Test set: Average loss: 0.9157, Accuracy: 6803/10000 (68%)\n",
            "\n",
            "hellp\n",
            "Wed Mar  4 18:02:58 2020 Train Epoch: 19 [0/50000 (0%)]\tLoss: 0.952950\n",
            "Wed Mar  4 18:02:59 2020 Train Epoch: 19 [3200/50000 (6%)]\tLoss: 0.740828\n",
            "Wed Mar  4 18:03:01 2020 Train Epoch: 19 [6400/50000 (13%)]\tLoss: 1.295742\n",
            "Wed Mar  4 18:03:02 2020 Train Epoch: 19 [9600/50000 (19%)]\tLoss: 1.141658\n",
            "Wed Mar  4 18:03:03 2020 Train Epoch: 19 [12800/50000 (26%)]\tLoss: 0.973991\n",
            "Wed Mar  4 18:03:04 2020 Train Epoch: 19 [16000/50000 (32%)]\tLoss: 0.909009\n",
            "Wed Mar  4 18:03:05 2020 Train Epoch: 19 [19200/50000 (38%)]\tLoss: 1.152866\n",
            "Wed Mar  4 18:03:06 2020 Train Epoch: 19 [22400/50000 (45%)]\tLoss: 1.042439\n",
            "Wed Mar  4 18:03:08 2020 Train Epoch: 19 [25600/50000 (51%)]\tLoss: 1.136378\n",
            "Wed Mar  4 18:03:09 2020 Train Epoch: 19 [28800/50000 (58%)]\tLoss: 0.978876\n",
            "Wed Mar  4 18:03:10 2020 Train Epoch: 19 [32000/50000 (64%)]\tLoss: 1.106231\n",
            "Wed Mar  4 18:03:11 2020 Train Epoch: 19 [35200/50000 (70%)]\tLoss: 0.770424\n",
            "Wed Mar  4 18:03:12 2020 Train Epoch: 19 [38400/50000 (77%)]\tLoss: 0.749881\n",
            "Wed Mar  4 18:03:13 2020 Train Epoch: 19 [41600/50000 (83%)]\tLoss: 0.906051\n",
            "Wed Mar  4 18:03:15 2020 Train Epoch: 19 [44800/50000 (90%)]\tLoss: 0.879611\n",
            "Wed Mar  4 18:03:16 2020 Train Epoch: 19 [48000/50000 (96%)]\tLoss: 1.022320\n",
            "foo 0.9115803066691144\n",
            "\n",
            "Test set: Average loss: 0.9100, Accuracy: 6788/10000 (68%)\n",
            "\n",
            "hellp\n",
            "Wed Mar  4 18:03:19 2020 Train Epoch: 20 [0/50000 (0%)]\tLoss: 0.770769\n",
            "Wed Mar  4 18:03:20 2020 Train Epoch: 20 [3200/50000 (6%)]\tLoss: 1.152609\n",
            "Wed Mar  4 18:03:21 2020 Train Epoch: 20 [6400/50000 (13%)]\tLoss: 0.869048\n",
            "Wed Mar  4 18:03:22 2020 Train Epoch: 20 [9600/50000 (19%)]\tLoss: 0.797289\n",
            "Wed Mar  4 18:03:24 2020 Train Epoch: 20 [12800/50000 (26%)]\tLoss: 0.975214\n",
            "Wed Mar  4 18:03:25 2020 Train Epoch: 20 [16000/50000 (32%)]\tLoss: 0.607254\n",
            "Wed Mar  4 18:03:26 2020 Train Epoch: 20 [19200/50000 (38%)]\tLoss: 1.272976\n",
            "Wed Mar  4 18:03:27 2020 Train Epoch: 20 [22400/50000 (45%)]\tLoss: 0.726095\n",
            "Wed Mar  4 18:03:28 2020 Train Epoch: 20 [25600/50000 (51%)]\tLoss: 0.676108\n",
            "Wed Mar  4 18:03:29 2020 Train Epoch: 20 [28800/50000 (58%)]\tLoss: 0.708229\n",
            "Wed Mar  4 18:03:31 2020 Train Epoch: 20 [32000/50000 (64%)]\tLoss: 0.597427\n",
            "Wed Mar  4 18:03:32 2020 Train Epoch: 20 [35200/50000 (70%)]\tLoss: 0.865723\n",
            "Wed Mar  4 18:03:33 2020 Train Epoch: 20 [38400/50000 (77%)]\tLoss: 1.239518\n",
            "Wed Mar  4 18:03:34 2020 Train Epoch: 20 [41600/50000 (83%)]\tLoss: 0.829262\n",
            "Wed Mar  4 18:03:35 2020 Train Epoch: 20 [44800/50000 (90%)]\tLoss: 0.884159\n",
            "Wed Mar  4 18:03:37 2020 Train Epoch: 20 [48000/50000 (96%)]\tLoss: 1.090231\n",
            "foo 0.9006379480859216\n",
            "\n",
            "Test set: Average loss: 0.8863, Accuracy: 6921/10000 (69%)\n",
            "\n",
            "Saved /gdrive/My Drive/CSE415/cifar10/checkpoints/cifar_020.pt\n",
            "\n",
            "hellp\n",
            "Wed Mar  4 18:03:39 2020 Train Epoch: 21 [0/50000 (0%)]\tLoss: 1.226482\n",
            "Wed Mar  4 18:03:41 2020 Train Epoch: 21 [3200/50000 (6%)]\tLoss: 0.915795\n",
            "Wed Mar  4 18:03:42 2020 Train Epoch: 21 [6400/50000 (13%)]\tLoss: 0.994824\n",
            "Wed Mar  4 18:03:43 2020 Train Epoch: 21 [9600/50000 (19%)]\tLoss: 0.933525\n",
            "Wed Mar  4 18:03:44 2020 Train Epoch: 21 [12800/50000 (26%)]\tLoss: 1.104891\n",
            "Wed Mar  4 18:03:45 2020 Train Epoch: 21 [16000/50000 (32%)]\tLoss: 0.765716\n",
            "Wed Mar  4 18:03:46 2020 Train Epoch: 21 [19200/50000 (38%)]\tLoss: 0.716156\n",
            "Wed Mar  4 18:03:48 2020 Train Epoch: 21 [22400/50000 (45%)]\tLoss: 1.013591\n",
            "Wed Mar  4 18:03:49 2020 Train Epoch: 21 [25600/50000 (51%)]\tLoss: 0.692546\n",
            "Wed Mar  4 18:03:50 2020 Train Epoch: 21 [28800/50000 (58%)]\tLoss: 0.861524\n",
            "Wed Mar  4 18:03:51 2020 Train Epoch: 21 [32000/50000 (64%)]\tLoss: 0.650577\n",
            "Wed Mar  4 18:03:52 2020 Train Epoch: 21 [35200/50000 (70%)]\tLoss: 0.684579\n",
            "Wed Mar  4 18:03:53 2020 Train Epoch: 21 [38400/50000 (77%)]\tLoss: 0.926213\n",
            "Wed Mar  4 18:03:54 2020 Train Epoch: 21 [41600/50000 (83%)]\tLoss: 0.540754\n",
            "Wed Mar  4 18:03:56 2020 Train Epoch: 21 [44800/50000 (90%)]\tLoss: 0.821049\n",
            "Wed Mar  4 18:03:57 2020 Train Epoch: 21 [48000/50000 (96%)]\tLoss: 0.678847\n",
            "foo 0.888576816879475\n",
            "\n",
            "Test set: Average loss: 0.9025, Accuracy: 6845/10000 (68%)\n",
            "\n",
            "hellp\n",
            "Wed Mar  4 18:04:00 2020 Train Epoch: 22 [0/50000 (0%)]\tLoss: 1.017317\n",
            "Wed Mar  4 18:04:01 2020 Train Epoch: 22 [3200/50000 (6%)]\tLoss: 0.645388\n",
            "Wed Mar  4 18:04:02 2020 Train Epoch: 22 [6400/50000 (13%)]\tLoss: 0.999132\n",
            "Wed Mar  4 18:04:03 2020 Train Epoch: 22 [9600/50000 (19%)]\tLoss: 0.873238\n",
            "Wed Mar  4 18:04:04 2020 Train Epoch: 22 [12800/50000 (26%)]\tLoss: 1.004399\n",
            "Wed Mar  4 18:04:05 2020 Train Epoch: 22 [16000/50000 (32%)]\tLoss: 1.375402\n",
            "Wed Mar  4 18:04:07 2020 Train Epoch: 22 [19200/50000 (38%)]\tLoss: 0.968483\n",
            "Wed Mar  4 18:04:08 2020 Train Epoch: 22 [22400/50000 (45%)]\tLoss: 0.791740\n",
            "Wed Mar  4 18:04:09 2020 Train Epoch: 22 [25600/50000 (51%)]\tLoss: 0.840162\n",
            "Wed Mar  4 18:04:10 2020 Train Epoch: 22 [28800/50000 (58%)]\tLoss: 1.388291\n",
            "Wed Mar  4 18:04:11 2020 Train Epoch: 22 [32000/50000 (64%)]\tLoss: 0.839930\n",
            "Wed Mar  4 18:04:12 2020 Train Epoch: 22 [35200/50000 (70%)]\tLoss: 0.830259\n",
            "Wed Mar  4 18:04:13 2020 Train Epoch: 22 [38400/50000 (77%)]\tLoss: 0.646611\n",
            "Wed Mar  4 18:04:14 2020 Train Epoch: 22 [41600/50000 (83%)]\tLoss: 1.063230\n",
            "Wed Mar  4 18:04:16 2020 Train Epoch: 22 [44800/50000 (90%)]\tLoss: 0.843000\n",
            "Wed Mar  4 18:04:17 2020 Train Epoch: 22 [48000/50000 (96%)]\tLoss: 0.883480\n",
            "foo 0.8861014788645014\n",
            "\n",
            "Test set: Average loss: 0.8850, Accuracy: 6916/10000 (69%)\n",
            "\n",
            "hellp\n",
            "Wed Mar  4 18:04:20 2020 Train Epoch: 23 [0/50000 (0%)]\tLoss: 0.621272\n",
            "Wed Mar  4 18:04:21 2020 Train Epoch: 23 [3200/50000 (6%)]\tLoss: 1.076800\n",
            "Wed Mar  4 18:04:22 2020 Train Epoch: 23 [6400/50000 (13%)]\tLoss: 0.554946\n",
            "Wed Mar  4 18:04:23 2020 Train Epoch: 23 [9600/50000 (19%)]\tLoss: 0.936337\n",
            "Wed Mar  4 18:04:25 2020 Train Epoch: 23 [12800/50000 (26%)]\tLoss: 0.979863\n",
            "Wed Mar  4 18:04:26 2020 Train Epoch: 23 [16000/50000 (32%)]\tLoss: 0.598820\n",
            "Wed Mar  4 18:04:27 2020 Train Epoch: 23 [19200/50000 (38%)]\tLoss: 1.074519\n",
            "Wed Mar  4 18:04:28 2020 Train Epoch: 23 [22400/50000 (45%)]\tLoss: 0.791782\n",
            "Wed Mar  4 18:04:29 2020 Train Epoch: 23 [25600/50000 (51%)]\tLoss: 1.061326\n",
            "Wed Mar  4 18:04:30 2020 Train Epoch: 23 [28800/50000 (58%)]\tLoss: 0.973782\n",
            "Wed Mar  4 18:04:31 2020 Train Epoch: 23 [32000/50000 (64%)]\tLoss: 1.100206\n",
            "Wed Mar  4 18:04:32 2020 Train Epoch: 23 [35200/50000 (70%)]\tLoss: 0.554361\n",
            "Wed Mar  4 18:04:34 2020 Train Epoch: 23 [38400/50000 (77%)]\tLoss: 1.010128\n",
            "Wed Mar  4 18:04:35 2020 Train Epoch: 23 [41600/50000 (83%)]\tLoss: 1.120677\n",
            "Wed Mar  4 18:04:36 2020 Train Epoch: 23 [44800/50000 (90%)]\tLoss: 0.854964\n",
            "Wed Mar  4 18:04:37 2020 Train Epoch: 23 [48000/50000 (96%)]\tLoss: 0.942376\n",
            "foo 0.8795765123722725\n",
            "\n",
            "Test set: Average loss: 0.8547, Accuracy: 7037/10000 (70%)\n",
            "\n",
            "Saved /gdrive/My Drive/CSE415/cifar10/checkpoints/cifar_023.pt\n",
            "\n",
            "hellp\n",
            "Wed Mar  4 18:04:40 2020 Train Epoch: 24 [0/50000 (0%)]\tLoss: 0.874012\n",
            "Wed Mar  4 18:04:41 2020 Train Epoch: 24 [3200/50000 (6%)]\tLoss: 0.801495\n",
            "Wed Mar  4 18:04:42 2020 Train Epoch: 24 [6400/50000 (13%)]\tLoss: 0.622419\n",
            "Wed Mar  4 18:04:44 2020 Train Epoch: 24 [9600/50000 (19%)]\tLoss: 0.956847\n",
            "Wed Mar  4 18:04:45 2020 Train Epoch: 24 [12800/50000 (26%)]\tLoss: 0.593055\n",
            "Wed Mar  4 18:04:46 2020 Train Epoch: 24 [16000/50000 (32%)]\tLoss: 0.890877\n",
            "Wed Mar  4 18:04:47 2020 Train Epoch: 24 [19200/50000 (38%)]\tLoss: 0.987113\n",
            "Wed Mar  4 18:04:48 2020 Train Epoch: 24 [22400/50000 (45%)]\tLoss: 1.129080\n",
            "Wed Mar  4 18:04:49 2020 Train Epoch: 24 [25600/50000 (51%)]\tLoss: 0.705379\n",
            "Wed Mar  4 18:04:51 2020 Train Epoch: 24 [28800/50000 (58%)]\tLoss: 0.889595\n",
            "Wed Mar  4 18:04:52 2020 Train Epoch: 24 [32000/50000 (64%)]\tLoss: 0.722871\n",
            "Wed Mar  4 18:04:53 2020 Train Epoch: 24 [35200/50000 (70%)]\tLoss: 0.731360\n",
            "Wed Mar  4 18:04:54 2020 Train Epoch: 24 [38400/50000 (77%)]\tLoss: 0.779528\n",
            "Wed Mar  4 18:04:55 2020 Train Epoch: 24 [41600/50000 (83%)]\tLoss: 1.018237\n",
            "Wed Mar  4 18:04:56 2020 Train Epoch: 24 [44800/50000 (90%)]\tLoss: 1.177557\n",
            "Wed Mar  4 18:04:57 2020 Train Epoch: 24 [48000/50000 (96%)]\tLoss: 0.991768\n",
            "foo 0.8643483644445509\n",
            "\n",
            "Test set: Average loss: 0.8809, Accuracy: 6917/10000 (69%)\n",
            "\n",
            "hellp\n",
            "Wed Mar  4 18:05:00 2020 Train Epoch: 25 [0/50000 (0%)]\tLoss: 0.718222\n",
            "Wed Mar  4 18:05:01 2020 Train Epoch: 25 [3200/50000 (6%)]\tLoss: 1.216413\n",
            "Wed Mar  4 18:05:02 2020 Train Epoch: 25 [6400/50000 (13%)]\tLoss: 0.687377\n",
            "Wed Mar  4 18:05:04 2020 Train Epoch: 25 [9600/50000 (19%)]\tLoss: 0.457158\n",
            "Wed Mar  4 18:05:05 2020 Train Epoch: 25 [12800/50000 (26%)]\tLoss: 0.821448\n",
            "Wed Mar  4 18:05:06 2020 Train Epoch: 25 [16000/50000 (32%)]\tLoss: 0.949629\n",
            "Wed Mar  4 18:05:07 2020 Train Epoch: 25 [19200/50000 (38%)]\tLoss: 0.626771\n",
            "Wed Mar  4 18:05:08 2020 Train Epoch: 25 [22400/50000 (45%)]\tLoss: 0.863376\n",
            "Wed Mar  4 18:05:09 2020 Train Epoch: 25 [25600/50000 (51%)]\tLoss: 0.727849\n",
            "Wed Mar  4 18:05:10 2020 Train Epoch: 25 [28800/50000 (58%)]\tLoss: 0.811537\n",
            "Wed Mar  4 18:05:11 2020 Train Epoch: 25 [32000/50000 (64%)]\tLoss: 0.834827\n",
            "Wed Mar  4 18:05:12 2020 Train Epoch: 25 [35200/50000 (70%)]\tLoss: 0.829947\n",
            "Wed Mar  4 18:05:14 2020 Train Epoch: 25 [38400/50000 (77%)]\tLoss: 0.901342\n",
            "Wed Mar  4 18:05:15 2020 Train Epoch: 25 [41600/50000 (83%)]\tLoss: 0.958122\n",
            "Wed Mar  4 18:05:16 2020 Train Epoch: 25 [44800/50000 (90%)]\tLoss: 0.887416\n",
            "Wed Mar  4 18:05:17 2020 Train Epoch: 25 [48000/50000 (96%)]\tLoss: 1.078304\n",
            "foo 0.8634843917817392\n",
            "\n",
            "Test set: Average loss: 0.8457, Accuracy: 7044/10000 (70%)\n",
            "\n",
            "Saved /gdrive/My Drive/CSE415/cifar10/checkpoints/cifar_025.pt\n",
            "\n",
            "hellp\n",
            "Wed Mar  4 18:05:20 2020 Train Epoch: 26 [0/50000 (0%)]\tLoss: 0.850113\n",
            "Wed Mar  4 18:05:21 2020 Train Epoch: 26 [3200/50000 (6%)]\tLoss: 0.648298\n",
            "Wed Mar  4 18:05:22 2020 Train Epoch: 26 [6400/50000 (13%)]\tLoss: 0.840804\n",
            "Wed Mar  4 18:05:23 2020 Train Epoch: 26 [9600/50000 (19%)]\tLoss: 0.926856\n",
            "Wed Mar  4 18:05:25 2020 Train Epoch: 26 [12800/50000 (26%)]\tLoss: 0.932599\n",
            "Wed Mar  4 18:05:26 2020 Train Epoch: 26 [16000/50000 (32%)]\tLoss: 0.862246\n",
            "Wed Mar  4 18:05:27 2020 Train Epoch: 26 [19200/50000 (38%)]\tLoss: 0.844300\n",
            "Wed Mar  4 18:05:28 2020 Train Epoch: 26 [22400/50000 (45%)]\tLoss: 0.474510\n",
            "Wed Mar  4 18:05:29 2020 Train Epoch: 26 [25600/50000 (51%)]\tLoss: 0.750631\n",
            "Wed Mar  4 18:05:30 2020 Train Epoch: 26 [28800/50000 (58%)]\tLoss: 0.454351\n",
            "Wed Mar  4 18:05:31 2020 Train Epoch: 26 [32000/50000 (64%)]\tLoss: 1.309304\n",
            "Wed Mar  4 18:05:33 2020 Train Epoch: 26 [35200/50000 (70%)]\tLoss: 0.558019\n",
            "Wed Mar  4 18:05:34 2020 Train Epoch: 26 [38400/50000 (77%)]\tLoss: 0.928349\n",
            "Wed Mar  4 18:05:35 2020 Train Epoch: 26 [41600/50000 (83%)]\tLoss: 1.050825\n",
            "Wed Mar  4 18:05:36 2020 Train Epoch: 26 [44800/50000 (90%)]\tLoss: 1.205163\n",
            "Wed Mar  4 18:05:37 2020 Train Epoch: 26 [48000/50000 (96%)]\tLoss: 0.698724\n",
            "foo 0.8541217443276428\n",
            "\n",
            "Test set: Average loss: 0.8721, Accuracy: 7006/10000 (70%)\n",
            "\n",
            "hellp\n",
            "Wed Mar  4 18:05:40 2020 Train Epoch: 27 [0/50000 (0%)]\tLoss: 0.697162\n",
            "Wed Mar  4 18:05:41 2020 Train Epoch: 27 [3200/50000 (6%)]\tLoss: 0.924955\n",
            "Wed Mar  4 18:05:43 2020 Train Epoch: 27 [6400/50000 (13%)]\tLoss: 0.936107\n",
            "Wed Mar  4 18:05:44 2020 Train Epoch: 27 [9600/50000 (19%)]\tLoss: 0.877689\n",
            "Wed Mar  4 18:05:45 2020 Train Epoch: 27 [12800/50000 (26%)]\tLoss: 0.745700\n",
            "Wed Mar  4 18:05:46 2020 Train Epoch: 27 [16000/50000 (32%)]\tLoss: 0.668634\n",
            "Wed Mar  4 18:05:47 2020 Train Epoch: 27 [19200/50000 (38%)]\tLoss: 0.788531\n",
            "Wed Mar  4 18:05:48 2020 Train Epoch: 27 [22400/50000 (45%)]\tLoss: 0.788131\n",
            "Wed Mar  4 18:05:49 2020 Train Epoch: 27 [25600/50000 (51%)]\tLoss: 0.889670\n",
            "Wed Mar  4 18:05:51 2020 Train Epoch: 27 [28800/50000 (58%)]\tLoss: 0.615031\n",
            "Wed Mar  4 18:05:52 2020 Train Epoch: 27 [32000/50000 (64%)]\tLoss: 1.540748\n",
            "Wed Mar  4 18:05:53 2020 Train Epoch: 27 [35200/50000 (70%)]\tLoss: 0.805969\n",
            "Wed Mar  4 18:05:54 2020 Train Epoch: 27 [38400/50000 (77%)]\tLoss: 0.679527\n",
            "Wed Mar  4 18:05:55 2020 Train Epoch: 27 [41600/50000 (83%)]\tLoss: 0.643301\n",
            "Wed Mar  4 18:05:56 2020 Train Epoch: 27 [44800/50000 (90%)]\tLoss: 0.739399\n",
            "Wed Mar  4 18:05:57 2020 Train Epoch: 27 [48000/50000 (96%)]\tLoss: 0.698300\n",
            "foo 0.8454550790790557\n",
            "\n",
            "Test set: Average loss: 0.8343, Accuracy: 7107/10000 (71%)\n",
            "\n",
            "Saved /gdrive/My Drive/CSE415/cifar10/checkpoints/cifar_027.pt\n",
            "\n",
            "hellp\n",
            "Wed Mar  4 18:06:00 2020 Train Epoch: 28 [0/50000 (0%)]\tLoss: 0.904202\n",
            "Wed Mar  4 18:06:01 2020 Train Epoch: 28 [3200/50000 (6%)]\tLoss: 0.506147\n",
            "Wed Mar  4 18:06:02 2020 Train Epoch: 28 [6400/50000 (13%)]\tLoss: 0.681739\n",
            "Wed Mar  4 18:06:03 2020 Train Epoch: 28 [9600/50000 (19%)]\tLoss: 0.689669\n",
            "Wed Mar  4 18:06:04 2020 Train Epoch: 28 [12800/50000 (26%)]\tLoss: 0.432137\n",
            "Wed Mar  4 18:06:06 2020 Train Epoch: 28 [16000/50000 (32%)]\tLoss: 0.643596\n",
            "Wed Mar  4 18:06:07 2020 Train Epoch: 28 [19200/50000 (38%)]\tLoss: 0.838379\n",
            "Wed Mar  4 18:06:08 2020 Train Epoch: 28 [22400/50000 (45%)]\tLoss: 1.210831\n",
            "Wed Mar  4 18:06:09 2020 Train Epoch: 28 [25600/50000 (51%)]\tLoss: 0.803409\n",
            "Wed Mar  4 18:06:10 2020 Train Epoch: 28 [28800/50000 (58%)]\tLoss: 1.165576\n",
            "Wed Mar  4 18:06:11 2020 Train Epoch: 28 [32000/50000 (64%)]\tLoss: 0.661861\n",
            "Wed Mar  4 18:06:12 2020 Train Epoch: 28 [35200/50000 (70%)]\tLoss: 0.940065\n",
            "Wed Mar  4 18:06:13 2020 Train Epoch: 28 [38400/50000 (77%)]\tLoss: 0.817955\n",
            "Wed Mar  4 18:06:15 2020 Train Epoch: 28 [41600/50000 (83%)]\tLoss: 0.728838\n",
            "Wed Mar  4 18:06:16 2020 Train Epoch: 28 [44800/50000 (90%)]\tLoss: 0.724970\n",
            "Wed Mar  4 18:06:17 2020 Train Epoch: 28 [48000/50000 (96%)]\tLoss: 0.470106\n",
            "foo 0.8358825004337235\n",
            "\n",
            "Test set: Average loss: 0.8298, Accuracy: 7128/10000 (71%)\n",
            "\n",
            "Saved /gdrive/My Drive/CSE415/cifar10/checkpoints/cifar_028.pt\n",
            "\n",
            "hellp\n",
            "Wed Mar  4 18:06:20 2020 Train Epoch: 29 [0/50000 (0%)]\tLoss: 0.816227\n",
            "Wed Mar  4 18:06:21 2020 Train Epoch: 29 [3200/50000 (6%)]\tLoss: 0.969396\n",
            "Wed Mar  4 18:06:22 2020 Train Epoch: 29 [6400/50000 (13%)]\tLoss: 0.886318\n",
            "Wed Mar  4 18:06:23 2020 Train Epoch: 29 [9600/50000 (19%)]\tLoss: 0.865298\n",
            "Wed Mar  4 18:06:24 2020 Train Epoch: 29 [12800/50000 (26%)]\tLoss: 0.705375\n",
            "Wed Mar  4 18:06:26 2020 Train Epoch: 29 [16000/50000 (32%)]\tLoss: 0.985492\n",
            "Wed Mar  4 18:06:27 2020 Train Epoch: 29 [19200/50000 (38%)]\tLoss: 1.015467\n",
            "Wed Mar  4 18:06:28 2020 Train Epoch: 29 [22400/50000 (45%)]\tLoss: 0.756314\n",
            "Wed Mar  4 18:06:29 2020 Train Epoch: 29 [25600/50000 (51%)]\tLoss: 1.110078\n",
            "Wed Mar  4 18:06:30 2020 Train Epoch: 29 [28800/50000 (58%)]\tLoss: 0.660497\n",
            "Wed Mar  4 18:06:31 2020 Train Epoch: 29 [32000/50000 (64%)]\tLoss: 0.654238\n",
            "Wed Mar  4 18:06:32 2020 Train Epoch: 29 [35200/50000 (70%)]\tLoss: 0.884074\n",
            "Wed Mar  4 18:06:33 2020 Train Epoch: 29 [38400/50000 (77%)]\tLoss: 0.731543\n",
            "Wed Mar  4 18:06:34 2020 Train Epoch: 29 [41600/50000 (83%)]\tLoss: 0.674798\n",
            "Wed Mar  4 18:06:36 2020 Train Epoch: 29 [44800/50000 (90%)]\tLoss: 0.621258\n",
            "Wed Mar  4 18:06:37 2020 Train Epoch: 29 [48000/50000 (96%)]\tLoss: 0.801091\n",
            "foo 0.831439505497462\n",
            "\n",
            "Test set: Average loss: 0.8521, Accuracy: 7021/10000 (70%)\n",
            "\n",
            "hellp\n",
            "Wed Mar  4 18:06:40 2020 Train Epoch: 30 [0/50000 (0%)]\tLoss: 0.800158\n",
            "Wed Mar  4 18:06:41 2020 Train Epoch: 30 [3200/50000 (6%)]\tLoss: 1.055166\n",
            "Wed Mar  4 18:06:42 2020 Train Epoch: 30 [6400/50000 (13%)]\tLoss: 0.858059\n",
            "Wed Mar  4 18:06:43 2020 Train Epoch: 30 [9600/50000 (19%)]\tLoss: 1.009214\n",
            "Wed Mar  4 18:06:44 2020 Train Epoch: 30 [12800/50000 (26%)]\tLoss: 0.839055\n",
            "Wed Mar  4 18:06:45 2020 Train Epoch: 30 [16000/50000 (32%)]\tLoss: 1.307413\n",
            "Wed Mar  4 18:06:46 2020 Train Epoch: 30 [19200/50000 (38%)]\tLoss: 0.916525\n",
            "Wed Mar  4 18:06:47 2020 Train Epoch: 30 [22400/50000 (45%)]\tLoss: 1.226860\n",
            "Wed Mar  4 18:06:49 2020 Train Epoch: 30 [25600/50000 (51%)]\tLoss: 0.559538\n",
            "Wed Mar  4 18:06:50 2020 Train Epoch: 30 [28800/50000 (58%)]\tLoss: 0.794370\n",
            "Wed Mar  4 18:06:51 2020 Train Epoch: 30 [32000/50000 (64%)]\tLoss: 0.671824\n",
            "Wed Mar  4 18:06:52 2020 Train Epoch: 30 [35200/50000 (70%)]\tLoss: 0.754201\n",
            "Wed Mar  4 18:06:53 2020 Train Epoch: 30 [38400/50000 (77%)]\tLoss: 0.992403\n",
            "Wed Mar  4 18:06:54 2020 Train Epoch: 30 [41600/50000 (83%)]\tLoss: 0.522799\n",
            "Wed Mar  4 18:06:55 2020 Train Epoch: 30 [44800/50000 (90%)]\tLoss: 0.774990\n",
            "Wed Mar  4 18:06:56 2020 Train Epoch: 30 [48000/50000 (96%)]\tLoss: 0.763728\n",
            "foo 0.8274320131376319\n",
            "\n",
            "Test set: Average loss: 0.8254, Accuracy: 7138/10000 (71%)\n",
            "\n",
            "Saved /gdrive/My Drive/CSE415/cifar10/checkpoints/cifar_030.pt\n",
            "\n",
            "hellp\n",
            "Wed Mar  4 18:06:59 2020 Train Epoch: 31 [0/50000 (0%)]\tLoss: 1.060394\n",
            "Wed Mar  4 18:07:00 2020 Train Epoch: 31 [3200/50000 (6%)]\tLoss: 0.728618\n",
            "Wed Mar  4 18:07:01 2020 Train Epoch: 31 [6400/50000 (13%)]\tLoss: 0.800958\n",
            "Wed Mar  4 18:07:03 2020 Train Epoch: 31 [9600/50000 (19%)]\tLoss: 1.068058\n",
            "Wed Mar  4 18:07:04 2020 Train Epoch: 31 [12800/50000 (26%)]\tLoss: 0.636582\n",
            "Wed Mar  4 18:07:05 2020 Train Epoch: 31 [16000/50000 (32%)]\tLoss: 0.776074\n",
            "Wed Mar  4 18:07:06 2020 Train Epoch: 31 [19200/50000 (38%)]\tLoss: 0.859863\n",
            "Wed Mar  4 18:07:07 2020 Train Epoch: 31 [22400/50000 (45%)]\tLoss: 0.758029\n",
            "Wed Mar  4 18:07:08 2020 Train Epoch: 31 [25600/50000 (51%)]\tLoss: 0.757094\n",
            "Wed Mar  4 18:07:09 2020 Train Epoch: 31 [28800/50000 (58%)]\tLoss: 0.648914\n",
            "Wed Mar  4 18:07:10 2020 Train Epoch: 31 [32000/50000 (64%)]\tLoss: 0.864147\n",
            "Wed Mar  4 18:07:11 2020 Train Epoch: 31 [35200/50000 (70%)]\tLoss: 0.726642\n",
            "Wed Mar  4 18:07:12 2020 Train Epoch: 31 [38400/50000 (77%)]\tLoss: 0.624594\n",
            "Wed Mar  4 18:07:14 2020 Train Epoch: 31 [41600/50000 (83%)]\tLoss: 0.653216\n",
            "Wed Mar  4 18:07:15 2020 Train Epoch: 31 [44800/50000 (90%)]\tLoss: 0.827370\n",
            "Wed Mar  4 18:07:16 2020 Train Epoch: 31 [48000/50000 (96%)]\tLoss: 0.857513\n",
            "foo 0.8198103010845124\n",
            "\n",
            "Test set: Average loss: 0.8120, Accuracy: 7188/10000 (72%)\n",
            "\n",
            "Saved /gdrive/My Drive/CSE415/cifar10/checkpoints/cifar_031.pt\n",
            "\n",
            "hellp\n",
            "Wed Mar  4 18:07:19 2020 Train Epoch: 32 [0/50000 (0%)]\tLoss: 0.826092\n",
            "Wed Mar  4 18:07:20 2020 Train Epoch: 32 [3200/50000 (6%)]\tLoss: 0.708189\n",
            "Wed Mar  4 18:07:21 2020 Train Epoch: 32 [6400/50000 (13%)]\tLoss: 0.810717\n",
            "Wed Mar  4 18:07:22 2020 Train Epoch: 32 [9600/50000 (19%)]\tLoss: 1.081635\n",
            "Wed Mar  4 18:07:23 2020 Train Epoch: 32 [12800/50000 (26%)]\tLoss: 0.670079\n",
            "Wed Mar  4 18:07:24 2020 Train Epoch: 32 [16000/50000 (32%)]\tLoss: 0.817976\n",
            "Wed Mar  4 18:07:26 2020 Train Epoch: 32 [19200/50000 (38%)]\tLoss: 0.611010\n",
            "Wed Mar  4 18:07:27 2020 Train Epoch: 32 [22400/50000 (45%)]\tLoss: 0.521019\n",
            "Wed Mar  4 18:07:28 2020 Train Epoch: 32 [25600/50000 (51%)]\tLoss: 0.493344\n",
            "Wed Mar  4 18:07:29 2020 Train Epoch: 32 [28800/50000 (58%)]\tLoss: 0.732098\n",
            "Wed Mar  4 18:07:30 2020 Train Epoch: 32 [32000/50000 (64%)]\tLoss: 0.885962\n",
            "Wed Mar  4 18:07:31 2020 Train Epoch: 32 [35200/50000 (70%)]\tLoss: 1.271605\n",
            "Wed Mar  4 18:07:32 2020 Train Epoch: 32 [38400/50000 (77%)]\tLoss: 0.610217\n",
            "Wed Mar  4 18:07:33 2020 Train Epoch: 32 [41600/50000 (83%)]\tLoss: 0.782212\n",
            "Wed Mar  4 18:07:34 2020 Train Epoch: 32 [44800/50000 (90%)]\tLoss: 0.836684\n",
            "Wed Mar  4 18:07:36 2020 Train Epoch: 32 [48000/50000 (96%)]\tLoss: 0.687762\n",
            "foo 0.8185791380879822\n",
            "\n",
            "Test set: Average loss: 0.8336, Accuracy: 7014/10000 (70%)\n",
            "\n",
            "hellp\n",
            "Wed Mar  4 18:07:39 2020 Train Epoch: 33 [0/50000 (0%)]\tLoss: 0.565566\n",
            "Wed Mar  4 18:07:40 2020 Train Epoch: 33 [3200/50000 (6%)]\tLoss: 0.385098\n",
            "Wed Mar  4 18:07:41 2020 Train Epoch: 33 [6400/50000 (13%)]\tLoss: 0.546912\n",
            "Wed Mar  4 18:07:42 2020 Train Epoch: 33 [9600/50000 (19%)]\tLoss: 0.609749\n",
            "Wed Mar  4 18:07:43 2020 Train Epoch: 33 [12800/50000 (26%)]\tLoss: 0.597888\n",
            "Wed Mar  4 18:07:44 2020 Train Epoch: 33 [16000/50000 (32%)]\tLoss: 0.749374\n",
            "Wed Mar  4 18:07:45 2020 Train Epoch: 33 [19200/50000 (38%)]\tLoss: 1.072374\n",
            "Wed Mar  4 18:07:46 2020 Train Epoch: 33 [22400/50000 (45%)]\tLoss: 1.129317\n",
            "Wed Mar  4 18:07:47 2020 Train Epoch: 33 [25600/50000 (51%)]\tLoss: 0.527371\n",
            "Wed Mar  4 18:07:48 2020 Train Epoch: 33 [28800/50000 (58%)]\tLoss: 0.915335\n",
            "Wed Mar  4 18:07:50 2020 Train Epoch: 33 [32000/50000 (64%)]\tLoss: 1.172712\n",
            "Wed Mar  4 18:07:51 2020 Train Epoch: 33 [35200/50000 (70%)]\tLoss: 0.886151\n",
            "Wed Mar  4 18:07:52 2020 Train Epoch: 33 [38400/50000 (77%)]\tLoss: 0.575209\n",
            "Wed Mar  4 18:07:53 2020 Train Epoch: 33 [41600/50000 (83%)]\tLoss: 0.661444\n",
            "Wed Mar  4 18:07:54 2020 Train Epoch: 33 [44800/50000 (90%)]\tLoss: 0.755241\n",
            "Wed Mar  4 18:07:55 2020 Train Epoch: 33 [48000/50000 (96%)]\tLoss: 0.598827\n",
            "foo 0.8141571730470627\n",
            "\n",
            "Test set: Average loss: 0.7988, Accuracy: 7247/10000 (72%)\n",
            "\n",
            "Saved /gdrive/My Drive/CSE415/cifar10/checkpoints/cifar_033.pt\n",
            "\n",
            "hellp\n",
            "Wed Mar  4 18:07:58 2020 Train Epoch: 34 [0/50000 (0%)]\tLoss: 1.025398\n",
            "Wed Mar  4 18:07:59 2020 Train Epoch: 34 [3200/50000 (6%)]\tLoss: 0.833032\n",
            "Wed Mar  4 18:08:00 2020 Train Epoch: 34 [6400/50000 (13%)]\tLoss: 0.829052\n",
            "Wed Mar  4 18:08:01 2020 Train Epoch: 34 [9600/50000 (19%)]\tLoss: 0.918527\n",
            "Wed Mar  4 18:08:02 2020 Train Epoch: 34 [12800/50000 (26%)]\tLoss: 0.849040\n",
            "Wed Mar  4 18:08:04 2020 Train Epoch: 34 [16000/50000 (32%)]\tLoss: 0.601554\n",
            "Wed Mar  4 18:08:05 2020 Train Epoch: 34 [19200/50000 (38%)]\tLoss: 0.696664\n",
            "Wed Mar  4 18:08:06 2020 Train Epoch: 34 [22400/50000 (45%)]\tLoss: 0.740301\n",
            "Wed Mar  4 18:08:07 2020 Train Epoch: 34 [25600/50000 (51%)]\tLoss: 0.890879\n",
            "Wed Mar  4 18:08:08 2020 Train Epoch: 34 [28800/50000 (58%)]\tLoss: 0.946204\n",
            "Wed Mar  4 18:08:09 2020 Train Epoch: 34 [32000/50000 (64%)]\tLoss: 0.498008\n",
            "Wed Mar  4 18:08:10 2020 Train Epoch: 34 [35200/50000 (70%)]\tLoss: 0.712750\n",
            "Wed Mar  4 18:08:11 2020 Train Epoch: 34 [38400/50000 (77%)]\tLoss: 0.668555\n",
            "Wed Mar  4 18:08:12 2020 Train Epoch: 34 [41600/50000 (83%)]\tLoss: 0.508181\n",
            "Wed Mar  4 18:08:13 2020 Train Epoch: 34 [44800/50000 (90%)]\tLoss: 0.827821\n",
            "Wed Mar  4 18:08:14 2020 Train Epoch: 34 [48000/50000 (96%)]\tLoss: 0.756703\n",
            "foo 0.8038796680101735\n",
            "\n",
            "Test set: Average loss: 0.8103, Accuracy: 7177/10000 (72%)\n",
            "\n",
            "hellp\n",
            "Wed Mar  4 18:08:17 2020 Train Epoch: 35 [0/50000 (0%)]\tLoss: 1.122577\n",
            "Wed Mar  4 18:08:18 2020 Train Epoch: 35 [3200/50000 (6%)]\tLoss: 0.707900\n",
            "Wed Mar  4 18:08:19 2020 Train Epoch: 35 [6400/50000 (13%)]\tLoss: 1.169234\n",
            "Wed Mar  4 18:08:21 2020 Train Epoch: 35 [9600/50000 (19%)]\tLoss: 0.810679\n",
            "Wed Mar  4 18:08:22 2020 Train Epoch: 35 [12800/50000 (26%)]\tLoss: 0.648660\n",
            "Wed Mar  4 18:08:23 2020 Train Epoch: 35 [16000/50000 (32%)]\tLoss: 0.732179\n",
            "Wed Mar  4 18:08:24 2020 Train Epoch: 35 [19200/50000 (38%)]\tLoss: 0.735531\n",
            "Wed Mar  4 18:08:25 2020 Train Epoch: 35 [22400/50000 (45%)]\tLoss: 1.093529\n",
            "Wed Mar  4 18:08:26 2020 Train Epoch: 35 [25600/50000 (51%)]\tLoss: 1.120115\n",
            "Wed Mar  4 18:08:27 2020 Train Epoch: 35 [28800/50000 (58%)]\tLoss: 0.961133\n",
            "Wed Mar  4 18:08:29 2020 Train Epoch: 35 [32000/50000 (64%)]\tLoss: 0.934665\n",
            "Wed Mar  4 18:08:30 2020 Train Epoch: 35 [35200/50000 (70%)]\tLoss: 0.816134\n",
            "Wed Mar  4 18:08:31 2020 Train Epoch: 35 [38400/50000 (77%)]\tLoss: 0.831864\n",
            "Wed Mar  4 18:08:32 2020 Train Epoch: 35 [41600/50000 (83%)]\tLoss: 0.988920\n",
            "Wed Mar  4 18:08:33 2020 Train Epoch: 35 [44800/50000 (90%)]\tLoss: 0.540773\n",
            "Wed Mar  4 18:08:34 2020 Train Epoch: 35 [48000/50000 (96%)]\tLoss: 0.603854\n",
            "foo 0.8001537867562556\n",
            "\n",
            "Test set: Average loss: 0.7920, Accuracy: 7290/10000 (73%)\n",
            "\n",
            "Saved /gdrive/My Drive/CSE415/cifar10/checkpoints/cifar_035.pt\n",
            "\n",
            "hellp\n",
            "Wed Mar  4 18:08:37 2020 Train Epoch: 36 [0/50000 (0%)]\tLoss: 0.675670\n",
            "Wed Mar  4 18:08:38 2020 Train Epoch: 36 [3200/50000 (6%)]\tLoss: 1.022476\n",
            "Wed Mar  4 18:08:40 2020 Train Epoch: 36 [6400/50000 (13%)]\tLoss: 0.506740\n",
            "Wed Mar  4 18:08:41 2020 Train Epoch: 36 [9600/50000 (19%)]\tLoss: 0.713568\n",
            "Wed Mar  4 18:08:42 2020 Train Epoch: 36 [12800/50000 (26%)]\tLoss: 1.046760\n",
            "Wed Mar  4 18:08:43 2020 Train Epoch: 36 [16000/50000 (32%)]\tLoss: 1.030652\n",
            "Wed Mar  4 18:08:44 2020 Train Epoch: 36 [19200/50000 (38%)]\tLoss: 0.897807\n",
            "Wed Mar  4 18:08:45 2020 Train Epoch: 36 [22400/50000 (45%)]\tLoss: 0.957276\n",
            "Wed Mar  4 18:08:46 2020 Train Epoch: 36 [25600/50000 (51%)]\tLoss: 0.792579\n",
            "Wed Mar  4 18:08:47 2020 Train Epoch: 36 [28800/50000 (58%)]\tLoss: 1.157885\n",
            "Wed Mar  4 18:08:48 2020 Train Epoch: 36 [32000/50000 (64%)]\tLoss: 0.734043\n",
            "Wed Mar  4 18:08:50 2020 Train Epoch: 36 [35200/50000 (70%)]\tLoss: 0.885496\n",
            "Wed Mar  4 18:08:51 2020 Train Epoch: 36 [38400/50000 (77%)]\tLoss: 0.828038\n",
            "Wed Mar  4 18:08:52 2020 Train Epoch: 36 [41600/50000 (83%)]\tLoss: 0.848373\n",
            "Wed Mar  4 18:08:53 2020 Train Epoch: 36 [44800/50000 (90%)]\tLoss: 0.698169\n",
            "Wed Mar  4 18:08:54 2020 Train Epoch: 36 [48000/50000 (96%)]\tLoss: 1.005523\n",
            "foo 0.7954539719942817\n",
            "\n",
            "Test set: Average loss: 0.7884, Accuracy: 7288/10000 (73%)\n",
            "\n",
            "hellp\n",
            "Wed Mar  4 18:08:57 2020 Train Epoch: 37 [0/50000 (0%)]\tLoss: 0.776428\n",
            "Wed Mar  4 18:08:58 2020 Train Epoch: 37 [3200/50000 (6%)]\tLoss: 0.964580\n",
            "Wed Mar  4 18:08:59 2020 Train Epoch: 37 [6400/50000 (13%)]\tLoss: 0.709112\n",
            "Wed Mar  4 18:09:00 2020 Train Epoch: 37 [9600/50000 (19%)]\tLoss: 0.929437\n",
            "Wed Mar  4 18:09:01 2020 Train Epoch: 37 [12800/50000 (26%)]\tLoss: 0.964136\n",
            "Wed Mar  4 18:09:03 2020 Train Epoch: 37 [16000/50000 (32%)]\tLoss: 0.841411\n",
            "Wed Mar  4 18:09:04 2020 Train Epoch: 37 [19200/50000 (38%)]\tLoss: 0.936218\n",
            "Wed Mar  4 18:09:05 2020 Train Epoch: 37 [22400/50000 (45%)]\tLoss: 0.777192\n",
            "Wed Mar  4 18:09:06 2020 Train Epoch: 37 [25600/50000 (51%)]\tLoss: 0.492652\n",
            "Wed Mar  4 18:09:07 2020 Train Epoch: 37 [28800/50000 (58%)]\tLoss: 0.951468\n",
            "Wed Mar  4 18:09:08 2020 Train Epoch: 37 [32000/50000 (64%)]\tLoss: 0.630841\n",
            "Wed Mar  4 18:09:09 2020 Train Epoch: 37 [35200/50000 (70%)]\tLoss: 0.836456\n",
            "Wed Mar  4 18:09:10 2020 Train Epoch: 37 [38400/50000 (77%)]\tLoss: 0.815145\n",
            "Wed Mar  4 18:09:11 2020 Train Epoch: 37 [41600/50000 (83%)]\tLoss: 0.611117\n",
            "Wed Mar  4 18:09:12 2020 Train Epoch: 37 [44800/50000 (90%)]\tLoss: 0.501961\n",
            "Wed Mar  4 18:09:14 2020 Train Epoch: 37 [48000/50000 (96%)]\tLoss: 0.640890\n",
            "foo 0.789558495913876\n",
            "\n",
            "Test set: Average loss: 0.8129, Accuracy: 7200/10000 (72%)\n",
            "\n",
            "hellp\n",
            "Wed Mar  4 18:09:16 2020 Train Epoch: 38 [0/50000 (0%)]\tLoss: 1.324571\n",
            "Wed Mar  4 18:09:17 2020 Train Epoch: 38 [3200/50000 (6%)]\tLoss: 0.877061\n",
            "Wed Mar  4 18:09:18 2020 Train Epoch: 38 [6400/50000 (13%)]\tLoss: 1.148785\n",
            "Wed Mar  4 18:09:20 2020 Train Epoch: 38 [9600/50000 (19%)]\tLoss: 0.870615\n",
            "Wed Mar  4 18:09:21 2020 Train Epoch: 38 [12800/50000 (26%)]\tLoss: 0.901755\n",
            "Wed Mar  4 18:09:22 2020 Train Epoch: 38 [16000/50000 (32%)]\tLoss: 0.589133\n",
            "Wed Mar  4 18:09:23 2020 Train Epoch: 38 [19200/50000 (38%)]\tLoss: 0.685993\n",
            "Wed Mar  4 18:09:24 2020 Train Epoch: 38 [22400/50000 (45%)]\tLoss: 0.492208\n",
            "Wed Mar  4 18:09:26 2020 Train Epoch: 38 [25600/50000 (51%)]\tLoss: 1.106214\n",
            "Wed Mar  4 18:09:27 2020 Train Epoch: 38 [28800/50000 (58%)]\tLoss: 1.346272\n",
            "Wed Mar  4 18:09:28 2020 Train Epoch: 38 [32000/50000 (64%)]\tLoss: 0.963632\n",
            "Wed Mar  4 18:09:29 2020 Train Epoch: 38 [35200/50000 (70%)]\tLoss: 1.072133\n",
            "Wed Mar  4 18:09:30 2020 Train Epoch: 38 [38400/50000 (77%)]\tLoss: 1.149443\n",
            "Wed Mar  4 18:09:31 2020 Train Epoch: 38 [41600/50000 (83%)]\tLoss: 0.751551\n",
            "Wed Mar  4 18:09:32 2020 Train Epoch: 38 [44800/50000 (90%)]\tLoss: 0.769875\n",
            "Wed Mar  4 18:09:33 2020 Train Epoch: 38 [48000/50000 (96%)]\tLoss: 1.126309\n",
            "foo 0.7851974830479479\n",
            "\n",
            "Test set: Average loss: 0.8170, Accuracy: 7194/10000 (72%)\n",
            "\n",
            "hellp\n",
            "Wed Mar  4 18:09:36 2020 Train Epoch: 39 [0/50000 (0%)]\tLoss: 0.817017\n",
            "Wed Mar  4 18:09:37 2020 Train Epoch: 39 [3200/50000 (6%)]\tLoss: 0.644679\n",
            "Wed Mar  4 18:09:39 2020 Train Epoch: 39 [6400/50000 (13%)]\tLoss: 0.933474\n",
            "Wed Mar  4 18:09:40 2020 Train Epoch: 39 [9600/50000 (19%)]\tLoss: 0.846052\n",
            "Wed Mar  4 18:09:41 2020 Train Epoch: 39 [12800/50000 (26%)]\tLoss: 0.965769\n",
            "Wed Mar  4 18:09:42 2020 Train Epoch: 39 [16000/50000 (32%)]\tLoss: 0.625556\n",
            "Wed Mar  4 18:09:43 2020 Train Epoch: 39 [19200/50000 (38%)]\tLoss: 0.794060\n",
            "Wed Mar  4 18:09:44 2020 Train Epoch: 39 [22400/50000 (45%)]\tLoss: 0.506033\n",
            "Wed Mar  4 18:09:45 2020 Train Epoch: 39 [25600/50000 (51%)]\tLoss: 0.697327\n",
            "Wed Mar  4 18:09:46 2020 Train Epoch: 39 [28800/50000 (58%)]\tLoss: 0.595638\n",
            "Wed Mar  4 18:09:47 2020 Train Epoch: 39 [32000/50000 (64%)]\tLoss: 0.461650\n",
            "Wed Mar  4 18:09:48 2020 Train Epoch: 39 [35200/50000 (70%)]\tLoss: 1.191726\n",
            "Wed Mar  4 18:09:50 2020 Train Epoch: 39 [38400/50000 (77%)]\tLoss: 0.659746\n",
            "Wed Mar  4 18:09:51 2020 Train Epoch: 39 [41600/50000 (83%)]\tLoss: 1.287613\n",
            "Wed Mar  4 18:09:52 2020 Train Epoch: 39 [44800/50000 (90%)]\tLoss: 0.518469\n",
            "Wed Mar  4 18:09:53 2020 Train Epoch: 39 [48000/50000 (96%)]\tLoss: 0.544947\n",
            "foo 0.7848600467770662\n",
            "\n",
            "Test set: Average loss: 0.7609, Accuracy: 7339/10000 (73%)\n",
            "\n",
            "Saved /gdrive/My Drive/CSE415/cifar10/checkpoints/cifar_039.pt\n",
            "\n",
            "hellp\n",
            "Wed Mar  4 18:09:56 2020 Train Epoch: 40 [0/50000 (0%)]\tLoss: 0.792136\n",
            "Wed Mar  4 18:09:57 2020 Train Epoch: 40 [3200/50000 (6%)]\tLoss: 0.958567\n",
            "Wed Mar  4 18:09:58 2020 Train Epoch: 40 [6400/50000 (13%)]\tLoss: 0.806841\n",
            "Wed Mar  4 18:09:59 2020 Train Epoch: 40 [9600/50000 (19%)]\tLoss: 0.698643\n",
            "Wed Mar  4 18:10:00 2020 Train Epoch: 40 [12800/50000 (26%)]\tLoss: 1.159236\n",
            "Wed Mar  4 18:10:01 2020 Train Epoch: 40 [16000/50000 (32%)]\tLoss: 0.740805\n",
            "Wed Mar  4 18:10:02 2020 Train Epoch: 40 [19200/50000 (38%)]\tLoss: 0.671740\n",
            "Wed Mar  4 18:10:03 2020 Train Epoch: 40 [22400/50000 (45%)]\tLoss: 0.543690\n",
            "Wed Mar  4 18:10:04 2020 Train Epoch: 40 [25600/50000 (51%)]\tLoss: 0.539627\n",
            "Wed Mar  4 18:10:06 2020 Train Epoch: 40 [28800/50000 (58%)]\tLoss: 0.625988\n",
            "Wed Mar  4 18:10:07 2020 Train Epoch: 40 [32000/50000 (64%)]\tLoss: 1.046879\n",
            "Wed Mar  4 18:10:08 2020 Train Epoch: 40 [35200/50000 (70%)]\tLoss: 0.939176\n",
            "Wed Mar  4 18:10:09 2020 Train Epoch: 40 [38400/50000 (77%)]\tLoss: 0.729106\n",
            "Wed Mar  4 18:10:10 2020 Train Epoch: 40 [41600/50000 (83%)]\tLoss: 0.974959\n",
            "Wed Mar  4 18:10:11 2020 Train Epoch: 40 [44800/50000 (90%)]\tLoss: 0.987488\n",
            "Wed Mar  4 18:10:12 2020 Train Epoch: 40 [48000/50000 (96%)]\tLoss: 0.748571\n",
            "foo 0.7752527918521213\n",
            "\n",
            "Test set: Average loss: 0.7789, Accuracy: 7278/10000 (73%)\n",
            "\n",
            "hellp\n",
            "Wed Mar  4 18:10:15 2020 Train Epoch: 41 [0/50000 (0%)]\tLoss: 0.665518\n",
            "Wed Mar  4 18:10:16 2020 Train Epoch: 41 [3200/50000 (6%)]\tLoss: 0.799881\n",
            "Wed Mar  4 18:10:17 2020 Train Epoch: 41 [6400/50000 (13%)]\tLoss: 0.679831\n",
            "Wed Mar  4 18:10:18 2020 Train Epoch: 41 [9600/50000 (19%)]\tLoss: 0.740698\n",
            "Wed Mar  4 18:10:20 2020 Train Epoch: 41 [12800/50000 (26%)]\tLoss: 0.695262\n",
            "Wed Mar  4 18:10:21 2020 Train Epoch: 41 [16000/50000 (32%)]\tLoss: 0.740168\n",
            "Wed Mar  4 18:10:22 2020 Train Epoch: 41 [19200/50000 (38%)]\tLoss: 0.593071\n",
            "Wed Mar  4 18:10:23 2020 Train Epoch: 41 [22400/50000 (45%)]\tLoss: 1.119655\n",
            "Wed Mar  4 18:10:24 2020 Train Epoch: 41 [25600/50000 (51%)]\tLoss: 0.487816\n",
            "Wed Mar  4 18:10:26 2020 Train Epoch: 41 [28800/50000 (58%)]\tLoss: 0.843788\n",
            "Wed Mar  4 18:10:27 2020 Train Epoch: 41 [32000/50000 (64%)]\tLoss: 1.019279\n",
            "Wed Mar  4 18:10:28 2020 Train Epoch: 41 [35200/50000 (70%)]\tLoss: 1.175857\n",
            "Wed Mar  4 18:10:29 2020 Train Epoch: 41 [38400/50000 (77%)]\tLoss: 0.589833\n",
            "Wed Mar  4 18:10:30 2020 Train Epoch: 41 [41600/50000 (83%)]\tLoss: 0.737912\n",
            "Wed Mar  4 18:10:31 2020 Train Epoch: 41 [44800/50000 (90%)]\tLoss: 0.910142\n",
            "Wed Mar  4 18:10:32 2020 Train Epoch: 41 [48000/50000 (96%)]\tLoss: 0.583096\n",
            "foo 0.7745803135446608\n",
            "\n",
            "Test set: Average loss: 0.8043, Accuracy: 7238/10000 (72%)\n",
            "\n",
            "hellp\n",
            "Wed Mar  4 18:10:35 2020 Train Epoch: 42 [0/50000 (0%)]\tLoss: 0.486301\n",
            "Wed Mar  4 18:10:36 2020 Train Epoch: 42 [3200/50000 (6%)]\tLoss: 0.809285\n",
            "Wed Mar  4 18:10:37 2020 Train Epoch: 42 [6400/50000 (13%)]\tLoss: 0.768125\n",
            "Wed Mar  4 18:10:39 2020 Train Epoch: 42 [9600/50000 (19%)]\tLoss: 0.835382\n",
            "Wed Mar  4 18:10:40 2020 Train Epoch: 42 [12800/50000 (26%)]\tLoss: 0.665589\n",
            "Wed Mar  4 18:10:41 2020 Train Epoch: 42 [16000/50000 (32%)]\tLoss: 0.861550\n",
            "Wed Mar  4 18:10:42 2020 Train Epoch: 42 [19200/50000 (38%)]\tLoss: 0.700036\n",
            "Wed Mar  4 18:10:43 2020 Train Epoch: 42 [22400/50000 (45%)]\tLoss: 0.927607\n",
            "Wed Mar  4 18:10:44 2020 Train Epoch: 42 [25600/50000 (51%)]\tLoss: 0.873816\n",
            "Wed Mar  4 18:10:46 2020 Train Epoch: 42 [28800/50000 (58%)]\tLoss: 0.819112\n",
            "Wed Mar  4 18:10:47 2020 Train Epoch: 42 [32000/50000 (64%)]\tLoss: 1.203612\n",
            "Wed Mar  4 18:10:48 2020 Train Epoch: 42 [35200/50000 (70%)]\tLoss: 0.983789\n",
            "Wed Mar  4 18:10:49 2020 Train Epoch: 42 [38400/50000 (77%)]\tLoss: 0.604134\n",
            "Wed Mar  4 18:10:50 2020 Train Epoch: 42 [41600/50000 (83%)]\tLoss: 0.970899\n",
            "Wed Mar  4 18:10:52 2020 Train Epoch: 42 [44800/50000 (90%)]\tLoss: 0.784464\n",
            "Wed Mar  4 18:10:53 2020 Train Epoch: 42 [48000/50000 (96%)]\tLoss: 0.846011\n",
            "foo 0.7698389865119566\n",
            "\n",
            "Test set: Average loss: 0.8041, Accuracy: 7264/10000 (73%)\n",
            "\n",
            "hellp\n",
            "Wed Mar  4 18:10:56 2020 Train Epoch: 43 [0/50000 (0%)]\tLoss: 0.683635\n",
            "Wed Mar  4 18:10:57 2020 Train Epoch: 43 [3200/50000 (6%)]\tLoss: 0.731828\n",
            "Wed Mar  4 18:10:58 2020 Train Epoch: 43 [6400/50000 (13%)]\tLoss: 0.602691\n",
            "Wed Mar  4 18:10:59 2020 Train Epoch: 43 [9600/50000 (19%)]\tLoss: 0.618143\n",
            "Wed Mar  4 18:11:00 2020 Train Epoch: 43 [12800/50000 (26%)]\tLoss: 1.237615\n",
            "Wed Mar  4 18:11:01 2020 Train Epoch: 43 [16000/50000 (32%)]\tLoss: 0.969883\n",
            "Wed Mar  4 18:11:02 2020 Train Epoch: 43 [19200/50000 (38%)]\tLoss: 0.608797\n",
            "Wed Mar  4 18:11:03 2020 Train Epoch: 43 [22400/50000 (45%)]\tLoss: 0.751317\n",
            "Wed Mar  4 18:11:05 2020 Train Epoch: 43 [25600/50000 (51%)]\tLoss: 1.153085\n",
            "Wed Mar  4 18:11:06 2020 Train Epoch: 43 [28800/50000 (58%)]\tLoss: 0.914212\n",
            "Wed Mar  4 18:11:07 2020 Train Epoch: 43 [32000/50000 (64%)]\tLoss: 0.800512\n",
            "Wed Mar  4 18:11:08 2020 Train Epoch: 43 [35200/50000 (70%)]\tLoss: 0.393879\n",
            "Wed Mar  4 18:11:09 2020 Train Epoch: 43 [38400/50000 (77%)]\tLoss: 0.958386\n",
            "Wed Mar  4 18:11:10 2020 Train Epoch: 43 [41600/50000 (83%)]\tLoss: 0.522999\n",
            "Wed Mar  4 18:11:11 2020 Train Epoch: 43 [44800/50000 (90%)]\tLoss: 0.687810\n",
            "Wed Mar  4 18:11:12 2020 Train Epoch: 43 [48000/50000 (96%)]\tLoss: 0.909003\n",
            "foo 0.766332173377981\n",
            "\n",
            "Test set: Average loss: 0.7874, Accuracy: 7243/10000 (72%)\n",
            "\n",
            "hellp\n",
            "Wed Mar  4 18:11:15 2020 Train Epoch: 44 [0/50000 (0%)]\tLoss: 0.636349\n",
            "Wed Mar  4 18:11:16 2020 Train Epoch: 44 [3200/50000 (6%)]\tLoss: 0.555277\n",
            "Wed Mar  4 18:11:17 2020 Train Epoch: 44 [6400/50000 (13%)]\tLoss: 0.844990\n",
            "Wed Mar  4 18:11:18 2020 Train Epoch: 44 [9600/50000 (19%)]\tLoss: 0.738133\n",
            "Wed Mar  4 18:11:19 2020 Train Epoch: 44 [12800/50000 (26%)]\tLoss: 0.617005\n",
            "Wed Mar  4 18:11:20 2020 Train Epoch: 44 [16000/50000 (32%)]\tLoss: 0.812453\n",
            "Wed Mar  4 18:11:22 2020 Train Epoch: 44 [19200/50000 (38%)]\tLoss: 1.074583\n",
            "Wed Mar  4 18:11:23 2020 Train Epoch: 44 [22400/50000 (45%)]\tLoss: 0.741865\n",
            "Wed Mar  4 18:11:24 2020 Train Epoch: 44 [25600/50000 (51%)]\tLoss: 1.190939\n",
            "Wed Mar  4 18:11:25 2020 Train Epoch: 44 [28800/50000 (58%)]\tLoss: 0.658858\n",
            "Wed Mar  4 18:11:27 2020 Train Epoch: 44 [32000/50000 (64%)]\tLoss: 0.818218\n",
            "Wed Mar  4 18:11:28 2020 Train Epoch: 44 [35200/50000 (70%)]\tLoss: 0.494528\n",
            "Wed Mar  4 18:11:29 2020 Train Epoch: 44 [38400/50000 (77%)]\tLoss: 0.450063\n",
            "Wed Mar  4 18:11:30 2020 Train Epoch: 44 [41600/50000 (83%)]\tLoss: 0.696517\n",
            "Wed Mar  4 18:11:31 2020 Train Epoch: 44 [44800/50000 (90%)]\tLoss: 0.964901\n",
            "Wed Mar  4 18:11:32 2020 Train Epoch: 44 [48000/50000 (96%)]\tLoss: 0.707248\n",
            "foo 0.7592153860564729\n",
            "\n",
            "Test set: Average loss: 0.7886, Accuracy: 7300/10000 (73%)\n",
            "\n",
            "hellp\n",
            "Wed Mar  4 18:11:35 2020 Train Epoch: 45 [0/50000 (0%)]\tLoss: 0.537066\n",
            "Wed Mar  4 18:11:36 2020 Train Epoch: 45 [3200/50000 (6%)]\tLoss: 0.926333\n",
            "Wed Mar  4 18:11:38 2020 Train Epoch: 45 [6400/50000 (13%)]\tLoss: 0.631638\n",
            "Wed Mar  4 18:11:39 2020 Train Epoch: 45 [9600/50000 (19%)]\tLoss: 0.933099\n",
            "Wed Mar  4 18:11:40 2020 Train Epoch: 45 [12800/50000 (26%)]\tLoss: 0.628787\n",
            "Wed Mar  4 18:11:41 2020 Train Epoch: 45 [16000/50000 (32%)]\tLoss: 0.526683\n",
            "Wed Mar  4 18:11:42 2020 Train Epoch: 45 [19200/50000 (38%)]\tLoss: 0.581575\n",
            "Wed Mar  4 18:11:43 2020 Train Epoch: 45 [22400/50000 (45%)]\tLoss: 0.806533\n",
            "Wed Mar  4 18:11:44 2020 Train Epoch: 45 [25600/50000 (51%)]\tLoss: 0.942456\n",
            "Wed Mar  4 18:11:45 2020 Train Epoch: 45 [28800/50000 (58%)]\tLoss: 0.505236\n",
            "Wed Mar  4 18:11:46 2020 Train Epoch: 45 [32000/50000 (64%)]\tLoss: 0.625380\n",
            "Wed Mar  4 18:11:47 2020 Train Epoch: 45 [35200/50000 (70%)]\tLoss: 0.822542\n",
            "Wed Mar  4 18:11:49 2020 Train Epoch: 45 [38400/50000 (77%)]\tLoss: 0.744612\n",
            "Wed Mar  4 18:11:50 2020 Train Epoch: 45 [41600/50000 (83%)]\tLoss: 1.039211\n",
            "Wed Mar  4 18:11:51 2020 Train Epoch: 45 [44800/50000 (90%)]\tLoss: 0.701051\n",
            "Wed Mar  4 18:11:52 2020 Train Epoch: 45 [48000/50000 (96%)]\tLoss: 0.669551\n",
            "foo 0.7546583945295098\n",
            "\n",
            "Test set: Average loss: 0.7814, Accuracy: 7336/10000 (73%)\n",
            "\n",
            "hellp\n",
            "Wed Mar  4 18:11:55 2020 Train Epoch: 46 [0/50000 (0%)]\tLoss: 0.556723\n",
            "Wed Mar  4 18:11:56 2020 Train Epoch: 46 [3200/50000 (6%)]\tLoss: 0.824441\n",
            "Wed Mar  4 18:11:57 2020 Train Epoch: 46 [6400/50000 (13%)]\tLoss: 0.623919\n",
            "Wed Mar  4 18:11:58 2020 Train Epoch: 46 [9600/50000 (19%)]\tLoss: 0.775794\n",
            "Wed Mar  4 18:11:59 2020 Train Epoch: 46 [12800/50000 (26%)]\tLoss: 0.729713\n",
            "Wed Mar  4 18:12:00 2020 Train Epoch: 46 [16000/50000 (32%)]\tLoss: 0.713448\n",
            "Wed Mar  4 18:12:02 2020 Train Epoch: 46 [19200/50000 (38%)]\tLoss: 0.729768\n",
            "Wed Mar  4 18:12:03 2020 Train Epoch: 46 [22400/50000 (45%)]\tLoss: 0.780720\n",
            "Wed Mar  4 18:12:04 2020 Train Epoch: 46 [25600/50000 (51%)]\tLoss: 0.865382\n",
            "Wed Mar  4 18:12:05 2020 Train Epoch: 46 [28800/50000 (58%)]\tLoss: 0.829470\n",
            "Wed Mar  4 18:12:06 2020 Train Epoch: 46 [32000/50000 (64%)]\tLoss: 0.893459\n",
            "Wed Mar  4 18:12:07 2020 Train Epoch: 46 [35200/50000 (70%)]\tLoss: 0.726839\n",
            "Wed Mar  4 18:12:08 2020 Train Epoch: 46 [38400/50000 (77%)]\tLoss: 0.653427\n",
            "Wed Mar  4 18:12:09 2020 Train Epoch: 46 [41600/50000 (83%)]\tLoss: 0.810043\n",
            "Wed Mar  4 18:12:10 2020 Train Epoch: 46 [44800/50000 (90%)]\tLoss: 0.625977\n",
            "Wed Mar  4 18:12:11 2020 Train Epoch: 46 [48000/50000 (96%)]\tLoss: 0.519205\n",
            "foo 0.7548262005003309\n",
            "\n",
            "Test set: Average loss: 0.7824, Accuracy: 7302/10000 (73%)\n",
            "\n",
            "hellp\n",
            "Wed Mar  4 18:12:14 2020 Train Epoch: 47 [0/50000 (0%)]\tLoss: 0.775476\n",
            "Wed Mar  4 18:12:15 2020 Train Epoch: 47 [3200/50000 (6%)]\tLoss: 0.548274\n",
            "Wed Mar  4 18:12:16 2020 Train Epoch: 47 [6400/50000 (13%)]\tLoss: 0.667342\n",
            "Wed Mar  4 18:12:17 2020 Train Epoch: 47 [9600/50000 (19%)]\tLoss: 0.880565\n",
            "Wed Mar  4 18:12:18 2020 Train Epoch: 47 [12800/50000 (26%)]\tLoss: 0.745631\n",
            "Wed Mar  4 18:12:19 2020 Train Epoch: 47 [16000/50000 (32%)]\tLoss: 0.726434\n",
            "Wed Mar  4 18:12:20 2020 Train Epoch: 47 [19200/50000 (38%)]\tLoss: 0.806384\n",
            "Wed Mar  4 18:12:22 2020 Train Epoch: 47 [22400/50000 (45%)]\tLoss: 0.454496\n",
            "Wed Mar  4 18:12:23 2020 Train Epoch: 47 [25600/50000 (51%)]\tLoss: 0.545840\n",
            "Wed Mar  4 18:12:24 2020 Train Epoch: 47 [28800/50000 (58%)]\tLoss: 1.065052\n",
            "Wed Mar  4 18:12:25 2020 Train Epoch: 47 [32000/50000 (64%)]\tLoss: 0.829252\n",
            "Wed Mar  4 18:12:26 2020 Train Epoch: 47 [35200/50000 (70%)]\tLoss: 0.708628\n",
            "Wed Mar  4 18:12:27 2020 Train Epoch: 47 [38400/50000 (77%)]\tLoss: 0.908118\n",
            "Wed Mar  4 18:12:29 2020 Train Epoch: 47 [41600/50000 (83%)]\tLoss: 0.844656\n",
            "Wed Mar  4 18:12:30 2020 Train Epoch: 47 [44800/50000 (90%)]\tLoss: 0.933066\n",
            "Wed Mar  4 18:12:31 2020 Train Epoch: 47 [48000/50000 (96%)]\tLoss: 1.131368\n",
            "foo 0.7488428221363634\n",
            "\n",
            "Test set: Average loss: 0.7683, Accuracy: 7331/10000 (73%)\n",
            "\n",
            "hellp\n",
            "Wed Mar  4 18:12:34 2020 Train Epoch: 48 [0/50000 (0%)]\tLoss: 0.676629\n",
            "Wed Mar  4 18:12:35 2020 Train Epoch: 48 [3200/50000 (6%)]\tLoss: 0.736302\n",
            "Wed Mar  4 18:12:36 2020 Train Epoch: 48 [6400/50000 (13%)]\tLoss: 0.874283\n",
            "Wed Mar  4 18:12:37 2020 Train Epoch: 48 [9600/50000 (19%)]\tLoss: 0.888695\n",
            "Wed Mar  4 18:12:38 2020 Train Epoch: 48 [12800/50000 (26%)]\tLoss: 0.793367\n",
            "Wed Mar  4 18:12:39 2020 Train Epoch: 48 [16000/50000 (32%)]\tLoss: 0.731489\n",
            "Wed Mar  4 18:12:40 2020 Train Epoch: 48 [19200/50000 (38%)]\tLoss: 0.674220\n",
            "Wed Mar  4 18:12:41 2020 Train Epoch: 48 [22400/50000 (45%)]\tLoss: 0.473088\n",
            "Wed Mar  4 18:12:43 2020 Train Epoch: 48 [25600/50000 (51%)]\tLoss: 0.574347\n",
            "Wed Mar  4 18:12:44 2020 Train Epoch: 48 [28800/50000 (58%)]\tLoss: 0.633799\n",
            "Wed Mar  4 18:12:45 2020 Train Epoch: 48 [32000/50000 (64%)]\tLoss: 0.474828\n",
            "Wed Mar  4 18:12:46 2020 Train Epoch: 48 [35200/50000 (70%)]\tLoss: 0.746964\n",
            "Wed Mar  4 18:12:47 2020 Train Epoch: 48 [38400/50000 (77%)]\tLoss: 0.793603\n",
            "Wed Mar  4 18:12:48 2020 Train Epoch: 48 [41600/50000 (83%)]\tLoss: 0.708202\n",
            "Wed Mar  4 18:12:49 2020 Train Epoch: 48 [44800/50000 (90%)]\tLoss: 0.593437\n",
            "Wed Mar  4 18:12:50 2020 Train Epoch: 48 [48000/50000 (96%)]\tLoss: 0.959413\n",
            "foo 0.7470491077948745\n",
            "\n",
            "Test set: Average loss: 0.7673, Accuracy: 7335/10000 (73%)\n",
            "\n",
            "hellp\n",
            "Wed Mar  4 18:12:53 2020 Train Epoch: 49 [0/50000 (0%)]\tLoss: 0.969204\n",
            "Wed Mar  4 18:12:54 2020 Train Epoch: 49 [3200/50000 (6%)]\tLoss: 0.669355\n",
            "Wed Mar  4 18:12:55 2020 Train Epoch: 49 [6400/50000 (13%)]\tLoss: 0.829385\n",
            "Wed Mar  4 18:12:57 2020 Train Epoch: 49 [9600/50000 (19%)]\tLoss: 0.930138\n",
            "Wed Mar  4 18:12:58 2020 Train Epoch: 49 [12800/50000 (26%)]\tLoss: 1.060103\n",
            "Wed Mar  4 18:12:59 2020 Train Epoch: 49 [16000/50000 (32%)]\tLoss: 0.703790\n",
            "Wed Mar  4 18:13:00 2020 Train Epoch: 49 [19200/50000 (38%)]\tLoss: 0.790809\n",
            "Wed Mar  4 18:13:01 2020 Train Epoch: 49 [22400/50000 (45%)]\tLoss: 0.801952\n",
            "Wed Mar  4 18:13:02 2020 Train Epoch: 49 [25600/50000 (51%)]\tLoss: 0.576822\n",
            "Wed Mar  4 18:13:03 2020 Train Epoch: 49 [28800/50000 (58%)]\tLoss: 0.821598\n",
            "Wed Mar  4 18:13:04 2020 Train Epoch: 49 [32000/50000 (64%)]\tLoss: 0.834342\n",
            "Wed Mar  4 18:13:05 2020 Train Epoch: 49 [35200/50000 (70%)]\tLoss: 0.817269\n",
            "Wed Mar  4 18:13:06 2020 Train Epoch: 49 [38400/50000 (77%)]\tLoss: 0.820970\n",
            "Wed Mar  4 18:13:07 2020 Train Epoch: 49 [41600/50000 (83%)]\tLoss: 0.772177\n",
            "Wed Mar  4 18:13:09 2020 Train Epoch: 49 [44800/50000 (90%)]\tLoss: 0.548338\n",
            "Wed Mar  4 18:13:10 2020 Train Epoch: 49 [48000/50000 (96%)]\tLoss: 0.827919\n",
            "foo 0.7385499234658667\n",
            "\n",
            "Test set: Average loss: 0.7626, Accuracy: 7346/10000 (73%)\n",
            "\n",
            "Saved /gdrive/My Drive/CSE415/cifar10/checkpoints/cifar_049.pt\n",
            "\n",
            "hellp\n",
            "Wed Mar  4 18:13:12 2020 Train Epoch: 50 [0/50000 (0%)]\tLoss: 0.604182\n",
            "Wed Mar  4 18:13:13 2020 Train Epoch: 50 [3200/50000 (6%)]\tLoss: 0.488223\n",
            "Wed Mar  4 18:13:15 2020 Train Epoch: 50 [6400/50000 (13%)]\tLoss: 0.610303\n",
            "Wed Mar  4 18:13:16 2020 Train Epoch: 50 [9600/50000 (19%)]\tLoss: 0.599614\n",
            "Wed Mar  4 18:13:17 2020 Train Epoch: 50 [12800/50000 (26%)]\tLoss: 0.709194\n",
            "Wed Mar  4 18:13:18 2020 Train Epoch: 50 [16000/50000 (32%)]\tLoss: 0.766531\n",
            "Wed Mar  4 18:13:19 2020 Train Epoch: 50 [19200/50000 (38%)]\tLoss: 0.523962\n",
            "Wed Mar  4 18:13:20 2020 Train Epoch: 50 [22400/50000 (45%)]\tLoss: 0.533941\n",
            "Wed Mar  4 18:13:21 2020 Train Epoch: 50 [25600/50000 (51%)]\tLoss: 0.961227\n",
            "Wed Mar  4 18:13:22 2020 Train Epoch: 50 [28800/50000 (58%)]\tLoss: 0.567935\n",
            "Wed Mar  4 18:13:24 2020 Train Epoch: 50 [32000/50000 (64%)]\tLoss: 0.899958\n",
            "Wed Mar  4 18:13:25 2020 Train Epoch: 50 [35200/50000 (70%)]\tLoss: 0.459510\n",
            "Wed Mar  4 18:13:26 2020 Train Epoch: 50 [38400/50000 (77%)]\tLoss: 0.681921\n",
            "Wed Mar  4 18:13:27 2020 Train Epoch: 50 [41600/50000 (83%)]\tLoss: 0.540614\n",
            "Wed Mar  4 18:13:28 2020 Train Epoch: 50 [44800/50000 (90%)]\tLoss: 0.741429\n",
            "Wed Mar  4 18:13:29 2020 Train Epoch: 50 [48000/50000 (96%)]\tLoss: 0.831606\n",
            "foo 0.7386498700062282\n",
            "\n",
            "Test set: Average loss: 0.7654, Accuracy: 7360/10000 (74%)\n",
            "\n",
            "Saved /gdrive/My Drive/CSE415/cifar10/checkpoints/cifar_050.pt\n",
            "\n",
            "Saved /gdrive/My Drive/CSE415/cifar10/checkpoints/cifar_050.pt\n",
            "\n"
          ],
          "name": "stdout"
        },
        {
          "output_type": "display_data",
          "data": {
            "image/png": "[encoded data removed]",
            "text/plain": [
              "<Figure size 1440x720 with 1 Axes>"
            ]
          },
          "metadata": {
            "tags": []
          }
        },
        {
          "output_type": "display_data",
          "data": {
            "image/png": "[encoded data removed]",
            "text/plain": [
              "<Figure size 1440x720 with 1 Axes>"
            ]
          },
          "metadata": {
            "tags": []
          }
        },
        {
          "output_type": "display_data",
          "data": {
            "image/png": "[encoded data removed]",
            "text/plain": [
              "<Figure size 1440x720 with 1 Axes>"
            ]
          },
          "metadata": {
            "tags": []
          }
        }
      ]
    },
    {
      "cell_type": "markdown",
      "metadata": {
        "id": "LDxG8IaHX8gm",
        "colab_type": "text"
      },
      "source": [
        "# 1.4 Attempt to use your own test data\n",
        "\n",
        "Download 5 images for each of the 4 classes given below. Choose the images randomly from Google, but make sure they look somewhat similar to the training data of CIFAR-10 in terms of content. For example, full body image of a dog with minimal background is recommended. Edit the text below to write down the links of the images (**NOTE**: The TAs will be evaluating YOUR network weights with YOUR chosen images, so do not collaborate with others regarding image choices.)\n",
        "\n",
        "Plane:\n",
        "\n",
        "- https://www.telegraph.co.uk/content/dam/Travel/2018/January/white-plane-sky.jpg?imwidth=450\n",
        "- https://www.traveller.com.au/content/dam/images/h/1/9/m/g/3/image.related.articleLeadwide.620x349.h1aa81.png/1548048327915.jpg\n",
        "- https://e3.365dm.com/19/10/2048x1152/skynews-plane-anonymous_4804134.jpg\n",
        "- https://static.independent.co.uk/s3fs-public/thumbnails/image/2017/03/23/17/electricplane.jpg?w968h681\n",
        "- https://a57.foxnews.com/static.foxnews.com/foxnews.com/content/uploads/2019/12/931/524/DeltaFlightIstockBoeing767.jpg?ve=1&tl=1\n",
        "\n",
        "Car:\n",
        "\n",
        "- https://www.extremetech.com/wp-content/uploads/2019/12/SONATA-hero-option1-764A5360-edit-640x354.jpg\n",
        "- https://media.wired.com/photos/5d09594a62bcb0c9752779d9/master/pass/Transpo_G70_TA-518126.jpg\n",
        "- https://article.images.consumerreports.org/f_auto/prod/content/dam/CRO%20Images%202018/Cars/November/CR-Cars-InlineHero-2019-Honda-Insight-driving-trees-11-18\n",
        "- https://cdn0.tnwcdn.com/wp-content/blogs.dir/1/files/2020/01/sony-car-796x418.jpg\n",
        "- https://cdn0.tnwcdn.com/wp-content/blogs.dir/1/files/2020/01/sony-car-796x418.jpg\n",
        "\n",
        "Dog:\n",
        "\n",
        "- https://d17fnq9dkz9hgj.cloudfront.net/breed-uploads/2018/09/dog-landing-hero-lg.jpg?bust=1536935129&width=1080\n",
        "- https://www.thesprucepets.com/thmb/8TWtyJq0RXAlWoJKu62mm4dlYdI=/960x0/filters:no_upscale():max_bytes(150000):strip_icc()/portrait-if-a-spitz-pomeranian_t20_v3o29E-5ae9bbdca18d9e0037d95983.jpg\n",
        "- https://www.guidedogs.org/wp-content/uploads/2019/11/website-donate-mobile.jpg\n",
        "- https://encrypted-tbn0.gstatic.com/images?q=tbn%3AANd9GcQBPYq3TKOgt6Ffw_fLT4cHlXdufByru9_u_z3aKlC_JLsj3-Xb\n",
        "- https://cdn.newzealandnow.govt.nz/files/images/resources/Dog.jpg\n",
        "\n",
        "Horse:\n",
        "\n",
        "- https://www.thesprucepets.com/thmb/KYaXBSM013GnZ2jEZJnX4a9oIsU=/3865x2174/smart/filters:no_upscale()/horse-galloping-in-grass-688899769-587673275f9b584db3a44cdf.jpg\n",
        "- https://a57.foxnews.com/static.foxnews.com/foxnews.com/content/uploads/2019/12/931/524/horse.jpg?ve=1&tl=1\n",
        "- https://blogs.gartner.com/debbie_wilson/files/2019/10/horse.jpg\n",
        "- https://mastersonmethod.com/wp-content/uploads/2019/08/biomechanics-course-image-002-1.jpg\n",
        "- https://horsej-intellectsolutio.netdna-ssl.com/cdn/farfuture/SVD1oaF2ITMncqEBjp-F4wIPN3Iqw8M25m7mvjCT1-Q/mtime:1543626961/files/styles/article_large/public/pictures-videos/blogs/shutterstock_250751620_-_grigorita_ko_-_web.jpg?itok=dr2UJXfv\n",
        "\n",
        "Now upload these images in the 'cifar10' folder in your drive. Then write a function show_images() to plot the images in a 4 x 5 grid using matplotlib. Functions to use among others:\n",
        "\n",
        "- plt.subplot() or fig.add_subplot()\n",
        "- plt.imshow() or ax.imshow()\n",
        "- plt.axis('off') or ax.set_axis_off()\n",
        "- plt.show()\n",
        "- Image.open() from PIL (convert to numpy array before use in imshow) \n",
        "\n",
        "Once done, right click on the grid and click 'Save Image As'. Put the image in your report on a page (titled **External Images**).\n",
        "\n",
        "# EXTRA CREDIT (20 points)\n",
        "Use these images as the test set and check the accuracy of your trained model on this custom test set. A useful article: https://towardsdatascience.com/building-efficient-custom-datasets-in-pytorch-2563b946fd9f\n"
      ]
    },
    {
      "cell_type": "code",
      "metadata": {
        "id": "2Aud1m4OX8gn",
        "colab_type": "code",
        "colab": {
          "base_uri": "https://localhost:8080/",
          "height": 245
        },
        "outputId": "338db2dd-3c0d-4024-f2ca-04f90ba49adf"
      },
      "source": [
        "# TODO : image visualization; you can modify anything here\n",
        "from PIL import Image\n",
        "\n",
        "fig, axis = plt.subplots(4, 5) # 4 rows, 5 columns\n",
        "DATA_PATH = BASE_PATH + 'cifar10/'\n",
        "\n",
        "def show_images():\n",
        "  for i in range(5):\n",
        "    path = DATA_PATH + \"plane\" + str(i+1) + \".jpg\"\n",
        "    img = Image.open(path)\n",
        "    plt.subplot(4, 5, i+1)\n",
        "    plt.imshow(img)\n",
        "    plt.axis('off')\n",
        "    # plt.show()\n",
        "    \n",
        "  for i in range(5):\n",
        "    path = DATA_PATH + \"car\" + str(i+1) + \".jpg\"\n",
        "    img = Image.open(path)\n",
        "    plt.subplot(4, 5, i+6)\n",
        "    plt.imshow(img)\n",
        "    plt.axis('off')\n",
        "    # plt.show()\n",
        "  \n",
        "  for i in range(5):\n",
        "    path = DATA_PATH + \"dog\" + str(i+1) + \".jpg\"\n",
        "    img = Image.open(path)\n",
        "    plt.subplot(4, 5, i+11)\n",
        "    plt.imshow(img)\n",
        "    plt.axis('off')\n",
        "    # plt.show()\n",
        "  \n",
        "  for i in range(5):\n",
        "    path = DATA_PATH + \"horse\" + str(i+1) + \".jpg\"\n",
        "    img = Image.open(path)\n",
        "    plt.subplot(4, 5, i+16)\n",
        "    plt.imshow(img)\n",
        "    plt.axis('off')\n",
        "    # plt.show()\n",
        "\n",
        "  plt.show()\n",
        "\n",
        "show_images()\n",
        "\n",
        "# EXTRA CREDIT CODE HERE (IF ANY)\n"
      ],
      "execution_count": 78,
      "outputs": [
        {
          "output_type": "display_data",
          "data": {
            "image/png": "[encoded data removed]",
            "text/plain": [
              "<Figure size 432x288 with 20 Axes>"
            ]
          },
          "metadata": {
            "tags": []
          }
        }
      ]
    },
    {
      "cell_type": "markdown",
      "metadata": {
        "colab_type": "text",
        "id": "fj5IqkMljWwl"
      },
      "source": [
        "# Part 2: Language generation using character-level RNNs\n",
        "\n",
        "# 2.1 Processing the data\n",
        "\n",
        "We'll be using the complete text of Harry Potter as our corpus. Place the harry_potter.txt file provided in the 'language' folder created in your drive.\n",
        "\n",
        "1) Create a dictionary voc2ind to define the vocabulary. voc2ind contents will be like `{' ': 0, 'A': 1, 'B': 2, 'C': 3, ... '0': 35, '1': 36, ..., '$': 78, '#': 79, '(': 80, ...}`. The keys include all the 26 alphabets, both upper case and lower case separately, digits 0-9 and special characters that may appear in a general text. The values corresponding to the keys can be in any order. You may have to handle single and double quotes carefully in the keys since they are generally used as string delimiters. ind2voc is the inverse of voc2ind.\n",
        "\n",
        "2) Now using the vocabulary above, convert text into a list of tokens. For example, if the text is **`\"ABA CDBE\"`**, the token version will be a list with contents `[1, 2, 1, 0, 3, 4, 2, 5]`. Create this list where instructed below.\n",
        "\n",
        "3) train_text and test_text should contain the first 80% and the last 20% of the 'token' list. This should be simple to write.\n"
      ]
    },
    {
      "cell_type": "code",
      "metadata": {
        "id": "YD944kC5X8gr",
        "colab_type": "code",
        "outputId": "ddc9311d-1d7e-4a9e-dd6b-b47df518d20d",
        "colab": {
          "base_uri": "https://localhost:8080/",
          "height": 35
        }
      },
      "source": [
        "import string # I added this\n",
        "\n",
        "DATA_PATH = BASE_PATH + 'language/'\n",
        "if not os.path.exists(DATA_PATH):\n",
        "    os.makedirs(DATA_PATH)\n",
        "\n",
        "def prepare_data(data_path):\n",
        "    with open(data_path) as f:\n",
        "        # This reads all the data from the file, but does not do any processing on it.\n",
        "        data = f.read()\n",
        "    \n",
        "    # TO DO: done\n",
        "    voc2ind = dict([(chr(i+32),i) for i in range(0,95)])\n",
        "    \n",
        "    # transform the data into an integer representation of the tokens.\n",
        "    token = []\n",
        "    for char in data:\n",
        "        # replaces all weird spacing like tab, next line etc. with space\n",
        "        if re.match('\\s+', char): char = ' '\n",
        "        # TO DO: done (create the list of tokens; basically replace None with the correct expression)\n",
        "        token.append(voc2ind[char])\n",
        "\n",
        "    ind2voc = {val: key for key, val in voc2ind.items()}\n",
        "\n",
        "    # TO DO: done\n",
        "    # for i in range(10):\n",
        "    #   print(token[i])\n",
        "    train_text = token[0:int(0.80*len(token) + 1)]\n",
        "    #print(train_text)\n",
        "    test_text = token[int(0.80*len(token)) + 1:len(token)]\n",
        "    #print(test_text)\n",
        "\n",
        "    pickle.dump({'tokens': train_text, 'ind2voc': ind2voc, 'voc2ind':voc2ind}, open(DATA_PATH + 'harry_potter_chars_train.pkl', 'wb'))\n",
        "    pickle.dump({'tokens': test_text, 'ind2voc': ind2voc, 'voc2ind':voc2ind}, open(DATA_PATH + 'harry_potter_chars_test.pkl', 'wb'))\n",
        "    # the above data should be in language\n",
        "    print('Data prepared!')\n",
        "    \n",
        "prepare_data(DATA_PATH + 'harry_potter.txt')\n",
        "\n",
        "class Vocabulary(object):\n",
        "    def __init__(self, data_file):\n",
        "        with open(data_file, 'rb') as data_file:\n",
        "            dataset = pickle.load(data_file)\n",
        "        self.ind2voc = dataset['ind2voc']\n",
        "        self.voc2ind = dataset['voc2ind']\n",
        "\n",
        "    # Returns a string representation of the tokens.\n",
        "    def array_to_words(self, arr):\n",
        "        return ''.join([self.ind2voc[int(ind)] for ind in arr])\n",
        "\n",
        "    # Returns a torch tensor representing each token in words.\n",
        "    def words_to_array(self, words):\n",
        "        return torch.LongTensor([self.voc2ind[word] for word in words])\n",
        "\n",
        "    # Returns the size of the vocabulary.\n",
        "    def __len__(self):\n",
        "        return len(self.voc2ind)"
      ],
      "execution_count": 5,
      "outputs": [
        {
          "output_type": "stream",
          "text": [
            "Data prepared!\n"
          ],
          "name": "stdout"
        }
      ]
    },
    {
      "cell_type": "markdown",
      "metadata": {
        "id": "UcjjN2MSgSm5",
        "colab_type": "text"
      },
      "source": [
        "Now we have to load the data. There's nothing to do here on your part, but this is an explanation of what is going on. First imagine splitting the dataset into N chunks where N is the batch_size and the chunks are contiguous parts of the data. For each batch, we should return one sequence from each of the chunks. The batches should also be sequential an example is described below.\n",
        "\n",
        "The data is 20 characters long `[1, 2, 3, ...20]`. The batch size is 2 and the sequence length is 4\n",
        "- The 1st batch should consist of  `(data =  [[1, 2, 3, 4]; [11, 12, 13, 14]], labels = [[2, 3, 4, 5]; [12, 13, 14, 15]])`\n",
        "- The 2nd batch should consist of `(data =  [[5, 6, 7, 8]; [15, 16, 17, 18]], labels = [[6, 7, 8, 9]; [16, 17, 18, 19]])`\n",
        "- The 3rd batch should consist of `(data =  [[9]; [19]], labels = [[10]; [20]])`\n",
        "- There is no 4th batch.\n",
        "\n",
        "Note:\n",
        "- It is OK to have one batch be shorter than the others as long as all entries in that batch are the same length.\n",
        "- The last label in one batch is the first data in the next batch."
      ]
    },
    {
      "cell_type": "code",
      "metadata": {
        "id": "v313kc-6gCnK",
        "colab_type": "code",
        "colab": {}
      },
      "source": [
        "class HarryPotterDataset(torch.utils.data.Dataset):\n",
        "    def __init__(self, data_file, sequence_length, batch_size):\n",
        "        super(HarryPotterDataset, self).__init__()\n",
        "\n",
        "        self.sequence_length = sequence_length\n",
        "        self.batch_size = batch_size\n",
        "        self.vocab = Vocabulary(data_file)\n",
        "\n",
        "        with open(data_file, 'rb') as data_pkl:\n",
        "            dataset = pickle.load(data_pkl)\n",
        "\n",
        "        # make dataset length a multiple of batch size\n",
        "        # removing the last bit to make the data the proper shape mostly gives better results than padding with 0s.\n",
        "        new_dataset_length = (len(dataset['tokens'])//self.batch_size) * self.batch_size        \n",
        "        self.tokens = dataset['tokens'][:new_dataset_length]\n",
        "\n",
        "        self.chunk_size = int(new_dataset_length / self.batch_size)\n",
        "\n",
        "    def __len__(self):\n",
        "        # return the number of unique sequences you have, not the number of characters.\n",
        "        return self.batch_size * int(np.ceil((self.chunk_size-1)/self.sequence_length))\n",
        "        \n",
        "    def __getitem__(self, idx):\n",
        "        # Return the data and label for a character sequence\n",
        "        # Return a single entry for the batch using the idx to decide which chunk you are in and how far down in the chunk you are.\n",
        "        chunk_idx = idx % self.batch_size\n",
        "        pos_idx = idx // self.batch_size\n",
        "\n",
        "        start_idx = self.chunk_size * chunk_idx + self.sequence_length * pos_idx\n",
        "        end_idx = self.chunk_size * chunk_idx + min(self.sequence_length * pos_idx + self.sequence_length + 1, self.chunk_size)\n",
        "\n",
        "        data = self.tokens[start_idx : end_idx]\n",
        "        # The data and labels should be torch long tensors.\n",
        "        return torch.LongTensor(data[:-1]), torch.LongTensor(data[1:])\n",
        "\n",
        "    def vocab_size(self):\n",
        "        return len(self.vocab)"
      ],
      "execution_count": 0,
      "outputs": []
    },
    {
      "cell_type": "markdown",
      "metadata": {
        "id": "pGnjPdo-X8gu",
        "colab_type": "text"
      },
      "source": [
        "# 2.2 Defining the network\n",
        "\n",
        "The network, a generic RNN is defined below for you. Just replace the GRU layer with an LSTM layer. You can look up LSTM definition in Pytorch online. Then, implement the forward pass as instructed."
      ]
    },
    {
      "cell_type": "code",
      "metadata": {
        "id": "F8n79fvLX8g3",
        "colab_type": "code",
        "colab": {}
      },
      "source": [
        "TEMPERATURE = 0.5\n",
        "\n",
        "class HarryPotterNet(nn.Module):\n",
        "    def __init__(self, vocab_size, feature_size):\n",
        "        super(HarryPotterNet, self).__init__()\n",
        "        self.vocab_size = vocab_size\n",
        "        self.feature_size = feature_size\n",
        "        self.encoder = nn.Embedding(self.vocab_size, self.feature_size)\n",
        "        # TO DO: done (replace the following line with LSTM layer)\n",
        "        self.lstm = nn.LSTM(self.feature_size, self.feature_size, batch_first=True)\n",
        "        self.decoder = nn.Linear(self.feature_size, self.vocab_size)\n",
        "        \n",
        "        # This shares the encoder and decoder weights as described in lecture.\n",
        "        self.decoder.weight = self.encoder.weight\n",
        "        self.decoder.bias.data.zero_()\n",
        "        \n",
        "        self.best_accuracy = -1\n",
        "    \n",
        "    def forward(self, x, hidden_state=None):\n",
        "        batch_size = x.shape[0]\n",
        "        sequence_length = x.shape[1]\n",
        "        \n",
        "        # TO DO: done\n",
        "        # pass x though the encoder first, then through LSTM, then through the decoder.\n",
        "        # return items from LSTM layer should be both the output and the hidden state.\n",
        "        x = self.encoder(x)\n",
        "        x, hidden_state = self.lstm(x, hidden_state)\n",
        "        x = self.decoder(x)\n",
        "\n",
        "        return x, hidden_state\n",
        "\n",
        "    # This defines the function that gives a probability distribution and implements the temperature computation.\n",
        "    def inference(self, x, hidden_state=None, temperature=1):\n",
        "        x = x.view(-1, 1)\n",
        "        x, hidden_state = self.forward(x, hidden_state)\n",
        "        x = x.view(1, -1)\n",
        "        x = x / max(temperature, 1e-20)\n",
        "        x = F.softmax(x, dim=1)\n",
        "        return x, hidden_state\n",
        "\n",
        "    # Predefined loss function\n",
        "    def loss(self, prediction, label, reduction='mean'):\n",
        "        loss_val = F.cross_entropy(prediction.view(-1, self.vocab_size), label.view(-1), reduction=reduction)\n",
        "        return loss_val\n",
        "\n",
        "    # Saves the current model\n",
        "    def save_model(self, file_path, num_to_keep=1):\n",
        "        pt_util.save(self, file_path, num_to_keep)\n",
        "\n",
        "    # Saves the best model so far\n",
        "    def save_best_model(self, accuracy, file_path, num_to_keep=1):\n",
        "        if accuracy > self.best_accuracy:\n",
        "            self.save_model(file_path, num_to_keep)\n",
        "            self.best_accuracy = accuracy\n",
        "\n",
        "    def load_model(self, file_path):\n",
        "        pt_util.restore(self, file_path)\n",
        "\n",
        "    def load_last_model(self, dir_path):\n",
        "        return pt_util.restore_latest(self, dir_path)"
      ],
      "execution_count": 0,
      "outputs": []
    },
    {
      "cell_type": "markdown",
      "metadata": {
        "id": "bl7424E4X8g7",
        "colab_type": "text"
      },
      "source": [
        "# 2.3 Character generation and training\n",
        "\n",
        "You don't have to write any code in this part. Just understand how the steps work. The training and testing functions and the main function are quite similar to the ones in Part 1. Here is an interesting article about sampling strategies (we have used max sampling strategy here for convenience):\n",
        "https://towardsdatascience.com/how-to-sample-from-language-models-682bceb97277\n",
        "\n",
        "Feel free to modify various portions of the code to understand better, and refer to online resources. Natural Language Processing details are beyond the scope of this course.\n",
        "\n",
        "At the end, save the 3 plots (train loss, test loss and test accuracy) as before and put them in your report on a single page (titled **NLP plots**). In addition, write down (in your report) the generated sentence that will be displayed at the end. You will also need to submit 'language_020.pt' file from 'checkpoints' folder in your 'language' folder.\n"
      ]
    },
    {
      "cell_type": "code",
      "metadata": {
        "id": "FTya80NxX8g8",
        "colab_type": "code",
        "colab": {}
      },
      "source": [
        "TEMPERATURE = 0.5\n",
        "BEAM_WIDTH = 10\n",
        "import tqdm\n",
        "\n",
        "def repackage_hidden(h):\n",
        "    \"\"\"Wraps hidden states in new Tensors, to detach them from their history.\"\"\"\n",
        "    if isinstance(h, torch.Tensor):\n",
        "        return h.detach()\n",
        "    else:\n",
        "        return tuple(repackage_hidden(v) for v in h)\n",
        "    \n",
        "\n",
        "def max_sampling_strategy(sequence_length, model, output, hidden, vocab):\n",
        "    outputs = []\n",
        "    ind = torch.argmax(output)\n",
        "    for ii in range(sequence_length):\n",
        "        output, hidden = model.inference(ind, hidden, TEMPERATURE)\n",
        "        ind = torch.argmax(output)\n",
        "        outputs.append(ind)\n",
        "    return outputs\n",
        "\n",
        "def generate_language(model, device, seed_words, sequence_length, vocab, sampling_strategy='max', beam_width=BEAM_WIDTH):\n",
        "    model.eval()\n",
        "\n",
        "    with torch.no_grad():\n",
        "        seed_words_arr = vocab.words_to_array(seed_words)\n",
        "\n",
        "        # Computes the initial hidden state from the prompt (seed words).\n",
        "        hidden = None\n",
        "        for ind in seed_words_arr:\n",
        "            data = ind.to(device)\n",
        "            output, hidden = model.inference(data, hidden)\n",
        "        \n",
        "        outputs = max_sampling_strategy(sequence_length, model, output, hidden, vocab)\n",
        "        return vocab.array_to_words(seed_words_arr.tolist() + outputs)\n",
        "    \n",
        "\n",
        "def train(model, device, optimizer, train_loader, lr, epoch, log_interval):\n",
        "    model.train()\n",
        "    losses = []\n",
        "    hidden = None\n",
        "    for batch_idx, (data, label) in enumerate(tqdm.tqdm(train_loader)):\n",
        "        # send data and label to GPU\n",
        "        data, label = data.to(device), label.to(device)\n",
        "        # Separates the hidden state across batches.\n",
        "        # Otherwise the backward would try to go all the way to the beginning every time.\n",
        "        if hidden is not None:\n",
        "            hidden = repackage_hidden(hidden)\n",
        "               \n",
        "        optimizer.zero_grad()\n",
        "        # run the model and get the prediction\n",
        "        output, hidden = model(data)\n",
        "        pred = output.max(-1)[1]\n",
        "        \n",
        "        # compute and backpropagate the loss\n",
        "        loss = model.loss(output, label)\n",
        "        losses.append(loss.item())\n",
        "        loss.backward()\n",
        "        \n",
        "        optimizer.step()\n",
        "        \n",
        "        if batch_idx % log_interval == 0:\n",
        "            print('Train Epoch: {} [{}/{} ({:.0f}%)]\\tLoss: {:.6f}'.format(\n",
        "                epoch, batch_idx * len(data), len(train_loader.dataset),\n",
        "                100. * batch_idx / len(train_loader), loss.item()))\n",
        "    return np.mean(losses)\n",
        "\n",
        "\n",
        "def test(model, device, test_loader):\n",
        "    model.eval()\n",
        "    test_loss = 0\n",
        "    correct = 0\n",
        "    print(len(test_loader))\n",
        "    with torch.no_grad():\n",
        "        hidden = None\n",
        "        for batch_idx, (data, label) in enumerate(test_loader):\n",
        "            # send data and label to GPU\n",
        "            data, label = data.to(device), label.to(device)\n",
        "            \n",
        "            # test the model\n",
        "            output, hidden = model(data, hidden)\n",
        "            pred = output.max(-1)[1]\n",
        "            correct_mask = pred.eq(label.view_as(pred))\n",
        "            num_correct = correct_mask.sum().item()\n",
        "            correct += num_correct\n",
        "            \n",
        "            # compute test loss\n",
        "            test_loss += model.loss(output, label, reduction='mean').item()\n",
        "            \n",
        "            # Comment this out to avoid printing test results\n",
        "            if batch_idx % 10 == 0:\n",
        "                print('Input\\t%s\\nGT\\t%s\\npred\\t%s\\n\\n' % (\n",
        "                    test_loader.dataset.vocab.array_to_words(data[0]),\n",
        "                    test_loader.dataset.vocab.array_to_words(label[0]),\n",
        "                    test_loader.dataset.vocab.array_to_words(pred[0])))\n",
        "    test_loss /= len(test_loader)\n",
        "    test_accuracy = 100. * correct / (len(test_loader.dataset) * test_loader.dataset.sequence_length)\n",
        "\n",
        "    print('\\nTest set: Average loss: {:.4f}, Accuracy: {}/{} ({:.0f}%)\\n'.format(\n",
        "        test_loss, correct, len(test_loader.dataset) * test_loader.dataset.sequence_length,\n",
        "        100. * correct / (len(test_loader.dataset) * test_loader.dataset.sequence_length)))\n",
        "    return test_loss, test_accuracy\n"
      ],
      "execution_count": 0,
      "outputs": []
    },
    {
      "cell_type": "code",
      "metadata": {
        "id": "hljrTyRmX8g-",
        "colab_type": "code",
        "outputId": "56288a12-6353-451f-e20a-866f35130ef8",
        "colab": {
          "base_uri": "https://localhost:8080/",
          "height": 1000
        }
      },
      "source": [
        "def main():\n",
        "    SEQUENCE_LENGTH = 100\n",
        "    BATCH_SIZE = 256\n",
        "    FEATURE_SIZE = 512\n",
        "    TEST_BATCH_SIZE = 256\n",
        "    EPOCHS = 20\n",
        "    LEARNING_RATE = 0.002\n",
        "    WEIGHT_DECAY = 0.0005\n",
        "    USE_CUDA = True\n",
        "    PRINT_INTERVAL = 10\n",
        "    LOG_PATH = DATA_PATH + 'logs/log.pkl'\n",
        "\n",
        "    # setup GPU and multiprocessing\n",
        "    use_cuda = USE_CUDA and torch.cuda.is_available()\n",
        "    device = torch.device(\"cuda\" if use_cuda else \"cpu\")\n",
        "    print('Using device', device)\n",
        "    import multiprocessing\n",
        "    num_workers = multiprocessing.cpu_count()\n",
        "    print('num workers:', num_workers)\n",
        "    kwargs = {'num_workers': num_workers,'pin_memory': True} if use_cuda else {}\n",
        "\n",
        "    # get train and test data\n",
        "    data_train = HarryPotterDataset(DATA_PATH + 'harry_potter_chars_train.pkl', SEQUENCE_LENGTH, BATCH_SIZE)\n",
        "    data_test = HarryPotterDataset(DATA_PATH + 'harry_potter_chars_test.pkl', SEQUENCE_LENGTH, TEST_BATCH_SIZE)\n",
        "    vocab = data_train.vocab\n",
        "    train_loader = torch.utils.data.DataLoader(data_train, batch_size=BATCH_SIZE, shuffle=False, **kwargs)\n",
        "    test_loader = torch.utils.data.DataLoader(data_test, batch_size=TEST_BATCH_SIZE, shuffle=False, **kwargs)\n",
        "    print(\"TESTING: \")\n",
        "    print(len(test_loader))\n",
        "    # initialize model\n",
        "    model = HarryPotterNet(data_train.vocab_size(), FEATURE_SIZE).to(device)\n",
        "\n",
        "    # Adam is an optimizer like SGD but a bit fancier. It tends to work faster and better than SGD.\n",
        "    optimizer = optim.Adam(model.parameters(), lr=LEARNING_RATE, weight_decay=WEIGHT_DECAY)\n",
        "    \n",
        "    # This will train from scratch\n",
        "    start_epoch = 0 \n",
        "    train_losses, test_losses, test_accuracies = [], [], []\n",
        "\n",
        "    # To resume training from last saved model, uncomment the following 2 lines\n",
        "    # start_epoch = model.load_last_model(DATA_PATH + 'checkpoints')\n",
        "    # train_losses, test_losses, test_accuracies = pt_util.read_log(LOG_PATH, ([], [], []))\n",
        "\n",
        "    # Get initial test loss and accuracy\n",
        "    test_loss, test_accuracy = test(model, device, test_loader)\n",
        "    test_losses.append((start_epoch, test_loss))\n",
        "    test_accuracies.append((start_epoch, test_accuracy))\n",
        "\n",
        "    try:\n",
        "        for epoch in range(start_epoch, EPOCHS + 1):\n",
        "            lr = LEARNING_RATE * np.power(0.25, (int(epoch / 6)))\n",
        "            \n",
        "            # train for 1 epoch\n",
        "            train_loss = train(model, device, optimizer, train_loader, lr, epoch, PRINT_INTERVAL)\n",
        "            train_losses.append((epoch, train_loss))\n",
        "            # test after 1 epoch\n",
        "            test_loss, test_accuracy = test(model, device, test_loader)\n",
        "            test_losses.append((epoch, test_loss))\n",
        "            test_accuracies.append((epoch, test_accuracy))\n",
        "            # Log the losses and accuracy\n",
        "            pt_util.write_log(LOG_PATH, (train_losses, test_losses, test_accuracies))\n",
        "            # save best model\n",
        "            model.save_best_model(test_accuracy, DATA_PATH + 'checkpoints/language_%03d.pt' % epoch)\n",
        "            \n",
        "            # Test with a sentence starting with the given seed words. See what is generated next.\n",
        "            seed_words = 'Harry Potter, Voldemort, and Dumbledore walk into a bar. '\n",
        "            generated_sentence = generate_language(model, device, seed_words, 200, vocab, 'max')\n",
        "            print('generated sentence\\t\\t', generated_sentence)\n",
        "            print('')\n",
        "\n",
        "    except KeyboardInterrupt as ke:\n",
        "        print('Interrupted')\n",
        "    except:\n",
        "        import traceback\n",
        "        traceback.print_exc()\n",
        "    finally:\n",
        "        print('Saving final model')\n",
        "        model.save_model(DATA_PATH + 'checkpoints/language_%03d.pt' % epoch, 0)\n",
        "        # plot the loss and accuracy values\n",
        "        ep, val = zip(*train_losses)\n",
        "        pt_util.plot(ep, val, 'Train loss', 'Epoch', 'Error', name)\n",
        "        ep, val = zip(*test_losses)\n",
        "        pt_util.plot(ep, val, 'Test loss', 'Epoch', 'Error', name)\n",
        "        ep, val = zip(*test_accuracies)\n",
        "        pt_util.plot(ep, val, 'Test accuracy', 'Epoch', 'Error', name)\n",
        "        return model, vocab, device\n",
        "\n",
        "final_model, vocab, device = main()"
      ],
      "execution_count": 9,
      "outputs": [
        {
          "output_type": "stream",
          "text": [
            "Using device cuda\n",
            "num workers: 2\n",
            "TESTING: \n",
            "49\n",
            "49\n",
            "Input\tnly way left to get water, because Voldemort had planned it so ... He flung himself over to the edge\n",
            "GT\tly way left to get water, because Voldemort had planned it so ... He flung himself over to the edge \n",
            "pred\t%tmZJbmZm?J8ZZaZJJ8ZJb,,f'J JCDPaaJJ{7Ha8GQ8ZJ}DZom`Q%aaZJZZXaZcvvZQ,ZJF\\9l9JJ)Xat+JGaafZZaZZ'JZJJlJ\n",
            "\n",
            "\n",
            "Input\t that had his arm. It released him, falling backward into the water with a splash; he scrambled to h\n",
            "GT\tthat had his arm. It released him, falling backward into the water with a splash; he scrambled to hi\n",
            "pred\tZZ'},ZJ}DZ'JXZbQVxZ9ZZZ8ta,XaaZ'J)JJJb7m69l9mDDDudQ:ZJ9ZaZZ'JZJb,afZJJZJZbZbom,XrKKJJJXXQ}yBytDZZaZJ\n",
            "\n",
            "\n",
            "Input\tth, and his feet left the ground as they lifted him and began to carry him, slowly and surely, back \n",
            "GT\th, and his feet left the ground as they lifted him and began to carry him, slowly and surely, back t\n",
            "pred\t,}'JbQDZJJXZJJa8ZmaJ8ZZ'JZJfGPaaZbXb5'JmZmZJZaaZJJ)ZbbDZZJll%ZZaZDDQQ$ZJJ)JJbmDJmmmDQDZXPQ8tmmJmDDDZ\n",
            "\n",
            "\n",
            "Input\t. . . Dumbledore scooped the locket from the bottom of the stone basin and stowed it inside his robe\n",
            "GT\t . . Dumbledore scooped the locket from the bottom of the stone basin and stowed it inside his robes\n",
            "pred\tcZcZcZZ\\8BmtDGQaJXXaaoaaZZ'JZmGDDa8ZJ8G8ZZ'JZZZZZa8ZaJZZ'JZX+aaaZZDXX9ZbQDZX5afJaZJZZJ9XXJaZJJXZxhH8\n",
            "\n",
            "\n",
            "Input\tsir, I forgot -- about fire -- they were coming at me and I panicked --\" \"Quite understandable,\" mur\n",
            "GT\tir, I forgot -- about fire -- they were coming at me and I panicked --\" \"Quite understandable,\" murm\n",
            "pred\tXXf J9ZJGQfGBZllZbBDPlZJJf8JllZZJJmZJJf8Joa)J9l9blZwJZbbDZ9ZoxQ9yDaaZllZZZFPfZaZP9aaQ++,Q:DBm?'%ZwPf\n",
            "\n",
            "\n"
          ],
          "name": "stdout"
        },
        {
          "output_type": "stream",
          "text": [
            "\r  0%|          | 0/196 [00:00<?, ?it/s]"
          ],
          "name": "stderr"
        },
        {
          "output_type": "stream",
          "text": [
            "\n",
            "Test set: Average loss: 8.5732, Accuracy: 10099/1254400 (1%)\n",
            "\n"
          ],
          "name": "stdout"
        },
        {
          "output_type": "stream",
          "text": [
            "  2%|▏         | 3/196 [00:00<00:32,  5.90it/s]"
          ],
          "name": "stderr"
        },
        {
          "output_type": "stream",
          "text": [
            "Train Epoch: 0 [0/50176 (0%)]\tLoss: 8.543026\n"
          ],
          "name": "stdout"
        },
        {
          "output_type": "stream",
          "text": [
            "  7%|▋         | 13/196 [00:01<00:20,  9.07it/s]"
          ],
          "name": "stderr"
        },
        {
          "output_type": "stream",
          "text": [
            "Train Epoch: 0 [2560/50176 (5%)]\tLoss: 4.743855\n"
          ],
          "name": "stdout"
        },
        {
          "output_type": "stream",
          "text": [
            " 12%|█▏        | 23/196 [00:02<00:17, 10.03it/s]"
          ],
          "name": "stderr"
        },
        {
          "output_type": "stream",
          "text": [
            "Train Epoch: 0 [5120/50176 (10%)]\tLoss: 2.983315\n"
          ],
          "name": "stdout"
        },
        {
          "output_type": "stream",
          "text": [
            " 17%|█▋        | 33/196 [00:03<00:15, 10.22it/s]"
          ],
          "name": "stderr"
        },
        {
          "output_type": "stream",
          "text": [
            "Train Epoch: 0 [7680/50176 (15%)]\tLoss: 2.454858\n"
          ],
          "name": "stdout"
        },
        {
          "output_type": "stream",
          "text": [
            " 21%|██        | 41/196 [00:04<00:15, 10.13it/s]"
          ],
          "name": "stderr"
        },
        {
          "output_type": "stream",
          "text": [
            "Train Epoch: 0 [10240/50176 (20%)]\tLoss: 2.255984\n"
          ],
          "name": "stdout"
        },
        {
          "output_type": "stream",
          "text": [
            " 27%|██▋       | 53/196 [00:05<00:14, 10.16it/s]"
          ],
          "name": "stderr"
        },
        {
          "output_type": "stream",
          "text": [
            "Train Epoch: 0 [12800/50176 (26%)]\tLoss: 2.149830\n"
          ],
          "name": "stdout"
        },
        {
          "output_type": "stream",
          "text": [
            " 32%|███▏      | 63/196 [00:06<00:13, 10.13it/s]"
          ],
          "name": "stderr"
        },
        {
          "output_type": "stream",
          "text": [
            "Train Epoch: 0 [15360/50176 (31%)]\tLoss: 2.041620\n"
          ],
          "name": "stdout"
        },
        {
          "output_type": "stream",
          "text": [
            " 36%|███▌      | 71/196 [00:07<00:12, 10.13it/s]"
          ],
          "name": "stderr"
        },
        {
          "output_type": "stream",
          "text": [
            "Train Epoch: 0 [17920/50176 (36%)]\tLoss: 1.999888\n"
          ],
          "name": "stdout"
        },
        {
          "output_type": "stream",
          "text": [
            " 41%|████▏     | 81/196 [00:08<00:11, 10.08it/s]"
          ],
          "name": "stderr"
        },
        {
          "output_type": "stream",
          "text": [
            "Train Epoch: 0 [20480/50176 (41%)]\tLoss: 1.923406\n"
          ],
          "name": "stdout"
        },
        {
          "output_type": "stream",
          "text": [
            " 46%|████▋     | 91/196 [00:09<00:10, 10.08it/s]"
          ],
          "name": "stderr"
        },
        {
          "output_type": "stream",
          "text": [
            "Train Epoch: 0 [23040/50176 (46%)]\tLoss: 1.878955\n"
          ],
          "name": "stdout"
        },
        {
          "output_type": "stream",
          "text": [
            " 52%|█████▏    | 102/196 [00:10<00:09,  9.90it/s]"
          ],
          "name": "stderr"
        },
        {
          "output_type": "stream",
          "text": [
            "Train Epoch: 0 [25600/50176 (51%)]\tLoss: 1.872288\n"
          ],
          "name": "stdout"
        },
        {
          "output_type": "stream",
          "text": [
            " 57%|█████▋    | 112/196 [00:11<00:08,  9.85it/s]"
          ],
          "name": "stderr"
        },
        {
          "output_type": "stream",
          "text": [
            "Train Epoch: 0 [28160/50176 (56%)]\tLoss: 1.855311\n"
          ],
          "name": "stdout"
        },
        {
          "output_type": "stream",
          "text": [
            " 62%|██████▏   | 122/196 [00:12<00:07,  9.84it/s]"
          ],
          "name": "stderr"
        },
        {
          "output_type": "stream",
          "text": [
            "Train Epoch: 0 [30720/50176 (61%)]\tLoss: 1.818599\n"
          ],
          "name": "stdout"
        },
        {
          "output_type": "stream",
          "text": [
            " 67%|██████▋   | 131/196 [00:13<00:06,  9.76it/s]"
          ],
          "name": "stderr"
        },
        {
          "output_type": "stream",
          "text": [
            "Train Epoch: 0 [33280/50176 (66%)]\tLoss: 1.781145\n"
          ],
          "name": "stdout"
        },
        {
          "output_type": "stream",
          "text": [
            " 72%|███████▏  | 142/196 [00:14<00:05,  9.84it/s]"
          ],
          "name": "stderr"
        },
        {
          "output_type": "stream",
          "text": [
            "Train Epoch: 0 [35840/50176 (71%)]\tLoss: 1.777640\n"
          ],
          "name": "stdout"
        },
        {
          "output_type": "stream",
          "text": [
            " 78%|███████▊  | 152/196 [00:15<00:04,  9.79it/s]"
          ],
          "name": "stderr"
        },
        {
          "output_type": "stream",
          "text": [
            "Train Epoch: 0 [38400/50176 (77%)]\tLoss: 1.747044\n"
          ],
          "name": "stdout"
        },
        {
          "output_type": "stream",
          "text": [
            " 83%|████████▎ | 162/196 [00:16<00:03,  9.84it/s]"
          ],
          "name": "stderr"
        },
        {
          "output_type": "stream",
          "text": [
            "Train Epoch: 0 [40960/50176 (82%)]\tLoss: 1.754884\n"
          ],
          "name": "stdout"
        },
        {
          "output_type": "stream",
          "text": [
            " 88%|████████▊ | 172/196 [00:17<00:02,  9.83it/s]"
          ],
          "name": "stderr"
        },
        {
          "output_type": "stream",
          "text": [
            "Train Epoch: 0 [43520/50176 (87%)]\tLoss: 1.714011\n"
          ],
          "name": "stdout"
        },
        {
          "output_type": "stream",
          "text": [
            " 93%|█████████▎| 182/196 [00:18<00:01,  9.85it/s]"
          ],
          "name": "stderr"
        },
        {
          "output_type": "stream",
          "text": [
            "Train Epoch: 0 [46080/50176 (92%)]\tLoss: 1.724856\n"
          ],
          "name": "stdout"
        },
        {
          "output_type": "stream",
          "text": [
            " 97%|█████████▋| 191/196 [00:19<00:00,  9.81it/s]"
          ],
          "name": "stderr"
        },
        {
          "output_type": "stream",
          "text": [
            "Train Epoch: 0 [48640/50176 (97%)]\tLoss: 1.708467\n"
          ],
          "name": "stdout"
        },
        {
          "output_type": "stream",
          "text": [
            "100%|██████████| 196/196 [00:19<00:00,  9.97it/s]"
          ],
          "name": "stderr"
        },
        {
          "output_type": "stream",
          "text": [
            "49\n"
          ],
          "name": "stdout"
        },
        {
          "output_type": "stream",
          "text": [
            "\n"
          ],
          "name": "stderr"
        },
        {
          "output_type": "stream",
          "text": [
            "Input\tnly way left to get water, because Voldemort had planned it so ... He flung himself over to the edge\n",
            "GT\tly way left to get water, because Voldemort had planned it so ... He flung himself over to the edge \n",
            "pred\tey tas woat th tet tascr  au ause tolderort oid buacted tn whmt .  e woong tis elf tfer th the cvger\n",
            "\n",
            "\n",
            "Input\t that had his arm. It released him, falling backward into the water with a splash; he scrambled to h\n",
            "GT\tthat had his arm. It released him, falling backward into the water with a splash; he scrambled to hi\n",
            "pred\tthet tid bis wne  \"  weai rs  tis  aocl ng teck ard tn o the cascr tath t lteecte te struceeedoth ti\n",
            "\n",
            "\n",
            "Input\tth, and his feet left the ground as they lifted him and began to carry him, slowly and surely, back \n",
            "GT\th, and his feet left the ground as they lifted him and began to carry him, slowly and surely, back t\n",
            "pred\the wnd tis wiet tott the sreund tn the  wokter tim and teean th tonei aas  ahiw y tnd ttrp f  auck o\n",
            "\n",
            "\n",
            "Input\t. . . Dumbledore scooped the locket from the bottom of the stone basin and stowed it inside his robe\n",
            "GT\t . . Dumbledore scooped the locket from the bottom of the stone basin and stowed it inside his robes\n",
            "pred\t . . .umbledore ttrmlln the sooked ooom the setteretf the ctape teckngtnd ttaoar tn wn tte tis webes\n",
            "\n",
            "\n",
            "Input\tsir, I forgot -- about fire -- they were coming at me and I panicked --\" \"Quite understandable,\" mur\n",
            "GT\tir, I forgot -- about fire -- they were coming at me and I panicked --\" \"Quite understandable,\" murm\n",
            "pred\tadi w wor et t  tnout oore t  the  ware woueng tn te tnd t wurtse d t   \"Iuide tpder  and yle   suse\n",
            "\n",
            "\n"
          ],
          "name": "stdout"
        },
        {
          "output_type": "stream",
          "text": [
            "\r  0%|          | 0/196 [00:00<?, ?it/s]"
          ],
          "name": "stderr"
        },
        {
          "output_type": "stream",
          "text": [
            "\n",
            "Test set: Average loss: 1.6987, Accuracy: 633120/1254400 (50%)\n",
            "\n",
            "Saved /gdrive/My Drive/CSE415/language/checkpoints/language_000.pt\n",
            "\n",
            "generated sentence\t\t Harry Potter, Voldemort, and Dumbledore walk into a bar. I was the started the started the started the started the started the started the started the started the started the started the started the started the started the started the started the started th\n",
            "\n"
          ],
          "name": "stdout"
        },
        {
          "output_type": "stream",
          "text": [
            "  1%|          | 2/196 [00:00<00:29,  6.64it/s]"
          ],
          "name": "stderr"
        },
        {
          "output_type": "stream",
          "text": [
            "Train Epoch: 1 [0/50176 (0%)]\tLoss: 1.694130\n"
          ],
          "name": "stdout"
        },
        {
          "output_type": "stream",
          "text": [
            "  6%|▌         | 12/196 [00:01<00:19,  9.39it/s]"
          ],
          "name": "stderr"
        },
        {
          "output_type": "stream",
          "text": [
            "Train Epoch: 1 [2560/50176 (5%)]\tLoss: 1.655800\n"
          ],
          "name": "stdout"
        },
        {
          "output_type": "stream",
          "text": [
            " 11%|█         | 22/196 [00:02<00:17,  9.77it/s]"
          ],
          "name": "stderr"
        },
        {
          "output_type": "stream",
          "text": [
            "Train Epoch: 1 [5120/50176 (10%)]\tLoss: 1.679929\n"
          ],
          "name": "stdout"
        },
        {
          "output_type": "stream",
          "text": [
            " 16%|█▋        | 32/196 [00:03<00:16,  9.87it/s]"
          ],
          "name": "stderr"
        },
        {
          "output_type": "stream",
          "text": [
            "Train Epoch: 1 [7680/50176 (15%)]\tLoss: 1.658068\n"
          ],
          "name": "stdout"
        },
        {
          "output_type": "stream",
          "text": [
            " 21%|██▏       | 42/196 [00:04<00:15,  9.85it/s]"
          ],
          "name": "stderr"
        },
        {
          "output_type": "stream",
          "text": [
            "Train Epoch: 1 [10240/50176 (20%)]\tLoss: 1.632177\n"
          ],
          "name": "stdout"
        },
        {
          "output_type": "stream",
          "text": [
            " 27%|██▋       | 52/196 [00:05<00:14,  9.83it/s]"
          ],
          "name": "stderr"
        },
        {
          "output_type": "stream",
          "text": [
            "Train Epoch: 1 [12800/50176 (26%)]\tLoss: 1.637118\n"
          ],
          "name": "stdout"
        },
        {
          "output_type": "stream",
          "text": [
            " 32%|███▏      | 62/196 [00:06<00:13,  9.88it/s]"
          ],
          "name": "stderr"
        },
        {
          "output_type": "stream",
          "text": [
            "Train Epoch: 1 [15360/50176 (31%)]\tLoss: 1.623380\n"
          ],
          "name": "stdout"
        },
        {
          "output_type": "stream",
          "text": [
            " 37%|███▋      | 72/196 [00:07<00:12,  9.84it/s]"
          ],
          "name": "stderr"
        },
        {
          "output_type": "stream",
          "text": [
            "Train Epoch: 1 [17920/50176 (36%)]\tLoss: 1.632939\n"
          ],
          "name": "stdout"
        },
        {
          "output_type": "stream",
          "text": [
            " 42%|████▏     | 82/196 [00:08<00:11,  9.83it/s]"
          ],
          "name": "stderr"
        },
        {
          "output_type": "stream",
          "text": [
            "Train Epoch: 1 [20480/50176 (41%)]\tLoss: 1.601161\n"
          ],
          "name": "stdout"
        },
        {
          "output_type": "stream",
          "text": [
            " 47%|████▋     | 92/196 [00:09<00:10,  9.83it/s]"
          ],
          "name": "stderr"
        },
        {
          "output_type": "stream",
          "text": [
            "Train Epoch: 1 [23040/50176 (46%)]\tLoss: 1.585089\n"
          ],
          "name": "stdout"
        },
        {
          "output_type": "stream",
          "text": [
            " 52%|█████▏    | 101/196 [00:10<00:09,  9.80it/s]"
          ],
          "name": "stderr"
        },
        {
          "output_type": "stream",
          "text": [
            "Train Epoch: 1 [25600/50176 (51%)]\tLoss: 1.594699\n"
          ],
          "name": "stdout"
        },
        {
          "output_type": "stream",
          "text": [
            " 57%|█████▋    | 111/196 [00:11<00:08,  9.81it/s]"
          ],
          "name": "stderr"
        },
        {
          "output_type": "stream",
          "text": [
            "Train Epoch: 1 [28160/50176 (56%)]\tLoss: 1.593286\n"
          ],
          "name": "stdout"
        },
        {
          "output_type": "stream",
          "text": [
            " 62%|██████▏   | 122/196 [00:12<00:07,  9.57it/s]"
          ],
          "name": "stderr"
        },
        {
          "output_type": "stream",
          "text": [
            "Train Epoch: 1 [30720/50176 (61%)]\tLoss: 1.574735\n"
          ],
          "name": "stdout"
        },
        {
          "output_type": "stream",
          "text": [
            " 67%|██████▋   | 132/196 [00:13<00:06,  9.85it/s]"
          ],
          "name": "stderr"
        },
        {
          "output_type": "stream",
          "text": [
            "Train Epoch: 1 [33280/50176 (66%)]\tLoss: 1.556735\n"
          ],
          "name": "stdout"
        },
        {
          "output_type": "stream",
          "text": [
            " 72%|███████▏  | 142/196 [00:14<00:05,  9.58it/s]"
          ],
          "name": "stderr"
        },
        {
          "output_type": "stream",
          "text": [
            "Train Epoch: 1 [35840/50176 (71%)]\tLoss: 1.563182\n"
          ],
          "name": "stdout"
        },
        {
          "output_type": "stream",
          "text": [
            " 78%|███████▊  | 152/196 [00:15<00:04,  9.79it/s]"
          ],
          "name": "stderr"
        },
        {
          "output_type": "stream",
          "text": [
            "Train Epoch: 1 [38400/50176 (77%)]\tLoss: 1.550572\n"
          ],
          "name": "stdout"
        },
        {
          "output_type": "stream",
          "text": [
            " 83%|████████▎ | 162/196 [00:16<00:03,  9.79it/s]"
          ],
          "name": "stderr"
        },
        {
          "output_type": "stream",
          "text": [
            "Train Epoch: 1 [40960/50176 (82%)]\tLoss: 1.574171\n"
          ],
          "name": "stdout"
        },
        {
          "output_type": "stream",
          "text": [
            " 88%|████████▊ | 172/196 [00:17<00:02,  9.81it/s]"
          ],
          "name": "stderr"
        },
        {
          "output_type": "stream",
          "text": [
            "Train Epoch: 1 [43520/50176 (87%)]\tLoss: 1.539649\n"
          ],
          "name": "stdout"
        },
        {
          "output_type": "stream",
          "text": [
            " 93%|█████████▎| 182/196 [00:18<00:01,  9.76it/s]"
          ],
          "name": "stderr"
        },
        {
          "output_type": "stream",
          "text": [
            "Train Epoch: 1 [46080/50176 (92%)]\tLoss: 1.562332\n"
          ],
          "name": "stdout"
        },
        {
          "output_type": "stream",
          "text": [
            " 98%|█████████▊| 192/196 [00:19<00:00,  9.58it/s]"
          ],
          "name": "stderr"
        },
        {
          "output_type": "stream",
          "text": [
            "Train Epoch: 1 [48640/50176 (97%)]\tLoss: 1.551616\n"
          ],
          "name": "stdout"
        },
        {
          "output_type": "stream",
          "text": [
            "100%|██████████| 196/196 [00:20<00:00,  9.78it/s]"
          ],
          "name": "stderr"
        },
        {
          "output_type": "stream",
          "text": [
            "49\n"
          ],
          "name": "stdout"
        },
        {
          "output_type": "stream",
          "text": [
            "\n"
          ],
          "name": "stderr"
        },
        {
          "output_type": "stream",
          "text": [
            "Input\tnly way left to get water, because Voldemort had planned it so ... He flung himself over to the edge\n",
            "GT\tly way left to get water, because Voldemort had planned it so ... He flung himself over to the edge \n",
            "pred\tdy tis toat th tet thscr  tu ause toldemort ted teacded tt wemt . .e woong tem elf tfer th the cxges\n",
            "\n",
            "\n",
            "Input\t that had his arm. It released him, falling backward into the water with a splash; he scrambled to h\n",
            "GT\tthat had his arm. It released him, falling backward into the water with a splash; he scrambled to hi\n",
            "pred\tthet ted bem fno  \"t wealsse  tim  tocleng teck ard tt o the tiscr tith t steayte he hthebeeed th ti\n",
            "\n",
            "\n",
            "Input\tth, and his feet left the ground as they lifted him and began to carry him, slowly and surely, back \n",
            "GT\th, and his feet left the ground as they lifted him and began to carry him, slowly and surely, back t\n",
            "pred\th  tnd tes faet titt the creund tn the  wokt d tim tnd te an th tonri aam  ttiwly tnd ttre y  tuck t\n",
            "\n",
            "\n",
            "Input\t. . . Dumbledore scooped the locket from the bottom of the stone basin and stowed it inside his robe\n",
            "GT\t . . Dumbledore scooped the locket from the bottom of the stone basin and stowed it inside his robes\n",
            "pred\t . . .umbledore ttrol d the took d ooom the tettlm tf the ctaoe oechngtnd ttanad tt wtttde tem febes\n",
            "\n",
            "\n",
            "Input\tsir, I forgot -- about fire -- they were coming at me and I panicked --\" \"Quite understandable,\" mur\n",
            "GT\tir, I forgot -- about fire -- they were coming at me and I panicked --\" \"Quite understandable,\" murm\n",
            "pred\tat, a weu it t  tnout tone t- \"he  were toueng tn ta tnd t wustne d t   \"Iuid  tpder tandiyle   sete\n",
            "\n",
            "\n"
          ],
          "name": "stdout"
        },
        {
          "output_type": "stream",
          "text": [
            "\r  0%|          | 0/196 [00:00<?, ?it/s]"
          ],
          "name": "stderr"
        },
        {
          "output_type": "stream",
          "text": [
            "\n",
            "Test set: Average loss: 1.5619, Accuracy: 677309/1254400 (54%)\n",
            "\n",
            "Saved /gdrive/My Drive/CSE415/language/checkpoints/language_001.pt\n",
            "\n",
            "generated sentence\t\t Harry Potter, Voldemort, and Dumbledore walk into a bar. I the could he was the could he was the could he was the could he was the could he was the could he was the could he was the could he was the could he was the could he was the could he was the could h\n",
            "\n"
          ],
          "name": "stdout"
        },
        {
          "output_type": "stream",
          "text": [
            "  1%|          | 2/196 [00:00<00:29,  6.49it/s]"
          ],
          "name": "stderr"
        },
        {
          "output_type": "stream",
          "text": [
            "Train Epoch: 2 [0/50176 (0%)]\tLoss: 1.549703\n"
          ],
          "name": "stdout"
        },
        {
          "output_type": "stream",
          "text": [
            "  6%|▌         | 12/196 [00:01<00:19,  9.42it/s]"
          ],
          "name": "stderr"
        },
        {
          "output_type": "stream",
          "text": [
            "Train Epoch: 2 [2560/50176 (5%)]\tLoss: 1.519012\n"
          ],
          "name": "stdout"
        },
        {
          "output_type": "stream",
          "text": [
            " 11%|█         | 22/196 [00:02<00:18,  9.62it/s]"
          ],
          "name": "stderr"
        },
        {
          "output_type": "stream",
          "text": [
            "Train Epoch: 2 [5120/50176 (10%)]\tLoss: 1.546042\n"
          ],
          "name": "stdout"
        },
        {
          "output_type": "stream",
          "text": [
            " 16%|█▋        | 32/196 [00:03<00:17,  9.50it/s]"
          ],
          "name": "stderr"
        },
        {
          "output_type": "stream",
          "text": [
            "Train Epoch: 2 [7680/50176 (15%)]\tLoss: 1.518416\n"
          ],
          "name": "stdout"
        },
        {
          "output_type": "stream",
          "text": [
            " 21%|██▏       | 42/196 [00:04<00:16,  9.48it/s]"
          ],
          "name": "stderr"
        },
        {
          "output_type": "stream",
          "text": [
            "Train Epoch: 2 [10240/50176 (20%)]\tLoss: 1.511984\n"
          ],
          "name": "stdout"
        },
        {
          "output_type": "stream",
          "text": [
            " 27%|██▋       | 52/196 [00:05<00:15,  9.50it/s]"
          ],
          "name": "stderr"
        },
        {
          "output_type": "stream",
          "text": [
            "Train Epoch: 2 [12800/50176 (26%)]\tLoss: 1.511783\n"
          ],
          "name": "stdout"
        },
        {
          "output_type": "stream",
          "text": [
            " 32%|███▏      | 62/196 [00:06<00:14,  9.37it/s]"
          ],
          "name": "stderr"
        },
        {
          "output_type": "stream",
          "text": [
            "Train Epoch: 2 [15360/50176 (31%)]\tLoss: 1.516181\n"
          ],
          "name": "stdout"
        },
        {
          "output_type": "stream",
          "text": [
            " 37%|███▋      | 72/196 [00:07<00:13,  9.41it/s]"
          ],
          "name": "stderr"
        },
        {
          "output_type": "stream",
          "text": [
            "Train Epoch: 2 [17920/50176 (36%)]\tLoss: 1.538168\n"
          ],
          "name": "stdout"
        },
        {
          "output_type": "stream",
          "text": [
            " 42%|████▏     | 82/196 [00:08<00:12,  9.41it/s]"
          ],
          "name": "stderr"
        },
        {
          "output_type": "stream",
          "text": [
            "Train Epoch: 2 [20480/50176 (41%)]\tLoss: 1.496694\n"
          ],
          "name": "stdout"
        },
        {
          "output_type": "stream",
          "text": [
            " 47%|████▋     | 92/196 [00:09<00:11,  9.38it/s]"
          ],
          "name": "stderr"
        },
        {
          "output_type": "stream",
          "text": [
            "Train Epoch: 2 [23040/50176 (46%)]\tLoss: 1.488352\n"
          ],
          "name": "stdout"
        },
        {
          "output_type": "stream",
          "text": [
            " 52%|█████▏    | 102/196 [00:10<00:10,  9.36it/s]"
          ],
          "name": "stderr"
        },
        {
          "output_type": "stream",
          "text": [
            "Train Epoch: 2 [25600/50176 (51%)]\tLoss: 1.496855\n"
          ],
          "name": "stdout"
        },
        {
          "output_type": "stream",
          "text": [
            " 57%|█████▋    | 112/196 [00:11<00:08,  9.42it/s]"
          ],
          "name": "stderr"
        },
        {
          "output_type": "stream",
          "text": [
            "Train Epoch: 2 [28160/50176 (56%)]\tLoss: 1.496012\n"
          ],
          "name": "stdout"
        },
        {
          "output_type": "stream",
          "text": [
            " 62%|██████▏   | 122/196 [00:12<00:07,  9.35it/s]"
          ],
          "name": "stderr"
        },
        {
          "output_type": "stream",
          "text": [
            "Train Epoch: 2 [30720/50176 (61%)]\tLoss: 1.488179\n"
          ],
          "name": "stdout"
        },
        {
          "output_type": "stream",
          "text": [
            " 67%|██████▋   | 132/196 [00:13<00:06,  9.44it/s]"
          ],
          "name": "stderr"
        },
        {
          "output_type": "stream",
          "text": [
            "Train Epoch: 2 [33280/50176 (66%)]\tLoss: 1.469405\n"
          ],
          "name": "stdout"
        },
        {
          "output_type": "stream",
          "text": [
            " 72%|███████▏  | 142/196 [00:14<00:05,  9.43it/s]"
          ],
          "name": "stderr"
        },
        {
          "output_type": "stream",
          "text": [
            "Train Epoch: 2 [35840/50176 (71%)]\tLoss: 1.479735\n"
          ],
          "name": "stdout"
        },
        {
          "output_type": "stream",
          "text": [
            " 78%|███████▊  | 152/196 [00:16<00:04,  9.30it/s]"
          ],
          "name": "stderr"
        },
        {
          "output_type": "stream",
          "text": [
            "Train Epoch: 2 [38400/50176 (77%)]\tLoss: 1.474073\n"
          ],
          "name": "stdout"
        },
        {
          "output_type": "stream",
          "text": [
            " 83%|████████▎ | 162/196 [00:17<00:03,  9.19it/s]"
          ],
          "name": "stderr"
        },
        {
          "output_type": "stream",
          "text": [
            "Train Epoch: 2 [40960/50176 (82%)]\tLoss: 1.501811\n"
          ],
          "name": "stdout"
        },
        {
          "output_type": "stream",
          "text": [
            " 88%|████████▊ | 172/196 [00:18<00:02,  9.32it/s]"
          ],
          "name": "stderr"
        },
        {
          "output_type": "stream",
          "text": [
            "Train Epoch: 2 [43520/50176 (87%)]\tLoss: 1.476112\n"
          ],
          "name": "stdout"
        },
        {
          "output_type": "stream",
          "text": [
            " 93%|█████████▎| 182/196 [00:19<00:01,  9.06it/s]"
          ],
          "name": "stderr"
        },
        {
          "output_type": "stream",
          "text": [
            "Train Epoch: 2 [46080/50176 (92%)]\tLoss: 1.538350\n"
          ],
          "name": "stdout"
        },
        {
          "output_type": "stream",
          "text": [
            " 98%|█████████▊| 192/196 [00:20<00:00,  9.13it/s]"
          ],
          "name": "stderr"
        },
        {
          "output_type": "stream",
          "text": [
            "Train Epoch: 2 [48640/50176 (97%)]\tLoss: 1.503814\n"
          ],
          "name": "stdout"
        },
        {
          "output_type": "stream",
          "text": [
            "100%|██████████| 196/196 [00:20<00:00,  9.42it/s]"
          ],
          "name": "stderr"
        },
        {
          "output_type": "stream",
          "text": [
            "49\n"
          ],
          "name": "stdout"
        },
        {
          "output_type": "stream",
          "text": [
            "\n"
          ],
          "name": "stderr"
        },
        {
          "output_type": "stream",
          "text": [
            "Input\tnly way left to get water, because Voldemort had planned it so ... He flung himself over to the edge\n",
            "GT\tly way left to get water, because Voldemort had planned it so ... He flung himself over to the edge \n",
            "pred\tey tas toat th tet tascr. tu ause toldemort wad toaneed tn womt . .a woong ois elf tfer th the fnges\n",
            "\n",
            "\n",
            "Input\t that had his arm. It released him, falling backward into the water with a splash; he scrambled to h\n",
            "GT\tthat had his arm. It released him, falling backward into the water with a splash; he scrambled to hi\n",
            "pred\twoat ted tas fno  \"t wealdle  tis  tocleng aack ard tn o the falcr.tath ansteayhe he hahameled to ti\n",
            "\n",
            "\n",
            "Input\tth, and his feet left the ground as they lifted him and began to carry him, slowly and surely, back \n",
            "GT\th, and his feet left the ground as they lifted him and began to carry him, slowly and surely, back t\n",
            "pred\th  tnd tes faet aoft the fround tn the  wokt d tim tnd te an to tonri aas  aoowly and thrp y  tuck o\n",
            "\n",
            "\n",
            "Input\t. . . Dumbledore scooped the locket from the bottom of the stone basin and stowed it inside his robe\n",
            "GT\t . . Dumbledore scooped the locket from the bottom of the stone basin and stowed it inside his robes\n",
            "pred\t . . .umbledore waroned toe fook d ooom the cottlm of the ftane oac ngtnd thanad tt wn tde tim fobes\n",
            "\n",
            "\n",
            "Input\tsir, I forgot -- about fire -- they were coming at me and I panicked --\" \"Quite understandable,\" mur\n",
            "GT\tir, I forgot -- about fire -- they were coming at me and I panicked --\" \"Quite understandable,\" murm\n",
            "pred\tad, a weu et t\"\"tnout tone a- \"he  ware woueng tn to tnd t wuntne d t\"  \"Iuid  tnderstand yle   sutd\n",
            "\n",
            "\n"
          ],
          "name": "stdout"
        },
        {
          "output_type": "stream",
          "text": [
            "\r  0%|          | 0/196 [00:00<?, ?it/s]"
          ],
          "name": "stderr"
        },
        {
          "output_type": "stream",
          "text": [
            "\n",
            "Test set: Average loss: 1.5107, Accuracy: 696224/1254400 (56%)\n",
            "\n",
            "Saved /gdrive/My Drive/CSE415/language/checkpoints/language_002.pt\n",
            "\n",
            "generated sentence\t\t Harry Potter, Voldemort, and Dumbledore walk into a bar. What was staring to the for the find of the first of the first of the first of the first of the first of the first of the first of the first of the first of the first of the first of the first of the \n",
            "\n"
          ],
          "name": "stdout"
        },
        {
          "output_type": "stream",
          "text": [
            "  1%|          | 2/196 [00:00<00:30,  6.38it/s]"
          ],
          "name": "stderr"
        },
        {
          "output_type": "stream",
          "text": [
            "Train Epoch: 3 [0/50176 (0%)]\tLoss: 1.499276\n"
          ],
          "name": "stdout"
        },
        {
          "output_type": "stream",
          "text": [
            "  6%|▌         | 12/196 [00:01<00:20,  8.91it/s]"
          ],
          "name": "stderr"
        },
        {
          "output_type": "stream",
          "text": [
            "Train Epoch: 3 [2560/50176 (5%)]\tLoss: 1.458188\n"
          ],
          "name": "stdout"
        },
        {
          "output_type": "stream",
          "text": [
            " 11%|█         | 22/196 [00:02<00:19,  9.11it/s]"
          ],
          "name": "stderr"
        },
        {
          "output_type": "stream",
          "text": [
            "Train Epoch: 3 [5120/50176 (10%)]\tLoss: 1.487007\n"
          ],
          "name": "stdout"
        },
        {
          "output_type": "stream",
          "text": [
            " 16%|█▋        | 32/196 [00:03<00:18,  9.00it/s]"
          ],
          "name": "stderr"
        },
        {
          "output_type": "stream",
          "text": [
            "Train Epoch: 3 [7680/50176 (15%)]\tLoss: 1.460182\n"
          ],
          "name": "stdout"
        },
        {
          "output_type": "stream",
          "text": [
            " 21%|██▏       | 42/196 [00:04<00:17,  9.04it/s]"
          ],
          "name": "stderr"
        },
        {
          "output_type": "stream",
          "text": [
            "Train Epoch: 3 [10240/50176 (20%)]\tLoss: 1.449699\n"
          ],
          "name": "stdout"
        },
        {
          "output_type": "stream",
          "text": [
            " 27%|██▋       | 52/196 [00:05<00:15,  9.14it/s]"
          ],
          "name": "stderr"
        },
        {
          "output_type": "stream",
          "text": [
            "Train Epoch: 3 [12800/50176 (26%)]\tLoss: 1.459317\n"
          ],
          "name": "stdout"
        },
        {
          "output_type": "stream",
          "text": [
            " 32%|███▏      | 62/196 [00:06<00:14,  9.14it/s]"
          ],
          "name": "stderr"
        },
        {
          "output_type": "stream",
          "text": [
            "Train Epoch: 3 [15360/50176 (31%)]\tLoss: 1.463615\n"
          ],
          "name": "stdout"
        },
        {
          "output_type": "stream",
          "text": [
            " 37%|███▋      | 72/196 [00:08<00:13,  9.23it/s]"
          ],
          "name": "stderr"
        },
        {
          "output_type": "stream",
          "text": [
            "Train Epoch: 3 [17920/50176 (36%)]\tLoss: 1.462279\n"
          ],
          "name": "stdout"
        },
        {
          "output_type": "stream",
          "text": [
            " 42%|████▏     | 82/196 [00:09<00:12,  9.08it/s]"
          ],
          "name": "stderr"
        },
        {
          "output_type": "stream",
          "text": [
            "Train Epoch: 3 [20480/50176 (41%)]\tLoss: 1.439479\n"
          ],
          "name": "stdout"
        },
        {
          "output_type": "stream",
          "text": [
            " 47%|████▋     | 92/196 [00:10<00:11,  9.26it/s]"
          ],
          "name": "stderr"
        },
        {
          "output_type": "stream",
          "text": [
            "Train Epoch: 3 [23040/50176 (46%)]\tLoss: 1.443110\n"
          ],
          "name": "stdout"
        },
        {
          "output_type": "stream",
          "text": [
            " 52%|█████▏    | 102/196 [00:11<00:10,  9.18it/s]"
          ],
          "name": "stderr"
        },
        {
          "output_type": "stream",
          "text": [
            "Train Epoch: 3 [25600/50176 (51%)]\tLoss: 1.455999\n"
          ],
          "name": "stdout"
        },
        {
          "output_type": "stream",
          "text": [
            " 57%|█████▋    | 112/196 [00:12<00:09,  9.03it/s]"
          ],
          "name": "stderr"
        },
        {
          "output_type": "stream",
          "text": [
            "Train Epoch: 3 [28160/50176 (56%)]\tLoss: 1.456933\n"
          ],
          "name": "stdout"
        },
        {
          "output_type": "stream",
          "text": [
            " 62%|██████▏   | 122/196 [00:13<00:08,  9.05it/s]"
          ],
          "name": "stderr"
        },
        {
          "output_type": "stream",
          "text": [
            "Train Epoch: 3 [30720/50176 (61%)]\tLoss: 1.449320\n"
          ],
          "name": "stdout"
        },
        {
          "output_type": "stream",
          "text": [
            " 67%|██████▋   | 132/196 [00:14<00:06,  9.19it/s]"
          ],
          "name": "stderr"
        },
        {
          "output_type": "stream",
          "text": [
            "Train Epoch: 3 [33280/50176 (66%)]\tLoss: 1.448488\n"
          ],
          "name": "stdout"
        },
        {
          "output_type": "stream",
          "text": [
            " 72%|███████▏  | 142/196 [00:15<00:05,  9.12it/s]"
          ],
          "name": "stderr"
        },
        {
          "output_type": "stream",
          "text": [
            "Train Epoch: 3 [35840/50176 (71%)]\tLoss: 1.439264\n"
          ],
          "name": "stdout"
        },
        {
          "output_type": "stream",
          "text": [
            " 78%|███████▊  | 152/196 [00:16<00:04,  9.29it/s]"
          ],
          "name": "stderr"
        },
        {
          "output_type": "stream",
          "text": [
            "Train Epoch: 3 [38400/50176 (77%)]\tLoss: 1.431561\n"
          ],
          "name": "stdout"
        },
        {
          "output_type": "stream",
          "text": [
            " 83%|████████▎ | 162/196 [00:17<00:03,  9.37it/s]"
          ],
          "name": "stderr"
        },
        {
          "output_type": "stream",
          "text": [
            "Train Epoch: 3 [40960/50176 (82%)]\tLoss: 1.460443\n"
          ],
          "name": "stdout"
        },
        {
          "output_type": "stream",
          "text": [
            " 88%|████████▊ | 172/196 [00:18<00:02,  9.39it/s]"
          ],
          "name": "stderr"
        },
        {
          "output_type": "stream",
          "text": [
            "Train Epoch: 3 [43520/50176 (87%)]\tLoss: 1.424048\n"
          ],
          "name": "stdout"
        },
        {
          "output_type": "stream",
          "text": [
            " 93%|█████████▎| 182/196 [00:19<00:01,  9.45it/s]"
          ],
          "name": "stderr"
        },
        {
          "output_type": "stream",
          "text": [
            "Train Epoch: 3 [46080/50176 (92%)]\tLoss: 1.457136\n"
          ],
          "name": "stdout"
        },
        {
          "output_type": "stream",
          "text": [
            " 98%|█████████▊| 192/196 [00:21<00:00,  9.31it/s]"
          ],
          "name": "stderr"
        },
        {
          "output_type": "stream",
          "text": [
            "Train Epoch: 3 [48640/50176 (97%)]\tLoss: 1.450784\n"
          ],
          "name": "stdout"
        },
        {
          "output_type": "stream",
          "text": [
            "100%|██████████| 196/196 [00:21<00:00,  9.16it/s]"
          ],
          "name": "stderr"
        },
        {
          "output_type": "stream",
          "text": [
            "49\n"
          ],
          "name": "stdout"
        },
        {
          "output_type": "stream",
          "text": [
            "\n"
          ],
          "name": "stderr"
        },
        {
          "output_type": "stream",
          "text": [
            "Input\tnly way left to get water, because Voldemort had planned it so ... He flung himself over to the edge\n",
            "GT\tly way left to get water, because Voldemort had planned it so ... He flung himself over to the edge \n",
            "pred\tdy tas toat th tet thscr. tucause toldemort wad tuayeed tn womt ...e woong ois elf tfer th the dnge \n",
            "\n",
            "\n",
            "Input\t that had his arm. It released him, falling backward into the water with a splash; he scrambled to h\n",
            "GT\tthat had his arm. It released him, falling backward into the water with a splash; he scrambled to hi\n",
            "pred\twoat ted tem fnms \"t wealaled tim  tocleng teck ard tnto the calcr.tith a ltiinhe he wahameled to ti\n",
            "\n",
            "\n",
            "Input\tth, and his feet left the ground as they lifted him and began to carry him, slowly and surely, back \n",
            "GT\th, and his feet left the ground as they lifted him and began to carry him, slowly and surely, back t\n",
            "pred\th  tnd tes faet aiat the dround tn the  wokted tim tnd teean to tonei.aams toiwly and ttrp y  tuck t\n",
            "\n",
            "\n",
            "Input\t. . . Dumbledore scooped the locket from the bottom of the stone basin and stowed it inside his robe\n",
            "GT\t . . Dumbledore scooped the locket from the bottom of the stone basin and stowed it inside his robes\n",
            "pred\t . . .umbledore waroned toe dook d ooom the cottlm of the ctane oecingand ttaoad tn tntide tim fobes\n",
            "\n",
            "\n",
            "Input\tsir, I forgot -- about fire -- they were coming at me and I panicked --\" \"Quite understandable,\" mur\n",
            "GT\tir, I forgot -- about fire -- they were coming at me and I panicked --\" \"Quite understandable,\" murm\n",
            "pred\tad, w weugettt-\"tnout tons t-\"\"he  were noueng tn te tnd t wunts  d t\"  \"Iuide tnderstand yle   sutd\n",
            "\n",
            "\n"
          ],
          "name": "stdout"
        },
        {
          "output_type": "stream",
          "text": [
            "\r  0%|          | 0/196 [00:00<?, ?it/s]"
          ],
          "name": "stderr"
        },
        {
          "output_type": "stream",
          "text": [
            "\n",
            "Test set: Average loss: 1.4616, Accuracy: 709052/1254400 (57%)\n",
            "\n",
            "Saved /gdrive/My Drive/CSE415/language/checkpoints/language_003.pt\n",
            "\n",
            "generated sentence\t\t Harry Potter, Voldemort, and Dumbledore walk into a bar. Well, the door that was the door that was the door that was the door that was the door that was the door that was the door that was the door that was the door that was the door that was the door that \n",
            "\n"
          ],
          "name": "stdout"
        },
        {
          "output_type": "stream",
          "text": [
            "  1%|          | 2/196 [00:00<00:29,  6.64it/s]"
          ],
          "name": "stderr"
        },
        {
          "output_type": "stream",
          "text": [
            "Train Epoch: 4 [0/50176 (0%)]\tLoss: 1.450170\n"
          ],
          "name": "stdout"
        },
        {
          "output_type": "stream",
          "text": [
            "  6%|▌         | 12/196 [00:01<00:19,  9.25it/s]"
          ],
          "name": "stderr"
        },
        {
          "output_type": "stream",
          "text": [
            "Train Epoch: 4 [2560/50176 (5%)]\tLoss: 1.410549\n"
          ],
          "name": "stdout"
        },
        {
          "output_type": "stream",
          "text": [
            " 11%|█         | 22/196 [00:02<00:18,  9.43it/s]"
          ],
          "name": "stderr"
        },
        {
          "output_type": "stream",
          "text": [
            "Train Epoch: 4 [5120/50176 (10%)]\tLoss: 1.447490\n"
          ],
          "name": "stdout"
        },
        {
          "output_type": "stream",
          "text": [
            " 16%|█▋        | 32/196 [00:03<00:17,  9.40it/s]"
          ],
          "name": "stderr"
        },
        {
          "output_type": "stream",
          "text": [
            "Train Epoch: 4 [7680/50176 (15%)]\tLoss: 1.430070\n"
          ],
          "name": "stdout"
        },
        {
          "output_type": "stream",
          "text": [
            " 21%|██▏       | 42/196 [00:04<00:16,  9.34it/s]"
          ],
          "name": "stderr"
        },
        {
          "output_type": "stream",
          "text": [
            "Train Epoch: 4 [10240/50176 (20%)]\tLoss: 1.423193\n"
          ],
          "name": "stdout"
        },
        {
          "output_type": "stream",
          "text": [
            " 27%|██▋       | 52/196 [00:05<00:15,  9.32it/s]"
          ],
          "name": "stderr"
        },
        {
          "output_type": "stream",
          "text": [
            "Train Epoch: 4 [12800/50176 (26%)]\tLoss: 1.420508\n"
          ],
          "name": "stdout"
        },
        {
          "output_type": "stream",
          "text": [
            " 32%|███▏      | 62/196 [00:06<00:14,  9.37it/s]"
          ],
          "name": "stderr"
        },
        {
          "output_type": "stream",
          "text": [
            "Train Epoch: 4 [15360/50176 (31%)]\tLoss: 1.429486\n"
          ],
          "name": "stdout"
        },
        {
          "output_type": "stream",
          "text": [
            " 37%|███▋      | 72/196 [00:07<00:13,  9.36it/s]"
          ],
          "name": "stderr"
        },
        {
          "output_type": "stream",
          "text": [
            "Train Epoch: 4 [17920/50176 (36%)]\tLoss: 1.433878\n"
          ],
          "name": "stdout"
        },
        {
          "output_type": "stream",
          "text": [
            " 42%|████▏     | 82/196 [00:08<00:12,  9.31it/s]"
          ],
          "name": "stderr"
        },
        {
          "output_type": "stream",
          "text": [
            "Train Epoch: 4 [20480/50176 (41%)]\tLoss: 1.407487\n"
          ],
          "name": "stdout"
        },
        {
          "output_type": "stream",
          "text": [
            " 47%|████▋     | 92/196 [00:09<00:10,  9.61it/s]"
          ],
          "name": "stderr"
        },
        {
          "output_type": "stream",
          "text": [
            "Train Epoch: 4 [23040/50176 (46%)]\tLoss: 1.417363\n"
          ],
          "name": "stdout"
        },
        {
          "output_type": "stream",
          "text": [
            " 52%|█████▏    | 102/196 [00:10<00:09,  9.61it/s]"
          ],
          "name": "stderr"
        },
        {
          "output_type": "stream",
          "text": [
            "Train Epoch: 4 [25600/50176 (51%)]\tLoss: 1.424439\n"
          ],
          "name": "stdout"
        },
        {
          "output_type": "stream",
          "text": [
            " 57%|█████▋    | 112/196 [00:11<00:08,  9.56it/s]"
          ],
          "name": "stderr"
        },
        {
          "output_type": "stream",
          "text": [
            "Train Epoch: 4 [28160/50176 (56%)]\tLoss: 1.428510\n"
          ],
          "name": "stdout"
        },
        {
          "output_type": "stream",
          "text": [
            " 62%|██████▏   | 122/196 [00:12<00:07,  9.59it/s]"
          ],
          "name": "stderr"
        },
        {
          "output_type": "stream",
          "text": [
            "Train Epoch: 4 [30720/50176 (61%)]\tLoss: 1.411835\n"
          ],
          "name": "stdout"
        },
        {
          "output_type": "stream",
          "text": [
            " 67%|██████▋   | 132/196 [00:13<00:06,  9.54it/s]"
          ],
          "name": "stderr"
        },
        {
          "output_type": "stream",
          "text": [
            "Train Epoch: 4 [33280/50176 (66%)]\tLoss: 1.405272\n"
          ],
          "name": "stdout"
        },
        {
          "output_type": "stream",
          "text": [
            " 72%|███████▏  | 142/196 [00:14<00:05,  9.71it/s]"
          ],
          "name": "stderr"
        },
        {
          "output_type": "stream",
          "text": [
            "Train Epoch: 4 [35840/50176 (71%)]\tLoss: 1.441598\n"
          ],
          "name": "stdout"
        },
        {
          "output_type": "stream",
          "text": [
            " 78%|███████▊  | 152/196 [00:16<00:04,  9.81it/s]"
          ],
          "name": "stderr"
        },
        {
          "output_type": "stream",
          "text": [
            "Train Epoch: 4 [38400/50176 (77%)]\tLoss: 1.415048\n"
          ],
          "name": "stdout"
        },
        {
          "output_type": "stream",
          "text": [
            " 83%|████████▎ | 162/196 [00:17<00:03,  9.74it/s]"
          ],
          "name": "stderr"
        },
        {
          "output_type": "stream",
          "text": [
            "Train Epoch: 4 [40960/50176 (82%)]\tLoss: 1.437566\n"
          ],
          "name": "stdout"
        },
        {
          "output_type": "stream",
          "text": [
            " 87%|████████▋ | 171/196 [00:17<00:02,  9.64it/s]"
          ],
          "name": "stderr"
        },
        {
          "output_type": "stream",
          "text": [
            "Train Epoch: 4 [43520/50176 (87%)]\tLoss: 1.398263\n"
          ],
          "name": "stdout"
        },
        {
          "output_type": "stream",
          "text": [
            " 93%|█████████▎| 182/196 [00:19<00:01,  9.74it/s]"
          ],
          "name": "stderr"
        },
        {
          "output_type": "stream",
          "text": [
            "Train Epoch: 4 [46080/50176 (92%)]\tLoss: 1.426394\n"
          ],
          "name": "stdout"
        },
        {
          "output_type": "stream",
          "text": [
            " 98%|█████████▊| 192/196 [00:20<00:00,  9.59it/s]"
          ],
          "name": "stderr"
        },
        {
          "output_type": "stream",
          "text": [
            "Train Epoch: 4 [48640/50176 (97%)]\tLoss: 1.427363\n"
          ],
          "name": "stdout"
        },
        {
          "output_type": "stream",
          "text": [
            "100%|██████████| 196/196 [00:20<00:00,  9.55it/s]"
          ],
          "name": "stderr"
        },
        {
          "output_type": "stream",
          "text": [
            "49\n"
          ],
          "name": "stdout"
        },
        {
          "output_type": "stream",
          "text": [
            "\n"
          ],
          "name": "stderr"
        },
        {
          "output_type": "stream",
          "text": [
            "Input\tnly way left to get water, because Voldemort had planned it so ... He flung himself over to the edge\n",
            "GT\tly way left to get water, because Voldemort had planned it so ... He flung himself over to the edge \n",
            "pred\tdy tas toat th tet thscr. aucause toldemort wad tueyeed tn iomt . .e weong oimself afer th the dnge \n",
            "\n",
            "\n",
            "Input\t that had his arm. It released him, falling backward into the water with a splash; he scrambled to h\n",
            "GT\tthat had his arm. It released him, falling backward into the water with a splash; he scrambled to hi\n",
            "pred\twoat hed bas hnms \"t weaeased tim  aocleng aeck ard tnto the calcr.tath a stiinhe he hahameled oo ti\n",
            "\n",
            "\n",
            "Input\tth, and his feet left the ground as they lifted him and began to carry him, slowly and surely, back \n",
            "GT\th, and his feet left the ground as they lifted him and began to carry him, slowly and surely, back t\n",
            "pred\th  and tes faet aiat the dround on the  wokeed timsand teean to tonri.aams ahiwly.atd ttrp y  auck t\n",
            "\n",
            "\n",
            "Input\t. . . Dumbledore scooped the locket from the bottom of the stone basin and stowed it inside his robe\n",
            "GT\t . . Dumbledore scooped the locket from the bottom of the stone basin and stowed it inside his robes\n",
            "pred\t . . .umbledore waroned toe dooked ooom the cottlm of the ctane oecingand ttaoad tn wntide tim fobes\n",
            "\n",
            "\n",
            "Input\tsir, I forgot -- about fire -- they were coming at me and I panicked --\" \"Quite understandable,\" mur\n",
            "GT\tir, I forgot -- about fire -- they were coming at me and I panicked --\" \"Quite understandable,\" murm\n",
            "pred\tad, w deugettt-\"tnout tons y-\"ahe 'were nouing tn te tnd t wuntseed t\"  \"Wuide ysderstand yle \" sutd\n",
            "\n",
            "\n"
          ],
          "name": "stdout"
        },
        {
          "output_type": "stream",
          "text": [
            "\r  0%|          | 0/196 [00:00<?, ?it/s]"
          ],
          "name": "stderr"
        },
        {
          "output_type": "stream",
          "text": [
            "\n",
            "Test set: Average loss: 1.4323, Accuracy: 717763/1254400 (57%)\n",
            "\n",
            "Saved /gdrive/My Drive/CSE415/language/checkpoints/language_004.pt\n",
            "\n",
            "generated sentence\t\t Harry Potter, Voldemort, and Dumbledore walk into a bar. Well, the stand and the door of the door of the courtains of the courtains of the courtains of the courtains of the courtains of the counters of the counters of the counters of the counters of the cou\n",
            "\n"
          ],
          "name": "stdout"
        },
        {
          "output_type": "stream",
          "text": [
            "  1%|          | 2/196 [00:00<00:29,  6.60it/s]"
          ],
          "name": "stderr"
        },
        {
          "output_type": "stream",
          "text": [
            "Train Epoch: 5 [0/50176 (0%)]\tLoss: 1.423566\n"
          ],
          "name": "stdout"
        },
        {
          "output_type": "stream",
          "text": [
            "  6%|▌         | 12/196 [00:01<00:19,  9.33it/s]"
          ],
          "name": "stderr"
        },
        {
          "output_type": "stream",
          "text": [
            "Train Epoch: 5 [2560/50176 (5%)]\tLoss: 1.389753\n"
          ],
          "name": "stdout"
        },
        {
          "output_type": "stream",
          "text": [
            " 11%|█         | 22/196 [00:02<00:17,  9.69it/s]"
          ],
          "name": "stderr"
        },
        {
          "output_type": "stream",
          "text": [
            "Train Epoch: 5 [5120/50176 (10%)]\tLoss: 1.430504\n"
          ],
          "name": "stdout"
        },
        {
          "output_type": "stream",
          "text": [
            " 16%|█▋        | 32/196 [00:03<00:16,  9.80it/s]"
          ],
          "name": "stderr"
        },
        {
          "output_type": "stream",
          "text": [
            "Train Epoch: 5 [7680/50176 (15%)]\tLoss: 1.408688\n"
          ],
          "name": "stdout"
        },
        {
          "output_type": "stream",
          "text": [
            " 21%|██▏       | 42/196 [00:04<00:15,  9.77it/s]"
          ],
          "name": "stderr"
        },
        {
          "output_type": "stream",
          "text": [
            "Train Epoch: 5 [10240/50176 (20%)]\tLoss: 1.413316\n"
          ],
          "name": "stdout"
        },
        {
          "output_type": "stream",
          "text": [
            " 27%|██▋       | 52/196 [00:05<00:14,  9.78it/s]"
          ],
          "name": "stderr"
        },
        {
          "output_type": "stream",
          "text": [
            "Train Epoch: 5 [12800/50176 (26%)]\tLoss: 1.424444\n"
          ],
          "name": "stdout"
        },
        {
          "output_type": "stream",
          "text": [
            " 32%|███▏      | 62/196 [00:06<00:13,  9.73it/s]"
          ],
          "name": "stderr"
        },
        {
          "output_type": "stream",
          "text": [
            "Train Epoch: 5 [15360/50176 (31%)]\tLoss: 1.417494\n"
          ],
          "name": "stdout"
        },
        {
          "output_type": "stream",
          "text": [
            " 37%|███▋      | 72/196 [00:07<00:12,  9.77it/s]"
          ],
          "name": "stderr"
        },
        {
          "output_type": "stream",
          "text": [
            "Train Epoch: 5 [17920/50176 (36%)]\tLoss: 1.423203\n"
          ],
          "name": "stdout"
        },
        {
          "output_type": "stream",
          "text": [
            " 42%|████▏     | 82/196 [00:08<00:11,  9.69it/s]"
          ],
          "name": "stderr"
        },
        {
          "output_type": "stream",
          "text": [
            "Train Epoch: 5 [20480/50176 (41%)]\tLoss: 1.388881\n"
          ],
          "name": "stdout"
        },
        {
          "output_type": "stream",
          "text": [
            " 47%|████▋     | 92/196 [00:09<00:10,  9.59it/s]"
          ],
          "name": "stderr"
        },
        {
          "output_type": "stream",
          "text": [
            "Train Epoch: 5 [23040/50176 (46%)]\tLoss: 1.394580\n"
          ],
          "name": "stdout"
        },
        {
          "output_type": "stream",
          "text": [
            " 52%|█████▏    | 102/196 [00:10<00:09,  9.77it/s]"
          ],
          "name": "stderr"
        },
        {
          "output_type": "stream",
          "text": [
            "Train Epoch: 5 [25600/50176 (51%)]\tLoss: 1.413032\n"
          ],
          "name": "stdout"
        },
        {
          "output_type": "stream",
          "text": [
            " 57%|█████▋    | 112/196 [00:11<00:08,  9.74it/s]"
          ],
          "name": "stderr"
        },
        {
          "output_type": "stream",
          "text": [
            "Train Epoch: 5 [28160/50176 (56%)]\tLoss: 1.405962\n"
          ],
          "name": "stdout"
        },
        {
          "output_type": "stream",
          "text": [
            " 62%|██████▏   | 122/196 [00:12<00:07,  9.54it/s]"
          ],
          "name": "stderr"
        },
        {
          "output_type": "stream",
          "text": [
            "Train Epoch: 5 [30720/50176 (61%)]\tLoss: 1.435707\n"
          ],
          "name": "stdout"
        },
        {
          "output_type": "stream",
          "text": [
            " 67%|██████▋   | 132/196 [00:13<00:06,  9.80it/s]"
          ],
          "name": "stderr"
        },
        {
          "output_type": "stream",
          "text": [
            "Train Epoch: 5 [33280/50176 (66%)]\tLoss: 1.429438\n"
          ],
          "name": "stdout"
        },
        {
          "output_type": "stream",
          "text": [
            " 72%|███████▏  | 142/196 [00:14<00:05,  9.67it/s]"
          ],
          "name": "stderr"
        },
        {
          "output_type": "stream",
          "text": [
            "Train Epoch: 5 [35840/50176 (71%)]\tLoss: 1.409707\n"
          ],
          "name": "stdout"
        },
        {
          "output_type": "stream",
          "text": [
            " 78%|███████▊  | 152/196 [00:15<00:04,  9.82it/s]"
          ],
          "name": "stderr"
        },
        {
          "output_type": "stream",
          "text": [
            "Train Epoch: 5 [38400/50176 (77%)]\tLoss: 1.392930\n"
          ],
          "name": "stdout"
        },
        {
          "output_type": "stream",
          "text": [
            " 83%|████████▎ | 162/196 [00:16<00:03,  9.56it/s]"
          ],
          "name": "stderr"
        },
        {
          "output_type": "stream",
          "text": [
            "Train Epoch: 5 [40960/50176 (82%)]\tLoss: 1.416402\n"
          ],
          "name": "stdout"
        },
        {
          "output_type": "stream",
          "text": [
            " 88%|████████▊ | 172/196 [00:17<00:02,  9.68it/s]"
          ],
          "name": "stderr"
        },
        {
          "output_type": "stream",
          "text": [
            "Train Epoch: 5 [43520/50176 (87%)]\tLoss: 1.383956\n"
          ],
          "name": "stdout"
        },
        {
          "output_type": "stream",
          "text": [
            " 93%|█████████▎| 182/196 [00:18<00:01,  9.72it/s]"
          ],
          "name": "stderr"
        },
        {
          "output_type": "stream",
          "text": [
            "Train Epoch: 5 [46080/50176 (92%)]\tLoss: 1.411087\n"
          ],
          "name": "stdout"
        },
        {
          "output_type": "stream",
          "text": [
            " 98%|█████████▊| 192/196 [00:19<00:00,  9.72it/s]"
          ],
          "name": "stderr"
        },
        {
          "output_type": "stream",
          "text": [
            "Train Epoch: 5 [48640/50176 (97%)]\tLoss: 1.407938\n"
          ],
          "name": "stdout"
        },
        {
          "output_type": "stream",
          "text": [
            "100%|██████████| 196/196 [00:20<00:00,  9.67it/s]"
          ],
          "name": "stderr"
        },
        {
          "output_type": "stream",
          "text": [
            "49\n"
          ],
          "name": "stdout"
        },
        {
          "output_type": "stream",
          "text": [
            "\n"
          ],
          "name": "stderr"
        },
        {
          "output_type": "stream",
          "text": [
            "Input\tnly way left to get water, because Voldemort had planned it so ... He flung himself over to the edge\n",
            "GT\tly way left to get water, because Voldemort had planned it so ... He flung himself over to the edge \n",
            "pred\tgy tas tiat th tet thscr  aucause holdemort wad tuaneed tn iomt . .e woing oim elf afer th the dnge \n",
            "\n",
            "\n",
            "Input\t that had his arm. It released him, falling backward into the water with a splash; he scrambled to h\n",
            "GT\tthat had his arm. It released him, falling backward into the water with a splash; he scrambled to hi\n",
            "pred\twoat hed aas fnms \"t weaeased tim  aocling aack ard anto the calcr.aath a lhiinhe he hahameled oo ti\n",
            "\n",
            "\n",
            "Input\tth, and his feet left the ground as they lifted him and began to carry him, slowly and surely, back \n",
            "GT\th, and his feet left the ground as they lifted him and began to carry him, slowly and surely, back t\n",
            "pred\th  tnd tes faet aiat the dround on the  wokeed timsand teaan to torriiaams ahiwly.atd ttrp y  auck t\n",
            "\n",
            "\n",
            "Input\t. . . Dumbledore scooped the locket from the bottom of the stone basin and stowed it inside his robe\n",
            "GT\t . . Dumbledore scooped the locket from the bottom of the stone basin and stowed it inside his robes\n",
            "pred\t . . .umbledore waaoned tha diok d ooom the dattlm of the ctane oacingand thaoad tn wntide tim fobes\n",
            "\n",
            "\n",
            "Input\tsir, I forgot -- about fire -- they were coming at me and I panicked --\" \"Quite understandable,\" mur\n",
            "GT\tir, I forgot -- about fire -- they were coming at me and I panicked --\" \"Quite understandable,\" murm\n",
            "pred\tad, n deugottt-\"\"nout tons y-\"ahe 'were noming tn ta tnd t wustse d t\"\" \"Wuide tsderstand yle   satd\n",
            "\n",
            "\n"
          ],
          "name": "stdout"
        },
        {
          "output_type": "stream",
          "text": [
            "\r  0%|          | 0/196 [00:00<?, ?it/s]"
          ],
          "name": "stderr"
        },
        {
          "output_type": "stream",
          "text": [
            "\n",
            "Test set: Average loss: 1.4126, Accuracy: 725731/1254400 (58%)\n",
            "\n",
            "Saved /gdrive/My Drive/CSE415/language/checkpoints/language_005.pt\n",
            "\n",
            "generated sentence\t\t Harry Potter, Voldemort, and Dumbledore walk into a bar. What is it,\" said Harry. \"I don't think you think you think you think you think you think you think you think you think you think you think you think you think you think you think you think you think \n",
            "\n"
          ],
          "name": "stdout"
        },
        {
          "output_type": "stream",
          "text": [
            "  1%|          | 2/196 [00:00<00:30,  6.44it/s]"
          ],
          "name": "stderr"
        },
        {
          "output_type": "stream",
          "text": [
            "Train Epoch: 6 [0/50176 (0%)]\tLoss: 1.406090\n"
          ],
          "name": "stdout"
        },
        {
          "output_type": "stream",
          "text": [
            "  6%|▌         | 12/196 [00:01<00:19,  9.47it/s]"
          ],
          "name": "stderr"
        },
        {
          "output_type": "stream",
          "text": [
            "Train Epoch: 6 [2560/50176 (5%)]\tLoss: 1.376849\n"
          ],
          "name": "stdout"
        },
        {
          "output_type": "stream",
          "text": [
            " 11%|█         | 22/196 [00:02<00:18,  9.35it/s]"
          ],
          "name": "stderr"
        },
        {
          "output_type": "stream",
          "text": [
            "Train Epoch: 6 [5120/50176 (10%)]\tLoss: 1.414480\n"
          ],
          "name": "stdout"
        },
        {
          "output_type": "stream",
          "text": [
            " 16%|█▋        | 32/196 [00:03<00:17,  9.47it/s]"
          ],
          "name": "stderr"
        },
        {
          "output_type": "stream",
          "text": [
            "Train Epoch: 6 [7680/50176 (15%)]\tLoss: 1.388406\n"
          ],
          "name": "stdout"
        },
        {
          "output_type": "stream",
          "text": [
            " 21%|██▏       | 42/196 [00:04<00:16,  9.62it/s]"
          ],
          "name": "stderr"
        },
        {
          "output_type": "stream",
          "text": [
            "Train Epoch: 6 [10240/50176 (20%)]\tLoss: 1.380887\n"
          ],
          "name": "stdout"
        },
        {
          "output_type": "stream",
          "text": [
            " 27%|██▋       | 52/196 [00:05<00:15,  9.49it/s]"
          ],
          "name": "stderr"
        },
        {
          "output_type": "stream",
          "text": [
            "Train Epoch: 6 [12800/50176 (26%)]\tLoss: 1.384084\n"
          ],
          "name": "stdout"
        },
        {
          "output_type": "stream",
          "text": [
            " 32%|███▏      | 62/196 [00:06<00:14,  9.53it/s]"
          ],
          "name": "stderr"
        },
        {
          "output_type": "stream",
          "text": [
            "Train Epoch: 6 [15360/50176 (31%)]\tLoss: 1.415431\n"
          ],
          "name": "stdout"
        },
        {
          "output_type": "stream",
          "text": [
            " 37%|███▋      | 72/196 [00:07<00:13,  9.54it/s]"
          ],
          "name": "stderr"
        },
        {
          "output_type": "stream",
          "text": [
            "Train Epoch: 6 [17920/50176 (36%)]\tLoss: 1.410722\n"
          ],
          "name": "stdout"
        },
        {
          "output_type": "stream",
          "text": [
            " 42%|████▏     | 82/196 [00:08<00:11,  9.52it/s]"
          ],
          "name": "stderr"
        },
        {
          "output_type": "stream",
          "text": [
            "Train Epoch: 6 [20480/50176 (41%)]\tLoss: 1.380796\n"
          ],
          "name": "stdout"
        },
        {
          "output_type": "stream",
          "text": [
            " 47%|████▋     | 92/196 [00:09<00:10,  9.61it/s]"
          ],
          "name": "stderr"
        },
        {
          "output_type": "stream",
          "text": [
            "Train Epoch: 6 [23040/50176 (46%)]\tLoss: 1.401153\n"
          ],
          "name": "stdout"
        },
        {
          "output_type": "stream",
          "text": [
            " 52%|█████▏    | 102/196 [00:10<00:09,  9.51it/s]"
          ],
          "name": "stderr"
        },
        {
          "output_type": "stream",
          "text": [
            "Train Epoch: 6 [25600/50176 (51%)]\tLoss: 1.400205\n"
          ],
          "name": "stdout"
        },
        {
          "output_type": "stream",
          "text": [
            " 57%|█████▋    | 112/196 [00:11<00:08,  9.57it/s]"
          ],
          "name": "stderr"
        },
        {
          "output_type": "stream",
          "text": [
            "Train Epoch: 6 [28160/50176 (56%)]\tLoss: 1.395158\n"
          ],
          "name": "stdout"
        },
        {
          "output_type": "stream",
          "text": [
            " 62%|██████▏   | 122/196 [00:12<00:07,  9.51it/s]"
          ],
          "name": "stderr"
        },
        {
          "output_type": "stream",
          "text": [
            "Train Epoch: 6 [30720/50176 (61%)]\tLoss: 1.399286\n"
          ],
          "name": "stdout"
        },
        {
          "output_type": "stream",
          "text": [
            " 67%|██████▋   | 132/196 [00:13<00:06,  9.50it/s]"
          ],
          "name": "stderr"
        },
        {
          "output_type": "stream",
          "text": [
            "Train Epoch: 6 [33280/50176 (66%)]\tLoss: 1.418599\n"
          ],
          "name": "stdout"
        },
        {
          "output_type": "stream",
          "text": [
            " 72%|███████▏  | 142/196 [00:14<00:05,  9.47it/s]"
          ],
          "name": "stderr"
        },
        {
          "output_type": "stream",
          "text": [
            "Train Epoch: 6 [35840/50176 (71%)]\tLoss: 1.407797\n"
          ],
          "name": "stdout"
        },
        {
          "output_type": "stream",
          "text": [
            " 78%|███████▊  | 152/196 [00:15<00:04,  9.45it/s]"
          ],
          "name": "stderr"
        },
        {
          "output_type": "stream",
          "text": [
            "Train Epoch: 6 [38400/50176 (77%)]\tLoss: 1.378229\n"
          ],
          "name": "stdout"
        },
        {
          "output_type": "stream",
          "text": [
            " 83%|████████▎ | 162/196 [00:17<00:03,  9.38it/s]"
          ],
          "name": "stderr"
        },
        {
          "output_type": "stream",
          "text": [
            "Train Epoch: 6 [40960/50176 (82%)]\tLoss: 1.404758\n"
          ],
          "name": "stdout"
        },
        {
          "output_type": "stream",
          "text": [
            " 88%|████████▊ | 172/196 [00:18<00:02,  9.49it/s]"
          ],
          "name": "stderr"
        },
        {
          "output_type": "stream",
          "text": [
            "Train Epoch: 6 [43520/50176 (87%)]\tLoss: 1.372978\n"
          ],
          "name": "stdout"
        },
        {
          "output_type": "stream",
          "text": [
            " 93%|█████████▎| 182/196 [00:19<00:01,  9.51it/s]"
          ],
          "name": "stderr"
        },
        {
          "output_type": "stream",
          "text": [
            "Train Epoch: 6 [46080/50176 (92%)]\tLoss: 1.404498\n"
          ],
          "name": "stdout"
        },
        {
          "output_type": "stream",
          "text": [
            " 98%|█████████▊| 192/196 [00:20<00:00,  9.44it/s]"
          ],
          "name": "stderr"
        },
        {
          "output_type": "stream",
          "text": [
            "Train Epoch: 6 [48640/50176 (97%)]\tLoss: 1.401089\n"
          ],
          "name": "stdout"
        },
        {
          "output_type": "stream",
          "text": [
            "100%|██████████| 196/196 [00:20<00:00,  9.51it/s]"
          ],
          "name": "stderr"
        },
        {
          "output_type": "stream",
          "text": [
            "49\n"
          ],
          "name": "stdout"
        },
        {
          "output_type": "stream",
          "text": [
            "\n"
          ],
          "name": "stderr"
        },
        {
          "output_type": "stream",
          "text": [
            "Input\tnly way left to get water, because Voldemort had planned it so ... He flung himself over to the edge\n",
            "GT\tly way left to get water, because Voldemort had planned it so ... He flung himself over to the edge \n",
            "pred\t y tas tiat th tet thscr  aucause holdemort wad buaceed tn iomt . .e woing oim elf afer th hhe snge \n",
            "\n",
            "\n",
            "Input\t that had his arm. It released him, falling backward into the water with a splash; he scrambled to h\n",
            "GT\tthat had his arm. It released him, falling backward into the water with a splash; he scrambled to hi\n",
            "pred\twoat hed bas fnm  \"t weaeased tim  aocling tack ard anto the caler.aath h stiinhe he waremeled oo ti\n",
            "\n",
            "\n",
            "Input\tth, and his feet left the ground as they lifted him and began to carry him, slowly and surely, back \n",
            "GT\th, and his feet left the ground as they lifted him and began to carry him, slowly and surely, back t\n",
            "pred\th  tnd tes faet aoat the sround on the  wokted tim.and teaan to toteiiaims aoiwly.atd ttdp y  auck t\n",
            "\n",
            "\n",
            "Input\t. . . Dumbledore scooped the locket from the bottom of the stone basin and stowed it inside his robe\n",
            "GT\t . . Dumbledore scooped the locket from the bottom of the stone basin and stowed it inside his robes\n",
            "pred\t . . .umbledore waaoned toe diok d ooom the cootlm of hhe ctane oecingand ttaoed tn wntide tim hobes\n",
            "\n",
            "\n",
            "Input\tsir, I forgot -- about fire -- they were coming at me and I panicked --\" \"Quite understandable,\" mur\n",
            "GT\tir, I forgot -- about fire -- they were coming at me and I panicked --\" \"Quite understandable,\" murm\n",
            "pred\tar, n dougettt-\"\"nout tone y-\"ihe 'were noning tn to tnd t wustse d t\"  \"Wuide tsderstand yle   satd\n",
            "\n",
            "\n"
          ],
          "name": "stdout"
        },
        {
          "output_type": "stream",
          "text": [
            "\r  0%|          | 0/196 [00:00<?, ?it/s]"
          ],
          "name": "stderr"
        },
        {
          "output_type": "stream",
          "text": [
            "\n",
            "Test set: Average loss: 1.4106, Accuracy: 726129/1254400 (58%)\n",
            "\n",
            "Saved /gdrive/My Drive/CSE415/language/checkpoints/language_006.pt\n",
            "\n",
            "generated sentence\t\t Harry Potter, Voldemort, and Dumbledore walk into a bar. e was standing at the companted of his face. \"I was still standing and the stairs and the stairs and the stairs and the stairs and the stairs and the stairs and the stairs and the stairs and the stair\n",
            "\n"
          ],
          "name": "stdout"
        },
        {
          "output_type": "stream",
          "text": [
            "  1%|          | 2/196 [00:00<00:29,  6.53it/s]"
          ],
          "name": "stderr"
        },
        {
          "output_type": "stream",
          "text": [
            "Train Epoch: 7 [0/50176 (0%)]\tLoss: 1.404228\n"
          ],
          "name": "stdout"
        },
        {
          "output_type": "stream",
          "text": [
            "  6%|▌         | 12/196 [00:01<00:19,  9.25it/s]"
          ],
          "name": "stderr"
        },
        {
          "output_type": "stream",
          "text": [
            "Train Epoch: 7 [2560/50176 (5%)]\tLoss: 1.371809\n"
          ],
          "name": "stdout"
        },
        {
          "output_type": "stream",
          "text": [
            " 11%|█         | 22/196 [00:02<00:18,  9.42it/s]"
          ],
          "name": "stderr"
        },
        {
          "output_type": "stream",
          "text": [
            "Train Epoch: 7 [5120/50176 (10%)]\tLoss: 1.408036\n"
          ],
          "name": "stdout"
        },
        {
          "output_type": "stream",
          "text": [
            " 16%|█▋        | 32/196 [00:03<00:17,  9.51it/s]"
          ],
          "name": "stderr"
        },
        {
          "output_type": "stream",
          "text": [
            "Train Epoch: 7 [7680/50176 (15%)]\tLoss: 1.380057\n"
          ],
          "name": "stdout"
        },
        {
          "output_type": "stream",
          "text": [
            " 21%|██▏       | 42/196 [00:04<00:16,  9.56it/s]"
          ],
          "name": "stderr"
        },
        {
          "output_type": "stream",
          "text": [
            "Train Epoch: 7 [10240/50176 (20%)]\tLoss: 1.374287\n"
          ],
          "name": "stdout"
        },
        {
          "output_type": "stream",
          "text": [
            " 27%|██▋       | 52/196 [00:05<00:15,  9.46it/s]"
          ],
          "name": "stderr"
        },
        {
          "output_type": "stream",
          "text": [
            "Train Epoch: 7 [12800/50176 (26%)]\tLoss: 1.377138\n"
          ],
          "name": "stdout"
        },
        {
          "output_type": "stream",
          "text": [
            " 32%|███▏      | 62/196 [00:06<00:14,  9.36it/s]"
          ],
          "name": "stderr"
        },
        {
          "output_type": "stream",
          "text": [
            "Train Epoch: 7 [15360/50176 (31%)]\tLoss: 1.397460\n"
          ],
          "name": "stdout"
        },
        {
          "output_type": "stream",
          "text": [
            " 37%|███▋      | 72/196 [00:07<00:12,  9.55it/s]"
          ],
          "name": "stderr"
        },
        {
          "output_type": "stream",
          "text": [
            "Train Epoch: 7 [17920/50176 (36%)]\tLoss: 1.402690\n"
          ],
          "name": "stdout"
        },
        {
          "output_type": "stream",
          "text": [
            " 42%|████▏     | 82/196 [00:08<00:12,  9.45it/s]"
          ],
          "name": "stderr"
        },
        {
          "output_type": "stream",
          "text": [
            "Train Epoch: 7 [20480/50176 (41%)]\tLoss: 1.381855\n"
          ],
          "name": "stdout"
        },
        {
          "output_type": "stream",
          "text": [
            " 47%|████▋     | 92/196 [00:09<00:11,  9.41it/s]"
          ],
          "name": "stderr"
        },
        {
          "output_type": "stream",
          "text": [
            "Train Epoch: 7 [23040/50176 (46%)]\tLoss: 1.395544\n"
          ],
          "name": "stdout"
        },
        {
          "output_type": "stream",
          "text": [
            " 52%|█████▏    | 102/196 [00:10<00:09,  9.62it/s]"
          ],
          "name": "stderr"
        },
        {
          "output_type": "stream",
          "text": [
            "Train Epoch: 7 [25600/50176 (51%)]\tLoss: 1.403527\n"
          ],
          "name": "stdout"
        },
        {
          "output_type": "stream",
          "text": [
            " 57%|█████▋    | 112/196 [00:11<00:08,  9.53it/s]"
          ],
          "name": "stderr"
        },
        {
          "output_type": "stream",
          "text": [
            "Train Epoch: 7 [28160/50176 (56%)]\tLoss: 1.386947\n"
          ],
          "name": "stdout"
        },
        {
          "output_type": "stream",
          "text": [
            " 62%|██████▏   | 122/196 [00:12<00:07,  9.46it/s]"
          ],
          "name": "stderr"
        },
        {
          "output_type": "stream",
          "text": [
            "Train Epoch: 7 [30720/50176 (61%)]\tLoss: 1.383564\n"
          ],
          "name": "stdout"
        },
        {
          "output_type": "stream",
          "text": [
            " 67%|██████▋   | 132/196 [00:13<00:06,  9.45it/s]"
          ],
          "name": "stderr"
        },
        {
          "output_type": "stream",
          "text": [
            "Train Epoch: 7 [33280/50176 (66%)]\tLoss: 1.374319\n"
          ],
          "name": "stdout"
        },
        {
          "output_type": "stream",
          "text": [
            " 72%|███████▏  | 142/196 [00:14<00:05,  9.61it/s]"
          ],
          "name": "stderr"
        },
        {
          "output_type": "stream",
          "text": [
            "Train Epoch: 7 [35840/50176 (71%)]\tLoss: 1.380711\n"
          ],
          "name": "stdout"
        },
        {
          "output_type": "stream",
          "text": [
            " 78%|███████▊  | 152/196 [00:16<00:04,  9.62it/s]"
          ],
          "name": "stderr"
        },
        {
          "output_type": "stream",
          "text": [
            "Train Epoch: 7 [38400/50176 (77%)]\tLoss: 1.374872\n"
          ],
          "name": "stdout"
        },
        {
          "output_type": "stream",
          "text": [
            " 83%|████████▎ | 162/196 [00:17<00:03,  9.53it/s]"
          ],
          "name": "stderr"
        },
        {
          "output_type": "stream",
          "text": [
            "Train Epoch: 7 [40960/50176 (82%)]\tLoss: 1.404654\n"
          ],
          "name": "stdout"
        },
        {
          "output_type": "stream",
          "text": [
            " 88%|████████▊ | 172/196 [00:18<00:02,  9.57it/s]"
          ],
          "name": "stderr"
        },
        {
          "output_type": "stream",
          "text": [
            "Train Epoch: 7 [43520/50176 (87%)]\tLoss: 1.372385\n"
          ],
          "name": "stdout"
        },
        {
          "output_type": "stream",
          "text": [
            " 93%|█████████▎| 182/196 [00:19<00:01,  9.62it/s]"
          ],
          "name": "stderr"
        },
        {
          "output_type": "stream",
          "text": [
            "Train Epoch: 7 [46080/50176 (92%)]\tLoss: 1.398015\n"
          ],
          "name": "stdout"
        },
        {
          "output_type": "stream",
          "text": [
            " 98%|█████████▊| 192/196 [00:20<00:00,  9.58it/s]"
          ],
          "name": "stderr"
        },
        {
          "output_type": "stream",
          "text": [
            "Train Epoch: 7 [48640/50176 (97%)]\tLoss: 1.399330\n"
          ],
          "name": "stdout"
        },
        {
          "output_type": "stream",
          "text": [
            "100%|██████████| 196/196 [00:20<00:00,  9.51it/s]"
          ],
          "name": "stderr"
        },
        {
          "output_type": "stream",
          "text": [
            "49\n"
          ],
          "name": "stdout"
        },
        {
          "output_type": "stream",
          "text": [
            "\n"
          ],
          "name": "stderr"
        },
        {
          "output_type": "stream",
          "text": [
            "Input\tnly way left to get water, because Voldemort had planned it so ... He flung himself over to the edge\n",
            "GT\tly way left to get water, because Voldemort had planned it so ... He flung himself over to the edge \n",
            "pred\t y tis titt th tet tiscr  aucause toldemort wad tuaneed tn.iomt.. .e weing oim elf afer th the dnge \n",
            "\n",
            "\n",
            "Input\t that had his arm. It released him, falling backward into the water with a splash; he scrambled to h\n",
            "GT\tthat had his arm. It released him, falling backward into the water with a splash; he scrambled to hi\n",
            "pred\twoat hed aas hnm  \"t weaeased tim  aocling tack ard anto the ciler.aith h stiithi ae warembled oo hi\n",
            "\n",
            "\n",
            "Input\tth, and his feet left the ground as they lifted him and began to carry him, slowly and surely, back \n",
            "GT\th, and his feet left the ground as they lifted him and began to carry him, slowly and surely, back t\n",
            "pred\th  tnd tes faet aiat the sround on the  wokted tim and tetan to hotei aiss aoiwly atd ttrp y  auck t\n",
            "\n",
            "\n",
            "Input\t. . . Dumbledore scooped the locket from the bottom of the stone basin and stowed it inside his robe\n",
            "GT\t . . Dumbledore scooped the locket from the bottom of the stone basin and stowed it inside his robes\n",
            "pred\t . . .umbledore wtaoned aoe siok t ooom the cottlm of the ctane oecingand ttaoed tn wntide tim hobes\n",
            "\n",
            "\n",
            "Input\tsir, I forgot -- about fire -- they were coming at me and I panicked --\" \"Quite understandable,\" mur\n",
            "GT\tir, I forgot -- about fire -- they were coming at me and I panicked --\" \"Quite understandable,\" murm\n",
            "pred\tht, y diugot t \"tnout tons y-\"the 'were toning tn te tnd t wustse d t\"\" \"Wuide tsderstand yle   sutd\n",
            "\n",
            "\n"
          ],
          "name": "stdout"
        },
        {
          "output_type": "stream",
          "text": [
            "\r  0%|          | 0/196 [00:00<?, ?it/s]"
          ],
          "name": "stderr"
        },
        {
          "output_type": "stream",
          "text": [
            "\n",
            "Test set: Average loss: 1.3954, Accuracy: 732408/1254400 (58%)\n",
            "\n",
            "Saved /gdrive/My Drive/CSE415/language/checkpoints/language_007.pt\n",
            "\n",
            "generated sentence\t\t Harry Potter, Voldemort, and Dumbledore walk into a bar. e was still standing at the complete of his face and the stairs and the stairs and the stairs and the stairs and the stairs and the stairs and the stairs and the stairs and the stairs and the stairs a\n",
            "\n"
          ],
          "name": "stdout"
        },
        {
          "output_type": "stream",
          "text": [
            "  1%|          | 2/196 [00:00<00:30,  6.40it/s]"
          ],
          "name": "stderr"
        },
        {
          "output_type": "stream",
          "text": [
            "Train Epoch: 8 [0/50176 (0%)]\tLoss: 1.389704\n"
          ],
          "name": "stdout"
        },
        {
          "output_type": "stream",
          "text": [
            "  6%|▌         | 12/196 [00:01<00:19,  9.51it/s]"
          ],
          "name": "stderr"
        },
        {
          "output_type": "stream",
          "text": [
            "Train Epoch: 8 [2560/50176 (5%)]\tLoss: 1.368828\n"
          ],
          "name": "stdout"
        },
        {
          "output_type": "stream",
          "text": [
            " 11%|█         | 22/196 [00:02<00:17,  9.69it/s]"
          ],
          "name": "stderr"
        },
        {
          "output_type": "stream",
          "text": [
            "Train Epoch: 8 [5120/50176 (10%)]\tLoss: 1.402887\n"
          ],
          "name": "stdout"
        },
        {
          "output_type": "stream",
          "text": [
            " 16%|█▋        | 32/196 [00:03<00:16,  9.67it/s]"
          ],
          "name": "stderr"
        },
        {
          "output_type": "stream",
          "text": [
            "Train Epoch: 8 [7680/50176 (15%)]\tLoss: 1.383467\n"
          ],
          "name": "stdout"
        },
        {
          "output_type": "stream",
          "text": [
            " 21%|██▏       | 42/196 [00:04<00:16,  9.61it/s]"
          ],
          "name": "stderr"
        },
        {
          "output_type": "stream",
          "text": [
            "Train Epoch: 8 [10240/50176 (20%)]\tLoss: 1.375759\n"
          ],
          "name": "stdout"
        },
        {
          "output_type": "stream",
          "text": [
            " 27%|██▋       | 52/196 [00:05<00:15,  9.49it/s]"
          ],
          "name": "stderr"
        },
        {
          "output_type": "stream",
          "text": [
            "Train Epoch: 8 [12800/50176 (26%)]\tLoss: 1.372900\n"
          ],
          "name": "stdout"
        },
        {
          "output_type": "stream",
          "text": [
            " 32%|███▏      | 62/196 [00:06<00:13,  9.62it/s]"
          ],
          "name": "stderr"
        },
        {
          "output_type": "stream",
          "text": [
            "Train Epoch: 8 [15360/50176 (31%)]\tLoss: 1.376608\n"
          ],
          "name": "stdout"
        },
        {
          "output_type": "stream",
          "text": [
            " 37%|███▋      | 72/196 [00:07<00:12,  9.65it/s]"
          ],
          "name": "stderr"
        },
        {
          "output_type": "stream",
          "text": [
            "Train Epoch: 8 [17920/50176 (36%)]\tLoss: 1.394362\n"
          ],
          "name": "stdout"
        },
        {
          "output_type": "stream",
          "text": [
            " 42%|████▏     | 82/196 [00:08<00:11,  9.58it/s]"
          ],
          "name": "stderr"
        },
        {
          "output_type": "stream",
          "text": [
            "Train Epoch: 8 [20480/50176 (41%)]\tLoss: 1.370976\n"
          ],
          "name": "stdout"
        },
        {
          "output_type": "stream",
          "text": [
            " 47%|████▋     | 92/196 [00:09<00:10,  9.68it/s]"
          ],
          "name": "stderr"
        },
        {
          "output_type": "stream",
          "text": [
            "Train Epoch: 8 [23040/50176 (46%)]\tLoss: 1.371091\n"
          ],
          "name": "stdout"
        },
        {
          "output_type": "stream",
          "text": [
            " 52%|█████▏    | 102/196 [00:10<00:09,  9.58it/s]"
          ],
          "name": "stderr"
        },
        {
          "output_type": "stream",
          "text": [
            "Train Epoch: 8 [25600/50176 (51%)]\tLoss: 1.384768\n"
          ],
          "name": "stdout"
        },
        {
          "output_type": "stream",
          "text": [
            " 57%|█████▋    | 112/196 [00:11<00:08,  9.64it/s]"
          ],
          "name": "stderr"
        },
        {
          "output_type": "stream",
          "text": [
            "Train Epoch: 8 [28160/50176 (56%)]\tLoss: 1.380833\n"
          ],
          "name": "stdout"
        },
        {
          "output_type": "stream",
          "text": [
            " 62%|██████▏   | 122/196 [00:12<00:07,  9.57it/s]"
          ],
          "name": "stderr"
        },
        {
          "output_type": "stream",
          "text": [
            "Train Epoch: 8 [30720/50176 (61%)]\tLoss: 1.382272\n"
          ],
          "name": "stdout"
        },
        {
          "output_type": "stream",
          "text": [
            " 67%|██████▋   | 132/196 [00:13<00:06,  9.48it/s]"
          ],
          "name": "stderr"
        },
        {
          "output_type": "stream",
          "text": [
            "Train Epoch: 8 [33280/50176 (66%)]\tLoss: 1.410217\n"
          ],
          "name": "stdout"
        },
        {
          "output_type": "stream",
          "text": [
            " 72%|███████▏  | 142/196 [00:14<00:05,  9.48it/s]"
          ],
          "name": "stderr"
        },
        {
          "output_type": "stream",
          "text": [
            "Train Epoch: 8 [35840/50176 (71%)]\tLoss: 1.389850\n"
          ],
          "name": "stdout"
        },
        {
          "output_type": "stream",
          "text": [
            " 78%|███████▊  | 152/196 [00:15<00:04,  9.53it/s]"
          ],
          "name": "stderr"
        },
        {
          "output_type": "stream",
          "text": [
            "Train Epoch: 8 [38400/50176 (77%)]\tLoss: 1.368116\n"
          ],
          "name": "stdout"
        },
        {
          "output_type": "stream",
          "text": [
            " 83%|████████▎ | 162/196 [00:16<00:03,  9.63it/s]"
          ],
          "name": "stderr"
        },
        {
          "output_type": "stream",
          "text": [
            "Train Epoch: 8 [40960/50176 (82%)]\tLoss: 1.391954\n"
          ],
          "name": "stdout"
        },
        {
          "output_type": "stream",
          "text": [
            " 88%|████████▊ | 172/196 [00:17<00:02,  9.59it/s]"
          ],
          "name": "stderr"
        },
        {
          "output_type": "stream",
          "text": [
            "Train Epoch: 8 [43520/50176 (87%)]\tLoss: 1.362509\n"
          ],
          "name": "stdout"
        },
        {
          "output_type": "stream",
          "text": [
            " 93%|█████████▎| 182/196 [00:19<00:01,  9.54it/s]"
          ],
          "name": "stderr"
        },
        {
          "output_type": "stream",
          "text": [
            "Train Epoch: 8 [46080/50176 (92%)]\tLoss: 1.389767\n"
          ],
          "name": "stdout"
        },
        {
          "output_type": "stream",
          "text": [
            " 98%|█████████▊| 192/196 [00:20<00:00,  9.64it/s]"
          ],
          "name": "stderr"
        },
        {
          "output_type": "stream",
          "text": [
            "Train Epoch: 8 [48640/50176 (97%)]\tLoss: 1.396205\n"
          ],
          "name": "stdout"
        },
        {
          "output_type": "stream",
          "text": [
            "100%|██████████| 196/196 [00:20<00:00,  9.58it/s]"
          ],
          "name": "stderr"
        },
        {
          "output_type": "stream",
          "text": [
            "49\n"
          ],
          "name": "stdout"
        },
        {
          "output_type": "stream",
          "text": [
            "\n"
          ],
          "name": "stderr"
        },
        {
          "output_type": "stream",
          "text": [
            "Input\tnly way left to get water, because Voldemort had planned it so ... He flung himself over to the edge\n",
            "GT\tly way left to get water, because Voldemort had planned it so ... He flung himself over to the edge \n",
            "pred\t y tis titt th het tiscr  aucause toldemort wad toaceed tn.iomt.. \"e woisg oim elf aner th the snge \n",
            "\n",
            "\n",
            "Input\t that had his arm. It released him, falling backward into the water with a splash; he scrambled to h\n",
            "GT\tthat had his arm. It released him, falling backward into the water with a splash; he scrambled to hi\n",
            "pred\twhat hed aam fnm  \"t weaealed tim  aocling aack ard anto the ciler aith h stiithi he harembled ao hi\n",
            "\n",
            "\n",
            "Input\tth, and his feet left the ground as they lifted him and began to carry him, slowly and surely, back \n",
            "GT\th, and his feet left the ground as they lifted him and began to carry him, slowly and surely, back t\n",
            "pred\th  wnd tes faet aiat the soound on thoy wokt d tim and secan to sotei ais  aoiwly atd ttrp y  auck t\n",
            "\n",
            "\n",
            "Input\t. . . Dumbledore scooped the locket from the bottom of the stone basin and stowed it inside his robe\n",
            "GT\t . . Dumbledore scooped the locket from the bottom of the stone basin and stowed it inside his robes\n",
            "pred\t . . .umbledore waroned aoa siok t ooom the cootlm of the wtane oecingand thaoed tn wntide tim hobes\n",
            "\n",
            "\n",
            "Input\tsir, I forgot -- about fire -- they were coming at me and I panicked --\" \"Quite understandable,\" mur\n",
            "GT\tir, I forgot -- about fire -- they were coming at me and I panicked --\" \"Quite understandable,\" murm\n",
            "pred\thri y diugot t \"tnout tone y-\"the 'were toning an te tnd t wustse d t\"\" \"Wuite tsderstand yle   sutd\n",
            "\n",
            "\n"
          ],
          "name": "stdout"
        },
        {
          "output_type": "stream",
          "text": [
            "\r  0%|          | 0/196 [00:00<?, ?it/s]"
          ],
          "name": "stderr"
        },
        {
          "output_type": "stream",
          "text": [
            "\n",
            "Test set: Average loss: 1.3960, Accuracy: 732201/1254400 (58%)\n",
            "\n",
            "generated sentence\t\t Harry Potter, Voldemort, and Dumbledore walk into a bar. \"What was it,\" said Harry, \"I was still still still still still still still still still still still still still still still still still still still still still still still still still still still stil\n",
            "\n"
          ],
          "name": "stdout"
        },
        {
          "output_type": "stream",
          "text": [
            "  1%|          | 2/196 [00:00<00:30,  6.29it/s]"
          ],
          "name": "stderr"
        },
        {
          "output_type": "stream",
          "text": [
            "Train Epoch: 9 [0/50176 (0%)]\tLoss: 1.389608\n"
          ],
          "name": "stdout"
        },
        {
          "output_type": "stream",
          "text": [
            "  6%|▌         | 12/196 [00:01<00:19,  9.48it/s]"
          ],
          "name": "stderr"
        },
        {
          "output_type": "stream",
          "text": [
            "Train Epoch: 9 [2560/50176 (5%)]\tLoss: 1.365870\n"
          ],
          "name": "stdout"
        },
        {
          "output_type": "stream",
          "text": [
            " 11%|█         | 22/196 [00:02<00:18,  9.50it/s]"
          ],
          "name": "stderr"
        },
        {
          "output_type": "stream",
          "text": [
            "Train Epoch: 9 [5120/50176 (10%)]\tLoss: 1.396262\n"
          ],
          "name": "stdout"
        },
        {
          "output_type": "stream",
          "text": [
            " 16%|█▋        | 32/196 [00:03<00:17,  9.54it/s]"
          ],
          "name": "stderr"
        },
        {
          "output_type": "stream",
          "text": [
            "Train Epoch: 9 [7680/50176 (15%)]\tLoss: 1.375261\n"
          ],
          "name": "stdout"
        },
        {
          "output_type": "stream",
          "text": [
            " 21%|██▏       | 42/196 [00:04<00:16,  9.47it/s]"
          ],
          "name": "stderr"
        },
        {
          "output_type": "stream",
          "text": [
            "Train Epoch: 9 [10240/50176 (20%)]\tLoss: 1.361193\n"
          ],
          "name": "stdout"
        },
        {
          "output_type": "stream",
          "text": [
            " 27%|██▋       | 52/196 [00:05<00:15,  9.46it/s]"
          ],
          "name": "stderr"
        },
        {
          "output_type": "stream",
          "text": [
            "Train Epoch: 9 [12800/50176 (26%)]\tLoss: 1.365844\n"
          ],
          "name": "stdout"
        },
        {
          "output_type": "stream",
          "text": [
            " 32%|███▏      | 62/196 [00:06<00:13,  9.64it/s]"
          ],
          "name": "stderr"
        },
        {
          "output_type": "stream",
          "text": [
            "Train Epoch: 9 [15360/50176 (31%)]\tLoss: 1.387754\n"
          ],
          "name": "stdout"
        },
        {
          "output_type": "stream",
          "text": [
            " 37%|███▋      | 72/196 [00:07<00:13,  9.53it/s]"
          ],
          "name": "stderr"
        },
        {
          "output_type": "stream",
          "text": [
            "Train Epoch: 9 [17920/50176 (36%)]\tLoss: 1.390267\n"
          ],
          "name": "stdout"
        },
        {
          "output_type": "stream",
          "text": [
            " 42%|████▏     | 82/196 [00:08<00:11,  9.64it/s]"
          ],
          "name": "stderr"
        },
        {
          "output_type": "stream",
          "text": [
            "Train Epoch: 9 [20480/50176 (41%)]\tLoss: 1.365217\n"
          ],
          "name": "stdout"
        },
        {
          "output_type": "stream",
          "text": [
            " 47%|████▋     | 92/196 [00:09<00:10,  9.57it/s]"
          ],
          "name": "stderr"
        },
        {
          "output_type": "stream",
          "text": [
            "Train Epoch: 9 [23040/50176 (46%)]\tLoss: 1.363114\n"
          ],
          "name": "stdout"
        },
        {
          "output_type": "stream",
          "text": [
            " 52%|█████▏    | 102/196 [00:10<00:09,  9.57it/s]"
          ],
          "name": "stderr"
        },
        {
          "output_type": "stream",
          "text": [
            "Train Epoch: 9 [25600/50176 (51%)]\tLoss: 1.381398\n"
          ],
          "name": "stdout"
        },
        {
          "output_type": "stream",
          "text": [
            " 57%|█████▋    | 112/196 [00:11<00:08,  9.53it/s]"
          ],
          "name": "stderr"
        },
        {
          "output_type": "stream",
          "text": [
            "Train Epoch: 9 [28160/50176 (56%)]\tLoss: 1.375074\n"
          ],
          "name": "stdout"
        },
        {
          "output_type": "stream",
          "text": [
            " 62%|██████▏   | 122/196 [00:12<00:07,  9.63it/s]"
          ],
          "name": "stderr"
        },
        {
          "output_type": "stream",
          "text": [
            "Train Epoch: 9 [30720/50176 (61%)]\tLoss: 1.370282\n"
          ],
          "name": "stdout"
        },
        {
          "output_type": "stream",
          "text": [
            " 67%|██████▋   | 132/196 [00:13<00:06,  9.52it/s]"
          ],
          "name": "stderr"
        },
        {
          "output_type": "stream",
          "text": [
            "Train Epoch: 9 [33280/50176 (66%)]\tLoss: 1.377973\n"
          ],
          "name": "stdout"
        },
        {
          "output_type": "stream",
          "text": [
            " 72%|███████▏  | 142/196 [00:14<00:05,  9.63it/s]"
          ],
          "name": "stderr"
        },
        {
          "output_type": "stream",
          "text": [
            "Train Epoch: 9 [35840/50176 (71%)]\tLoss: 1.372827\n"
          ],
          "name": "stdout"
        },
        {
          "output_type": "stream",
          "text": [
            " 78%|███████▊  | 152/196 [00:15<00:04,  9.54it/s]"
          ],
          "name": "stderr"
        },
        {
          "output_type": "stream",
          "text": [
            "Train Epoch: 9 [38400/50176 (77%)]\tLoss: 1.380323\n"
          ],
          "name": "stdout"
        },
        {
          "output_type": "stream",
          "text": [
            " 83%|████████▎ | 162/196 [00:16<00:03,  9.56it/s]"
          ],
          "name": "stderr"
        },
        {
          "output_type": "stream",
          "text": [
            "Train Epoch: 9 [40960/50176 (82%)]\tLoss: 1.386829\n"
          ],
          "name": "stdout"
        },
        {
          "output_type": "stream",
          "text": [
            " 88%|████████▊ | 172/196 [00:18<00:02,  9.51it/s]"
          ],
          "name": "stderr"
        },
        {
          "output_type": "stream",
          "text": [
            "Train Epoch: 9 [43520/50176 (87%)]\tLoss: 1.358482\n"
          ],
          "name": "stdout"
        },
        {
          "output_type": "stream",
          "text": [
            " 93%|█████████▎| 182/196 [00:19<00:01,  9.66it/s]"
          ],
          "name": "stderr"
        },
        {
          "output_type": "stream",
          "text": [
            "Train Epoch: 9 [46080/50176 (92%)]\tLoss: 1.382135\n"
          ],
          "name": "stdout"
        },
        {
          "output_type": "stream",
          "text": [
            " 98%|█████████▊| 192/196 [00:20<00:00,  9.66it/s]"
          ],
          "name": "stderr"
        },
        {
          "output_type": "stream",
          "text": [
            "Train Epoch: 9 [48640/50176 (97%)]\tLoss: 1.388814\n"
          ],
          "name": "stdout"
        },
        {
          "output_type": "stream",
          "text": [
            "100%|██████████| 196/196 [00:20<00:00,  9.56it/s]"
          ],
          "name": "stderr"
        },
        {
          "output_type": "stream",
          "text": [
            "49\n"
          ],
          "name": "stdout"
        },
        {
          "output_type": "stream",
          "text": [
            "\n"
          ],
          "name": "stderr"
        },
        {
          "output_type": "stream",
          "text": [
            "Input\tnly way left to get water, because Voldemort had planned it so ... He flung himself over to the edge\n",
            "GT\tly way left to get water, because Voldemort had planned it so ... He flung himself over to the edge \n",
            "pred\t y oas titt th het thscr  aucause holdemort wad tuaceed tn.iomt.. \"e weisg oim elf aner th hhe dnge \n",
            "\n",
            "\n",
            "Input\t that had his arm. It released him, falling backward into the water with a splash; he scrambled to h\n",
            "GT\tthat had his arm. It released him, falling backward into the water with a splash; he scrambled to hi\n",
            "pred\twhat wed aas hnm  \"t weaealed tim  aocling aack ard anto the ciler aith h stiith  he warembled ah hi\n",
            "\n",
            "\n",
            "Input\tth, and his feet left the ground as they lifted him and began to carry him, slowly and surely, back \n",
            "GT\th, and his feet left the ground as they lifted him and began to carry him, slowly and surely, back t\n",
            "pred\th  wnd tes faet aiat the sround an the  wokt d tim and secan to sotei aim  ahiwly atd strp y  auck t\n",
            "\n",
            "\n",
            "Input\t. . . Dumbledore scooped the locket from the bottom of the stone basin and stowed it inside his robe\n",
            "GT\t . . Dumbledore scooped the locket from the bottom of the stone basin and stowed it inside his robes\n",
            "pred\t . . .umbledore waroned aoe siok t ooom the cootlm of hhe ctane oecingand ttaoed tn.wntide tim hobes\n",
            "\n",
            "\n",
            "Input\tsir, I forgot -- about fire -- they were coming at me and I panicked --\" \"Quite understandable,\" mur\n",
            "GT\tir, I forgot -- about fire -- they were coming at me and I panicked --\" \"Quite understandable,\" murm\n",
            "pred\thri I diuget t \"tnout tine y-\"ahe  were toning an te tnd t wustse d t-\" \"Iuite tsder tand yle   sutd\n",
            "\n",
            "\n"
          ],
          "name": "stdout"
        },
        {
          "output_type": "stream",
          "text": [
            "\r  0%|          | 0/196 [00:00<?, ?it/s]"
          ],
          "name": "stderr"
        },
        {
          "output_type": "stream",
          "text": [
            "\n",
            "Test set: Average loss: 1.3887, Accuracy: 734905/1254400 (59%)\n",
            "\n",
            "Saved /gdrive/My Drive/CSE415/language/checkpoints/language_009.pt\n",
            "\n",
            "generated sentence\t\t Harry Potter, Voldemort, and Dumbledore walk into a bar. \"I'm not think you will be the stairs and the one of the door of the door of the door of the door of the door of the door of the door of the door of the door of the window which was still still still \n",
            "\n"
          ],
          "name": "stdout"
        },
        {
          "output_type": "stream",
          "text": [
            "  1%|          | 2/196 [00:00<00:31,  6.13it/s]"
          ],
          "name": "stderr"
        },
        {
          "output_type": "stream",
          "text": [
            "Train Epoch: 10 [0/50176 (0%)]\tLoss: 1.384288\n"
          ],
          "name": "stdout"
        },
        {
          "output_type": "stream",
          "text": [
            "  6%|▌         | 12/196 [00:01<00:19,  9.43it/s]"
          ],
          "name": "stderr"
        },
        {
          "output_type": "stream",
          "text": [
            "Train Epoch: 10 [2560/50176 (5%)]\tLoss: 1.361155\n"
          ],
          "name": "stdout"
        },
        {
          "output_type": "stream",
          "text": [
            " 11%|█         | 22/196 [00:02<00:18,  9.65it/s]"
          ],
          "name": "stderr"
        },
        {
          "output_type": "stream",
          "text": [
            "Train Epoch: 10 [5120/50176 (10%)]\tLoss: 1.389412\n"
          ],
          "name": "stdout"
        },
        {
          "output_type": "stream",
          "text": [
            " 16%|█▋        | 32/196 [00:03<00:17,  9.48it/s]"
          ],
          "name": "stderr"
        },
        {
          "output_type": "stream",
          "text": [
            "Train Epoch: 10 [7680/50176 (15%)]\tLoss: 1.370930\n"
          ],
          "name": "stdout"
        },
        {
          "output_type": "stream",
          "text": [
            " 21%|██▏       | 42/196 [00:04<00:16,  9.51it/s]"
          ],
          "name": "stderr"
        },
        {
          "output_type": "stream",
          "text": [
            "Train Epoch: 10 [10240/50176 (20%)]\tLoss: 1.362295\n"
          ],
          "name": "stdout"
        },
        {
          "output_type": "stream",
          "text": [
            " 27%|██▋       | 52/196 [00:05<00:14,  9.67it/s]"
          ],
          "name": "stderr"
        },
        {
          "output_type": "stream",
          "text": [
            "Train Epoch: 10 [12800/50176 (26%)]\tLoss: 1.363412\n"
          ],
          "name": "stdout"
        },
        {
          "output_type": "stream",
          "text": [
            " 32%|███▏      | 62/196 [00:06<00:13,  9.71it/s]"
          ],
          "name": "stderr"
        },
        {
          "output_type": "stream",
          "text": [
            "Train Epoch: 10 [15360/50176 (31%)]\tLoss: 1.369929\n"
          ],
          "name": "stdout"
        },
        {
          "output_type": "stream",
          "text": [
            " 37%|███▋      | 72/196 [00:07<00:12,  9.67it/s]"
          ],
          "name": "stderr"
        },
        {
          "output_type": "stream",
          "text": [
            "Train Epoch: 10 [17920/50176 (36%)]\tLoss: 1.384239\n"
          ],
          "name": "stdout"
        },
        {
          "output_type": "stream",
          "text": [
            " 42%|████▏     | 82/196 [00:08<00:11,  9.67it/s]"
          ],
          "name": "stderr"
        },
        {
          "output_type": "stream",
          "text": [
            "Train Epoch: 10 [20480/50176 (41%)]\tLoss: 1.361715\n"
          ],
          "name": "stdout"
        },
        {
          "output_type": "stream",
          "text": [
            " 47%|████▋     | 92/196 [00:09<00:10,  9.55it/s]"
          ],
          "name": "stderr"
        },
        {
          "output_type": "stream",
          "text": [
            "Train Epoch: 10 [23040/50176 (46%)]\tLoss: 1.356926\n"
          ],
          "name": "stdout"
        },
        {
          "output_type": "stream",
          "text": [
            " 52%|█████▏    | 102/196 [00:10<00:10,  9.37it/s]"
          ],
          "name": "stderr"
        },
        {
          "output_type": "stream",
          "text": [
            "Train Epoch: 10 [25600/50176 (51%)]\tLoss: 1.368928\n"
          ],
          "name": "stdout"
        },
        {
          "output_type": "stream",
          "text": [
            " 57%|█████▋    | 112/196 [00:11<00:08,  9.61it/s]"
          ],
          "name": "stderr"
        },
        {
          "output_type": "stream",
          "text": [
            "Train Epoch: 10 [28160/50176 (56%)]\tLoss: 1.377322\n"
          ],
          "name": "stdout"
        },
        {
          "output_type": "stream",
          "text": [
            " 62%|██████▏   | 122/196 [00:12<00:07,  9.66it/s]"
          ],
          "name": "stderr"
        },
        {
          "output_type": "stream",
          "text": [
            "Train Epoch: 10 [30720/50176 (61%)]\tLoss: 1.409896\n"
          ],
          "name": "stdout"
        },
        {
          "output_type": "stream",
          "text": [
            " 67%|██████▋   | 132/196 [00:13<00:06,  9.51it/s]"
          ],
          "name": "stderr"
        },
        {
          "output_type": "stream",
          "text": [
            "Train Epoch: 10 [33280/50176 (66%)]\tLoss: 1.377390\n"
          ],
          "name": "stdout"
        },
        {
          "output_type": "stream",
          "text": [
            " 72%|███████▏  | 142/196 [00:14<00:05,  9.48it/s]"
          ],
          "name": "stderr"
        },
        {
          "output_type": "stream",
          "text": [
            "Train Epoch: 10 [35840/50176 (71%)]\tLoss: 1.370894\n"
          ],
          "name": "stdout"
        },
        {
          "output_type": "stream",
          "text": [
            " 78%|███████▊  | 152/196 [00:15<00:04,  9.46it/s]"
          ],
          "name": "stderr"
        },
        {
          "output_type": "stream",
          "text": [
            "Train Epoch: 10 [38400/50176 (77%)]\tLoss: 1.357948\n"
          ],
          "name": "stdout"
        },
        {
          "output_type": "stream",
          "text": [
            " 83%|████████▎ | 162/196 [00:16<00:03,  9.45it/s]"
          ],
          "name": "stderr"
        },
        {
          "output_type": "stream",
          "text": [
            "Train Epoch: 10 [40960/50176 (82%)]\tLoss: 1.378757\n"
          ],
          "name": "stdout"
        },
        {
          "output_type": "stream",
          "text": [
            " 88%|████████▊ | 172/196 [00:18<00:02,  9.49it/s]"
          ],
          "name": "stderr"
        },
        {
          "output_type": "stream",
          "text": [
            "Train Epoch: 10 [43520/50176 (87%)]\tLoss: 1.350125\n"
          ],
          "name": "stdout"
        },
        {
          "output_type": "stream",
          "text": [
            " 93%|█████████▎| 182/196 [00:19<00:01,  9.48it/s]"
          ],
          "name": "stderr"
        },
        {
          "output_type": "stream",
          "text": [
            "Train Epoch: 10 [46080/50176 (92%)]\tLoss: 1.376333\n"
          ],
          "name": "stdout"
        },
        {
          "output_type": "stream",
          "text": [
            " 98%|█████████▊| 192/196 [00:20<00:00,  9.63it/s]"
          ],
          "name": "stderr"
        },
        {
          "output_type": "stream",
          "text": [
            "Train Epoch: 10 [48640/50176 (97%)]\tLoss: 1.381871\n"
          ],
          "name": "stdout"
        },
        {
          "output_type": "stream",
          "text": [
            "100%|██████████| 196/196 [00:20<00:00,  9.56it/s]"
          ],
          "name": "stderr"
        },
        {
          "output_type": "stream",
          "text": [
            "49\n"
          ],
          "name": "stdout"
        },
        {
          "output_type": "stream",
          "text": [
            "\n"
          ],
          "name": "stderr"
        },
        {
          "output_type": "stream",
          "text": [
            "Input\tnly way left to get water, because Voldemort had planned it so ... He flung himself over to the edge\n",
            "GT\tly way left to get water, because Voldemort had planned it so ... He flung himself over to the edge \n",
            "pred\t y tas titt th het thscr  aucause holdemort wad traceed tn.womt.. \"e woisg oamself aner th the snge \n",
            "\n",
            "\n",
            "Input\t that had his arm. It released him, falling backward into the water with a splash; he scrambled to h\n",
            "GT\tthat had his arm. It released him, falling backward into the water with a splash; he scrambled to hi\n",
            "pred\tMoat wed bas hnms  t weaeased tim  aocling aack ard anto the ciyer aath h stiith  he warembled oh hi\n",
            "\n",
            "\n",
            "Input\tth, and his feet left the ground as they lifted him and began to carry him, slowly and surely, back \n",
            "GT\th, and his feet left the ground as they lifted him and began to carry him, slowly and surely, back t\n",
            "pred\th  wnd tes eaet aiat the sround an they wokted tim and secan to souei aim  ahiwly atd ttrp y  suck t\n",
            "\n",
            "\n",
            "Input\t. . . Dumbledore scooped the locket from the bottom of the stone basin and stowed it inside his robe\n",
            "GT\t . . Dumbledore scooped the locket from the bottom of the stone basin and stowed it inside his robes\n",
            "pred\t . . .umbledore waooked aoa siok t ooom the wootlm of the wtane oecingand ttaoed tn.wntide tim hobes\n",
            "\n",
            "\n",
            "Input\tsir, I forgot -- about fire -- they were coming at me and I panicked --\" \"Quite understandable,\" mur\n",
            "GT\tir, I forgot -- about fire -- they were coming at me and I panicked --\" \"Quite understandable,\" murm\n",
            "pred\thri I diugot t \"tnout tone y-\"thiy'were toming tn te tnd t wustse d t-\" \"Iuite tsder tand yle   sutd\n",
            "\n",
            "\n"
          ],
          "name": "stdout"
        },
        {
          "output_type": "stream",
          "text": [
            "\r  0%|          | 0/196 [00:00<?, ?it/s]"
          ],
          "name": "stderr"
        },
        {
          "output_type": "stream",
          "text": [
            "\n",
            "Test set: Average loss: 1.3860, Accuracy: 736299/1254400 (59%)\n",
            "\n",
            "Saved /gdrive/My Drive/CSE415/language/checkpoints/language_010.pt\n",
            "\n",
            "generated sentence\t\t Harry Potter, Voldemort, and Dumbledore walk into a bar. \"I'm not think you were thinking on the door with him,\" said Harry, \"I said the stairs and the stairs and the stairs and the stairs and the stairs and the stairs and the stairs and the stairs and the \n",
            "\n"
          ],
          "name": "stdout"
        },
        {
          "output_type": "stream",
          "text": [
            "  1%|          | 2/196 [00:00<00:30,  6.29it/s]"
          ],
          "name": "stderr"
        },
        {
          "output_type": "stream",
          "text": [
            "Train Epoch: 11 [0/50176 (0%)]\tLoss: 1.380985\n"
          ],
          "name": "stdout"
        },
        {
          "output_type": "stream",
          "text": [
            "  6%|▌         | 12/196 [00:01<00:19,  9.36it/s]"
          ],
          "name": "stderr"
        },
        {
          "output_type": "stream",
          "text": [
            "Train Epoch: 11 [2560/50176 (5%)]\tLoss: 1.352135\n"
          ],
          "name": "stdout"
        },
        {
          "output_type": "stream",
          "text": [
            " 11%|█         | 22/196 [00:02<00:18,  9.59it/s]"
          ],
          "name": "stderr"
        },
        {
          "output_type": "stream",
          "text": [
            "Train Epoch: 11 [5120/50176 (10%)]\tLoss: 1.382882\n"
          ],
          "name": "stdout"
        },
        {
          "output_type": "stream",
          "text": [
            " 16%|█▋        | 32/196 [00:03<00:17,  9.57it/s]"
          ],
          "name": "stderr"
        },
        {
          "output_type": "stream",
          "text": [
            "Train Epoch: 11 [7680/50176 (15%)]\tLoss: 1.363609\n"
          ],
          "name": "stdout"
        },
        {
          "output_type": "stream",
          "text": [
            " 21%|██▏       | 42/196 [00:04<00:16,  9.61it/s]"
          ],
          "name": "stderr"
        },
        {
          "output_type": "stream",
          "text": [
            "Train Epoch: 11 [10240/50176 (20%)]\tLoss: 1.350982\n"
          ],
          "name": "stdout"
        },
        {
          "output_type": "stream",
          "text": [
            " 27%|██▋       | 52/196 [00:05<00:15,  9.58it/s]"
          ],
          "name": "stderr"
        },
        {
          "output_type": "stream",
          "text": [
            "Train Epoch: 11 [12800/50176 (26%)]\tLoss: 1.353006\n"
          ],
          "name": "stdout"
        },
        {
          "output_type": "stream",
          "text": [
            " 32%|███▏      | 62/196 [00:06<00:14,  9.52it/s]"
          ],
          "name": "stderr"
        },
        {
          "output_type": "stream",
          "text": [
            "Train Epoch: 11 [15360/50176 (31%)]\tLoss: 1.362135\n"
          ],
          "name": "stdout"
        },
        {
          "output_type": "stream",
          "text": [
            " 37%|███▋      | 72/196 [00:07<00:13,  9.49it/s]"
          ],
          "name": "stderr"
        },
        {
          "output_type": "stream",
          "text": [
            "Train Epoch: 11 [17920/50176 (36%)]\tLoss: 1.376847\n"
          ],
          "name": "stdout"
        },
        {
          "output_type": "stream",
          "text": [
            " 42%|████▏     | 82/196 [00:08<00:11,  9.54it/s]"
          ],
          "name": "stderr"
        },
        {
          "output_type": "stream",
          "text": [
            "Train Epoch: 11 [20480/50176 (41%)]\tLoss: 1.356961\n"
          ],
          "name": "stdout"
        },
        {
          "output_type": "stream",
          "text": [
            " 47%|████▋     | 92/196 [00:09<00:10,  9.65it/s]"
          ],
          "name": "stderr"
        },
        {
          "output_type": "stream",
          "text": [
            "Train Epoch: 11 [23040/50176 (46%)]\tLoss: 1.361853\n"
          ],
          "name": "stdout"
        },
        {
          "output_type": "stream",
          "text": [
            " 52%|█████▏    | 102/196 [00:10<00:09,  9.52it/s]"
          ],
          "name": "stderr"
        },
        {
          "output_type": "stream",
          "text": [
            "Train Epoch: 11 [25600/50176 (51%)]\tLoss: 1.368982\n"
          ],
          "name": "stdout"
        },
        {
          "output_type": "stream",
          "text": [
            " 57%|█████▋    | 112/196 [00:11<00:08,  9.52it/s]"
          ],
          "name": "stderr"
        },
        {
          "output_type": "stream",
          "text": [
            "Train Epoch: 11 [28160/50176 (56%)]\tLoss: 1.369705\n"
          ],
          "name": "stdout"
        },
        {
          "output_type": "stream",
          "text": [
            " 62%|██████▏   | 122/196 [00:12<00:07,  9.66it/s]"
          ],
          "name": "stderr"
        },
        {
          "output_type": "stream",
          "text": [
            "Train Epoch: 11 [30720/50176 (61%)]\tLoss: 1.365597\n"
          ],
          "name": "stdout"
        },
        {
          "output_type": "stream",
          "text": [
            " 67%|██████▋   | 132/196 [00:13<00:06,  9.68it/s]"
          ],
          "name": "stderr"
        },
        {
          "output_type": "stream",
          "text": [
            "Train Epoch: 11 [33280/50176 (66%)]\tLoss: 1.386594\n"
          ],
          "name": "stdout"
        },
        {
          "output_type": "stream",
          "text": [
            " 72%|███████▏  | 142/196 [00:14<00:05,  9.49it/s]"
          ],
          "name": "stderr"
        },
        {
          "output_type": "stream",
          "text": [
            "Train Epoch: 11 [35840/50176 (71%)]\tLoss: 1.371957\n"
          ],
          "name": "stdout"
        },
        {
          "output_type": "stream",
          "text": [
            " 78%|███████▊  | 152/196 [00:15<00:04,  9.68it/s]"
          ],
          "name": "stderr"
        },
        {
          "output_type": "stream",
          "text": [
            "Train Epoch: 11 [38400/50176 (77%)]\tLoss: 1.352832\n"
          ],
          "name": "stdout"
        },
        {
          "output_type": "stream",
          "text": [
            " 83%|████████▎ | 162/196 [00:17<00:03,  9.60it/s]"
          ],
          "name": "stderr"
        },
        {
          "output_type": "stream",
          "text": [
            "Train Epoch: 11 [40960/50176 (82%)]\tLoss: 1.376896\n"
          ],
          "name": "stdout"
        },
        {
          "output_type": "stream",
          "text": [
            " 88%|████████▊ | 172/196 [00:18<00:02,  9.52it/s]"
          ],
          "name": "stderr"
        },
        {
          "output_type": "stream",
          "text": [
            "Train Epoch: 11 [43520/50176 (87%)]\tLoss: 1.346290\n"
          ],
          "name": "stdout"
        },
        {
          "output_type": "stream",
          "text": [
            " 93%|█████████▎| 182/196 [00:19<00:01,  9.52it/s]"
          ],
          "name": "stderr"
        },
        {
          "output_type": "stream",
          "text": [
            "Train Epoch: 11 [46080/50176 (92%)]\tLoss: 1.373590\n"
          ],
          "name": "stdout"
        },
        {
          "output_type": "stream",
          "text": [
            " 98%|█████████▊| 192/196 [00:20<00:00,  9.74it/s]"
          ],
          "name": "stderr"
        },
        {
          "output_type": "stream",
          "text": [
            "Train Epoch: 11 [48640/50176 (97%)]\tLoss: 1.375348\n"
          ],
          "name": "stdout"
        },
        {
          "output_type": "stream",
          "text": [
            "100%|██████████| 196/196 [00:20<00:00,  9.53it/s]"
          ],
          "name": "stderr"
        },
        {
          "output_type": "stream",
          "text": [
            "49\n"
          ],
          "name": "stdout"
        },
        {
          "output_type": "stream",
          "text": [
            "\n"
          ],
          "name": "stderr"
        },
        {
          "output_type": "stream",
          "text": [
            "Input\tnly way left to get water, because Voldemort had planned it so ... He flung himself over to the edge\n",
            "GT\tly way left to get water, because Voldemort had planned it so ... He flung himself over to the edge \n",
            "pred\t y tas titt th het tiscr  aucause toldemort wad tuaceed tn.iomt . \"e woisg oimself aner th the snge \n",
            "\n",
            "\n",
            "Input\t that had his arm. It released him, falling backward into the water with a splash; he scrambled to h\n",
            "GT\tthat had his arm. It released him, falling backward into the water with a splash; he scrambled to hi\n",
            "pred\tMoat wed tas hnms  t weaiased tim  tocling aack ard anto the ciyer aith h stiith  he warembled oh hi\n",
            "\n",
            "\n",
            "Input\tth, and his feet left the ground as they lifted him and began to carry him, slowly and surely, back \n",
            "GT\th, and his feet left the ground as they lifted him and began to carry him, slowly and surely, back t\n",
            "pred\th  wnd tes eaet aiat the soound on they wokt d tim and tecan to souei aim  thiwly atd ttrp y  suck t\n",
            "\n",
            "\n",
            "Input\t. . . Dumbledore scooped the locket from the bottom of the stone basin and stowed it inside his robe\n",
            "GT\t . . Dumbledore scooped the locket from the bottom of the stone basin and stowed it inside his robes\n",
            "pred\t . . .umbledore waroked aoa siok r ooom the wootlm of the wtane oecingtnd ttioed tn wntide tis hobes\n",
            "\n",
            "\n",
            "Input\tsir, I forgot -- about fire -- they were coming at me and I panicked --\" \"Quite understandable,\" mur\n",
            "GT\tir, I forgot -- about fire -- they were coming at me and I panicked --\" \"Quite understandable,\" murm\n",
            "pred\tar, I diugot t \"tnout tons y-\"they were toming tn te tnd t wustseed t-\" \"Iuite tsder tand yle   sutd\n",
            "\n",
            "\n"
          ],
          "name": "stdout"
        },
        {
          "output_type": "stream",
          "text": [
            "\r  0%|          | 0/196 [00:00<?, ?it/s]"
          ],
          "name": "stderr"
        },
        {
          "output_type": "stream",
          "text": [
            "\n",
            "Test set: Average loss: 1.3798, Accuracy: 738419/1254400 (59%)\n",
            "\n",
            "Saved /gdrive/My Drive/CSE415/language/checkpoints/language_011.pt\n",
            "\n",
            "generated sentence\t\t Harry Potter, Voldemort, and Dumbledore walk into a bar. \"I'm not think you were thinking on the door of the morning of the window. The world was still still still still still still still still still still still still still still still still still still sti\n",
            "\n"
          ],
          "name": "stdout"
        },
        {
          "output_type": "stream",
          "text": [
            "  1%|          | 2/196 [00:00<00:29,  6.60it/s]"
          ],
          "name": "stderr"
        },
        {
          "output_type": "stream",
          "text": [
            "Train Epoch: 12 [0/50176 (0%)]\tLoss: 1.375175\n"
          ],
          "name": "stdout"
        },
        {
          "output_type": "stream",
          "text": [
            "  6%|▌         | 12/196 [00:01<00:19,  9.34it/s]"
          ],
          "name": "stderr"
        },
        {
          "output_type": "stream",
          "text": [
            "Train Epoch: 12 [2560/50176 (5%)]\tLoss: 1.350359\n"
          ],
          "name": "stdout"
        },
        {
          "output_type": "stream",
          "text": [
            " 11%|█         | 22/196 [00:02<00:18,  9.62it/s]"
          ],
          "name": "stderr"
        },
        {
          "output_type": "stream",
          "text": [
            "Train Epoch: 12 [5120/50176 (10%)]\tLoss: 1.380328\n"
          ],
          "name": "stdout"
        },
        {
          "output_type": "stream",
          "text": [
            " 16%|█▋        | 32/196 [00:03<00:17,  9.62it/s]"
          ],
          "name": "stderr"
        },
        {
          "output_type": "stream",
          "text": [
            "Train Epoch: 12 [7680/50176 (15%)]\tLoss: 1.359326\n"
          ],
          "name": "stdout"
        },
        {
          "output_type": "stream",
          "text": [
            " 21%|██▏       | 42/196 [00:04<00:16,  9.55it/s]"
          ],
          "name": "stderr"
        },
        {
          "output_type": "stream",
          "text": [
            "Train Epoch: 12 [10240/50176 (20%)]\tLoss: 1.355232\n"
          ],
          "name": "stdout"
        },
        {
          "output_type": "stream",
          "text": [
            " 27%|██▋       | 52/196 [00:05<00:14,  9.71it/s]"
          ],
          "name": "stderr"
        },
        {
          "output_type": "stream",
          "text": [
            "Train Epoch: 12 [12800/50176 (26%)]\tLoss: 1.350456\n"
          ],
          "name": "stdout"
        },
        {
          "output_type": "stream",
          "text": [
            " 32%|███▏      | 62/196 [00:06<00:13,  9.66it/s]"
          ],
          "name": "stderr"
        },
        {
          "output_type": "stream",
          "text": [
            "Train Epoch: 12 [15360/50176 (31%)]\tLoss: 1.358800\n"
          ],
          "name": "stdout"
        },
        {
          "output_type": "stream",
          "text": [
            " 37%|███▋      | 72/196 [00:07<00:12,  9.55it/s]"
          ],
          "name": "stderr"
        },
        {
          "output_type": "stream",
          "text": [
            "Train Epoch: 12 [17920/50176 (36%)]\tLoss: 1.368946\n"
          ],
          "name": "stdout"
        },
        {
          "output_type": "stream",
          "text": [
            " 42%|████▏     | 82/196 [00:08<00:11,  9.64it/s]"
          ],
          "name": "stderr"
        },
        {
          "output_type": "stream",
          "text": [
            "Train Epoch: 12 [20480/50176 (41%)]\tLoss: 1.349437\n"
          ],
          "name": "stdout"
        },
        {
          "output_type": "stream",
          "text": [
            " 47%|████▋     | 92/196 [00:09<00:10,  9.63it/s]"
          ],
          "name": "stderr"
        },
        {
          "output_type": "stream",
          "text": [
            "Train Epoch: 12 [23040/50176 (46%)]\tLoss: 1.353669\n"
          ],
          "name": "stdout"
        },
        {
          "output_type": "stream",
          "text": [
            " 52%|█████▏    | 102/196 [00:10<00:09,  9.55it/s]"
          ],
          "name": "stderr"
        },
        {
          "output_type": "stream",
          "text": [
            "Train Epoch: 12 [25600/50176 (51%)]\tLoss: 1.369174\n"
          ],
          "name": "stdout"
        },
        {
          "output_type": "stream",
          "text": [
            " 57%|█████▋    | 112/196 [00:11<00:08,  9.56it/s]"
          ],
          "name": "stderr"
        },
        {
          "output_type": "stream",
          "text": [
            "Train Epoch: 12 [28160/50176 (56%)]\tLoss: 1.364909\n"
          ],
          "name": "stdout"
        },
        {
          "output_type": "stream",
          "text": [
            " 62%|██████▏   | 122/196 [00:12<00:07,  9.56it/s]"
          ],
          "name": "stderr"
        },
        {
          "output_type": "stream",
          "text": [
            "Train Epoch: 12 [30720/50176 (61%)]\tLoss: 1.365096\n"
          ],
          "name": "stdout"
        },
        {
          "output_type": "stream",
          "text": [
            " 67%|██████▋   | 132/196 [00:13<00:06,  9.48it/s]"
          ],
          "name": "stderr"
        },
        {
          "output_type": "stream",
          "text": [
            "Train Epoch: 12 [33280/50176 (66%)]\tLoss: 1.348845\n"
          ],
          "name": "stdout"
        },
        {
          "output_type": "stream",
          "text": [
            " 72%|███████▏  | 142/196 [00:14<00:05,  9.51it/s]"
          ],
          "name": "stderr"
        },
        {
          "output_type": "stream",
          "text": [
            "Train Epoch: 12 [35840/50176 (71%)]\tLoss: 1.371743\n"
          ],
          "name": "stdout"
        },
        {
          "output_type": "stream",
          "text": [
            " 78%|███████▊  | 152/196 [00:15<00:04,  9.64it/s]"
          ],
          "name": "stderr"
        },
        {
          "output_type": "stream",
          "text": [
            "Train Epoch: 12 [38400/50176 (77%)]\tLoss: 1.347561\n"
          ],
          "name": "stdout"
        },
        {
          "output_type": "stream",
          "text": [
            " 83%|████████▎ | 162/196 [00:16<00:03,  9.53it/s]"
          ],
          "name": "stderr"
        },
        {
          "output_type": "stream",
          "text": [
            "Train Epoch: 12 [40960/50176 (82%)]\tLoss: 1.375750\n"
          ],
          "name": "stdout"
        },
        {
          "output_type": "stream",
          "text": [
            " 88%|████████▊ | 172/196 [00:17<00:02,  9.64it/s]"
          ],
          "name": "stderr"
        },
        {
          "output_type": "stream",
          "text": [
            "Train Epoch: 12 [43520/50176 (87%)]\tLoss: 1.344038\n"
          ],
          "name": "stdout"
        },
        {
          "output_type": "stream",
          "text": [
            " 93%|█████████▎| 182/196 [00:18<00:01,  9.62it/s]"
          ],
          "name": "stderr"
        },
        {
          "output_type": "stream",
          "text": [
            "Train Epoch: 12 [46080/50176 (92%)]\tLoss: 1.368710\n"
          ],
          "name": "stdout"
        },
        {
          "output_type": "stream",
          "text": [
            " 98%|█████████▊| 192/196 [00:20<00:00,  9.46it/s]"
          ],
          "name": "stderr"
        },
        {
          "output_type": "stream",
          "text": [
            "Train Epoch: 12 [48640/50176 (97%)]\tLoss: 1.375149\n"
          ],
          "name": "stdout"
        },
        {
          "output_type": "stream",
          "text": [
            "100%|██████████| 196/196 [00:20<00:00,  9.59it/s]"
          ],
          "name": "stderr"
        },
        {
          "output_type": "stream",
          "text": [
            "49\n"
          ],
          "name": "stdout"
        },
        {
          "output_type": "stream",
          "text": [
            "\n"
          ],
          "name": "stderr"
        },
        {
          "output_type": "stream",
          "text": [
            "Input\tnly way left to get water, because Voldemort had planned it so ... He flung himself over to the edge\n",
            "GT\tly way left to get water, because Voldemort had planned it so ... He flung himself over to the edge \n",
            "pred\t y tas titt th tet tiscr  tucause toldemort wad nuaneed tn.wtmt . \"e weing oimself tner th the snge \n",
            "\n",
            "\n",
            "Input\t that had his arm. It released him, falling backward into the water with a splash; he scrambled to h\n",
            "GT\tthat had his arm. It released him, falling backward into the water with a splash; he scrambled to hi\n",
            "pred\tMoat wed bas fnms  t weaeased tim  tocling aack ard tnto the ciyer aith h stiith  he wtrembled oh hi\n",
            "\n",
            "\n",
            "Input\tth, and his feet left the ground as they lifted him and began to carry him, slowly and surely, back \n",
            "GT\th, and his feet left the ground as they lifted him and began to carry him, slowly and surely, back t\n",
            "pred\th  wnd tes faet aiat the sround an they wokted tim and tecan to souei aim  thiwly atd stdp y  suck t\n",
            "\n",
            "\n",
            "Input\t. . . Dumbledore scooped the locket from the bottom of the stone basin and stowed it inside his robe\n",
            "GT\t . . Dumbledore scooped the locket from the bottom of the stone basin and stowed it inside his robes\n",
            "pred\t . . .umbledore waroked aoe siok t ooom the sootlm of the stane secingtnd ttaoed tn wntide tim hobes\n",
            "\n",
            "\n",
            "Input\tsir, I forgot -- about fire -- they were coming at me and I panicked --\" \"Quite understandable,\" mur\n",
            "GT\tir, I forgot -- about fire -- they were coming at me and I panicked --\" \"Quite understandable,\" murm\n",
            "pred\tar, I deuget t \"tnout tone y-\"the  were toming tn te,tnd t wustseed t-\" \"Iuite tsder tand yle   sutd\n",
            "\n",
            "\n"
          ],
          "name": "stdout"
        },
        {
          "output_type": "stream",
          "text": [
            "\r  0%|          | 0/196 [00:00<?, ?it/s]"
          ],
          "name": "stderr"
        },
        {
          "output_type": "stream",
          "text": [
            "\n",
            "Test set: Average loss: 1.3716, Accuracy: 742596/1254400 (59%)\n",
            "\n",
            "Saved /gdrive/My Drive/CSE415/language/checkpoints/language_012.pt\n",
            "\n",
            "generated sentence\t\t Harry Potter, Voldemort, and Dumbledore walk into a bar. \"I'm not the sure of the moment of the window with him, I don't know what you didn't see that the only one of the morning to think you think you didn't see that the only one of the morning to think yo\n",
            "\n"
          ],
          "name": "stdout"
        },
        {
          "output_type": "stream",
          "text": [
            "  1%|          | 2/196 [00:00<00:30,  6.43it/s]"
          ],
          "name": "stderr"
        },
        {
          "output_type": "stream",
          "text": [
            "Train Epoch: 13 [0/50176 (0%)]\tLoss: 1.369042\n"
          ],
          "name": "stdout"
        },
        {
          "output_type": "stream",
          "text": [
            "  6%|▌         | 12/196 [00:01<00:19,  9.45it/s]"
          ],
          "name": "stderr"
        },
        {
          "output_type": "stream",
          "text": [
            "Train Epoch: 13 [2560/50176 (5%)]\tLoss: 1.341803\n"
          ],
          "name": "stdout"
        },
        {
          "output_type": "stream",
          "text": [
            " 11%|█         | 22/196 [00:02<00:18,  9.51it/s]"
          ],
          "name": "stderr"
        },
        {
          "output_type": "stream",
          "text": [
            "Train Epoch: 13 [5120/50176 (10%)]\tLoss: 1.375039\n"
          ],
          "name": "stdout"
        },
        {
          "output_type": "stream",
          "text": [
            " 16%|█▋        | 32/196 [00:03<00:17,  9.58it/s]"
          ],
          "name": "stderr"
        },
        {
          "output_type": "stream",
          "text": [
            "Train Epoch: 13 [7680/50176 (15%)]\tLoss: 1.356638\n"
          ],
          "name": "stdout"
        },
        {
          "output_type": "stream",
          "text": [
            " 21%|██▏       | 42/196 [00:04<00:16,  9.48it/s]"
          ],
          "name": "stderr"
        },
        {
          "output_type": "stream",
          "text": [
            "Train Epoch: 13 [10240/50176 (20%)]\tLoss: 1.346457\n"
          ],
          "name": "stdout"
        },
        {
          "output_type": "stream",
          "text": [
            " 27%|██▋       | 52/196 [00:05<00:14,  9.64it/s]"
          ],
          "name": "stderr"
        },
        {
          "output_type": "stream",
          "text": [
            "Train Epoch: 13 [12800/50176 (26%)]\tLoss: 1.347046\n"
          ],
          "name": "stdout"
        },
        {
          "output_type": "stream",
          "text": [
            " 32%|███▏      | 62/196 [00:06<00:13,  9.57it/s]"
          ],
          "name": "stderr"
        },
        {
          "output_type": "stream",
          "text": [
            "Train Epoch: 13 [15360/50176 (31%)]\tLoss: 1.361974\n"
          ],
          "name": "stdout"
        },
        {
          "output_type": "stream",
          "text": [
            " 37%|███▋      | 72/196 [00:07<00:13,  9.45it/s]"
          ],
          "name": "stderr"
        },
        {
          "output_type": "stream",
          "text": [
            "Train Epoch: 13 [17920/50176 (36%)]\tLoss: 1.364612\n"
          ],
          "name": "stdout"
        },
        {
          "output_type": "stream",
          "text": [
            " 42%|████▏     | 82/196 [00:08<00:11,  9.65it/s]"
          ],
          "name": "stderr"
        },
        {
          "output_type": "stream",
          "text": [
            "Train Epoch: 13 [20480/50176 (41%)]\tLoss: 1.358936\n"
          ],
          "name": "stdout"
        },
        {
          "output_type": "stream",
          "text": [
            " 47%|████▋     | 92/196 [00:09<00:10,  9.64it/s]"
          ],
          "name": "stderr"
        },
        {
          "output_type": "stream",
          "text": [
            "Train Epoch: 13 [23040/50176 (46%)]\tLoss: 1.354510\n"
          ],
          "name": "stdout"
        },
        {
          "output_type": "stream",
          "text": [
            " 52%|█████▏    | 102/196 [00:10<00:09,  9.49it/s]"
          ],
          "name": "stderr"
        },
        {
          "output_type": "stream",
          "text": [
            "Train Epoch: 13 [25600/50176 (51%)]\tLoss: 1.361574\n"
          ],
          "name": "stdout"
        },
        {
          "output_type": "stream",
          "text": [
            " 57%|█████▋    | 112/196 [00:11<00:08,  9.56it/s]"
          ],
          "name": "stderr"
        },
        {
          "output_type": "stream",
          "text": [
            "Train Epoch: 13 [28160/50176 (56%)]\tLoss: 1.361437\n"
          ],
          "name": "stdout"
        },
        {
          "output_type": "stream",
          "text": [
            " 62%|██████▏   | 122/196 [00:12<00:07,  9.60it/s]"
          ],
          "name": "stderr"
        },
        {
          "output_type": "stream",
          "text": [
            "Train Epoch: 13 [30720/50176 (61%)]\tLoss: 1.360013\n"
          ],
          "name": "stdout"
        },
        {
          "output_type": "stream",
          "text": [
            " 67%|██████▋   | 132/196 [00:13<00:06,  9.46it/s]"
          ],
          "name": "stderr"
        },
        {
          "output_type": "stream",
          "text": [
            "Train Epoch: 13 [33280/50176 (66%)]\tLoss: 1.343974\n"
          ],
          "name": "stdout"
        },
        {
          "output_type": "stream",
          "text": [
            " 72%|███████▏  | 142/196 [00:14<00:05,  9.60it/s]"
          ],
          "name": "stderr"
        },
        {
          "output_type": "stream",
          "text": [
            "Train Epoch: 13 [35840/50176 (71%)]\tLoss: 1.360472\n"
          ],
          "name": "stdout"
        },
        {
          "output_type": "stream",
          "text": [
            " 78%|███████▊  | 152/196 [00:15<00:04,  9.60it/s]"
          ],
          "name": "stderr"
        },
        {
          "output_type": "stream",
          "text": [
            "Train Epoch: 13 [38400/50176 (77%)]\tLoss: 1.339837\n"
          ],
          "name": "stdout"
        },
        {
          "output_type": "stream",
          "text": [
            " 83%|████████▎ | 162/196 [00:17<00:03,  9.67it/s]"
          ],
          "name": "stderr"
        },
        {
          "output_type": "stream",
          "text": [
            "Train Epoch: 13 [40960/50176 (82%)]\tLoss: 1.370969\n"
          ],
          "name": "stdout"
        },
        {
          "output_type": "stream",
          "text": [
            " 88%|████████▊ | 172/196 [00:18<00:02,  9.69it/s]"
          ],
          "name": "stderr"
        },
        {
          "output_type": "stream",
          "text": [
            "Train Epoch: 13 [43520/50176 (87%)]\tLoss: 1.340952\n"
          ],
          "name": "stdout"
        },
        {
          "output_type": "stream",
          "text": [
            " 93%|█████████▎| 182/196 [00:19<00:01,  9.70it/s]"
          ],
          "name": "stderr"
        },
        {
          "output_type": "stream",
          "text": [
            "Train Epoch: 13 [46080/50176 (92%)]\tLoss: 1.365007\n"
          ],
          "name": "stdout"
        },
        {
          "output_type": "stream",
          "text": [
            " 98%|█████████▊| 192/196 [00:20<00:00,  9.55it/s]"
          ],
          "name": "stderr"
        },
        {
          "output_type": "stream",
          "text": [
            "Train Epoch: 13 [48640/50176 (97%)]\tLoss: 1.368688\n"
          ],
          "name": "stdout"
        },
        {
          "output_type": "stream",
          "text": [
            "100%|██████████| 196/196 [00:20<00:00,  9.55it/s]"
          ],
          "name": "stderr"
        },
        {
          "output_type": "stream",
          "text": [
            "49\n"
          ],
          "name": "stdout"
        },
        {
          "output_type": "stream",
          "text": [
            "\n"
          ],
          "name": "stderr"
        },
        {
          "output_type": "stream",
          "text": [
            "Input\tnly way left to get water, because Voldemort had planned it so ... He flung himself over to the edge\n",
            "GT\tly way left to get water, because Voldemort had planned it so ... He flung himself over to the edge \n",
            "pred\t y oas titt th tet tiscr  aucause toldemort wad nuaneed tn itmt . \"e woing oimself tner th the snge \n",
            "\n",
            "\n",
            "Input\t that had his arm. It released him, falling backward into the water with a splash; he scrambled to h\n",
            "GT\tthat had his arm. It released him, falling backward into the water with a splash; he scrambled to hi\n",
            "pred\tMoit wed bas fnms  t weaiased tim  tocling tack ard tnto the ciyer aith h stiith  he wtrembled oh hi\n",
            "\n",
            "\n",
            "Input\tth, and his feet left the ground as they lifted him and began to carry him, slowly and surely, back \n",
            "GT\th, and his feet left the ground as they lifted him and began to carry him, slowly and surely, back t\n",
            "pred\th  wnd tes faet aiat the sround on the  wokted tim and tecan to souei aim  thiwly atd strp y  suck t\n",
            "\n",
            "\n",
            "Input\t. . . Dumbledore scooped the locket from the bottom of the stone basin and stowed it inside his robe\n",
            "GT\t . . Dumbledore scooped the locket from the bottom of the stone basin and stowed it inside his robes\n",
            "pred\t . . .umbledore waroked toe siok t ooom the sootlm of the stane secin tnd ttioed tn wntide tis hobes\n",
            "\n",
            "\n",
            "Input\tsir, I forgot -- about fire -- they were coming at me and I panicked --\" \"Quite understandable,\" mur\n",
            "GT\tir, I forgot -- about fire -- they were coming at me and I panicked --\" \"Quite understandable,\" murm\n",
            "pred\tar, I diuget t \"tnout tirs o-\"the  were toming tn ti,tnd t wustseed t-\" \"Iuite ssder tand yle   sutd\n",
            "\n",
            "\n"
          ],
          "name": "stdout"
        },
        {
          "output_type": "stream",
          "text": [
            "\r  0%|          | 0/196 [00:00<?, ?it/s]"
          ],
          "name": "stderr"
        },
        {
          "output_type": "stream",
          "text": [
            "\n",
            "Test set: Average loss: 1.3705, Accuracy: 743181/1254400 (59%)\n",
            "\n",
            "Saved /gdrive/My Drive/CSE415/language/checkpoints/language_013.pt\n",
            "\n",
            "generated sentence\t\t Harry Potter, Voldemort, and Dumbledore walk into a bar. \"I didn't see the stairs and the mind of the mind of the mind of the window with him, the surprise of the window with his face with his face and the stairs and the stairs and the stairs and the stairs\n",
            "\n"
          ],
          "name": "stdout"
        },
        {
          "output_type": "stream",
          "text": [
            "  1%|          | 2/196 [00:00<00:29,  6.69it/s]"
          ],
          "name": "stderr"
        },
        {
          "output_type": "stream",
          "text": [
            "Train Epoch: 14 [0/50176 (0%)]\tLoss: 1.368553\n"
          ],
          "name": "stdout"
        },
        {
          "output_type": "stream",
          "text": [
            "  6%|▌         | 12/196 [00:01<00:19,  9.44it/s]"
          ],
          "name": "stderr"
        },
        {
          "output_type": "stream",
          "text": [
            "Train Epoch: 14 [2560/50176 (5%)]\tLoss: 1.341256\n"
          ],
          "name": "stdout"
        },
        {
          "output_type": "stream",
          "text": [
            " 11%|█         | 22/196 [00:02<00:18,  9.61it/s]"
          ],
          "name": "stderr"
        },
        {
          "output_type": "stream",
          "text": [
            "Train Epoch: 14 [5120/50176 (10%)]\tLoss: 1.372841\n"
          ],
          "name": "stdout"
        },
        {
          "output_type": "stream",
          "text": [
            " 16%|█▋        | 32/196 [00:03<00:17,  9.64it/s]"
          ],
          "name": "stderr"
        },
        {
          "output_type": "stream",
          "text": [
            "Train Epoch: 14 [7680/50176 (15%)]\tLoss: 1.352738\n"
          ],
          "name": "stdout"
        },
        {
          "output_type": "stream",
          "text": [
            " 21%|██▏       | 42/196 [00:04<00:16,  9.43it/s]"
          ],
          "name": "stderr"
        },
        {
          "output_type": "stream",
          "text": [
            "Train Epoch: 14 [10240/50176 (20%)]\tLoss: 1.344154\n"
          ],
          "name": "stdout"
        },
        {
          "output_type": "stream",
          "text": [
            " 27%|██▋       | 52/196 [00:05<00:15,  9.52it/s]"
          ],
          "name": "stderr"
        },
        {
          "output_type": "stream",
          "text": [
            "Train Epoch: 14 [12800/50176 (26%)]\tLoss: 1.341302\n"
          ],
          "name": "stdout"
        },
        {
          "output_type": "stream",
          "text": [
            " 32%|███▏      | 62/196 [00:06<00:13,  9.65it/s]"
          ],
          "name": "stderr"
        },
        {
          "output_type": "stream",
          "text": [
            "Train Epoch: 14 [15360/50176 (31%)]\tLoss: 1.350223\n"
          ],
          "name": "stdout"
        },
        {
          "output_type": "stream",
          "text": [
            " 37%|███▋      | 72/196 [00:07<00:13,  9.50it/s]"
          ],
          "name": "stderr"
        },
        {
          "output_type": "stream",
          "text": [
            "Train Epoch: 14 [17920/50176 (36%)]\tLoss: 1.363438\n"
          ],
          "name": "stdout"
        },
        {
          "output_type": "stream",
          "text": [
            " 42%|████▏     | 82/196 [00:08<00:12,  9.41it/s]"
          ],
          "name": "stderr"
        },
        {
          "output_type": "stream",
          "text": [
            "Train Epoch: 14 [20480/50176 (41%)]\tLoss: 1.343507\n"
          ],
          "name": "stdout"
        },
        {
          "output_type": "stream",
          "text": [
            " 47%|████▋     | 92/196 [00:09<00:10,  9.63it/s]"
          ],
          "name": "stderr"
        },
        {
          "output_type": "stream",
          "text": [
            "Train Epoch: 14 [23040/50176 (46%)]\tLoss: 1.341585\n"
          ],
          "name": "stdout"
        },
        {
          "output_type": "stream",
          "text": [
            " 52%|█████▏    | 102/196 [00:10<00:09,  9.46it/s]"
          ],
          "name": "stderr"
        },
        {
          "output_type": "stream",
          "text": [
            "Train Epoch: 14 [25600/50176 (51%)]\tLoss: 1.356756\n"
          ],
          "name": "stdout"
        },
        {
          "output_type": "stream",
          "text": [
            " 57%|█████▋    | 112/196 [00:11<00:08,  9.44it/s]"
          ],
          "name": "stderr"
        },
        {
          "output_type": "stream",
          "text": [
            "Train Epoch: 14 [28160/50176 (56%)]\tLoss: 1.359014\n"
          ],
          "name": "stdout"
        },
        {
          "output_type": "stream",
          "text": [
            " 62%|██████▏   | 122/196 [00:12<00:07,  9.52it/s]"
          ],
          "name": "stderr"
        },
        {
          "output_type": "stream",
          "text": [
            "Train Epoch: 14 [30720/50176 (61%)]\tLoss: 1.356242\n"
          ],
          "name": "stdout"
        },
        {
          "output_type": "stream",
          "text": [
            " 67%|██████▋   | 132/196 [00:13<00:06,  9.58it/s]"
          ],
          "name": "stderr"
        },
        {
          "output_type": "stream",
          "text": [
            "Train Epoch: 14 [33280/50176 (66%)]\tLoss: 1.334980\n"
          ],
          "name": "stdout"
        },
        {
          "output_type": "stream",
          "text": [
            " 72%|███████▏  | 142/196 [00:14<00:05,  9.46it/s]"
          ],
          "name": "stderr"
        },
        {
          "output_type": "stream",
          "text": [
            "Train Epoch: 14 [35840/50176 (71%)]\tLoss: 1.350658\n"
          ],
          "name": "stdout"
        },
        {
          "output_type": "stream",
          "text": [
            " 78%|███████▊  | 152/196 [00:15<00:04,  9.43it/s]"
          ],
          "name": "stderr"
        },
        {
          "output_type": "stream",
          "text": [
            "Train Epoch: 14 [38400/50176 (77%)]\tLoss: 1.335993\n"
          ],
          "name": "stdout"
        },
        {
          "output_type": "stream",
          "text": [
            " 83%|████████▎ | 162/196 [00:17<00:03,  9.60it/s]"
          ],
          "name": "stderr"
        },
        {
          "output_type": "stream",
          "text": [
            "Train Epoch: 14 [40960/50176 (82%)]\tLoss: 1.369433\n"
          ],
          "name": "stdout"
        },
        {
          "output_type": "stream",
          "text": [
            " 88%|████████▊ | 172/196 [00:18<00:02,  9.55it/s]"
          ],
          "name": "stderr"
        },
        {
          "output_type": "stream",
          "text": [
            "Train Epoch: 14 [43520/50176 (87%)]\tLoss: 1.339840\n"
          ],
          "name": "stdout"
        },
        {
          "output_type": "stream",
          "text": [
            " 93%|█████████▎| 182/196 [00:19<00:01,  9.50it/s]"
          ],
          "name": "stderr"
        },
        {
          "output_type": "stream",
          "text": [
            "Train Epoch: 14 [46080/50176 (92%)]\tLoss: 1.364317\n"
          ],
          "name": "stdout"
        },
        {
          "output_type": "stream",
          "text": [
            " 98%|█████████▊| 192/196 [00:20<00:00,  9.45it/s]"
          ],
          "name": "stderr"
        },
        {
          "output_type": "stream",
          "text": [
            "Train Epoch: 14 [48640/50176 (97%)]\tLoss: 1.369383\n"
          ],
          "name": "stdout"
        },
        {
          "output_type": "stream",
          "text": [
            "100%|██████████| 196/196 [00:20<00:00,  9.54it/s]"
          ],
          "name": "stderr"
        },
        {
          "output_type": "stream",
          "text": [
            "49\n"
          ],
          "name": "stdout"
        },
        {
          "output_type": "stream",
          "text": [
            "\n"
          ],
          "name": "stderr"
        },
        {
          "output_type": "stream",
          "text": [
            "Input\tnly way left to get water, because Voldemort had planned it so ... He flung himself over to the edge\n",
            "GT\tly way left to get water, because Voldemort had planned it so ... He flung himself over to the edge \n",
            "pred\t y oas titt th tet tiscr  aucause toldemort wad nuaceed tn wtmt . \"e weing oimself tner th the dnge \n",
            "\n",
            "\n",
            "Input\t that had his arm. It released him, falling backward into the water with a splash; he scrambled to h\n",
            "GT\tthat had his arm. It released him, falling backward into the water with a splash; he scrambled to hi\n",
            "pred\tMoat wed bas fnm   t weaeased tim  tocling aack ard tnto the ciyer aith h stiith  he wtremeled oh hi\n",
            "\n",
            "\n",
            "Input\tth, and his feet left the ground as they lifted him and began to carry him, slowly and surely, back \n",
            "GT\th, and his feet left the ground as they lifted him and began to carry him, slowly and surely, back t\n",
            "pred\th  wnd tes faet aiat the dround on the  wokted him and tecan to sotei aim  atiwly atd ttde y  suck t\n",
            "\n",
            "\n",
            "Input\t. . . Dumbledore scooped the locket from the bottom of the stone basin and stowed it inside his robe\n",
            "GT\t . . Dumbledore scooped the locket from the bottom of the stone basin and stowed it inside his robes\n",
            "pred\t . . .umbledore waooked ooe diok t ooom the dootlm of the wtane oecin tnd ttaoed tn.wntide tim hobes\n",
            "\n",
            "\n",
            "Input\tsir, I forgot -- about fire -- they were coming at me and I panicked --\" \"Quite understandable,\" mur\n",
            "GT\tir, I forgot -- about fire -- they were coming at me and I panicked --\" \"Quite understandable,\" murm\n",
            "pred\tar, I deuget t \"tnout tire o-\"the  were toming tn te,tnd t wustseed t-\" \"Iuite tsder tand yle   satd\n",
            "\n",
            "\n"
          ],
          "name": "stdout"
        },
        {
          "output_type": "stream",
          "text": [
            "\r  0%|          | 0/196 [00:00<?, ?it/s]"
          ],
          "name": "stderr"
        },
        {
          "output_type": "stream",
          "text": [
            "\n",
            "Test set: Average loss: 1.3696, Accuracy: 744032/1254400 (59%)\n",
            "\n",
            "Saved /gdrive/My Drive/CSE415/language/checkpoints/language_014.pt\n",
            "\n",
            "generated sentence\t\t Harry Potter, Voldemort, and Dumbledore walk into a bar. \"I didn't know what you didn't see the only one of the morning of the morning of the door of the morning to think that was a little of the morning to think that was a little of the morning to think th\n",
            "\n"
          ],
          "name": "stdout"
        },
        {
          "output_type": "stream",
          "text": [
            "  1%|          | 2/196 [00:00<00:29,  6.58it/s]"
          ],
          "name": "stderr"
        },
        {
          "output_type": "stream",
          "text": [
            "Train Epoch: 15 [0/50176 (0%)]\tLoss: 1.366845\n"
          ],
          "name": "stdout"
        },
        {
          "output_type": "stream",
          "text": [
            "  6%|▌         | 12/196 [00:01<00:19,  9.32it/s]"
          ],
          "name": "stderr"
        },
        {
          "output_type": "stream",
          "text": [
            "Train Epoch: 15 [2560/50176 (5%)]\tLoss: 1.336471\n"
          ],
          "name": "stdout"
        },
        {
          "output_type": "stream",
          "text": [
            " 11%|█         | 22/196 [00:02<00:18,  9.59it/s]"
          ],
          "name": "stderr"
        },
        {
          "output_type": "stream",
          "text": [
            "Train Epoch: 15 [5120/50176 (10%)]\tLoss: 1.368242\n"
          ],
          "name": "stdout"
        },
        {
          "output_type": "stream",
          "text": [
            " 16%|█▋        | 32/196 [00:03<00:17,  9.55it/s]"
          ],
          "name": "stderr"
        },
        {
          "output_type": "stream",
          "text": [
            "Train Epoch: 15 [7680/50176 (15%)]\tLoss: 1.349974\n"
          ],
          "name": "stdout"
        },
        {
          "output_type": "stream",
          "text": [
            " 21%|██▏       | 42/196 [00:04<00:16,  9.59it/s]"
          ],
          "name": "stderr"
        },
        {
          "output_type": "stream",
          "text": [
            "Train Epoch: 15 [10240/50176 (20%)]\tLoss: 1.343372\n"
          ],
          "name": "stdout"
        },
        {
          "output_type": "stream",
          "text": [
            " 27%|██▋       | 52/196 [00:05<00:15,  9.54it/s]"
          ],
          "name": "stderr"
        },
        {
          "output_type": "stream",
          "text": [
            "Train Epoch: 15 [12800/50176 (26%)]\tLoss: 1.339100\n"
          ],
          "name": "stdout"
        },
        {
          "output_type": "stream",
          "text": [
            " 32%|███▏      | 62/196 [00:06<00:14,  9.53it/s]"
          ],
          "name": "stderr"
        },
        {
          "output_type": "stream",
          "text": [
            "Train Epoch: 15 [15360/50176 (31%)]\tLoss: 1.349702\n"
          ],
          "name": "stdout"
        },
        {
          "output_type": "stream",
          "text": [
            " 37%|███▋      | 72/196 [00:07<00:12,  9.56it/s]"
          ],
          "name": "stderr"
        },
        {
          "output_type": "stream",
          "text": [
            "Train Epoch: 15 [17920/50176 (36%)]\tLoss: 1.360338\n"
          ],
          "name": "stdout"
        },
        {
          "output_type": "stream",
          "text": [
            " 42%|████▏     | 82/196 [00:08<00:11,  9.55it/s]"
          ],
          "name": "stderr"
        },
        {
          "output_type": "stream",
          "text": [
            "Train Epoch: 15 [20480/50176 (41%)]\tLoss: 1.336651\n"
          ],
          "name": "stdout"
        },
        {
          "output_type": "stream",
          "text": [
            " 47%|████▋     | 92/196 [00:09<00:10,  9.66it/s]"
          ],
          "name": "stderr"
        },
        {
          "output_type": "stream",
          "text": [
            "Train Epoch: 15 [23040/50176 (46%)]\tLoss: 1.336326\n"
          ],
          "name": "stdout"
        },
        {
          "output_type": "stream",
          "text": [
            " 52%|█████▏    | 102/196 [00:10<00:09,  9.68it/s]"
          ],
          "name": "stderr"
        },
        {
          "output_type": "stream",
          "text": [
            "Train Epoch: 15 [25600/50176 (51%)]\tLoss: 1.355283\n"
          ],
          "name": "stdout"
        },
        {
          "output_type": "stream",
          "text": [
            " 57%|█████▋    | 112/196 [00:11<00:08,  9.55it/s]"
          ],
          "name": "stderr"
        },
        {
          "output_type": "stream",
          "text": [
            "Train Epoch: 15 [28160/50176 (56%)]\tLoss: 1.354026\n"
          ],
          "name": "stdout"
        },
        {
          "output_type": "stream",
          "text": [
            " 62%|██████▏   | 122/196 [00:12<00:07,  9.54it/s]"
          ],
          "name": "stderr"
        },
        {
          "output_type": "stream",
          "text": [
            "Train Epoch: 15 [30720/50176 (61%)]\tLoss: 1.364401\n"
          ],
          "name": "stdout"
        },
        {
          "output_type": "stream",
          "text": [
            " 67%|██████▋   | 132/196 [00:13<00:06,  9.63it/s]"
          ],
          "name": "stderr"
        },
        {
          "output_type": "stream",
          "text": [
            "Train Epoch: 15 [33280/50176 (66%)]\tLoss: 1.343024\n"
          ],
          "name": "stdout"
        },
        {
          "output_type": "stream",
          "text": [
            " 72%|███████▏  | 142/196 [00:14<00:05,  9.59it/s]"
          ],
          "name": "stderr"
        },
        {
          "output_type": "stream",
          "text": [
            "Train Epoch: 15 [35840/50176 (71%)]\tLoss: 1.352686\n"
          ],
          "name": "stdout"
        },
        {
          "output_type": "stream",
          "text": [
            " 78%|███████▊  | 152/196 [00:16<00:04,  9.49it/s]"
          ],
          "name": "stderr"
        },
        {
          "output_type": "stream",
          "text": [
            "Train Epoch: 15 [38400/50176 (77%)]\tLoss: 1.332173\n"
          ],
          "name": "stdout"
        },
        {
          "output_type": "stream",
          "text": [
            " 83%|████████▎ | 162/196 [00:17<00:03,  9.38it/s]"
          ],
          "name": "stderr"
        },
        {
          "output_type": "stream",
          "text": [
            "Train Epoch: 15 [40960/50176 (82%)]\tLoss: 1.367565\n"
          ],
          "name": "stdout"
        },
        {
          "output_type": "stream",
          "text": [
            " 88%|████████▊ | 172/196 [00:18<00:02,  9.62it/s]"
          ],
          "name": "stderr"
        },
        {
          "output_type": "stream",
          "text": [
            "Train Epoch: 15 [43520/50176 (87%)]\tLoss: 1.335572\n"
          ],
          "name": "stdout"
        },
        {
          "output_type": "stream",
          "text": [
            " 93%|█████████▎| 182/196 [00:19<00:01,  9.61it/s]"
          ],
          "name": "stderr"
        },
        {
          "output_type": "stream",
          "text": [
            "Train Epoch: 15 [46080/50176 (92%)]\tLoss: 1.356771\n"
          ],
          "name": "stdout"
        },
        {
          "output_type": "stream",
          "text": [
            " 98%|█████████▊| 192/196 [00:20<00:00,  9.46it/s]"
          ],
          "name": "stderr"
        },
        {
          "output_type": "stream",
          "text": [
            "Train Epoch: 15 [48640/50176 (97%)]\tLoss: 1.358549\n"
          ],
          "name": "stdout"
        },
        {
          "output_type": "stream",
          "text": [
            "100%|██████████| 196/196 [00:20<00:00,  9.53it/s]"
          ],
          "name": "stderr"
        },
        {
          "output_type": "stream",
          "text": [
            "49\n"
          ],
          "name": "stdout"
        },
        {
          "output_type": "stream",
          "text": [
            "\n"
          ],
          "name": "stderr"
        },
        {
          "output_type": "stream",
          "text": [
            "Input\tnly way left to get water, because Voldemort had planned it so ... He flung himself over to the edge\n",
            "GT\tly way left to get water, because Voldemort had planned it so ... He flung himself over to the edge \n",
            "pred\t i oas titt th tet tiscr  aucause toldemort wad nuaceed tn iomt . \"a woing oimself tner th the snge \n",
            "\n",
            "\n",
            "Input\t that had his arm. It released him, falling backward into the water with a splash; he scrambled to h\n",
            "GT\tthat had his arm. It released him, falling backward into the water with a splash; he scrambled to hi\n",
            "pred\tCoat wed bas fnms  t weaiased tim  aocling tack ard tnto the ciyer aith h stiith  he waremeled oo hi\n",
            "\n",
            "\n",
            "Input\tth, and his feet left the ground as they lifted him and began to carry him, slowly and surely, back \n",
            "GT\th, and his feet left the ground as they lifted him and began to carry him, slowly and surely, back t\n",
            "pred\th  wnd tes faet aiat the sround on the  wokted tim and tecan to sotei aim  ahiwly atd ttre y  suck t\n",
            "\n",
            "\n",
            "Input\t. . . Dumbledore scooped the locket from the bottom of the stone basin and stowed it inside his robe\n",
            "GT\t . . Dumbledore scooped the locket from the bottom of the stone basin and stowed it inside his robes\n",
            "pred\t . . .umbledore waooked ooe siok d ooom the sootlm of the stane socin tnd ttaoed tn.wntide tim fobes\n",
            "\n",
            "\n",
            "Input\tsir, I forgot -- about fire -- they were coming at me and I panicked --\" \"Quite understandable,\" mur\n",
            "GT\tir, I forgot -- about fire -- they were coming at me and I panicked --\" \"Quite understandable,\" murm\n",
            "pred\tor, I dou et t-\"tnout tore o-\"the  were noming tn te,tnd t wustseed t-\" \"Iuite ssder tand rle   sasd\n",
            "\n",
            "\n"
          ],
          "name": "stdout"
        },
        {
          "output_type": "stream",
          "text": [
            "\r  0%|          | 0/196 [00:00<?, ?it/s]"
          ],
          "name": "stderr"
        },
        {
          "output_type": "stream",
          "text": [
            "\n",
            "Test set: Average loss: 1.3682, Accuracy: 745572/1254400 (59%)\n",
            "\n",
            "Saved /gdrive/My Drive/CSE415/language/checkpoints/language_015.pt\n",
            "\n",
            "generated sentence\t\t Harry Potter, Voldemort, and Dumbledore walk into a bar. \"I'm sure you will be the one of the morning of the stairs and the one of the moment of the stairs and the one of the window was still still still still still still still still still still still still\n",
            "\n"
          ],
          "name": "stdout"
        },
        {
          "output_type": "stream",
          "text": [
            "  1%|          | 2/196 [00:00<00:29,  6.63it/s]"
          ],
          "name": "stderr"
        },
        {
          "output_type": "stream",
          "text": [
            "Train Epoch: 16 [0/50176 (0%)]\tLoss: 1.365098\n"
          ],
          "name": "stdout"
        },
        {
          "output_type": "stream",
          "text": [
            "  6%|▌         | 12/196 [00:01<00:19,  9.33it/s]"
          ],
          "name": "stderr"
        },
        {
          "output_type": "stream",
          "text": [
            "Train Epoch: 16 [2560/50176 (5%)]\tLoss: 1.337044\n"
          ],
          "name": "stdout"
        },
        {
          "output_type": "stream",
          "text": [
            " 11%|█         | 22/196 [00:02<00:18,  9.62it/s]"
          ],
          "name": "stderr"
        },
        {
          "output_type": "stream",
          "text": [
            "Train Epoch: 16 [5120/50176 (10%)]\tLoss: 1.365716\n"
          ],
          "name": "stdout"
        },
        {
          "output_type": "stream",
          "text": [
            " 16%|█▋        | 32/196 [00:03<00:17,  9.50it/s]"
          ],
          "name": "stderr"
        },
        {
          "output_type": "stream",
          "text": [
            "Train Epoch: 16 [7680/50176 (15%)]\tLoss: 1.345495\n"
          ],
          "name": "stdout"
        },
        {
          "output_type": "stream",
          "text": [
            " 21%|██▏       | 42/196 [00:04<00:16,  9.55it/s]"
          ],
          "name": "stderr"
        },
        {
          "output_type": "stream",
          "text": [
            "Train Epoch: 16 [10240/50176 (20%)]\tLoss: 1.338933\n"
          ],
          "name": "stdout"
        },
        {
          "output_type": "stream",
          "text": [
            " 27%|██▋       | 52/196 [00:05<00:15,  9.40it/s]"
          ],
          "name": "stderr"
        },
        {
          "output_type": "stream",
          "text": [
            "Train Epoch: 16 [12800/50176 (26%)]\tLoss: 1.334008\n"
          ],
          "name": "stdout"
        },
        {
          "output_type": "stream",
          "text": [
            " 32%|███▏      | 62/196 [00:06<00:14,  9.40it/s]"
          ],
          "name": "stderr"
        },
        {
          "output_type": "stream",
          "text": [
            "Train Epoch: 16 [15360/50176 (31%)]\tLoss: 1.352099\n"
          ],
          "name": "stdout"
        },
        {
          "output_type": "stream",
          "text": [
            " 37%|███▋      | 72/196 [00:07<00:13,  9.37it/s]"
          ],
          "name": "stderr"
        },
        {
          "output_type": "stream",
          "text": [
            "Train Epoch: 16 [17920/50176 (36%)]\tLoss: 1.364788\n"
          ],
          "name": "stdout"
        },
        {
          "output_type": "stream",
          "text": [
            " 42%|████▏     | 82/196 [00:08<00:12,  9.47it/s]"
          ],
          "name": "stderr"
        },
        {
          "output_type": "stream",
          "text": [
            "Train Epoch: 16 [20480/50176 (41%)]\tLoss: 1.332922\n"
          ],
          "name": "stdout"
        },
        {
          "output_type": "stream",
          "text": [
            " 47%|████▋     | 92/196 [00:09<00:10,  9.56it/s]"
          ],
          "name": "stderr"
        },
        {
          "output_type": "stream",
          "text": [
            "Train Epoch: 16 [23040/50176 (46%)]\tLoss: 1.335358\n"
          ],
          "name": "stdout"
        },
        {
          "output_type": "stream",
          "text": [
            " 52%|█████▏    | 102/196 [00:10<00:09,  9.51it/s]"
          ],
          "name": "stderr"
        },
        {
          "output_type": "stream",
          "text": [
            "Train Epoch: 16 [25600/50176 (51%)]\tLoss: 1.350463\n"
          ],
          "name": "stdout"
        },
        {
          "output_type": "stream",
          "text": [
            " 57%|█████▋    | 112/196 [00:11<00:08,  9.58it/s]"
          ],
          "name": "stderr"
        },
        {
          "output_type": "stream",
          "text": [
            "Train Epoch: 16 [28160/50176 (56%)]\tLoss: 1.349286\n"
          ],
          "name": "stdout"
        },
        {
          "output_type": "stream",
          "text": [
            " 62%|██████▏   | 122/196 [00:12<00:07,  9.35it/s]"
          ],
          "name": "stderr"
        },
        {
          "output_type": "stream",
          "text": [
            "Train Epoch: 16 [30720/50176 (61%)]\tLoss: 1.348932\n"
          ],
          "name": "stdout"
        },
        {
          "output_type": "stream",
          "text": [
            " 67%|██████▋   | 132/196 [00:13<00:06,  9.53it/s]"
          ],
          "name": "stderr"
        },
        {
          "output_type": "stream",
          "text": [
            "Train Epoch: 16 [33280/50176 (66%)]\tLoss: 1.349819\n"
          ],
          "name": "stdout"
        },
        {
          "output_type": "stream",
          "text": [
            " 72%|███████▏  | 142/196 [00:14<00:05,  9.53it/s]"
          ],
          "name": "stderr"
        },
        {
          "output_type": "stream",
          "text": [
            "Train Epoch: 16 [35840/50176 (71%)]\tLoss: 1.347367\n"
          ],
          "name": "stdout"
        },
        {
          "output_type": "stream",
          "text": [
            " 78%|███████▊  | 152/196 [00:16<00:04,  9.41it/s]"
          ],
          "name": "stderr"
        },
        {
          "output_type": "stream",
          "text": [
            "Train Epoch: 16 [38400/50176 (77%)]\tLoss: 1.330577\n"
          ],
          "name": "stdout"
        },
        {
          "output_type": "stream",
          "text": [
            " 83%|████████▎ | 162/196 [00:17<00:03,  9.60it/s]"
          ],
          "name": "stderr"
        },
        {
          "output_type": "stream",
          "text": [
            "Train Epoch: 16 [40960/50176 (82%)]\tLoss: 1.363682\n"
          ],
          "name": "stdout"
        },
        {
          "output_type": "stream",
          "text": [
            " 88%|████████▊ | 172/196 [00:18<00:02,  9.47it/s]"
          ],
          "name": "stderr"
        },
        {
          "output_type": "stream",
          "text": [
            "Train Epoch: 16 [43520/50176 (87%)]\tLoss: 1.332269\n"
          ],
          "name": "stdout"
        },
        {
          "output_type": "stream",
          "text": [
            " 93%|█████████▎| 182/196 [00:19<00:01,  9.56it/s]"
          ],
          "name": "stderr"
        },
        {
          "output_type": "stream",
          "text": [
            "Train Epoch: 16 [46080/50176 (92%)]\tLoss: 1.359613\n"
          ],
          "name": "stdout"
        },
        {
          "output_type": "stream",
          "text": [
            " 98%|█████████▊| 192/196 [00:20<00:00,  9.52it/s]"
          ],
          "name": "stderr"
        },
        {
          "output_type": "stream",
          "text": [
            "Train Epoch: 16 [48640/50176 (97%)]\tLoss: 1.355849\n"
          ],
          "name": "stdout"
        },
        {
          "output_type": "stream",
          "text": [
            "100%|██████████| 196/196 [00:20<00:00,  9.51it/s]"
          ],
          "name": "stderr"
        },
        {
          "output_type": "stream",
          "text": [
            "49\n"
          ],
          "name": "stdout"
        },
        {
          "output_type": "stream",
          "text": [
            "\n"
          ],
          "name": "stderr"
        },
        {
          "output_type": "stream",
          "text": [
            "Input\tnly way left to get water, because Voldemort had planned it so ... He flung himself over to the edge\n",
            "GT\tly way left to get water, because Voldemort had planned it so ... He flung himself over to the edge \n",
            "pred\t i ois titt th tet tiscr  aucause toldemort wad nuaceed tn wtmt . \"e weing oimself aner th the dnge \n",
            "\n",
            "\n",
            "Input\t that had his arm. It released him, falling backward into the water with a splash; he scrambled to h\n",
            "GT\tthat had his arm. It released him, falling backward into the water with a splash; he scrambled to hi\n",
            "pred\tCoat wed bas fnm  Ht weaiased tim  aocling aack ard anto the diler aith h stiith  ae wtrambled oh ti\n",
            "\n",
            "\n",
            "Input\tth, and his feet left the ground as they lifted him and began to carry him, slowly and surely, back \n",
            "GT\th, and his feet left the ground as they lifted him and began to carry him, slowly and surely, back t\n",
            "pred\th  and tes faet aiat the diound an the  wokted him and tecan to sotey aim  atiwly atd stdp y  suck t\n",
            "\n",
            "\n",
            "Input\t. . . Dumbledore scooped the locket from the bottom of the stone basin and stowed it inside his robe\n",
            "GT\t . . Dumbledore scooped the locket from the bottom of the stone basin and stowed it inside his robes\n",
            "pred\t . . .umbledore waooked ooe siok t ooom the dottlm of the ctane oacin and ttaoed an wntide tim hobes\n",
            "\n",
            "\n",
            "Input\tsir, I forgot -- about fire -- they were coming at me and I panicked --\" \"Quite understandable,\" mur\n",
            "GT\tir, I forgot -- about fire -- they were coming at me and I panicked --\" \"Quite understandable,\" murm\n",
            "pred\tat, I dougot t-\"tnout tire o-\"the  were soming tn te,tnd t wustseed t-\" \"Iuite snder tand yle \" satd\n",
            "\n",
            "\n"
          ],
          "name": "stdout"
        },
        {
          "output_type": "stream",
          "text": [
            "\r  0%|          | 0/196 [00:00<?, ?it/s]"
          ],
          "name": "stderr"
        },
        {
          "output_type": "stream",
          "text": [
            "\n",
            "Test set: Average loss: 1.3580, Accuracy: 748090/1254400 (60%)\n",
            "\n",
            "Saved /gdrive/My Drive/CSE415/language/checkpoints/language_016.pt\n",
            "\n",
            "generated sentence\t\t Harry Potter, Voldemort, and Dumbledore walk into a bar. \"I don't know what you didn't see the only one of the only one of the only one of the window was still still still still still still still still still still still still still still still still still s\n",
            "\n"
          ],
          "name": "stdout"
        },
        {
          "output_type": "stream",
          "text": [
            "  1%|          | 2/196 [00:00<00:29,  6.57it/s]"
          ],
          "name": "stderr"
        },
        {
          "output_type": "stream",
          "text": [
            "Train Epoch: 17 [0/50176 (0%)]\tLoss: 1.356052\n"
          ],
          "name": "stdout"
        },
        {
          "output_type": "stream",
          "text": [
            "  6%|▌         | 12/196 [00:01<00:19,  9.37it/s]"
          ],
          "name": "stderr"
        },
        {
          "output_type": "stream",
          "text": [
            "Train Epoch: 17 [2560/50176 (5%)]\tLoss: 1.333360\n"
          ],
          "name": "stdout"
        },
        {
          "output_type": "stream",
          "text": [
            " 11%|█         | 22/196 [00:02<00:18,  9.65it/s]"
          ],
          "name": "stderr"
        },
        {
          "output_type": "stream",
          "text": [
            "Train Epoch: 17 [5120/50176 (10%)]\tLoss: 1.363493\n"
          ],
          "name": "stdout"
        },
        {
          "output_type": "stream",
          "text": [
            " 16%|█▋        | 32/196 [00:03<00:17,  9.56it/s]"
          ],
          "name": "stderr"
        },
        {
          "output_type": "stream",
          "text": [
            "Train Epoch: 17 [7680/50176 (15%)]\tLoss: 1.347064\n"
          ],
          "name": "stdout"
        },
        {
          "output_type": "stream",
          "text": [
            " 21%|██▏       | 42/196 [00:04<00:16,  9.61it/s]"
          ],
          "name": "stderr"
        },
        {
          "output_type": "stream",
          "text": [
            "Train Epoch: 17 [10240/50176 (20%)]\tLoss: 1.337111\n"
          ],
          "name": "stdout"
        },
        {
          "output_type": "stream",
          "text": [
            " 27%|██▋       | 52/196 [00:05<00:15,  9.50it/s]"
          ],
          "name": "stderr"
        },
        {
          "output_type": "stream",
          "text": [
            "Train Epoch: 17 [12800/50176 (26%)]\tLoss: 1.334059\n"
          ],
          "name": "stdout"
        },
        {
          "output_type": "stream",
          "text": [
            " 32%|███▏      | 62/196 [00:06<00:13,  9.57it/s]"
          ],
          "name": "stderr"
        },
        {
          "output_type": "stream",
          "text": [
            "Train Epoch: 17 [15360/50176 (31%)]\tLoss: 1.348993\n"
          ],
          "name": "stdout"
        },
        {
          "output_type": "stream",
          "text": [
            " 37%|███▋      | 72/196 [00:07<00:12,  9.59it/s]"
          ],
          "name": "stderr"
        },
        {
          "output_type": "stream",
          "text": [
            "Train Epoch: 17 [17920/50176 (36%)]\tLoss: 1.354389\n"
          ],
          "name": "stdout"
        },
        {
          "output_type": "stream",
          "text": [
            " 42%|████▏     | 82/196 [00:08<00:12,  9.46it/s]"
          ],
          "name": "stderr"
        },
        {
          "output_type": "stream",
          "text": [
            "Train Epoch: 17 [20480/50176 (41%)]\tLoss: 1.329496\n"
          ],
          "name": "stdout"
        },
        {
          "output_type": "stream",
          "text": [
            " 47%|████▋     | 92/196 [00:09<00:10,  9.62it/s]"
          ],
          "name": "stderr"
        },
        {
          "output_type": "stream",
          "text": [
            "Train Epoch: 17 [23040/50176 (46%)]\tLoss: 1.330878\n"
          ],
          "name": "stdout"
        },
        {
          "output_type": "stream",
          "text": [
            " 52%|█████▏    | 102/196 [00:10<00:09,  9.58it/s]"
          ],
          "name": "stderr"
        },
        {
          "output_type": "stream",
          "text": [
            "Train Epoch: 17 [25600/50176 (51%)]\tLoss: 1.343601\n"
          ],
          "name": "stdout"
        },
        {
          "output_type": "stream",
          "text": [
            " 57%|█████▋    | 112/196 [00:11<00:08,  9.48it/s]"
          ],
          "name": "stderr"
        },
        {
          "output_type": "stream",
          "text": [
            "Train Epoch: 17 [28160/50176 (56%)]\tLoss: 1.346169\n"
          ],
          "name": "stdout"
        },
        {
          "output_type": "stream",
          "text": [
            " 62%|██████▏   | 122/196 [00:12<00:07,  9.64it/s]"
          ],
          "name": "stderr"
        },
        {
          "output_type": "stream",
          "text": [
            "Train Epoch: 17 [30720/50176 (61%)]\tLoss: 1.353402\n"
          ],
          "name": "stdout"
        },
        {
          "output_type": "stream",
          "text": [
            " 67%|██████▋   | 132/196 [00:13<00:06,  9.60it/s]"
          ],
          "name": "stderr"
        },
        {
          "output_type": "stream",
          "text": [
            "Train Epoch: 17 [33280/50176 (66%)]\tLoss: 1.337795\n"
          ],
          "name": "stdout"
        },
        {
          "output_type": "stream",
          "text": [
            " 72%|███████▏  | 142/196 [00:14<00:05,  9.48it/s]"
          ],
          "name": "stderr"
        },
        {
          "output_type": "stream",
          "text": [
            "Train Epoch: 17 [35840/50176 (71%)]\tLoss: 1.347352\n"
          ],
          "name": "stdout"
        },
        {
          "output_type": "stream",
          "text": [
            " 78%|███████▊  | 152/196 [00:15<00:04,  9.58it/s]"
          ],
          "name": "stderr"
        },
        {
          "output_type": "stream",
          "text": [
            "Train Epoch: 17 [38400/50176 (77%)]\tLoss: 1.324214\n"
          ],
          "name": "stdout"
        },
        {
          "output_type": "stream",
          "text": [
            " 83%|████████▎ | 162/196 [00:17<00:03,  9.57it/s]"
          ],
          "name": "stderr"
        },
        {
          "output_type": "stream",
          "text": [
            "Train Epoch: 17 [40960/50176 (82%)]\tLoss: 1.365608\n"
          ],
          "name": "stdout"
        },
        {
          "output_type": "stream",
          "text": [
            " 88%|████████▊ | 172/196 [00:18<00:02,  9.48it/s]"
          ],
          "name": "stderr"
        },
        {
          "output_type": "stream",
          "text": [
            "Train Epoch: 17 [43520/50176 (87%)]\tLoss: 1.337175\n"
          ],
          "name": "stdout"
        },
        {
          "output_type": "stream",
          "text": [
            " 93%|█████████▎| 182/196 [00:19<00:01,  9.51it/s]"
          ],
          "name": "stderr"
        },
        {
          "output_type": "stream",
          "text": [
            "Train Epoch: 17 [46080/50176 (92%)]\tLoss: 1.355512\n"
          ],
          "name": "stdout"
        },
        {
          "output_type": "stream",
          "text": [
            " 98%|█████████▊| 192/196 [00:20<00:00,  9.46it/s]"
          ],
          "name": "stderr"
        },
        {
          "output_type": "stream",
          "text": [
            "Train Epoch: 17 [48640/50176 (97%)]\tLoss: 1.354654\n"
          ],
          "name": "stdout"
        },
        {
          "output_type": "stream",
          "text": [
            "100%|██████████| 196/196 [00:20<00:00,  9.54it/s]"
          ],
          "name": "stderr"
        },
        {
          "output_type": "stream",
          "text": [
            "49\n"
          ],
          "name": "stdout"
        },
        {
          "output_type": "stream",
          "text": [
            "\n"
          ],
          "name": "stderr"
        },
        {
          "output_type": "stream",
          "text": [
            "Input\tnly way left to get water, because Voldemort had planned it so ... He flung himself over to the edge\n",
            "GT\tly way left to get water, because Voldemort had planned it so ... He flung himself over to the edge \n",
            "pred\t y ois titt th tet tiscr  aucause toldemort wad nuaceed tn womt . \"e woing oimself tner th the snge \n",
            "\n",
            "\n",
            "Input\t that had his arm. It released him, falling backward into the water with a splash; he scrambled to h\n",
            "GT\tthat had his arm. It released him, falling backward into the water with a splash; he scrambled to hi\n",
            "pred\tCoit wed bas fnm  Ht weaiased tim  aocling tack ard anto the citer aith h stiith  ti wtrambled oh ti\n",
            "\n",
            "\n",
            "Input\tth, and his feet left the ground as they lifted him and began to carry him, slowly and surely, back \n",
            "GT\th, and his feet left the ground as they lifted him and began to carry him, slowly and surely, back t\n",
            "pred\th  and tes faet aiat the siound an the  wokted tim and tecan to sotey aim  ahiwly atd stde y  suck t\n",
            "\n",
            "\n",
            "Input\t. . . Dumbledore scooped the locket from the bottom of the stone basin and stowed it inside his robe\n",
            "GT\t . . Dumbledore scooped the locket from the bottom of the stone basin and stowed it inside his robes\n",
            "pred\t . . .umbledore waooked toe sioket ooom the dottlm of the ctane sacin tnd ttaoed tn wntide tim hobes\n",
            "\n",
            "\n",
            "Input\tsir, I forgot -- about fire -- they were coming at me and I panicked --\" \"Quite understandable,\" mur\n",
            "GT\tir, I forgot -- about fire -- they were coming at me and I panicked --\" \"Quite understandable,\" murm\n",
            "pred\tat, I dougot t-\"tnout tire o-\"the  were toming tn te,tnd t wustseed t-\" \"Iuite snder tand rle   satn\n",
            "\n",
            "\n"
          ],
          "name": "stdout"
        },
        {
          "output_type": "stream",
          "text": [
            "\r  0%|          | 0/196 [00:00<?, ?it/s]"
          ],
          "name": "stderr"
        },
        {
          "output_type": "stream",
          "text": [
            "\n",
            "Test set: Average loss: 1.3566, Accuracy: 749356/1254400 (60%)\n",
            "\n",
            "Saved /gdrive/My Drive/CSE415/language/checkpoints/language_017.pt\n",
            "\n",
            "generated sentence\t\t Harry Potter, Voldemort, and Dumbledore walk into a bar. \"I don't think you will be the only one of the moment of the moment of the moment of the moment of the window was still still still still still still still still still still still still still still st\n",
            "\n"
          ],
          "name": "stdout"
        },
        {
          "output_type": "stream",
          "text": [
            "  1%|          | 2/196 [00:00<00:29,  6.52it/s]"
          ],
          "name": "stderr"
        },
        {
          "output_type": "stream",
          "text": [
            "Train Epoch: 18 [0/50176 (0%)]\tLoss: 1.354429\n"
          ],
          "name": "stdout"
        },
        {
          "output_type": "stream",
          "text": [
            "  6%|▌         | 12/196 [00:01<00:19,  9.50it/s]"
          ],
          "name": "stderr"
        },
        {
          "output_type": "stream",
          "text": [
            "Train Epoch: 18 [2560/50176 (5%)]\tLoss: 1.330295\n"
          ],
          "name": "stdout"
        },
        {
          "output_type": "stream",
          "text": [
            " 11%|█         | 22/196 [00:02<00:18,  9.60it/s]"
          ],
          "name": "stderr"
        },
        {
          "output_type": "stream",
          "text": [
            "Train Epoch: 18 [5120/50176 (10%)]\tLoss: 1.364109\n"
          ],
          "name": "stdout"
        },
        {
          "output_type": "stream",
          "text": [
            " 16%|█▋        | 32/196 [00:03<00:17,  9.62it/s]"
          ],
          "name": "stderr"
        },
        {
          "output_type": "stream",
          "text": [
            "Train Epoch: 18 [7680/50176 (15%)]\tLoss: 1.342749\n"
          ],
          "name": "stdout"
        },
        {
          "output_type": "stream",
          "text": [
            " 21%|██▏       | 42/196 [00:04<00:16,  9.51it/s]"
          ],
          "name": "stderr"
        },
        {
          "output_type": "stream",
          "text": [
            "Train Epoch: 18 [10240/50176 (20%)]\tLoss: 1.332439\n"
          ],
          "name": "stdout"
        },
        {
          "output_type": "stream",
          "text": [
            " 27%|██▋       | 52/196 [00:05<00:15,  9.46it/s]"
          ],
          "name": "stderr"
        },
        {
          "output_type": "stream",
          "text": [
            "Train Epoch: 18 [12800/50176 (26%)]\tLoss: 1.332856\n"
          ],
          "name": "stdout"
        },
        {
          "output_type": "stream",
          "text": [
            " 32%|███▏      | 62/196 [00:06<00:13,  9.58it/s]"
          ],
          "name": "stderr"
        },
        {
          "output_type": "stream",
          "text": [
            "Train Epoch: 18 [15360/50176 (31%)]\tLoss: 1.340634\n"
          ],
          "name": "stdout"
        },
        {
          "output_type": "stream",
          "text": [
            " 37%|███▋      | 72/196 [00:07<00:12,  9.55it/s]"
          ],
          "name": "stderr"
        },
        {
          "output_type": "stream",
          "text": [
            "Train Epoch: 18 [17920/50176 (36%)]\tLoss: 1.351815\n"
          ],
          "name": "stdout"
        },
        {
          "output_type": "stream",
          "text": [
            " 42%|████▏     | 82/196 [00:08<00:12,  9.42it/s]"
          ],
          "name": "stderr"
        },
        {
          "output_type": "stream",
          "text": [
            "Train Epoch: 18 [20480/50176 (41%)]\tLoss: 1.325714\n"
          ],
          "name": "stdout"
        },
        {
          "output_type": "stream",
          "text": [
            " 47%|████▋     | 92/196 [00:09<00:10,  9.68it/s]"
          ],
          "name": "stderr"
        },
        {
          "output_type": "stream",
          "text": [
            "Train Epoch: 18 [23040/50176 (46%)]\tLoss: 1.324098\n"
          ],
          "name": "stdout"
        },
        {
          "output_type": "stream",
          "text": [
            " 52%|█████▏    | 102/196 [00:10<00:09,  9.59it/s]"
          ],
          "name": "stderr"
        },
        {
          "output_type": "stream",
          "text": [
            "Train Epoch: 18 [25600/50176 (51%)]\tLoss: 1.341711\n"
          ],
          "name": "stdout"
        },
        {
          "output_type": "stream",
          "text": [
            " 57%|█████▋    | 112/196 [00:11<00:08,  9.61it/s]"
          ],
          "name": "stderr"
        },
        {
          "output_type": "stream",
          "text": [
            "Train Epoch: 18 [28160/50176 (56%)]\tLoss: 1.344064\n"
          ],
          "name": "stdout"
        },
        {
          "output_type": "stream",
          "text": [
            " 62%|██████▏   | 122/196 [00:12<00:07,  9.58it/s]"
          ],
          "name": "stderr"
        },
        {
          "output_type": "stream",
          "text": [
            "Train Epoch: 18 [30720/50176 (61%)]\tLoss: 1.343142\n"
          ],
          "name": "stdout"
        },
        {
          "output_type": "stream",
          "text": [
            " 67%|██████▋   | 132/196 [00:13<00:06,  9.57it/s]"
          ],
          "name": "stderr"
        },
        {
          "output_type": "stream",
          "text": [
            "Train Epoch: 18 [33280/50176 (66%)]\tLoss: 1.353896\n"
          ],
          "name": "stdout"
        },
        {
          "output_type": "stream",
          "text": [
            " 72%|███████▏  | 142/196 [00:14<00:05,  9.48it/s]"
          ],
          "name": "stderr"
        },
        {
          "output_type": "stream",
          "text": [
            "Train Epoch: 18 [35840/50176 (71%)]\tLoss: 1.345478\n"
          ],
          "name": "stdout"
        },
        {
          "output_type": "stream",
          "text": [
            " 78%|███████▊  | 152/196 [00:15<00:04,  9.49it/s]"
          ],
          "name": "stderr"
        },
        {
          "output_type": "stream",
          "text": [
            "Train Epoch: 18 [38400/50176 (77%)]\tLoss: 1.326569\n"
          ],
          "name": "stdout"
        },
        {
          "output_type": "stream",
          "text": [
            " 83%|████████▎ | 162/196 [00:17<00:03,  9.51it/s]"
          ],
          "name": "stderr"
        },
        {
          "output_type": "stream",
          "text": [
            "Train Epoch: 18 [40960/50176 (82%)]\tLoss: 1.358850\n"
          ],
          "name": "stdout"
        },
        {
          "output_type": "stream",
          "text": [
            " 88%|████████▊ | 172/196 [00:18<00:02,  9.58it/s]"
          ],
          "name": "stderr"
        },
        {
          "output_type": "stream",
          "text": [
            "Train Epoch: 18 [43520/50176 (87%)]\tLoss: 1.328923\n"
          ],
          "name": "stdout"
        },
        {
          "output_type": "stream",
          "text": [
            " 93%|█████████▎| 182/196 [00:19<00:01,  9.51it/s]"
          ],
          "name": "stderr"
        },
        {
          "output_type": "stream",
          "text": [
            "Train Epoch: 18 [46080/50176 (92%)]\tLoss: 1.353019\n"
          ],
          "name": "stdout"
        },
        {
          "output_type": "stream",
          "text": [
            " 98%|█████████▊| 192/196 [00:20<00:00,  9.57it/s]"
          ],
          "name": "stderr"
        },
        {
          "output_type": "stream",
          "text": [
            "Train Epoch: 18 [48640/50176 (97%)]\tLoss: 1.351926\n"
          ],
          "name": "stdout"
        },
        {
          "output_type": "stream",
          "text": [
            "100%|██████████| 196/196 [00:20<00:00,  9.53it/s]\n"
          ],
          "name": "stderr"
        },
        {
          "output_type": "stream",
          "text": [
            "49\n",
            "Input\tnly way left to get water, because Voldemort had planned it so ... He flung himself over to the edge\n",
            "GT\tly way left to get water, because Voldemort had planned it so ... He flung himself over to the edge \n",
            "pred\t y ois titt th tet tiscr  aucause toldemort wad nuaceed tn womt . \"e woing oimself tner th the snge \n",
            "\n",
            "\n",
            "Input\t that had his arm. It released him, falling backward into the water with a splash; he scrambled to h\n",
            "GT\tthat had his arm. It released him, falling backward into the water with a splash; he scrambled to hi\n",
            "pred\tCoat wed bas fnm  \"t weaeased tim  aocling aack ard anto the diler aith a stiith  ai wtrambled oo ti\n",
            "\n",
            "\n",
            "Input\tth, and his feet left the ground as they lifted him and began to carry him, slowly and surely, back \n",
            "GT\th, and his feet left the ground as they lifted him and began to carry him, slowly and surely, back t\n",
            "pred\th  and tes faet aiat the soound an the  wokted tim and secan to sotey aim  atiwly atd stdp y  \"uck t\n",
            "\n",
            "\n",
            "Input\t. . . Dumbledore scooped the locket from the bottom of the stone basin and stowed it inside his robe\n",
            "GT\t . . Dumbledore scooped the locket from the bottom of the stone basin and stowed it inside his robes\n",
            "pred\t . . .umbledore waroked ooe siok t ooom the dottlm of the ctane sacin and ttaoed tn wntide tim hobes\n",
            "\n",
            "\n",
            "Input\tsir, I forgot -- about fire -- they were coming at me and I panicked --\" \"Quite understandable,\" mur\n",
            "GT\tir, I forgot -- about fire -- they were coming at me and I panicked --\" \"Quite understandable,\" murm\n",
            "pred\tat, I dougot t-\"tnout tore o-\"the  were soming tn te,tnd t wustseed t-\" \"Iuite snder tand rle \" satd\n",
            "\n",
            "\n"
          ],
          "name": "stdout"
        },
        {
          "output_type": "stream",
          "text": [
            "\r  0%|          | 0/196 [00:00<?, ?it/s]"
          ],
          "name": "stderr"
        },
        {
          "output_type": "stream",
          "text": [
            "\n",
            "Test set: Average loss: 1.3536, Accuracy: 750159/1254400 (60%)\n",
            "\n",
            "Saved /gdrive/My Drive/CSE415/language/checkpoints/language_018.pt\n",
            "\n",
            "generated sentence\t\t Harry Potter, Voldemort, and Dumbledore walk into a bar. \"I don't think you will be the only one of the moment of the only one of the moment of the only one of the counter of the counter of the corner of the corner of the corner of the corner of the corner \n",
            "\n"
          ],
          "name": "stdout"
        },
        {
          "output_type": "stream",
          "text": [
            "  1%|          | 2/196 [00:00<00:29,  6.55it/s]"
          ],
          "name": "stderr"
        },
        {
          "output_type": "stream",
          "text": [
            "Train Epoch: 19 [0/50176 (0%)]\tLoss: 1.350469\n"
          ],
          "name": "stdout"
        },
        {
          "output_type": "stream",
          "text": [
            "  6%|▌         | 12/196 [00:01<00:19,  9.52it/s]"
          ],
          "name": "stderr"
        },
        {
          "output_type": "stream",
          "text": [
            "Train Epoch: 19 [2560/50176 (5%)]\tLoss: 1.332940\n"
          ],
          "name": "stdout"
        },
        {
          "output_type": "stream",
          "text": [
            " 11%|█         | 22/196 [00:02<00:18,  9.63it/s]"
          ],
          "name": "stderr"
        },
        {
          "output_type": "stream",
          "text": [
            "Train Epoch: 19 [5120/50176 (10%)]\tLoss: 1.363922\n"
          ],
          "name": "stdout"
        },
        {
          "output_type": "stream",
          "text": [
            " 16%|█▋        | 32/196 [00:03<00:17,  9.51it/s]"
          ],
          "name": "stderr"
        },
        {
          "output_type": "stream",
          "text": [
            "Train Epoch: 19 [7680/50176 (15%)]\tLoss: 1.340635\n"
          ],
          "name": "stdout"
        },
        {
          "output_type": "stream",
          "text": [
            " 21%|██▏       | 42/196 [00:04<00:16,  9.60it/s]"
          ],
          "name": "stderr"
        },
        {
          "output_type": "stream",
          "text": [
            "Train Epoch: 19 [10240/50176 (20%)]\tLoss: 1.330748\n"
          ],
          "name": "stdout"
        },
        {
          "output_type": "stream",
          "text": [
            " 27%|██▋       | 52/196 [00:05<00:15,  9.52it/s]"
          ],
          "name": "stderr"
        },
        {
          "output_type": "stream",
          "text": [
            "Train Epoch: 19 [12800/50176 (26%)]\tLoss: 1.337543\n"
          ],
          "name": "stdout"
        },
        {
          "output_type": "stream",
          "text": [
            " 32%|███▏      | 62/196 [00:06<00:14,  9.52it/s]"
          ],
          "name": "stderr"
        },
        {
          "output_type": "stream",
          "text": [
            "Train Epoch: 19 [15360/50176 (31%)]\tLoss: 1.336297\n"
          ],
          "name": "stdout"
        },
        {
          "output_type": "stream",
          "text": [
            " 37%|███▋      | 72/196 [00:07<00:13,  9.51it/s]"
          ],
          "name": "stderr"
        },
        {
          "output_type": "stream",
          "text": [
            "Train Epoch: 19 [17920/50176 (36%)]\tLoss: 1.345616\n"
          ],
          "name": "stdout"
        },
        {
          "output_type": "stream",
          "text": [
            " 42%|████▏     | 82/196 [00:08<00:11,  9.50it/s]"
          ],
          "name": "stderr"
        },
        {
          "output_type": "stream",
          "text": [
            "Train Epoch: 19 [20480/50176 (41%)]\tLoss: 1.324231\n"
          ],
          "name": "stdout"
        },
        {
          "output_type": "stream",
          "text": [
            " 47%|████▋     | 92/196 [00:09<00:10,  9.56it/s]"
          ],
          "name": "stderr"
        },
        {
          "output_type": "stream",
          "text": [
            "Train Epoch: 19 [23040/50176 (46%)]\tLoss: 1.323956\n"
          ],
          "name": "stdout"
        },
        {
          "output_type": "stream",
          "text": [
            " 52%|█████▏    | 102/196 [00:10<00:09,  9.51it/s]"
          ],
          "name": "stderr"
        },
        {
          "output_type": "stream",
          "text": [
            "Train Epoch: 19 [25600/50176 (51%)]\tLoss: 1.340716\n"
          ],
          "name": "stdout"
        },
        {
          "output_type": "stream",
          "text": [
            " 57%|█████▋    | 112/196 [00:11<00:08,  9.52it/s]"
          ],
          "name": "stderr"
        },
        {
          "output_type": "stream",
          "text": [
            "Train Epoch: 19 [28160/50176 (56%)]\tLoss: 1.344451\n"
          ],
          "name": "stdout"
        },
        {
          "output_type": "stream",
          "text": [
            " 62%|██████▏   | 122/196 [00:12<00:07,  9.72it/s]"
          ],
          "name": "stderr"
        },
        {
          "output_type": "stream",
          "text": [
            "Train Epoch: 19 [30720/50176 (61%)]\tLoss: 1.342237\n"
          ],
          "name": "stdout"
        },
        {
          "output_type": "stream",
          "text": [
            " 67%|██████▋   | 132/196 [00:13<00:06,  9.69it/s]"
          ],
          "name": "stderr"
        },
        {
          "output_type": "stream",
          "text": [
            "Train Epoch: 19 [33280/50176 (66%)]\tLoss: 1.344896\n"
          ],
          "name": "stdout"
        },
        {
          "output_type": "stream",
          "text": [
            " 72%|███████▏  | 142/196 [00:14<00:05,  9.78it/s]"
          ],
          "name": "stderr"
        },
        {
          "output_type": "stream",
          "text": [
            "Train Epoch: 19 [35840/50176 (71%)]\tLoss: 1.352094\n"
          ],
          "name": "stdout"
        },
        {
          "output_type": "stream",
          "text": [
            " 78%|███████▊  | 152/196 [00:15<00:04,  9.77it/s]"
          ],
          "name": "stderr"
        },
        {
          "output_type": "stream",
          "text": [
            "Train Epoch: 19 [38400/50176 (77%)]\tLoss: 1.330160\n"
          ],
          "name": "stdout"
        },
        {
          "output_type": "stream",
          "text": [
            " 83%|████████▎ | 162/196 [00:16<00:03,  9.82it/s]"
          ],
          "name": "stderr"
        },
        {
          "output_type": "stream",
          "text": [
            "Train Epoch: 19 [40960/50176 (82%)]\tLoss: 1.356189\n"
          ],
          "name": "stdout"
        },
        {
          "output_type": "stream",
          "text": [
            " 88%|████████▊ | 172/196 [00:17<00:02,  9.71it/s]"
          ],
          "name": "stderr"
        },
        {
          "output_type": "stream",
          "text": [
            "Train Epoch: 19 [43520/50176 (87%)]\tLoss: 1.327245\n"
          ],
          "name": "stdout"
        },
        {
          "output_type": "stream",
          "text": [
            " 93%|█████████▎| 182/196 [00:18<00:01,  9.76it/s]"
          ],
          "name": "stderr"
        },
        {
          "output_type": "stream",
          "text": [
            "Train Epoch: 19 [46080/50176 (92%)]\tLoss: 1.350649\n"
          ],
          "name": "stdout"
        },
        {
          "output_type": "stream",
          "text": [
            " 98%|█████████▊| 192/196 [00:19<00:00,  9.74it/s]"
          ],
          "name": "stderr"
        },
        {
          "output_type": "stream",
          "text": [
            "Train Epoch: 19 [48640/50176 (97%)]\tLoss: 1.349815\n"
          ],
          "name": "stdout"
        },
        {
          "output_type": "stream",
          "text": [
            "100%|██████████| 196/196 [00:20<00:00,  9.65it/s]"
          ],
          "name": "stderr"
        },
        {
          "output_type": "stream",
          "text": [
            "49\n"
          ],
          "name": "stdout"
        },
        {
          "output_type": "stream",
          "text": [
            "\n"
          ],
          "name": "stderr"
        },
        {
          "output_type": "stream",
          "text": [
            "Input\tnly way left to get water, because Voldemort had planned it so ... He flung himself over to the edge\n",
            "GT\tly way left to get water, because Voldemort had planned it so ... He flung himself over to the edge \n",
            "pred\t y oas titt th tet tiscr  aucause holdemort wad nuaceed tn womt . \"e woing oimself tner th the snge \n",
            "\n",
            "\n",
            "Input\t that had his arm. It released him, falling backward into the water with a splash; he scrambled to h\n",
            "GT\tthat had his arm. It released him, falling backward into the water with a splash; he scrambled to hi\n",
            "pred\tChat wed bas fnm   t weaeased tim  aocling tack ard anto the citer aith a stiith  te wtrambled oh ti\n",
            "\n",
            "\n",
            "Input\tth, and his feet left the ground as they lifted him and began to carry him, slowly and surely, back \n",
            "GT\th, and his feet left the ground as they lifted him and began to carry him, slowly and surely, back t\n",
            "pred\th  and tes faet aiat the sooundsan the  wokted tim and secan to sotey aim  \"hiwly atd stre y  \"uck t\n",
            "\n",
            "\n",
            "Input\t. . . Dumbledore scooped the locket from the bottom of the stone basin and stowed it inside his robe\n",
            "GT\t . . Dumbledore scooped the locket from the bottom of the stone basin and stowed it inside his robes\n",
            "pred\t . . .umbledore waroked ooe sioket ooom the dottlm of the ctane sacinetnd ttaoed tn wntide tim hobes\n",
            "\n",
            "\n",
            "Input\tsir, I forgot -- about fire -- they were coming at me and I panicked --\" \"Quite understandable,\" mur\n",
            "GT\tir, I forgot -- about fire -- they were coming at me and I panicked --\" \"Quite understandable,\" murm\n",
            "pred\tot, I dorgot t-\"tnout tore y-\"tha  were soming tn te,tnd t wustseed t-\" \"Iuite snderstand rle \" satn\n",
            "\n",
            "\n"
          ],
          "name": "stdout"
        },
        {
          "output_type": "stream",
          "text": [
            "\r  0%|          | 0/196 [00:00<?, ?it/s]"
          ],
          "name": "stderr"
        },
        {
          "output_type": "stream",
          "text": [
            "\n",
            "Test set: Average loss: 1.3519, Accuracy: 751358/1254400 (60%)\n",
            "\n",
            "Saved /gdrive/My Drive/CSE415/language/checkpoints/language_019.pt\n",
            "\n",
            "generated sentence\t\t Harry Potter, Voldemort, and Dumbledore walk into a bar. arry said the stairs and started to the stairs and started to the stairs and started to the stairs and started to the stairs and started to the stairs and started to the stairs and started to the stai\n",
            "\n"
          ],
          "name": "stdout"
        },
        {
          "output_type": "stream",
          "text": [
            "  1%|          | 2/196 [00:00<00:29,  6.60it/s]"
          ],
          "name": "stderr"
        },
        {
          "output_type": "stream",
          "text": [
            "Train Epoch: 20 [0/50176 (0%)]\tLoss: 1.348784\n"
          ],
          "name": "stdout"
        },
        {
          "output_type": "stream",
          "text": [
            "  6%|▌         | 12/196 [00:01<00:19,  9.49it/s]"
          ],
          "name": "stderr"
        },
        {
          "output_type": "stream",
          "text": [
            "Train Epoch: 20 [2560/50176 (5%)]\tLoss: 1.328595\n"
          ],
          "name": "stdout"
        },
        {
          "output_type": "stream",
          "text": [
            " 11%|█         | 22/196 [00:02<00:18,  9.51it/s]"
          ],
          "name": "stderr"
        },
        {
          "output_type": "stream",
          "text": [
            "Train Epoch: 20 [5120/50176 (10%)]\tLoss: 1.362818\n"
          ],
          "name": "stdout"
        },
        {
          "output_type": "stream",
          "text": [
            " 16%|█▋        | 32/196 [00:03<00:17,  9.44it/s]"
          ],
          "name": "stderr"
        },
        {
          "output_type": "stream",
          "text": [
            "Train Epoch: 20 [7680/50176 (15%)]\tLoss: 1.337069\n"
          ],
          "name": "stdout"
        },
        {
          "output_type": "stream",
          "text": [
            " 21%|██▏       | 42/196 [00:04<00:16,  9.62it/s]"
          ],
          "name": "stderr"
        },
        {
          "output_type": "stream",
          "text": [
            "Train Epoch: 20 [10240/50176 (20%)]\tLoss: 1.328016\n"
          ],
          "name": "stdout"
        },
        {
          "output_type": "stream",
          "text": [
            " 27%|██▋       | 52/196 [00:05<00:15,  9.59it/s]"
          ],
          "name": "stderr"
        },
        {
          "output_type": "stream",
          "text": [
            "Train Epoch: 20 [12800/50176 (26%)]\tLoss: 1.326248\n"
          ],
          "name": "stdout"
        },
        {
          "output_type": "stream",
          "text": [
            " 32%|███▏      | 62/196 [00:06<00:13,  9.59it/s]"
          ],
          "name": "stderr"
        },
        {
          "output_type": "stream",
          "text": [
            "Train Epoch: 20 [15360/50176 (31%)]\tLoss: 1.345652\n"
          ],
          "name": "stdout"
        },
        {
          "output_type": "stream",
          "text": [
            " 37%|███▋      | 72/196 [00:07<00:13,  9.48it/s]"
          ],
          "name": "stderr"
        },
        {
          "output_type": "stream",
          "text": [
            "Train Epoch: 20 [17920/50176 (36%)]\tLoss: 1.348955\n"
          ],
          "name": "stdout"
        },
        {
          "output_type": "stream",
          "text": [
            " 42%|████▏     | 82/196 [00:08<00:11,  9.61it/s]"
          ],
          "name": "stderr"
        },
        {
          "output_type": "stream",
          "text": [
            "Train Epoch: 20 [20480/50176 (41%)]\tLoss: 1.322806\n"
          ],
          "name": "stdout"
        },
        {
          "output_type": "stream",
          "text": [
            " 47%|████▋     | 92/196 [00:09<00:10,  9.59it/s]"
          ],
          "name": "stderr"
        },
        {
          "output_type": "stream",
          "text": [
            "Train Epoch: 20 [23040/50176 (46%)]\tLoss: 1.321365\n"
          ],
          "name": "stdout"
        },
        {
          "output_type": "stream",
          "text": [
            " 52%|█████▏    | 102/196 [00:10<00:09,  9.68it/s]"
          ],
          "name": "stderr"
        },
        {
          "output_type": "stream",
          "text": [
            "Train Epoch: 20 [25600/50176 (51%)]\tLoss: 1.339494\n"
          ],
          "name": "stdout"
        },
        {
          "output_type": "stream",
          "text": [
            " 57%|█████▋    | 112/196 [00:11<00:08,  9.59it/s]"
          ],
          "name": "stderr"
        },
        {
          "output_type": "stream",
          "text": [
            "Train Epoch: 20 [28160/50176 (56%)]\tLoss: 1.339420\n"
          ],
          "name": "stdout"
        },
        {
          "output_type": "stream",
          "text": [
            " 62%|██████▏   | 122/196 [00:12<00:07,  9.61it/s]"
          ],
          "name": "stderr"
        },
        {
          "output_type": "stream",
          "text": [
            "Train Epoch: 20 [30720/50176 (61%)]\tLoss: 1.333967\n"
          ],
          "name": "stdout"
        },
        {
          "output_type": "stream",
          "text": [
            " 67%|██████▋   | 132/196 [00:13<00:06,  9.57it/s]"
          ],
          "name": "stderr"
        },
        {
          "output_type": "stream",
          "text": [
            "Train Epoch: 20 [33280/50176 (66%)]\tLoss: 1.322143\n"
          ],
          "name": "stdout"
        },
        {
          "output_type": "stream",
          "text": [
            " 72%|███████▏  | 142/196 [00:14<00:05,  9.55it/s]"
          ],
          "name": "stderr"
        },
        {
          "output_type": "stream",
          "text": [
            "Train Epoch: 20 [35840/50176 (71%)]\tLoss: 1.338193\n"
          ],
          "name": "stdout"
        },
        {
          "output_type": "stream",
          "text": [
            " 78%|███████▊  | 152/196 [00:15<00:04,  9.64it/s]"
          ],
          "name": "stderr"
        },
        {
          "output_type": "stream",
          "text": [
            "Train Epoch: 20 [38400/50176 (77%)]\tLoss: 1.328763\n"
          ],
          "name": "stdout"
        },
        {
          "output_type": "stream",
          "text": [
            " 83%|████████▎ | 162/196 [00:16<00:03,  9.64it/s]"
          ],
          "name": "stderr"
        },
        {
          "output_type": "stream",
          "text": [
            "Train Epoch: 20 [40960/50176 (82%)]\tLoss: 1.356433\n"
          ],
          "name": "stdout"
        },
        {
          "output_type": "stream",
          "text": [
            " 88%|████████▊ | 172/196 [00:18<00:02,  9.68it/s]"
          ],
          "name": "stderr"
        },
        {
          "output_type": "stream",
          "text": [
            "Train Epoch: 20 [43520/50176 (87%)]\tLoss: 1.327963\n"
          ],
          "name": "stdout"
        },
        {
          "output_type": "stream",
          "text": [
            " 93%|█████████▎| 182/196 [00:19<00:01,  9.45it/s]"
          ],
          "name": "stderr"
        },
        {
          "output_type": "stream",
          "text": [
            "Train Epoch: 20 [46080/50176 (92%)]\tLoss: 1.357245\n"
          ],
          "name": "stdout"
        },
        {
          "output_type": "stream",
          "text": [
            " 98%|█████████▊| 192/196 [00:20<00:00,  9.53it/s]"
          ],
          "name": "stderr"
        },
        {
          "output_type": "stream",
          "text": [
            "Train Epoch: 20 [48640/50176 (97%)]\tLoss: 1.347372\n"
          ],
          "name": "stdout"
        },
        {
          "output_type": "stream",
          "text": [
            "100%|██████████| 196/196 [00:20<00:00,  9.56it/s]"
          ],
          "name": "stderr"
        },
        {
          "output_type": "stream",
          "text": [
            "49\n"
          ],
          "name": "stdout"
        },
        {
          "output_type": "stream",
          "text": [
            "\n"
          ],
          "name": "stderr"
        },
        {
          "output_type": "stream",
          "text": [
            "Input\tnly way left to get water, because Voldemort had planned it so ... He flung himself over to the edge\n",
            "GT\tly way left to get water, because Voldemort had planned it so ... He flung himself over to the edge \n",
            "pred\t y ois titt th tet tiscr  aucause holdemort wad buaceed tn womt . \"e woing oimself tner th the dnge \n",
            "\n",
            "\n",
            "Input\t that had his arm. It released him, falling backward into the water with a splash; he scrambled to h\n",
            "GT\tthat had his arm. It released him, falling backward into the water with a splash; he scrambled to hi\n",
            "pred\tCoit hed bas fnm  \"t weaeased tim  aocling aack ard anto the diter aith a stiith  ai wtrameled oh ti\n",
            "\n",
            "\n",
            "Input\tth, and his feet left the ground as they lifted him and began to carry him, slowly and surely, back \n",
            "GT\th, and his feet left the ground as they lifted him and began to carry him, slowly and surely, back t\n",
            "pred\th  and tes faet aiat the dooundsan the  wokted tim and secan to sotey aim  aoiwly atd stde y  \"uck t\n",
            "\n",
            "\n",
            "Input\t. . . Dumbledore scooped the locket from the bottom of the stone basin and stowed it inside his robe\n",
            "GT\t . . Dumbledore scooped the locket from the bottom of the stone basin and stowed it inside his robes\n",
            "pred\t . . .umbledore waroked ooe dioket ooom the dottlm of the dtane sacineand ttaoed tn wntide tis hobes\n",
            "\n",
            "\n",
            "Input\tsir, I forgot -- about fire -- they were coming at me and I panicked --\" \"Quite understandable,\" mur\n",
            "GT\tir, I forgot -- about fire -- they were coming at me and I panicked --\" \"Quite understandable,\" murm\n",
            "pred\tot, I dougot t-\"tnout tore o-\"the  were soming tn te,tnd t wustseed t-\" \"Iuide snderstand rle   satn\n",
            "\n",
            "\n",
            "\n",
            "Test set: Average loss: 1.3500, Accuracy: 752229/1254400 (60%)\n",
            "\n",
            "Saved /gdrive/My Drive/CSE415/language/checkpoints/language_020.pt\n",
            "\n",
            "generated sentence\t\t Harry Potter, Voldemort, and Dumbledore walk into a bar. e was still staring at the door and the one of the corner of the corner of the corner of the corner of the corner of the corner of the corridor was still staring at the door and the one of the corner \n",
            "\n",
            "Saving final model\n",
            "Saved /gdrive/My Drive/CSE415/language/checkpoints/language_020.pt\n",
            "\n"
          ],
          "name": "stdout"
        },
        {
          "output_type": "display_data",
          "data": {
            "image/png": "[encoded data removed]",
            "text/plain": [
              "<Figure size 1440x720 with 1 Axes>"
            ]
          },
          "metadata": {
            "tags": []
          }
        },
        {
          "output_type": "display_data",
          "data": {
            "image/png": "[encoded data removed]",
            "text/plain": [
              "<Figure size 1440x720 with 1 Axes>"
            ]
          },
          "metadata": {
            "tags": []
          }
        },
        {
          "output_type": "display_data",
          "data": {
            "image/png": "[encoded data removed]",
            "text/plain": [
              "<Figure size 1440x720 with 1 Axes>"
            ]
          },
          "metadata": {
            "tags": []
          }
        }
      ]
    },
    {
      "cell_type": "markdown",
      "metadata": {
        "colab_type": "text",
        "id": "kwAXWXg8jzS4"
      },
      "source": [
        "# Submission.\n",
        "Download a copy of this python notebook using File -> download .ipynb. Upload the following files on Canvas INDIVIDUALLY (**Do Not ZIP**):\n",
        "\n",
        "- cse415A6.ipynb\n",
        "- report.pdf\n",
        "- cifar_050.pt\n",
        "- language_020.pt\n",
        "\n",
        "P.S. This codebase has been written following the codebase for the homework assignments of CSE499G1 / CSE599G1 (Introduction to Deep Learning) course during Fall 2019."
      ]
    }
  ]
}